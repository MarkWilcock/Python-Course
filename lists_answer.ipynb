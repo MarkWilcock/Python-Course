{
 "cells": [
  {
   "attachments": {},
   "cell_type": "markdown",
   "metadata": {},
   "source": [
    "# Answer: Lists\n",
    "In this exercise we create a list and perform various operations on it."
   ]
  },
  {
   "cell_type": "code",
   "execution_count": null,
   "metadata": {},
   "outputs": [],
   "source": [
    "# Create a list with at least three items. The items should all be strings.  Choose fruit or flowers or cars or whatever. \n",
    "# Write your code below.\n",
    "cars = ['Toyota', 'Honda', 'Ford']\n",
    "cars"
   ]
  },
  {
   "cell_type": "code",
   "execution_count": 1,
   "metadata": {},
   "outputs": [],
   "source": [
    "# Note that type annotations would make this clearer\n",
    "cars: list[str] = ['Toyota', 'Honda', 'Ford']\n",
    "cars.append(123)  # the static type checking may show that the 123 item is not a string\n",
    "cars\n"
   ]
  },
  {
   "cell_type": "code",
   "execution_count": null,
   "metadata": {},
   "outputs": [],
   "source": [
    "# Find the first item.\n",
    "# Write your code below.\n",
    "cars[0]"
   ]
  },
  {
   "cell_type": "code",
   "execution_count": null,
   "metadata": {},
   "outputs": [],
   "source": [
    "# Find the last item.\n",
    "# Write your code below.\n",
    "cars[-1]"
   ]
  },
  {
   "cell_type": "code",
   "execution_count": null,
   "metadata": {},
   "outputs": [],
   "source": [
    "# Find out how many items are in the list.\n",
    "# Write your code below.\n",
    "len(cars)"
   ]
  },
  {
   "cell_type": "code",
   "execution_count": null,
   "metadata": {},
   "outputs": [],
   "source": [
    "# Append another item to the list.\n",
    "# Write your code below.\n",
    "cars.append('BMW')\n",
    "cars"
   ]
  },
  {
   "cell_type": "code",
   "execution_count": null,
   "metadata": {},
   "outputs": [],
   "source": [
    "# Insert an item into the third position.\n",
    "# Write your code below.\n",
    "cars.insert(2, 'Audi')\n",
    "cars"
   ]
  },
  {
   "cell_type": "code",
   "execution_count": null,
   "metadata": {},
   "outputs": [],
   "source": [
    "# Sort the list.\n",
    "# Write your code below.\n",
    "cars.sort()\n",
    "cars"
   ]
  },
  {
   "cell_type": "code",
   "execution_count": null,
   "metadata": {},
   "outputs": [],
   "source": [
    "# Use a list comprehension to add a \"s\" to the end of each of the elements of the list.\n",
    "# Write your code below.\n",
    "plural_cars = [car + 's' for car in cars]\n",
    "plural_cars"
   ]
  },
  {
   "cell_type": "code",
   "execution_count": 1,
   "metadata": {},
   "outputs": [
    {
     "data": {
      "text/plain": [
       "[('a', 1), ('b', 2), ('c', 3)]"
      ]
     },
     "execution_count": 1,
     "metadata": {},
     "output_type": "execute_result"
    }
   ],
   "source": [
    "# zip these two lists together to create a single list of tuples\n",
    "# i.e. pair up the nth element of each list into a tuple to produce a list of tuples\n",
    "# the result should look like [('a', 1), ('b', 2), ('c', 3)]\n",
    "letters = (\"a\", \"b\", \"c\")\n",
    "numbers = (1, 2, 3)\n",
    "\n",
    "# Write your code below.\n",
    "list(zip(letters, numbers))"
   ]
  }
 ],
 "metadata": {
  "interpreter": {
   "hash": "5997c304d9048cc3333dff7a280bf64458ec3f56eb4ae73f2127a57fb16aeeea"
  },
  "kernelspec": {
   "display_name": "Python 3.9.5 64-bit",
   "name": "python3"
  },
  "language_info": {
   "codemirror_mode": {
    "name": "ipython",
    "version": 3
   },
   "file_extension": ".py",
   "mimetype": "text/x-python",
   "name": "python",
   "nbconvert_exporter": "python",
   "pygments_lexer": "ipython3",
   "version": "3.12.1"
  },
  "metadata": {
   "interpreter": {
    "hash": "5997c304d9048cc3333dff7a280bf64458ec3f56eb4ae73f2127a57fb16aeeea"
   }
  },
  "orig_nbformat": 2
 },
 "nbformat": 4,
 "nbformat_minor": 2
}
