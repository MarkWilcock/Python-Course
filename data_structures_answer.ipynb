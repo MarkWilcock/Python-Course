{
 "cells": [
  {
   "attachments": {},
   "cell_type": "markdown",
   "metadata": {},
   "source": [
    "# Answer: Data Structures"
   ]
  },
  {
   "attachments": {},
   "cell_type": "markdown",
   "metadata": {},
   "source": [
    "## Lists\n",
    "In this exercise we create a list and perform various operations on it."
   ]
  },
  {
   "cell_type": "code",
   "execution_count": null,
   "metadata": {},
   "outputs": [],
   "source": [
    "# Create a list with at least three items. The items should all be strings.  Choose fruit or flowers or cars or whatever. \n",
    "# Write your code below.\n",
    "cars = ['Toyota', 'Honda', 'Ford']\n",
    "cars"
   ]
  },
  {
   "cell_type": "code",
   "execution_count": null,
   "metadata": {},
   "outputs": [],
   "source": [
    "# Find the first item.\n",
    "# Write your code below.\n",
    "cars[0]"
   ]
  },
  {
   "cell_type": "code",
   "execution_count": null,
   "metadata": {},
   "outputs": [],
   "source": [
    "# Find the last item.\n",
    "# Write your code below.\n",
    "cars[-1]"
   ]
  },
  {
   "cell_type": "code",
   "execution_count": null,
   "metadata": {},
   "outputs": [],
   "source": [
    "# Find out how many items are in the list.\n",
    "# Write your code below.\n",
    "len(cars)"
   ]
  },
  {
   "cell_type": "code",
   "execution_count": null,
   "metadata": {},
   "outputs": [],
   "source": [
    "# Append another item to the list.\n",
    "# Write your code below.\n",
    "cars.append('BMW')\n",
    "cars"
   ]
  },
  {
   "cell_type": "code",
   "execution_count": null,
   "metadata": {},
   "outputs": [],
   "source": [
    "# Insert an item into the third position.\n",
    "# Write your code below.\n",
    "cars.insert(2, 'Audi')\n",
    "cars"
   ]
  },
  {
   "cell_type": "code",
   "execution_count": null,
   "metadata": {},
   "outputs": [],
   "source": [
    "# Sort the list.\n",
    "# Write your code below.\n",
    "cars.sort()\n",
    "cars"
   ]
  },
  {
   "cell_type": "code",
   "execution_count": null,
   "metadata": {},
   "outputs": [],
   "source": [
    "# Use a list comprehension to add a \"s\" to the end of each of the elements of the list.\n",
    "# Write your code below.\n",
    "plural_cars = [car + 's' for car in cars]\n",
    "plural_cars"
   ]
  },
  {
   "attachments": {},
   "cell_type": "markdown",
   "metadata": {},
   "source": [
    "## Tuples"
   ]
  },
  {
   "attachments": {},
   "cell_type": "markdown",
   "metadata": {},
   "source": [
    "In this exercise we create a list and perform various operations on it.\n",
    "Create a tuple with three elements.  Assign each element of the tuple to a different variable."
   ]
  },
  {
   "cell_type": "code",
   "execution_count": null,
   "metadata": {},
   "outputs": [],
   "source": [
    "# Create a tuple named london with three items 'Chelsea', 'Arsenal', 'Tottenham'.\n",
    "# Write your code below.\n",
    "london = ('Chelsea', 'Arsenal', 'Tottenham')\n",
    "london"
   ]
  },
  {
   "cell_type": "code",
   "execution_count": null,
   "metadata": {},
   "outputs": [],
   "source": [
    "# Unpack the tuple into three varaibles: che, ars, tot.\n",
    "# Write your code below.\n",
    "che, ars, tot = london\n",
    "ars, che, tot # will return Arsenal, Chelsea, Tottenham in that order"
   ]
  },
  {
   "cell_type": "code",
   "execution_count": null,
   "metadata": {},
   "outputs": [],
   "source": [
    "#  This tuple has two elements. \n",
    "rectangle = (10, 20)\n",
    "\n",
    "# Uppack the tuple into two variables: length and width.\n",
    "# Write your code below\n",
    "length, width = rectangle\n",
    "\n",
    "# Calculate the area of the rectangle.\n",
    "# Write your code below\n",
    "area = length * width\n",
    "print('Area:', area)\n",
    "\n",
    "# Calculate the perimeter of the rectangle.\n",
    "# Write your code below.\n",
    "perimeter = 2 * (length + width)\n",
    "print('Perimeter:', perimeter)"
   ]
  },
  {
   "attachments": {},
   "cell_type": "markdown",
   "metadata": {},
   "source": [
    "## Dictionaries\n",
    "\n",
    "In this exercise, we create a few dict objects, compose them into a list, then loop through each dict in the list to retrieve some data"
   ]
  },
  {
   "attachments": {},
   "cell_type": "markdown",
   "metadata": {},
   "source": [
    "Here are the details of three patients.\n",
    "\n",
    "| nhs_id    | name | age |\n",
    "|-----------|------|-----|\n",
    "| 123-456-7890 | Fred Bloggs| 42 |\n",
    "| 234-567-8901 | Jane Doe | 55 |\n",
    "|345-678-9801  | Florence N | 175 |\n"
   ]
  },
  {
   "cell_type": "code",
   "execution_count": null,
   "metadata": {},
   "outputs": [],
   "source": [
    "# Create a dict named patient1 with three key-value pairs. The keys should be 'nhs_id', 'name' and 'age'.\n",
    "# Use the  data in the table above.\n",
    "# Write your code below.\n",
    "patient1 = {'nhs_id': '123-456-7890', 'name': 'Fred Bloggs', 'age': 42}\n",
    "patient1"
   ]
  },
  {
   "cell_type": "code",
   "execution_count": null,
   "metadata": {},
   "outputs": [],
   "source": [
    "# Get the value of the 'name' key of patient1 using the [] operator.\n",
    "# Write your code below.\n",
    "patient1['name']"
   ]
  },
  {
   "cell_type": "code",
   "execution_count": null,
   "metadata": {},
   "outputs": [],
   "source": [
    "# Get the value of the 'name' key of patient1 using the get() method.\n",
    "# Write your code below.\n",
    "patient1.get('name', 'Anonymous')"
   ]
  },
  {
   "cell_type": "code",
   "execution_count": null,
   "metadata": {},
   "outputs": [],
   "source": [
    "# Create a list named patients of three dicts. Use the data in the table above.\n",
    "# Write your code below.\n",
    "patients = [\n",
    "    {'nhs_id': '123-456-7890', 'name': 'Fred Bloggs', 'age': 42},\n",
    "    {'nhs_id': '234-567-8901', 'name': 'Jane Doe', 'age': 55},\n",
    "    {'nhs_id': '345-678-9012', 'name': 'Florence N', 'age': 175}\n",
    "]"
   ]
  },
  {
   "cell_type": "code",
   "execution_count": null,
   "metadata": {},
   "outputs": [],
   "source": [
    "# Iterate through the patients list and print the name of each patient. Use a for loop\n",
    "for patient in patients:\n",
    "    print(patient['name'])"
   ]
  },
  {
   "cell_type": "code",
   "execution_count": null,
   "metadata": {},
   "outputs": [],
   "source": [
    "# Return a new list that contains the name of each patient. Use a list comprehension.\n",
    "[patient['name'] for patient in patients]"
   ]
  }
 ],
 "metadata": {
  "interpreter": {
   "hash": "5997c304d9048cc3333dff7a280bf64458ec3f56eb4ae73f2127a57fb16aeeea"
  },
  "kernelspec": {
   "display_name": "Python 3.9.5 64-bit",
   "name": "python3"
  },
  "language_info": {
   "codemirror_mode": {
    "name": "ipython",
    "version": 3
   },
   "file_extension": ".py",
   "mimetype": "text/x-python",
   "name": "python",
   "nbconvert_exporter": "python",
   "pygments_lexer": "ipython3",
   "version": "3.12.3"
  },
  "metadata": {
   "interpreter": {
    "hash": "5997c304d9048cc3333dff7a280bf64458ec3f56eb4ae73f2127a57fb16aeeea"
   }
  },
  "orig_nbformat": 2
 },
 "nbformat": 4,
 "nbformat_minor": 2
}
