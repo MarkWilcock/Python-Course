{
 "cells": [
  {
   "attachments": {},
   "cell_type": "markdown",
   "metadata": {},
   "source": [
    "# Answer: Data Structures"
   ]
  },
  {
   "attachments": {},
   "cell_type": "markdown",
   "metadata": {},
   "source": [
    "## Lists\n",
    "\n",
    "Create a list with at least three elements of string datatype. Choose fruit or flowers or cars or whatever. \n",
    "1. Find the first element.\n",
    "2. Find the last element.\n",
    "3. Append another element to the list\n",
    "4. Count the elements in the list\n",
    "5. Insert an element into the third position\n",
    "6. Sort the list \n"
   ]
  },
  {
   "cell_type": "code",
   "execution_count": null,
   "metadata": {},
   "outputs": [],
   "source": [
    "flowers = [\"iris\", \"tulip\", \"rose\"]\n",
    "#  flowers[0], flowers[-1]\n",
    "flowers.append(\"lily\")\n",
    "len(flowers)\n",
    "flowers.insert(2, \"poppy\")\n",
    "flowers\n",
    "flowers.sort()\n",
    "flowers"
   ]
  },
  {
   "attachments": {},
   "cell_type": "markdown",
   "metadata": {},
   "source": [
    "Use a list comprehension to add a \"s\" to the end of each of the elements of the list."
   ]
  },
  {
   "cell_type": "code",
   "execution_count": null,
   "metadata": {},
   "outputs": [],
   "source": [
    "[f + \"s\" for f in flowers]\n",
    "[f + \"s\" for f in flowers if f[-1] != \"s\"]"
   ]
  },
  {
   "attachments": {},
   "cell_type": "markdown",
   "metadata": {},
   "source": [
    "## Tuples"
   ]
  },
  {
   "attachments": {},
   "cell_type": "markdown",
   "metadata": {},
   "source": [
    "Create a tuple with three elements.  Assign each element of the tuple to a different variable."
   ]
  },
  {
   "cell_type": "code",
   "execution_count": null,
   "metadata": {},
   "outputs": [],
   "source": [
    "stations = (\"Leeds\", \"Wakefield\", \"Doncaster\", \"Grantham\", \"Newark\")\n",
    "l, w, d, g, n = stations\n",
    "l, n"
   ]
  },
  {
   "attachments": {},
   "cell_type": "markdown",
   "metadata": {},
   "source": [
    "## Dictionaries\n",
    "\n",
    "Create a dictionary with these keys and values:\n",
    "- key \"ENG\", value \"England\"\n",
    "- key \"WAL\", value \"Wales\"\n",
    "- key \"SCO\", value \"Scotland\"\n",
    "- key \"NIR\", value \"Northern Ireland\""
   ]
  },
  {
   "cell_type": "code",
   "execution_count": null,
   "metadata": {},
   "outputs": [],
   "source": [
    "uk = {\"ENG\": \"England\", \"WAL\": \"Wales\", \"SCO\": \"Scotland\", \"NIR\": \"Northern Ireland\"}  #"
   ]
  },
  {
   "attachments": {},
   "cell_type": "markdown",
   "metadata": {},
   "source": [
    "Answer these questions\n",
    "- What is the value corresponding to the \"NIR\" key?\n",
    "- What is the value corresponding to the \"GBR\" key?\n",
    "\n",
    "- Can you set a key \"JER\" with value \"Jerzee\"\n",
    "- Can you set another key \"JER\" with value \"Jersey\".  What happens?"
   ]
  },
  {
   "cell_type": "code",
   "execution_count": null,
   "metadata": {},
   "outputs": [],
   "source": [
    "# uk[\"NIR\"], uk.get(\"NIR\")\n",
    "# uk[\"GBR\"]\n",
    "uk.get(\"GBR\", \"not found\")\n",
    "uk[\"JER\"] = \"Jerzee\"\n",
    "uk\n",
    "uk[\"JER\"] = \"Jersey\"\n",
    "uk"
   ]
  }
 ],
 "metadata": {
  "interpreter": {
   "hash": "5997c304d9048cc3333dff7a280bf64458ec3f56eb4ae73f2127a57fb16aeeea"
  },
  "kernelspec": {
   "display_name": "Python 3.9.5 64-bit",
   "name": "python3"
  },
  "language_info": {
   "codemirror_mode": {
    "name": "ipython",
    "version": 3
   },
   "file_extension": ".py",
   "mimetype": "text/x-python",
   "name": "python",
   "nbconvert_exporter": "python",
   "pygments_lexer": "ipython3",
   "version": "3.11.2"
  },
  "metadata": {
   "interpreter": {
    "hash": "5997c304d9048cc3333dff7a280bf64458ec3f56eb4ae73f2127a57fb16aeeea"
   }
  },
  "orig_nbformat": 2
 },
 "nbformat": 4,
 "nbformat_minor": 2
}
