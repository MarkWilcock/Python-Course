{
 "cells": [
  {
   "cell_type": "markdown",
   "metadata": {},
   "source": [
    "# Answer: Astronauts\n",
    "\n",
    "## Who is up there?\n",
    "\n",
    "This API http://api.open-notify.org/astros.json lists the people currently in space.  Print a list of them.\n",
    "\n",
    "Hint: Use the requests module and the get() method. The response has a json() method that returns a dict.  This dict contain a 'people' key with list as the value.  The items in the list are themselves dicts and the value corresponding to the 'name' key of each dict provides the astronaut's name."
   ]
  },
  {
   "cell_type": "code",
   "execution_count": null,
   "metadata": {},
   "outputs": [],
   "source": [
    "import requests\n",
    "import pandas as pd\n",
    "\n",
    "astros_url = \"http://api.open-notify.org/astros.json\"\n",
    "astros_response = requests.get(astros_url)\n",
    "astros_dict = astros_response.json()\n",
    "astros_dict"
   ]
  },
  {
   "cell_type": "code",
   "execution_count": null,
   "metadata": {},
   "outputs": [],
   "source": [
    "people_list = astros_dict[\"people\"]\n",
    "people_list"
   ]
  },
  {
   "cell_type": "markdown",
   "metadata": {},
   "source": [
    "Loop through the people_list getting the name of each astronaut."
   ]
  },
  {
   "cell_type": "code",
   "execution_count": null,
   "metadata": {},
   "outputs": [],
   "source": [
    "for person_dict in people_list:\n",
    "    print(person_dict[\"name\"])"
   ]
  },
  {
   "cell_type": "markdown",
   "metadata": {},
   "source": [
    "If we need a list of the names, a list comprehension provides an elegant way to do this."
   ]
  },
  {
   "cell_type": "code",
   "execution_count": null,
   "metadata": {},
   "outputs": [],
   "source": [
    "astros_list = [person_dict[\"name\"] for person_dict in people_list]\n",
    "astros_list"
   ]
  },
  {
   "cell_type": "markdown",
   "metadata": {},
   "source": [
    "pandas can create a dataframe from a list but in this case the result is not exactly what we need."
   ]
  },
  {
   "cell_type": "code",
   "execution_count": null,
   "metadata": {},
   "outputs": [],
   "source": [
    "astros_df = pd.DataFrame(astros_dict)\n",
    "astros_df"
   ]
  },
  {
   "cell_type": "markdown",
   "metadata": {},
   "source": [
    "We can save this dataframe to a CSV file"
   ]
  },
  {
   "cell_type": "code",
   "execution_count": null,
   "metadata": {},
   "outputs": [],
   "source": [
    "astros_df.to_csv(\"astros.csv\")"
   ]
  },
  {
   "cell_type": "markdown",
   "metadata": {},
   "source": [
    "A more basic way to export the data is to create and write to a file."
   ]
  },
  {
   "cell_type": "code",
   "execution_count": null,
   "metadata": {},
   "outputs": [],
   "source": [
    "with open(\"astronauts.csv\", \"w\") as f:\n",
    "    for a in astros_list:\n",
    "        f.writelines(a + \"\\n\")"
   ]
  }
 ],
 "metadata": {
  "interpreter": {
   "hash": "68c45707def87feca5a47d18982249224aa76d0675ca5b6bc7cad154e506106e"
  },
  "kernelspec": {
   "display_name": "Python 3.9.2  ('.venv': venv)",
   "name": "python3"
  },
  "language_info": {
   "codemirror_mode": {
    "name": "ipython",
    "version": 3
   },
   "file_extension": ".py",
   "mimetype": "text/x-python",
   "name": "python",
   "nbconvert_exporter": "python",
   "pygments_lexer": "ipython3",
   "version": "3.11.2"
  },
  "orig_nbformat": 2
 },
 "nbformat": 4,
 "nbformat_minor": 2
}
