{
 "cells": [
  {
   "cell_type": "markdown",
   "metadata": {},
   "source": [
    "# OOP Answer - Vaccine \n",
    "\n",
    "Create a Vaccine class with the following properties\n",
    "* name: string, e.g. 'Pfizer', 'Oxford AstraZeneca', 'Moderna'\n",
    "* type: string, e.g. 'mRNA', 'adenovirus'\n",
    "* doses: integer, default to 2\n",
    "* is_approved: bool, default to False\n",
    "* approval_date: string, e.g. '2021-21-01' default to 'NA - Not yet approved'\n",
    "\n",
    "Ensure that the name and type properties cannot be changed once an instance of the class is created. \n",
    "\n",
    "Add a method, approve_for_use(approval_date), that sets is_approved to True and approval_date to the parameter value.  Ensure that the is_approved and approval_date properties cannot be set in any other way apart from this method.\n",
    "\n",
    "You may want to do this in small steps, string with a class with only name and type properties."
   ]
  },
  {
   "cell_type": "code",
   "execution_count": 29,
   "metadata": {},
   "outputs": [],
   "source": [
    "class Vaccine:\n",
    "    \"\"\"A class for describing the different types of vaccinations for COVID\"\"\"\n",
    "\n",
    "    def __init__(self, name, type, doses=2):\n",
    "        self._name = name\n",
    "        self._type = type\n",
    "        self._doses = doses\n",
    "        self._is_approved = False\n",
    "        self._approval_date = 'NA - Not yet approved'\n",
    "\n",
    "    @property\n",
    "    def name(self):\n",
    "        return self._name\n",
    "\n",
    "    @property\n",
    "    def type(self):\n",
    "        return self._type\n",
    "\n",
    "    @property\n",
    "    def doses(self):\n",
    "        return self._doses\n",
    "\n",
    "    @doses.setter\n",
    "    def doses(self, doses):\n",
    "        self._doses = doses\n",
    "\n",
    "    # Note there is no setter for is_approved or approval_date (set only via the approve_for_use method)\n",
    "    @property\n",
    "    def is_approved(self):\n",
    "        return self._is_approved\n",
    "\n",
    "    @property\n",
    "    def approval_date(self):\n",
    "        return self._approval_date\n",
    "\n",
    "    def approve_for_use(self, approval_date):\n",
    "        self._approval_date = approval_date \n",
    "        self._is_approved = True\n",
    "\n",
    "    def __str__(self):\n",
    "        return  f\"The {self.name} vaccine of the {self.type} type\"\n",
    "    \n",
    "    def __repr__(self):\n",
    "        return  f\"\"\"Object of Vaccine class with properties: \n",
    "            name: {self.name}, \n",
    "            type: {self.type}, \n",
    "            doses {self.doses}, \n",
    "            is_approved: {self.is_approved}, \n",
    "            approval_date: {self.approval_date}\n",
    "        \"\"\"\n",
    "    "
   ]
  },
  {
   "cell_type": "markdown",
   "metadata": {},
   "source": [
    "Test the Vaccine class"
   ]
  },
  {
   "cell_type": "code",
   "execution_count": 30,
   "metadata": {},
   "outputs": [
    {
     "name": "stdout",
     "output_type": "stream",
     "text": [
      "The Pfizer vaccine of the mRNA type\n",
      "False\n",
      "True\n",
      "2020-12-11\n"
     ]
    }
   ],
   "source": [
    "vaccine = Vaccine(\"Pfizer\", \"mRNA\")\n",
    "print(vaccine)\n",
    "print(vaccine.is_approved)\n",
    "vaccine.approve_for_use(\"2020-12-11\")\n",
    "print(vaccine.is_approved)\n",
    "print(vaccine.approval_date)"
   ]
  }
 ],
 "metadata": {
  "kernelspec": {
   "display_name": ".venv",
   "language": "python",
   "name": "python3"
  },
  "language_info": {
   "codemirror_mode": {
    "name": "ipython",
    "version": 3
   },
   "file_extension": ".py",
   "mimetype": "text/x-python",
   "name": "python",
   "nbconvert_exporter": "python",
   "pygments_lexer": "ipython3",
   "version": "3.11.2"
  }
 },
 "nbformat": 4,
 "nbformat_minor": 2
}
