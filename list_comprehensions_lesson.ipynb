{
 "cells": [
  {
   "cell_type": "markdown",
   "metadata": {},
   "source": [
    "# List comprehensions\n",
    "List comprehensions offer a concise way to create lists. \n"
   ]
  },
  {
   "cell_type": "code",
   "execution_count": null,
   "metadata": {},
   "outputs": [],
   "source": [
    "# Let's create a list of the numbers from 0 to 4 - without using a list comprhension\n",
    "# range(5) is a function that will generate these numbers\n",
    "\n",
    "number_list = [] # this creates an empty list\n",
    "for i in range(5):\n",
    "    number_list.append(i)\n",
    "\n",
    "number_list"
   ]
  },
  {
   "cell_type": "code",
   "execution_count": null,
   "metadata": {},
   "outputs": [],
   "source": [
    "# And now using a list comprehension\n",
    "number_list = [i for i in range(5)]\n",
    "number_list"
   ]
  },
  {
   "cell_type": "code",
   "execution_count": null,
   "metadata": {},
   "outputs": [],
   "source": [
    "#We can do a calculation on the items in the list (and this is typical usage to create a new list)\n",
    "double_list = [i * 2 for i in range(5)]\n",
    "double_list"
   ]
  },
  {
   "cell_type": "code",
   "execution_count": null,
   "metadata": {},
   "outputs": [],
   "source": [
    "# This calculation can invove invoking a function\n",
    "def triple(x):\n",
    "    return x * 3\n",
    "\n",
    "triple_list = [triple(i) for i in range(5)]\n",
    "triple_list"
   ]
  },
  {
   "cell_type": "markdown",
   "metadata": {},
   "source": [
    "In the next section we use the modulo operator to filter out only the even numbers.  \n",
    "The % operator is the modulo operator, which returns the remainder of the division of the first number by the second.  \n",
    "For example 5 % 2 = 1, 4 % 2 = 0, 9 % 5 = 4  \n",
    "i % 2 == 0 is True if i is even, and False when i is odd.  \n"
   ]
  },
  {
   "cell_type": "code",
   "execution_count": null,
   "metadata": {},
   "outputs": [],
   "source": [
    "#  We can add an if clause to the list comprehension\n",
    "# In this example, we only include the number in the list if it is even\n",
    "even_list = [i for i in range(5) if i % 2 == 0]\n",
    "even_list"
   ]
  },
  {
   "cell_type": "markdown",
   "metadata": {},
   "source": [
    "## Advanced section"
   ]
  },
  {
   "cell_type": "code",
   "execution_count": null,
   "metadata": {},
   "outputs": [],
   "source": [
    "# A list comprehension can use a lambda (anonymous function)\n",
    "[(lambda x:x**2)(i) for i in range(5)]"
   ]
  },
  {
   "cell_type": "code",
   "execution_count": null,
   "metadata": {},
   "outputs": [],
   "source": [
    "# We can create a dictionary comprehension from a list of lists\n",
    "bingo_list_of_lists = [['3', 'cup of tea'], ['4', 'knock at the door'], ['5', 'man alive']]\n",
    "bingo_dict = {i[0]: i[1] for i in bingo_list_of_lists}\n",
    "bingo_dict"
   ]
  }
 ],
 "metadata": {
  "kernelspec": {
   "display_name": ".venv",
   "language": "python",
   "name": "python3"
  },
  "language_info": {
   "codemirror_mode": {
    "name": "ipython",
    "version": 3
   },
   "file_extension": ".py",
   "mimetype": "text/x-python",
   "name": "python",
   "nbconvert_exporter": "python",
   "pygments_lexer": "ipython3",
   "version": "3.12.3"
  }
 },
 "nbformat": 4,
 "nbformat_minor": 2
}
