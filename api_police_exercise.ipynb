{
 "cells": [
  {
   "cell_type": "markdown",
   "metadata": {},
   "source": [
    "# Exercise:  Get data from the police street crime API\r\n",
    "## Objective: List each crime with details: id, category, outcome_status and street\r\n",
    "\r\n",
    "This API is called  as in this example: https://data.police.uk/api/crimes-street/all-crime?lat=51.4441480&lng=-0.1398390\r\n"
   ]
  },
  {
   "cell_type": "code",
   "execution_count": null,
   "metadata": {},
   "outputs": [],
   "source": [
    "import requests"
   ]
  },
  {
   "cell_type": "markdown",
   "metadata": {},
   "source": [
    "The co-ordinates below are for a location in London (Balham, SW12 post code).  Feel free to change."
   ]
  },
  {
   "cell_type": "code",
   "execution_count": null,
   "metadata": {},
   "outputs": [],
   "source": [
    "latitude = 51.4441480\n",
    "longitude = -0.1398390"
   ]
  },
  {
   "cell_type": "code",
   "execution_count": null,
   "metadata": {},
   "outputs": [],
   "source": [
    "crime_url = \"https://data.police.uk/api/crimes-street/all-crime?lat={0}&lng={1}\".format(\n",
    "    latitude, longitude\n",
    ")\n",
    "crime_url"
   ]
  }
 ],
 "metadata": {
  "interpreter": {
   "hash": "971058d77d3fec802a562c904ccda8b2dadc90e8ee5c2cab5a6278c8090cb847"
  },
  "kernelspec": {
   "display_name": "Python 3.9.5 64-bit ('.venv': venv)",
   "name": "python3"
  },
  "language_info": {
   "name": "python",
   "version": ""
  },
  "orig_nbformat": 2
 },
 "nbformat": 4,
 "nbformat_minor": 2
}