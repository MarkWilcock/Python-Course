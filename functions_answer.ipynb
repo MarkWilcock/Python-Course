{
 "cells": [
  {
   "cell_type": "markdown",
   "metadata": {},
   "source": [
    "# Answers: Functions"
   ]
  },
  {
   "cell_type": "markdown",
   "metadata": {},
   "source": [
    "Write a function, named rectangle_area, to return the area or a rectangle given its length and width"
   ]
  },
  {
   "cell_type": "code",
   "execution_count": null,
   "metadata": {},
   "outputs": [],
   "source": [
    "# Define the function rectangle_area here\n",
    "def rectangle_area(length, width):\n",
    "    \"\"\"  Return the area of a rectangle with given length and width. \"\"\"\n",
    "    return length * width\n"
   ]
  },
  {
   "cell_type": "code",
   "execution_count": null,
   "metadata": {},
   "outputs": [],
   "source": [
    "length = 5\n",
    "width = 4\n",
    "# Invoke and test the function rectangle_area here\n",
    "rectangle_area(length, width)"
   ]
  },
  {
   "cell_type": "markdown",
   "metadata": {},
   "source": [
    "Write a function, named rectangle_summary, to return both the area and the perimeter (think tuples) given its length and width"
   ]
  },
  {
   "cell_type": "code",
   "execution_count": null,
   "metadata": {},
   "outputs": [],
   "source": [
    "# Define the function rectangle_details here\n",
    "def rectangle_details(length, width):\n",
    "    \"\"\" Return the area and perimeter of a rectangle with given length and width. \"\"\"\n",
    "    a = length * width\n",
    "    p = 2 * (length + width)\n",
    "    return (a, p)\n"
   ]
  },
  {
   "cell_type": "code",
   "execution_count": null,
   "metadata": {},
   "outputs": [],
   "source": [
    "length = 5\n",
    "width = 4\n",
    "# Invoke and test the function rectangle_details here\n",
    "area, perimeter = rectangle_details(length, width)\n",
    "f\"If a rectangle has length {length} and width {width}, the area is {area} and the perimeter is {perimeter}\""
   ]
  }
 ],
 "metadata": {
  "interpreter": {
   "hash": "68c45707def87feca5a47d18982249224aa76d0675ca5b6bc7cad154e506106e"
  },
  "kernelspec": {
   "display_name": "Python 3.9.2  ('.venv': venv)",
   "name": "python3"
  },
  "language_info": {
   "codemirror_mode": {
    "name": "ipython",
    "version": 3
   },
   "file_extension": ".py",
   "mimetype": "text/x-python",
   "name": "python",
   "nbconvert_exporter": "python",
   "pygments_lexer": "ipython3",
   "version": "3.11.2"
  },
  "orig_nbformat": 2
 },
 "nbformat": 4,
 "nbformat_minor": 2
}
