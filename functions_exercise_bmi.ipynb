{
 "cells": [
  {
   "cell_type": "markdown",
   "metadata": {},
   "source": [
    "# Exercise: BMI"
   ]
  },
  {
   "cell_type": "markdown",
   "metadata": {},
   "source": [
    "Write a function, bmi.\r\n",
    "\r\n",
    "The formula is bmi = weight / (height * height)* where height is in metres, weight is in kg.  \r\n",
    "See (https://www.nhs.uk/Tools/Pages/Healthyweightcalculator.aspx)\r\n",
    "\r\n",
    "Write another function, bmi_category, that takes arguments height and weight and returns a string which has the value:\r\n",
    "- \"underweight\" if the body mass index is under 20, \r\n",
    "- \"normal\" if the body mass index is 20 or more but under 25 or \r\n",
    "- \"overweight\" if the body mass index is 25 or more\r\n",
    "Use the bmi function.\r\n",
    "\r\n",
    "A person has a weight of 77kg and a height of 1.75m.  Are they underweight, normal or overweight?"
   ]
  },
  {
   "cell_type": "markdown",
   "metadata": {},
   "source": [
    "Define the bmi function"
   ]
  },
  {
   "cell_type": "code",
   "execution_count": 1,
   "metadata": {},
   "outputs": [],
   "source": [
    "# Define the bmi function here"
   ]
  },
  {
   "cell_type": "markdown",
   "metadata": {},
   "source": [
    "Test the bmi function"
   ]
  },
  {
   "cell_type": "code",
   "execution_count": 2,
   "metadata": {},
   "outputs": [],
   "source": [
    "# Test the bmi function here"
   ]
  },
  {
   "cell_type": "code",
   "execution_count": 3,
   "metadata": {},
   "outputs": [],
   "source": [
    "# Define the bmi_category here"
   ]
  },
  {
   "cell_type": "markdown",
   "metadata": {},
   "source": [
    "Test the bmi_category function"
   ]
  },
  {
   "cell_type": "code",
   "execution_count": 4,
   "metadata": {},
   "outputs": [],
   "source": [
    "# Test the bmi_category here"
   ]
  }
 ],
 "metadata": {
  "interpreter": {
   "hash": "68c45707def87feca5a47d18982249224aa76d0675ca5b6bc7cad154e506106e"
  },
  "kernelspec": {
   "display_name": "Python 3.9.2  ('.venv': venv)",
   "name": "python3"
  },
  "language_info": {
   "name": "python",
   "version": ""
  },
  "metadata": {
   "interpreter": {
    "hash": "68c45707def87feca5a47d18982249224aa76d0675ca5b6bc7cad154e506106e"
   }
  },
  "orig_nbformat": 2
 },
 "nbformat": 4,
 "nbformat_minor": 2
}