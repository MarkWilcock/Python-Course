{
 "cells": [
  {
   "attachments": {},
   "cell_type": "markdown",
   "metadata": {},
   "source": [
    "# Functions Lesson\n",
    "\n",
    "Functions are resuable bulding blocks of useful functionality. Many are written for us e.g. print(), len(). Some we have to write ourselves.  Functions should ideally not have side effects.  This is good practice and makes the function testable in unit tests."
   ]
  },
  {
   "cell_type": "code",
   "execution_count": null,
   "metadata": {},
   "outputs": [],
   "source": [
    "# Let's define our first function.\n",
    "def answer():\n",
    "    \"\"\"\n",
    "    Provides the answer to the Ultimate Question of Life, The Universe, and Everything\n",
    "    See https://en.wikipedia.org/wiki/Phrases_from_The_Hitchhiker%27s_Guide_to_the_Galaxy#Answer_to_the_Ultimate_Question_of_Life,_the_Universe,_and_Everything_(42)\n",
    "    \"\"\"\n",
    "    return 42"
   ]
  },
  {
   "cell_type": "code",
   "execution_count": null,
   "metadata": {},
   "outputs": [],
   "source": [
    "# Let's invoke our function.\n",
    "# Note that we see the docstring after we type the (.\n",
    "answer()"
   ]
  },
  {
   "attachments": {},
   "cell_type": "markdown",
   "metadata": {},
   "source": [
    "Functions can take one or more arguments (inputs) "
   ]
  },
  {
   "cell_type": "code",
   "execution_count": null,
   "metadata": {},
   "outputs": [],
   "source": [
    "def calculate_vat1(amount):\n",
    "    \"\"\"Calculate the VATable amount of a price assuming a VAT rate of 20%\"\"\"\n",
    "    return amount * 0.2\n",
    "\n",
    "# Let's invoke our function.\n",
    "print(calculate_vat1(100))\n",
    "print(calculate_vat1(amount=120)) # We can also use named arguments.\n"
   ]
  },
  {
   "cell_type": "code",
   "execution_count": null,
   "metadata": {},
   "outputs": [],
   "source": [
    "def calculate_vat2(amount, vat_rate):\n",
    "    \"\"\"Calculate the VATable amount given a price and a VAT rate\"\"\"\n",
    "    return amount * vat_rate\n",
    "\n",
    "# Let's invoke our function.\n",
    "print(calculate_vat2(100, 0.2))\n",
    "print(calculate_vat2(200, 0.05))"
   ]
  },
  {
   "cell_type": "code",
   "execution_count": null,
   "metadata": {},
   "outputs": [],
   "source": [
    "def calculate_vat3(amount, vat_rate=0.2):\n",
    "    \"\"\"Calculate the VATable amount given a price and a VAT rate (default is 20%)\"\"\"\n",
    "    return amount * vat_rate\n",
    "\n",
    "# Let's invoke our function in various ways. Uncomment each in turn to see the results\n",
    "print(calculate_vat3(100))\n",
    "print(calculate_vat3(100, 0.25))\n",
    "print(calculate_vat3(100, vat_rate=0.15))"
   ]
  },
  {
   "cell_type": "code",
   "execution_count": null,
   "metadata": {},
   "outputs": [],
   "source": [
    "# Another example of default arguments. Note that default arguments need to go after non-default arguments.\n",
    "def full_name(first_name, last_name, middle_name=\"\", sep = \" \"):\n",
    "    \"\"\"Return a full name, including middle name if provided \"\"\"\n",
    "    return f\"{first_name}{sep}{middle_name}{sep}{last_name}\"\n",
    "\n",
    "print (full_name(\"John\", \"Smith\"))\n",
    "print (full_name(\"John\", \"Smith\", \"Paul\"))\n",
    "print (full_name(\"John\", \"Smith\", middle_name=\"Paul\", sep=\"-\"))"
   ]
  },
  {
   "cell_type": "code",
   "execution_count": null,
   "metadata": {},
   "outputs": [],
   "source": [
    "# Finally lets add type hints - useful for static checking and reducing bugs\n",
    "# This examples returns a tuple which is then unpacked into the variables\n",
    "def split_full_name(full_name: str) -> list[str]:\n",
    "    \"\"\" Splits a full name into first and last name, and proper cases these \"\"\"\n",
    "    names = full_name.split()\n",
    "    proper_names =[name.capitalize() for name in names]\n",
    "    return proper_names\n",
    "\n",
    "first, last = split_full_name(\"john smith\")\n",
    "f\"The last name is {last} and the first name is {first}\""
   ]
  },
  {
   "cell_type": "markdown",
   "metadata": {},
   "source": [
    "## Advanced sections: * args and **kwargs"
   ]
  },
  {
   "cell_type": "code",
   "execution_count": null,
   "metadata": {},
   "outputs": [],
   "source": [
    "# *args parameter collects all unused positional arguments in a tuple\n",
    "def some_function(x, y, *args):\n",
    "    print(f\"x = {x}, y = {y}, args = {args} of type {type(args)}\")\n",
    "\n",
    "some_function(10, 20, 30, 40, 50)"
   ]
  },
  {
   "cell_type": "code",
   "execution_count": null,
   "metadata": {},
   "outputs": [],
   "source": [
    "# **kwargs parameter collects all unused keyword arguments in a dictionary\n",
    "def some_function2(x, y, **kwargs):\n",
    "    print(f\"x = {x}, y = {y}, kwargs = {kwargs} of type {type(kwargs)}\")\n",
    "\n",
    "some_function2(10, 20, a=30, b=40, c=50)"
   ]
  },
  {
   "cell_type": "code",
   "execution_count": null,
   "metadata": {},
   "outputs": [],
   "source": [
    "# We can use *args and **kwargs together\n",
    "def some_function3(x, y, *args, **kwargs):\n",
    "    print(f\"x = {x}, y = {y}, args = {args} of type {type(args)}, kwargs = {kwargs} of type {type(kwargs)}\")\n",
    "\n",
    "some_function3(10, 20, 30, 40, 50, a=60, b=70, c=80)"
   ]
  }
 ],
 "metadata": {
  "interpreter": {
   "hash": "68c45707def87feca5a47d18982249224aa76d0675ca5b6bc7cad154e506106e"
  },
  "kernelspec": {
   "display_name": "Python 3.9.2  ('.venv': venv)",
   "name": "python3"
  },
  "language_info": {
   "codemirror_mode": {
    "name": "ipython",
    "version": 3
   },
   "file_extension": ".py",
   "mimetype": "text/x-python",
   "name": "python",
   "nbconvert_exporter": "python",
   "pygments_lexer": "ipython3",
   "version": "3.12.3"
  },
  "orig_nbformat": 2
 },
 "nbformat": 4,
 "nbformat_minor": 2
}
