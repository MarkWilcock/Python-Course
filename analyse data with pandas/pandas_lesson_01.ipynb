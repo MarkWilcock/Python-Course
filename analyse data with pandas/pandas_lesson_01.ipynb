{
 "cells": [
  {
   "cell_type": "markdown",
   "metadata": {},
   "source": [
    "# pandas lesson 1 (Series)\n",
    "\n",
    "## Introduction\n",
    "\n",
    "pandas is *the* library for data analysis in Python.  It has two data structures: \n",
    "* the Series for 1D labelled data such as a single row or column,\n",
    "* the DataFrame for 2D data such as a table. \n",
    "\n",
    " These lessons shows examples of typical operations on a pandas DataFrame including:\n",
    "* select a subset of columns\n",
    "* calculate new columns\n",
    "* filter rows by values or by index\n",
    "* sort rows by index or by values\n",
    "* group and summarise\n",
    "* handle missing values\n",
    "\n",
    "A good place to get started with pandas is at https://pandas.pydata.org/getting_started.html\n"
   ]
  },
  {
   "cell_type": "code",
   "execution_count": null,
   "metadata": {},
   "outputs": [],
   "source": [
    "import pandas as pd\n",
    "import numpy as np\n",
    "import matplotlib.pyplot as plt # pandas uses matplotlib for plotting"
   ]
  },
  {
   "cell_type": "markdown",
   "metadata": {},
   "source": [
    "## pandas Series (a 1D labelled array)\n",
    "\n",
    "A Series is a 1D labelled array.  By default the labels are position-based integers, starting at 0.  Labels don't need to be unique.  The elements of a Series are usually of the same type. A Series may become a column in a dataframe (table) so we should expect this. These types include various types of number (ints and floats) and strings (objects).\n",
    "\n",
    "We can create a Series in many ways, for example from a list."
   ]
  },
  {
   "cell_type": "markdown",
   "metadata": {},
   "source": [
    "### Create a Series"
   ]
  },
  {
   "cell_type": "code",
   "execution_count": null,
   "metadata": {},
   "outputs": [],
   "source": [
    "# Create a Series form a list of first names\n",
    "names = ['Harry', 'Hermione', 'Ron']\n",
    "first_names = pd.Series(names)\n",
    "first_names"
   ]
  },
  {
   "cell_type": "code",
   "execution_count": null,
   "metadata": {},
   "outputs": [],
   "source": [
    "#  We can pass in an index when creating a Series\n",
    "initials = ['hp', 'hg', 'rw']\n",
    "first_names = pd.Series(names, index=initials)\n",
    "first_names"
   ]
  },
  {
   "cell_type": "markdown",
   "metadata": {},
   "source": [
    "Examine the first_names Series.  You may want to try these properties and methods: index, values, dtype, shape, ndim, size."
   ]
  },
  {
   "cell_type": "code",
   "execution_count": null,
   "metadata": {},
   "outputs": [],
   "source": [
    "# Write your code here as a set of print statements. The first one is provided.\n",
    "print(\"Index:\", first_names.index) "
   ]
  },
  {
   "cell_type": "markdown",
   "metadata": {},
   "source": [
    "We can create a Series with a defined size and initialize with fixed or random values."
   ]
  },
  {
   "cell_type": "code",
   "execution_count": null,
   "metadata": {},
   "outputs": [],
   "source": [
    "# a Series of 4 random numbers with mean 10 and standard deviation 1\n",
    "pd.Series(np.random.randn(4), name = 'price') + 10 # name is an optional parameter"
   ]
  },
  {
   "cell_type": "markdown",
   "metadata": {},
   "source": [
    "### Access elements in a Series"
   ]
  },
  {
   "cell_type": "markdown",
   "metadata": {},
   "source": [
    "We can access elements of the Series \n",
    "* by position using the iloc property,  or \n",
    "* by their index using the loc property. "
   ]
  },
  {
   "cell_type": "code",
   "execution_count": null,
   "metadata": {},
   "outputs": [],
   "source": [
    "# returns the item in the 2nd position\n",
    "first_names.iloc[1]"
   ]
  },
  {
   "cell_type": "code",
   "execution_count": null,
   "metadata": {},
   "outputs": [],
   "source": [
    "# returns the item in the 2nd and 3rd positions\n",
    "first_names.iloc[1:3] "
   ]
  },
  {
   "cell_type": "code",
   "execution_count": null,
   "metadata": {},
   "outputs": [],
   "source": [
    "#  Returns the element but using the index label\n",
    "first_names.loc['rw']"
   ]
  },
  {
   "cell_type": "markdown",
   "metadata": {},
   "source": [
    "Note that when slicing with loc, the syntax is inclusive (and not the usual Pythton syntax!)."
   ]
  },
  {
   "cell_type": "code",
   "execution_count": null,
   "metadata": {},
   "outputs": [],
   "source": [
    "first_names.loc['hp':'rw']"
   ]
  },
  {
   "cell_type": "markdown",
   "metadata": {},
   "source": [
    "We can use the index to set values from the Series."
   ]
  },
  {
   "cell_type": "code",
   "execution_count": null,
   "metadata": {},
   "outputs": [],
   "source": [
    "print(\"before change:\", first_names.loc['rw']) \n",
    "first_names['rw'] = 'Ronald' # set a value in the Series\n",
    "print(\"after change:\", first_names.loc['rw']) "
   ]
  },
  {
   "cell_type": "markdown",
   "metadata": {},
   "source": [
    "We can use *in* to see if the index value is in the Series"
   ]
  },
  {
   "cell_type": "code",
   "execution_count": null,
   "metadata": {},
   "outputs": [],
   "source": [
    "'hg' in first_names # check if an index is in the Series"
   ]
  },
  {
   "cell_type": "markdown",
   "metadata": {},
   "source": [
    "### Element wise operations"
   ]
  },
  {
   "cell_type": "markdown",
   "metadata": {},
   "source": [
    "An element wise operation is one that is performed on every element of the Series. For example,  multiply all values by 100"
   ]
  },
  {
   "cell_type": "markdown",
   "metadata": {},
   "source": [
    "The examples in this section use a Series of 5 numbers named prices that is defined below."
   ]
  },
  {
   "cell_type": "code",
   "execution_count": null,
   "metadata": {},
   "outputs": [],
   "source": [
    "prices = pd.Series([10, 12, 15, 18, 16])\n",
    "prices"
   ]
  },
  {
   "cell_type": "markdown",
   "metadata": {},
   "source": [
    "THis multiplies every elemnt by a scalar value"
   ]
  },
  {
   "cell_type": "code",
   "execution_count": null,
   "metadata": {},
   "outputs": [],
   "source": [
    "prices * 100"
   ]
  },
  {
   "cell_type": "markdown",
   "metadata": {},
   "source": [
    "Add 10 to each value in the prices Series."
   ]
  },
  {
   "cell_type": "code",
   "execution_count": null,
   "metadata": {},
   "outputs": [],
   "source": [
    "# Write your code here"
   ]
  },
  {
   "cell_type": "markdown",
   "metadata": {},
   "source": [
    "We can aggregate (e.g sum. average) the values in a Series either \n",
    "* using a numpy method, e.g. np.sum(prices)\n",
    "* a method on the Series e.g. prices.sum()"
   ]
  },
  {
   "cell_type": "code",
   "execution_count": null,
   "metadata": {},
   "outputs": [],
   "source": [
    "np.sum(prices) # total value of all elements"
   ]
  },
  {
   "cell_type": "code",
   "execution_count": null,
   "metadata": {},
   "outputs": [],
   "source": [
    "prices.sum() "
   ]
  },
  {
   "cell_type": "markdown",
   "metadata": {},
   "source": [
    "Find the min, max, average, median and other summary statistics of the prices Series"
   ]
  },
  {
   "cell_type": "code",
   "execution_count": null,
   "metadata": {},
   "outputs": [],
   "source": [
    "# Write your code here as a set of print statements. The first one is provided.\n",
    "print(f\"minimum: numpy method {np.min(prices)}, Series method {prices.min()}\")\n",
    "\n"
   ]
  }
 ],
 "metadata": {
  "kernelspec": {
   "display_name": ".venv",
   "language": "python",
   "name": "python3"
  },
  "language_info": {
   "codemirror_mode": {
    "name": "ipython",
    "version": 3
   },
   "file_extension": ".py",
   "mimetype": "text/x-python",
   "name": "python",
   "nbconvert_exporter": "python",
   "pygments_lexer": "ipython3",
   "version": "3.12.3"
  },
  "orig_nbformat": 2
 },
 "nbformat": 4,
 "nbformat_minor": 2
}
