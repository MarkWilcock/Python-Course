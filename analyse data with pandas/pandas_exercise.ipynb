{
 "cells": [
  {
   "cell_type": "markdown",
   "metadata": {},
   "source": [
    "# pandas exercise:\n",
    "The purpose of this exercise is to consolidate attendees understanding of the pandas packgae for data analysis and manipulation."
   ]
  },
  {
   "cell_type": "code",
   "execution_count": null,
   "metadata": {},
   "outputs": [],
   "source": [
    "import pandas as pd"
   ]
  },
  {
   "cell_type": "markdown",
   "metadata": {},
   "source": [
    "In this next few examples, we will use the lists created in the cell below."
   ]
  },
  {
   "cell_type": "code",
   "execution_count": null,
   "metadata": {},
   "outputs": [],
   "source": [
    "number_list = [1,2,3,4,5]\n",
    "letter_list = ['a','b','c','d','e'] \n",
    "alpha_list = ['alpha', 'beta', 'gamma', 'delta', 'epsilon']"
   ]
  },
  {
   "cell_type": "markdown",
   "metadata": {},
   "source": [
    "## Create Series and DataFrames"
   ]
  },
  {
   "cell_type": "markdown",
   "metadata": {},
   "source": [
    "Create a pandas Series from number_list.  Name it number_series.  Use the pandas Series constructor."
   ]
  },
  {
   "cell_type": "code",
   "execution_count": null,
   "metadata": {},
   "outputs": [],
   "source": [
    "# Write your code here"
   ]
  },
  {
   "cell_type": "markdown",
   "metadata": {},
   "source": [
    "Create a pandas Series from alpha_list. Name it alpha_series."
   ]
  },
  {
   "cell_type": "code",
   "execution_count": null,
   "metadata": {},
   "outputs": [],
   "source": [
    "# Write your code here"
   ]
  },
  {
   "cell_type": "markdown",
   "metadata": {},
   "source": [
    "Combine number_series and alpha_series into a DataFrame.  Name it df_first.  Name the columns of this DataFrame 'numbers' and 'alphas'.  \n",
    "To do this, create a dict with the column names as keys and the Series as values and pass this as an argument to the DataFrame constructor.\n",
    "Note that the merge is done on index values."
   ]
  },
  {
   "cell_type": "code",
   "execution_count": null,
   "metadata": {},
   "outputs": [],
   "source": [
    "# Write your code here"
   ]
  },
  {
   "cell_type": "markdown",
   "metadata": {},
   "source": [
    "Change the index of number_series. Use letter_list to supply the values of the index."
   ]
  },
  {
   "cell_type": "code",
   "execution_count": null,
   "metadata": {},
   "outputs": [],
   "source": [
    "# Write your code here"
   ]
  },
  {
   "cell_type": "markdown",
   "metadata": {},
   "source": [
    "Combine number_series and alpha_series into a DataFrame again.\n",
    "This  will stack the rows since index values are not the same."
   ]
  },
  {
   "cell_type": "code",
   "execution_count": null,
   "metadata": {},
   "outputs": [],
   "source": [
    "# Write your code here"
   ]
  },
  {
   "cell_type": "markdown",
   "metadata": {},
   "source": [
    "In the next examples, we use a DataFrame based on the patient_list defined below."
   ]
  },
  {
   "cell_type": "code",
   "execution_count": null,
   "metadata": {},
   "outputs": [],
   "source": [
    "# patient_list is a list of dictionaries. Each dioctionary contains the details of a patient.\n",
    "patient_list = [\n",
    "    {'nhs_id': '123-456-7890', 'name': 'Fred Bloggs', 'age': 42},\n",
    "    {'nhs_id': '234-567-8901', 'name': 'Jane Doe', 'age': 55},\n",
    "    {'nhs_id': '345-678-9012', 'name': 'Florence N', 'age': 32},\n",
    "    {'nhs_id': '456-789-0123', 'name': 'John Smith', 'age': 28},\n",
    "    {'nhs_id': '567-890-1234', 'name': 'Emma Brown', 'age': 45},\n",
    "    {'nhs_id': '678-901-2345', 'name': 'Charlie Black', 'age': 50},\n",
    "    {'nhs_id': '789-012-3456', 'name': 'Daisy White', 'age': 28},\n",
    "    {'nhs_id': '890-123-4567', 'name': 'George Green', 'age': 34},\n",
    "    {'nhs_id': '901-234-5678', 'name': 'Hannah Blue', 'age': 41},\n",
    "    {'nhs_id': '012-345-6789', 'name': 'Ivy Yellow', 'age': 38},\n",
    "    {'nhs_id': '123-567-8901', 'name': 'Jack Purple', 'age': 47},\n",
    "    {'nhs_id': '234-678-9012', 'name': 'Laura Orange', 'age': 53},\n",
    "    {'nhs_id': '345-789-0123', 'name': 'Mason Gray', 'age': 28}\n",
    "]"
   ]
  },
  {
   "cell_type": "markdown",
   "metadata": {},
   "source": [
    "Create a DataFrame from patient_list.  Name it df_patient."
   ]
  },
  {
   "cell_type": "code",
   "execution_count": null,
   "metadata": {},
   "outputs": [],
   "source": [
    "# Write your code here"
   ]
  },
  {
   "cell_type": "markdown",
   "metadata": {},
   "source": [
    "View and analyse df_patient.  \n",
    "Use DataFrame methods: head(), tail(), info(), describe().\n"
   ]
  },
  {
   "cell_type": "code",
   "execution_count": null,
   "metadata": {},
   "outputs": [],
   "source": [
    "# Write your code here"
   ]
  },
  {
   "cell_type": "markdown",
   "metadata": {},
   "source": [
    "Set the nhs_id column as the index.  Use \n",
    "> df_patient.set_index(keys='nhs_id', inplace=True).  \n",
    "\n",
    "Note that this also removes the column.\n"
   ]
  },
  {
   "cell_type": "code",
   "execution_count": null,
   "metadata": {},
   "outputs": [],
   "source": [
    "# Write your code here\n"
   ]
  },
  {
   "cell_type": "markdown",
   "metadata": {},
   "source": [
    "## Select rows and columns"
   ]
  },
  {
   "cell_type": "markdown",
   "metadata": {},
   "source": [
    "Select the name column from df_patient as a Series."
   ]
  },
  {
   "cell_type": "code",
   "execution_count": null,
   "metadata": {},
   "outputs": [],
   "source": [
    "# Write your code here"
   ]
  },
  {
   "cell_type": "markdown",
   "metadata": {},
   "source": [
    "Select both the name and age columns from df_patient (as a DataFrame)"
   ]
  },
  {
   "cell_type": "code",
   "execution_count": null,
   "metadata": {},
   "outputs": [],
   "source": [
    "# Write your code here"
   ]
  },
  {
   "cell_type": "markdown",
   "metadata": {},
   "source": [
    "Select the 2nd row using iloc[]"
   ]
  },
  {
   "cell_type": "code",
   "execution_count": null,
   "metadata": {},
   "outputs": [],
   "source": [
    "# Write your code here"
   ]
  },
  {
   "cell_type": "markdown",
   "metadata": {},
   "source": [
    "Select the 2nd to the 5th row inclusive using iloc[]"
   ]
  },
  {
   "cell_type": "code",
   "execution_count": null,
   "metadata": {},
   "outputs": [],
   "source": [
    "# Write your code here"
   ]
  },
  {
   "cell_type": "markdown",
   "metadata": {},
   "source": [
    "Select the row with the index '234-567-8901' using .loc[]"
   ]
  },
  {
   "cell_type": "code",
   "execution_count": null,
   "metadata": {},
   "outputs": [],
   "source": [
    "# Write your code here"
   ]
  },
  {
   "cell_type": "markdown",
   "metadata": {},
   "source": [
    "Select the row with the indexes between '234-567-8901' and '567-890-1234' using loc[].  \n",
    "Note that this returns rows inclusive of the first and last row."
   ]
  },
  {
   "cell_type": "code",
   "execution_count": null,
   "metadata": {},
   "outputs": [],
   "source": [
    "# Write your code here"
   ]
  },
  {
   "cell_type": "markdown",
   "metadata": {},
   "source": [
    "Select a subset of *both* rows and columns from df_patient\n",
    "* the row with the indexes between '234-567-8901' and '567-890-1234' incusive\n",
    "* the name and age columns  \n",
    "\n",
    "Use loc[]\n"
   ]
  },
  {
   "cell_type": "code",
   "execution_count": null,
   "metadata": {},
   "outputs": [],
   "source": [
    "# Write your code here"
   ]
  },
  {
   "cell_type": "markdown",
   "metadata": {},
   "source": [
    "## Manipulate data in DataFrames"
   ]
  },
  {
   "cell_type": "markdown",
   "metadata": {},
   "source": [
    "Add a new column, age_next_year"
   ]
  },
  {
   "cell_type": "code",
   "execution_count": null,
   "metadata": {},
   "outputs": [],
   "source": [
    "# Write your code here"
   ]
  },
  {
   "cell_type": "markdown",
   "metadata": {},
   "source": [
    "Drop the column, age_next_year\n"
   ]
  },
  {
   "cell_type": "code",
   "execution_count": null,
   "metadata": {},
   "outputs": [],
   "source": [
    "# Write your code here"
   ]
  },
  {
   "cell_type": "markdown",
   "metadata": {},
   "source": [
    "Create a filtered DataFrame that contains only those patients who are 40 years old or older."
   ]
  },
  {
   "cell_type": "code",
   "execution_count": null,
   "metadata": {},
   "outputs": [],
   "source": [
    "# Write your code here"
   ]
  },
  {
   "cell_type": "markdown",
   "metadata": {},
   "source": [
    "Sort the patient DataFrame by its index (nhs_id) values."
   ]
  },
  {
   "cell_type": "code",
   "execution_count": null,
   "metadata": {},
   "outputs": [],
   "source": [
    "# Write your code here"
   ]
  },
  {
   "cell_type": "markdown",
   "metadata": {},
   "source": [
    "Sort the patient DataFrame by values of the age column: from oldest to youngest."
   ]
  },
  {
   "cell_type": "code",
   "execution_count": null,
   "metadata": {},
   "outputs": [],
   "source": [
    "# Write your code here"
   ]
  },
  {
   "cell_type": "markdown",
   "metadata": {},
   "source": [
    "Sort the patient DataFrame by values of the age and name column: from oldest to youngest, then for patients of teh same age, in alphbetical order of name."
   ]
  },
  {
   "cell_type": "code",
   "execution_count": null,
   "metadata": {},
   "outputs": [],
   "source": [
    "# Write your code here"
   ]
  },
  {
   "cell_type": "markdown",
   "metadata": {},
   "source": [
    "## Handle missing data\n",
    "For this section we will use a tiny DataFrame, df_people, with some missing values, defined below."
   ]
  },
  {
   "cell_type": "code",
   "execution_count": null,
   "metadata": {},
   "outputs": [],
   "source": [
    "people = {\n",
    "    'name': ['Alice', 'Bob', 'Charlie', 'David'],\n",
    "    'age': [25, 33, None, 35],\n",
    "    'city': ['London', None, 'Leeds', 'Manchester']\n",
    "}\n",
    "df_people = pd.DataFrame(people)\n",
    "df_people"
   ]
  },
  {
   "cell_type": "markdown",
   "metadata": {},
   "source": [
    "Use the .isnull() method to find rows where age is missing.  \n",
    "Note: the isna() method is interchangeable with isnull."
   ]
  },
  {
   "cell_type": "code",
   "execution_count": null,
   "metadata": {},
   "outputs": [],
   "source": [
    "# Write your code here"
   ]
  },
  {
   "cell_type": "markdown",
   "metadata": {},
   "source": [
    "Find rows where 'city' is missing"
   ]
  },
  {
   "cell_type": "code",
   "execution_count": null,
   "metadata": {},
   "outputs": [],
   "source": [
    "# Write your code here"
   ]
  },
  {
   "cell_type": "markdown",
   "metadata": {},
   "source": [
    "Use the .notnull() or .notna() methods to find rows where age is not missing.  "
   ]
  },
  {
   "cell_type": "code",
   "execution_count": null,
   "metadata": {},
   "outputs": [],
   "source": [
    "# Write your code here"
   ]
  },
  {
   "cell_type": "markdown",
   "metadata": {},
   "source": [
    "Replace any missing values of age with the average age, and missing values if city with '-Not Known-'.  \n",
    "Use the DataFrame fillna() method."
   ]
  },
  {
   "cell_type": "code",
   "execution_count": null,
   "metadata": {},
   "outputs": [],
   "source": [
    "# Write your code here"
   ]
  },
  {
   "cell_type": "markdown",
   "metadata": {},
   "source": [
    "## Merge  (join) two DataFrames\n",
    "The example in this section use the DataFrames, defined below."
   ]
  },
  {
   "cell_type": "code",
   "execution_count": null,
   "metadata": {},
   "outputs": [],
   "source": [
    "df_names = pd.DataFrame({\n",
    "    'id': [1, 2, 3, 4],\n",
    "    'name': ['Alice', 'Bob', 'Charlie', 'David']\n",
    "})\n",
    "\n",
    "df_ages = pd.DataFrame({\n",
    "    'id': [3, 4, 5, 6],\n",
    "    'age': [25, 30, 35, 40]\n",
    "})\n",
    "\n",
    "df_cities = pd.DataFrame({\n",
    "    'identifier': [3, 4, 5],\n",
    "    'city': ['London', 'Leeds', 'Manchester']\n",
    "})"
   ]
  },
  {
   "cell_type": "markdown",
   "metadata": {},
   "source": [
    "Use the pandas merge method to join these two datasets.  The default merge does an inner join."
   ]
  },
  {
   "cell_type": "code",
   "execution_count": null,
   "metadata": {},
   "outputs": [],
   "source": [
    "# Write your code here"
   ]
  },
  {
   "cell_type": "markdown",
   "metadata": {},
   "source": [
    "Change the value of the how argument to 'left', 'right', then 'outer' and explain why certain rows appear in the resulting DataFrame."
   ]
  },
  {
   "cell_type": "code",
   "execution_count": null,
   "metadata": {},
   "outputs": [],
   "source": [
    "# Write your code here"
   ]
  },
  {
   "cell_type": "markdown",
   "metadata": {},
   "source": [
    "If the columns that we want to merge on in the two DataFrames have different names, we can use the left_on and right_on arguments.  \n",
    "Merge the df_names and df_cities DataFrames on id / identifier columns"
   ]
  },
  {
   "cell_type": "code",
   "execution_count": null,
   "metadata": {},
   "outputs": [],
   "source": [
    "# Write your code here"
   ]
  },
  {
   "cell_type": "markdown",
   "metadata": {},
   "source": [
    "We can merge on the index values.  For the next section, we set the index of the df_names and df_ages to be the values of the id column. (Note that the id column is removed.)  "
   ]
  },
  {
   "cell_type": "code",
   "execution_count": null,
   "metadata": {},
   "outputs": [],
   "source": [
    "# set the index of the dataframes\n",
    "df_names.set_index('id', inplace=True)\n",
    "df_ages.set_index('id', inplace=True)\n"
   ]
  },
  {
   "cell_type": "code",
   "execution_count": null,
   "metadata": {},
   "outputs": [],
   "source": [
    "# show the dataframes now have id as the index and no longer as a column"
   ]
  },
  {
   "cell_type": "markdown",
   "metadata": {},
   "source": [
    "Merge the re-indexed df_names and df_ages DataFrames.  Use \n",
    "\n",
    "> left_index=True, right_index=True\n",
    "\n",
    "arguments to indicate that you want to merge on the index values."
   ]
  },
  {
   "cell_type": "code",
   "execution_count": null,
   "metadata": {},
   "outputs": [],
   "source": [
    "# Write your code here"
   ]
  }
 ],
 "metadata": {
  "kernelspec": {
   "display_name": ".venv",
   "language": "python",
   "name": "python3"
  },
  "language_info": {
   "codemirror_mode": {
    "name": "ipython",
    "version": 3
   },
   "file_extension": ".py",
   "mimetype": "text/x-python",
   "name": "python",
   "nbconvert_exporter": "python",
   "pygments_lexer": "ipython3",
   "version": "3.12.3"
  }
 },
 "nbformat": 4,
 "nbformat_minor": 2
}
