{
 "cells": [
  {
   "cell_type": "markdown",
   "metadata": {},
   "source": [
    "# numpy Package - Example Answers"
   ]
  },
  {
   "cell_type": "code",
   "execution_count": 3,
   "metadata": {},
   "outputs": [],
   "source": [
    "import numpy as np"
   ]
  },
  {
   "cell_type": "markdown",
   "metadata": {},
   "source": [
    "**Exercise: Titanic**\n",
    "\n",
    "These lists represents 7 passengers from the Titanic.  For example, the first passenger has 2 sibling/spouses and one parent/child. Calculate the family size for each passenger.  To do this, add sib_sp (the number of siblings and spouses) to parch (the number of parents and children) and add 1 (for the passenger).\n",
    "\n",
    "You can choose to do this either using numpy or not.  With the numpy approach, firstly convert the lists to numpy arrays.  In the other approach you may want to zip the lists together then use in a list comprehension to do the calculation."
   ]
  },
  {
   "cell_type": "code",
   "execution_count": 1,
   "metadata": {},
   "outputs": [],
   "source": [
    "sib_sp = [2, 0, 3, 1, 4, 0]\n",
    "parch = [1, 2, 1, 1, 2, 3]\n"
   ]
  },
  {
   "cell_type": "code",
   "execution_count": 9,
   "metadata": {},
   "outputs": [
    {
     "data": {
      "text/plain": [
       "[4, 3, 5, 3, 7, 4]"
      ]
     },
     "execution_count": 9,
     "metadata": {},
     "output_type": "execute_result"
    }
   ],
   "source": [
    "# an approach, not using numpy\n",
    "family_list = list(zip(sib_sp, parch))\n",
    "family_list\n",
    "[sum(family) + 1 for family in family_list]"
   ]
  },
  {
   "cell_type": "code",
   "execution_count": 4,
   "metadata": {},
   "outputs": [
    {
     "data": {
      "text/plain": [
       "array([4, 3, 5, 3, 7, 4])"
      ]
     },
     "execution_count": 4,
     "metadata": {},
     "output_type": "execute_result"
    }
   ],
   "source": [
    "# numpy approach\n",
    "sib_sp_np = np.array(sib_sp)\n",
    "parch_np = np.array(parch)\n",
    "family_size_np = parch_np + sib_sp_np + 1\n",
    "family_size_np"
   ]
  },
  {
   "cell_type": "markdown",
   "metadata": {},
   "source": [
    "**Exercise : BMI**\n",
    "\n",
    "Calculate the BMI of these three people.  The BMI is the weight (kg) divided by the height (metres) squared."
   ]
  },
  {
   "cell_type": "code",
   "execution_count": 23,
   "metadata": {},
   "outputs": [],
   "source": [
    "weights = [74, 75, 76]\n",
    "heights = [1.77, 1.76, 1.75]"
   ]
  },
  {
   "cell_type": "code",
   "execution_count": 24,
   "metadata": {},
   "outputs": [
    {
     "data": {
      "text/plain": [
       "array([23.62028791, 24.21229339, 24.81632653])"
      ]
     },
     "execution_count": 24,
     "metadata": {},
     "output_type": "execute_result"
    }
   ],
   "source": [
    "w_np = np.array(weights)\n",
    "h_np = np.array(heights)\n",
    "def bmi(weight, height):\n",
    "    \"\"\"\n",
    "    Returns the body mass index of a person given the weight (kg) and height(m) \n",
    "    \"\"\"\n",
    "    return weight / (height ** 2)\n",
    "\n",
    "bmi(w_np, h_np)"
   ]
  },
  {
   "cell_type": "code",
   "execution_count": 25,
   "metadata": {},
   "outputs": [
    {
     "data": {
      "text/plain": [
       "array([23.62028791, 24.21229339, 24.81632653])"
      ]
     },
     "execution_count": 25,
     "metadata": {},
     "output_type": "execute_result"
    }
   ],
   "source": [
    "# Alternatively, we don't need to write a function for  to do this\n",
    "weights_np = np.array(weights)\n",
    "heights_np = np.array(heights)\n",
    "weights_np / heights_np ** 2"
   ]
  },
  {
   "cell_type": "markdown",
   "metadata": {},
   "source": [
    "\n",
    "**Exercise: Football**\n",
    "\n",
    "The numpy arrays below contain the results (the number of matches won, drawn and lost) of five teams.  For example the first team has won four matches, drawn two and lost one.  Teams have played a different number of matches.\n",
    "\n",
    "1. Create a numpy array, team_played, to hold the number of games played \n",
    "2. Create a numpy array, team_score, to hold the teams scores (3 for a win, 1 for a draw, 0 for a loss)"
   ]
  },
  {
   "cell_type": "code",
   "execution_count": 26,
   "metadata": {},
   "outputs": [],
   "source": [
    "team_won = np.array([4, 3, 1, 6, 3])\n",
    "team_drawn = np.array([2, 1, 1, 7, 2])\n",
    "team_lost = np.array([1, 3, 4, 5, 8])"
   ]
  },
  {
   "cell_type": "code",
   "execution_count": 27,
   "metadata": {},
   "outputs": [
    {
     "data": {
      "text/plain": [
       "array([ 7,  7,  6, 18, 13])"
      ]
     },
     "execution_count": 27,
     "metadata": {},
     "output_type": "execute_result"
    }
   ],
   "source": [
    "# Total number of games played by each team\n",
    "team_played = team_won + team_drawn + team_lost\n",
    "team_played"
   ]
  },
  {
   "cell_type": "code",
   "execution_count": 28,
   "metadata": {},
   "outputs": [
    {
     "data": {
      "text/plain": [
       "array([14, 10,  4, 25, 11])"
      ]
     },
     "execution_count": 28,
     "metadata": {},
     "output_type": "execute_result"
    }
   ],
   "source": [
    "# Total number of points by each team\n",
    "team_score = 3 * team_won + team_drawn\n",
    "team_score"
   ]
  }
 ],
 "metadata": {
  "kernelspec": {
   "display_name": ".venv",
   "language": "python",
   "name": "python3"
  },
  "language_info": {
   "codemirror_mode": {
    "name": "ipython",
    "version": 3
   },
   "file_extension": ".py",
   "mimetype": "text/x-python",
   "name": "python",
   "nbconvert_exporter": "python",
   "pygments_lexer": "ipython3",
   "version": "3.11.2"
  },
  "orig_nbformat": 2
 },
 "nbformat": 4,
 "nbformat_minor": 2
}
