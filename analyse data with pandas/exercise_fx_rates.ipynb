{
 "metadata": {
  "language_info": {
   "codemirror_mode": {
    "name": "ipython",
    "version": 3
   },
   "file_extension": ".py",
   "mimetype": "text/x-python",
   "name": "python",
   "nbconvert_exporter": "python",
   "pygments_lexer": "ipython3",
   "version": "3.9.2"
  },
  "orig_nbformat": 2,
  "kernelspec": {
   "name": "python392jvsc74a57bd08abb1f199d14c7f4bde2f9b20a5186bf36d429b95679315f95e5b318beb2c041",
   "display_name": "Python 3.9.2 64-bit ('.course-env')"
  }
 },
 "nbformat": 4,
 "nbformat_minor": 2,
 "cells": [
  {
   "source": [
    "# FX Rates Exercise"
   ],
   "cell_type": "markdown",
   "metadata": {}
  },
  {
   "cell_type": "code",
   "execution_count": null,
   "metadata": {},
   "outputs": [],
   "source": [
    "import pandas as pd\n",
    "import matplotlib.pyplot as plt"
   ]
  },
  {
   "cell_type": "code",
   "execution_count": null,
   "metadata": {},
   "outputs": [],
   "source": [
    "# Load, plt and show a few rows of the EUR-GBP data\n",
    "df_eur = pd.read_csv(\"Datasets/EUR-GBP.csv\", parse_dates = ['Date'])\n",
    "df_eur.columns = (['Date', 'GBP-EUR'])\n",
    "df_eur = df_eur.set_index('Date')\n",
    "df_eur = df_eur.sort_index()\n",
    "df_eur.plot()\n",
    "df_eur.head()"
   ]
  },
  {
   "cell_type": "code",
   "execution_count": null,
   "metadata": {},
   "outputs": [],
   "source": [
    "# Inspect the dataframe\n",
    "df_eur.describe()\n",
    "df_eur.head()\n",
    "df_eur.tail()\n",
    "df_eur.columns\n",
    "df_eur.info()\n"
   ]
  },
  {
   "cell_type": "code",
   "execution_count": null,
   "metadata": {},
   "outputs": [],
   "source": [
    "df_eur.plot()"
   ]
  },
  {
   "cell_type": "code",
   "execution_count": null,
   "metadata": {},
   "outputs": [],
   "source": [
    "# Show 2018 only\n",
    "df_eur.loc['2018'].plot()\n"
   ]
  },
  {
   "cell_type": "code",
   "execution_count": null,
   "metadata": {},
   "outputs": [],
   "source": [
    "# Show March 2018 only\n",
    "df_eur.loc['2018-03'].plot()\n"
   ]
  },
  {
   "cell_type": "code",
   "execution_count": null,
   "metadata": {},
   "outputs": [],
   "source": [
    "\n",
    "# Load, plt and show a few rows of the USD-GBP data\n",
    "df_usd = pd.read_csv(\"Datasets/USD-GBP.csv\", parse_dates = ['Date'])\n",
    "df_usd.columns = (['Date', 'GBP-USD'])\n",
    "df_usd = df_usd.set_index('Date')\n",
    "df_usd = df_usd.sort_index()\n",
    "df_usd.plot()\n",
    "df_usd.head()"
   ]
  },
  {
   "cell_type": "code",
   "execution_count": null,
   "metadata": {},
   "outputs": [],
   "source": [
    "# merge these two datasets\n",
    "df_all = df_eur.merge(df_usd, left_index=True, right_index=True)\n",
    "df_all.plot()\n",
    "df_all.head()"
   ]
  },
  {
   "cell_type": "code",
   "execution_count": null,
   "metadata": {},
   "outputs": [],
   "source": []
  }
 ]
}