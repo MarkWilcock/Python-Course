{
 "cells": [
  {
   "cell_type": "markdown",
   "metadata": {},
   "source": [
    "# matplotlib lesson\n",
    "\n",
    "matplotlib is the long standing and most popular visualisation modul and used by pandas.\n",
    "Other higher level visualisation, such as seaborn,packages are available.\n"
   ]
  },
  {
   "cell_type": "code",
   "execution_count": null,
   "metadata": {},
   "outputs": [],
   "source": [
    "import pandas as pd\n",
    "import matplotlib.pyplot as plt"
   ]
  },
  {
   "cell_type": "markdown",
   "metadata": {},
   "source": [
    "The survey data provides the daily COVID infection rate accross several regions in the UK over a six week period.  For each region, it provides the central estimate and also the upper and lower bounds at 95% confidence level. \n",
    "\n",
    "In this exercise we want to plot the lower, central and upper estimates for the London region only over the period."
   ]
  },
  {
   "cell_type": "code",
   "execution_count": null,
   "metadata": {},
   "outputs": [],
   "source": [
    "#  Load the data into a pandas dataframe\n",
    "SURVEY_DATA_URL = \"https://raw.githubusercontent.com/MarkWilcock/CourseDatasets/main/COVID%20Infection%20Survey/Covid%20Infection%20Survey%202021-02-12.csv\"\n",
    "survey = pd.read_csv(SURVEY_DATA_URL, parse_dates=[\"Date\"])\n",
    "survey.head(2)"
   ]
  },
  {
   "cell_type": "code",
   "execution_count": null,
   "metadata": {},
   "outputs": [],
   "source": [
    "# Keep on the Date and the three London columns\n",
    "survey = survey[[\"Date\", \"London-Central\", \"London-Lower\", \"London-Upper\"]]\n",
    "survey.head(2)\n"
   ]
  },
  {
   "cell_type": "code",
   "execution_count": null,
   "metadata": {},
   "outputs": [],
   "source": [
    "# Create a line chart to show the change in the infection rate in London overtime\n",
    "fig, ax = plt.subplots()\n",
    "ax.plot(survey[\"Date\"], survey[\"London-Central\"], marker=\"o\", color=\"blue\")\n",
    "ax.plot(survey[\"Date\"], survey[\"London-Upper\"], marker=\"v\", color=\"grey\")\n",
    "ax.plot(survey[\"Date\"], survey[\"London-Lower\"], marker=\"v\", color=\"grey\")\n",
    "ax.set_xlabel(\"Date\")\n",
    "ax.set_ylabel(\"Infection Rate\")\n",
    "ax.set_title(\n",
    "    \"Estimated infection rate in London with 95% credible intervals over a recent period\"\n",
    ")\n",
    "fig.set_size_inches(8, 6)\n",
    "plt.show()\n"
   ]
  },
  {
   "cell_type": "markdown",
   "metadata": {},
   "source": [
    "If we set the date as tthe dataframe index, we can create a similar plot in a simpler fashion"
   ]
  },
  {
   "cell_type": "code",
   "execution_count": null,
   "metadata": {},
   "outputs": [],
   "source": [
    "survey.set_index(\"Date\", inplace=True)\n",
    "survey.head(2)"
   ]
  },
  {
   "cell_type": "markdown",
   "metadata": {},
   "source": [
    "Create a line chart of infection rate over time.  Use a blue line for the central estimate and grey for the upper and lower bounds"
   ]
  },
  {
   "cell_type": "code",
   "execution_count": null,
   "metadata": {},
   "outputs": [],
   "source": [
    "fig, ax = plt.subplots()\n",
    "ax.plot(survey[\"London-Central\"], marker=\"o\", color=\"blue\")\n",
    "ax.plot(survey[\"London-Upper\"], marker=\"v\", color=\"grey\")\n",
    "ax.plot(survey[\"London-Lower\"], marker=\"v\", color=\"grey\")\n",
    "\n",
    "ax.set_xlabel(\"Date\")\n",
    "ax.set_ylabel(\"Infection Rate\")\n",
    "ax.set_title(\"Estimated infection rate in London with 95% credible intervals over a recent period\")\n",
    "\n",
    "fig.set_size_inches(8, 6)\n",
    "plt.show()\n"
   ]
  },
  {
   "cell_type": "markdown",
   "metadata": {},
   "source": [
    "We can rewrite this in a more elegant way"
   ]
  },
  {
   "cell_type": "code",
   "execution_count": null,
   "metadata": {},
   "outputs": [],
   "source": [
    "columns_to_plot = [\"London-Central\", \"London-Upper\", \"London-Lower\"]\n",
    "plot_styles = {\"London-Central\": \"bo-\", \"London-Upper\": \"gv-\", \"London-Lower\": \"gv-\"}\n",
    "\n",
    "ax = survey[columns_to_plot].plot(style=plot_styles)\n",
    "\n",
    "ax.set_xlabel(\"Date\")\n",
    "ax.set_ylabel(\"Infection Rate\")\n",
    "ax.set_title(\"Estimated infection rate in London with 95% credible intervals over a recent period\")"
   ]
  }
 ],
 "metadata": {
  "kernelspec": {
   "display_name": ".venv",
   "language": "python",
   "name": "python3"
  },
  "language_info": {
   "codemirror_mode": {
    "name": "ipython",
    "version": 3
   },
   "file_extension": ".py",
   "mimetype": "text/x-python",
   "name": "python",
   "nbconvert_exporter": "python",
   "pygments_lexer": "ipython3",
   "version": "3.11.2"
  },
  "orig_nbformat": 2
 },
 "nbformat": 4,
 "nbformat_minor": 2
}
