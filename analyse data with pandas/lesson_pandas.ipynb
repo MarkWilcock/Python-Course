{
 "cells": [
  {
   "cell_type": "markdown",
   "metadata": {},
   "source": [
    "# Wrangle Data with pandas package\n",
    "\n",
    "Create a dataset, add new columns, select columns, filter rows group and aggregate.\n",
    "\n",
    " A pandas Dataframe is a 2D object (table).\n",
    " A pandas Series is a 1D labelled object.\n",
    " pandas rows have unique labels (a strange concept to SQL people).\n"
   ]
  },
  {
   "cell_type": "code",
   "execution_count": null,
   "metadata": {},
   "outputs": [],
   "source": [
    "import pandas as pd\n",
    "import numpy as np\n",
    "import matplotlib.pyplot as plt # pandas uses matplotlib for plotting\n"
   ]
  },
  {
   "cell_type": "code",
   "execution_count": null,
   "metadata": {},
   "outputs": [],
   "source": [
    "#  Let's have a quick look at a series\n",
    "p = pd.Series(np.random.randn(4), name = 'price')\n",
    "p * 100\n",
    "np.abs(p)\n"
   ]
  },
  {
   "cell_type": "code",
   "execution_count": null,
   "metadata": {},
   "outputs": [],
   "source": [
    "p.index = [\"HSBC\", \"BP\", \"TSCO\", \"RDSA\"] # Like a dict\n",
    "p.describe()\n",
    "p['BP'] # get a value in the Series\n",
    "p['BP'] = 5.0 # set a value in the Series\n",
    "'TSCO' in p # is this value a member of the Series"
   ]
  },
  {
   "cell_type": "code",
   "execution_count": null,
   "metadata": {},
   "outputs": [],
   "source": [
    "#  We can build a pandas dataframe from a dict\n",
    "fb_dict = {\n",
    "        'id' : ['MCY', 'LIV', 'TOT', 'CHE', 'ARL'],\n",
    "        'city' :\t['Manchester',\t'Liverpool', 'London', 'London', 'London'],\n",
    "        'team' :\t['Manchester City',\t'Liverpool', 'Tottenham Hotspur', 'Chelsea', 'Arsenal'],\n",
    "        'won' :\t[5, 6, 6, 5, 5],\n",
    "        'drawn' : [4, 1, 0, 2,0],\n",
    "        'lost' : [0, 0, 2, 0, 2],\n",
    "        'form' : ['DWWWW', 'WWWWD', 'LLWWW', 'WWWDD', 'WWWWW']\n",
    "        }\n",
    "#  Create a pandas dataframe\n",
    "# The dict's keys become the column names and the dict's values become the column values\n",
    "fb_df = pd.DataFrame(fb_dict)\n",
    "\n",
    "# set the index to the unique values of the 'id' column - more useful than 0,1,2...\n",
    "fb = fb_df.set_index('id')\n",
    "fb.head(2)\n"
   ]
  },
  {
   "cell_type": "code",
   "execution_count": null,
   "metadata": {},
   "outputs": [],
   "source": [
    "#  Examine a dataframe\n",
    "\n",
    "fb  # Note the index added by pandas\n",
    "fb.index\n",
    "fb.head(2)\n",
    "fb.tail(2)\n",
    "fb.describe() # summarise the numercio columns\n",
    "fb.shape\n",
    "fb.values # a numpy array\n",
    "fb.city # vaues of a column.  Note the  dot syntax\n",
    "fb.city.unique()\n",
    "fb[['city']]\n",
    "fb.columns #  Return a list of the columns\n"
   ]
  },
  {
   "cell_type": "code",
   "execution_count": null,
   "metadata": {},
   "outputs": [],
   "source": [
    "# Create new columns\n",
    "# Teams get 3 point for a win, 1 for a draw, none for a loss\n",
    "fb['points'] = fb['won'] * 3 + fb['drawn']\n",
    "fb.head(2)\n"
   ]
  },
  {
   "cell_type": "markdown",
   "metadata": {},
   "source": [
    "### Exercise\n",
    "Create a new column, played, to hold the number of games played by each team.\n"
   ]
  },
  {
   "cell_type": "code",
   "execution_count": null,
   "metadata": {},
   "outputs": [],
   "source": [
    "# Show a column chart of the scores of each team \n",
    "fb['points'].plot(kind = 'bar')\n",
    "plt.show()"
   ]
  },
  {
   "cell_type": "code",
   "execution_count": null,
   "metadata": {},
   "outputs": [],
   "source": [
    "# Order the rows in the dataframe by the points scored (low to high)\n",
    "fb_sorted = fb.sort_values(by = ['points', 'won'], ascending=True)\n",
    "# Show the sorted dataframe in a column chart\n",
    "fb_sorted['points'].plot(kind = 'bar')\n",
    "plt.show()"
   ]
  },
  {
   "cell_type": "code",
   "execution_count": null,
   "metadata": {},
   "outputs": [],
   "source": [
    "# Sort fb by index\n",
    "fb = fb.sort_values(by = 'id', ascending=True)\n",
    "fb"
   ]
  },
  {
   "cell_type": "code",
   "execution_count": null,
   "metadata": {},
   "outputs": [],
   "source": [
    "# Add a new column team_caps\n",
    "fb['team_caps'] = fb['team'].apply(str.upper)\n",
    "fb"
   ]
  },
  {
   "cell_type": "code",
   "execution_count": null,
   "metadata": {},
   "outputs": [],
   "source": [
    "# The next two statements have the same effect - which do you prefer?\n",
    "fb['team_short'] = fb['team'].str[:5]\n",
    "# uses a list comprehension\n",
    "fb['team_short2'] = [x[0:5] for x in fb['team'] if len(x) > 5]\n",
    "fb\n"
   ]
  },
  {
   "cell_type": "code",
   "execution_count": null,
   "metadata": {},
   "outputs": [],
   "source": [
    "# Let's group by city to get the total scores per city\n",
    "fb_by_city = fb.groupby(['city'], as_index = False)\n",
    "fb_by_city.sum()\n",
    "fb_by_city\n"
   ]
  },
  {
   "cell_type": "code",
   "execution_count": null,
   "metadata": {},
   "outputs": [],
   "source": [
    "fb.loc[:, ['city']] # all rows, one column\n",
    "fb.loc['LIV', :] # one row, all columns\n",
    "fb.loc[['LIV'], :] # one row, all columns\n",
    "fb.loc[['LIV', 'MCY'], :] #   two rows, all columns\n",
    "fb.loc[['LIV', 'MCY'], ['team', 'won']] # two rows, two columns\n",
    "fb.loc[:, ['team', 'won']] # two rows, two columns"
   ]
  },
  {
   "cell_type": "code",
   "execution_count": null,
   "metadata": {},
   "outputs": [],
   "source": [
    "fb.won \n",
    "fb.won > 5\n",
    "fb.loc[fb.won > 5, :]\n",
    "fb.loc[fb.city == 'London', :]\n",
    "fb.city == 'London'\n",
    "(fb.city == 'London') & (fb.won > 5)\n",
    "fb.loc[(fb.city == 'London') & (fb.won > 5), :]"
   ]
  },
  {
   "cell_type": "code",
   "execution_count": null,
   "metadata": {},
   "outputs": [],
   "source": []
  }
 ],
 "metadata": {
  "kernelspec": {
   "display_name": ".venv",
   "language": "python",
   "name": "python3"
  },
  "language_info": {
   "codemirror_mode": {
    "name": "ipython",
    "version": 3
   },
   "file_extension": ".py",
   "mimetype": "text/x-python",
   "name": "python",
   "nbconvert_exporter": "python",
   "pygments_lexer": "ipython3",
   "version": "3.11.2"
  },
  "orig_nbformat": 2
 },
 "nbformat": 4,
 "nbformat_minor": 2
}
