{
 "cells": [
  {
   "cell_type": "markdown",
   "metadata": {},
   "source": [
    "# pandas exercise 2: answers\n",
    "\n",
    "This exercise covers\n",
    "* Create DataFrames\n",
    "* Add calculated columns\n",
    "* Select (Filter) Rows by Index and Value\n",
    "* Sort Rows by Index and Value\n"
   ]
  },
  {
   "cell_type": "code",
   "execution_count": null,
   "metadata": {},
   "outputs": [],
   "source": [
    "import pandas as pd"
   ]
  },
  {
   "cell_type": "markdown",
   "metadata": {},
   "source": [
    "In the next examples, we use a DataFrame based on the patient_list defined below."
   ]
  },
  {
   "cell_type": "code",
   "execution_count": null,
   "metadata": {},
   "outputs": [],
   "source": [
    "# patient_list is a list of dictionaries. Each dioctionary contains the details of a patient.\n",
    "patient_list = [\n",
    "    {'nhs_id': '123-456-7890', 'name': 'Fred Bloggs', 'age': 42},\n",
    "    {'nhs_id': '234-567-8901', 'name': 'Jane Doe', 'age': 55},\n",
    "    {'nhs_id': '345-678-9012', 'name': 'Florence N', 'age': 32},\n",
    "    {'nhs_id': '456-789-0123', 'name': 'John Smith', 'age': 28},\n",
    "    {'nhs_id': '567-890-1234', 'name': 'Emma Brown', 'age': 45},\n",
    "    {'nhs_id': '678-901-2345', 'name': 'Charlie Black', 'age': 50},\n",
    "    {'nhs_id': '789-012-3456', 'name': 'Daisy White', 'age': 28},\n",
    "    {'nhs_id': '890-123-4567', 'name': 'George Green', 'age': 34},\n",
    "    {'nhs_id': '901-234-5678', 'name': 'Hannah Blue', 'age': 41},\n",
    "    {'nhs_id': '012-345-6789', 'name': 'Ivy Yellow', 'age': 38},\n",
    "    {'nhs_id': '123-567-8901', 'name': 'Jack Purple', 'age': 47},\n",
    "    {'nhs_id': '234-678-9012', 'name': 'Laura Orange', 'age': 53},\n",
    "    {'nhs_id': '345-789-0123', 'name': 'Mason Gray', 'age': 28}\n",
    "]"
   ]
  },
  {
   "cell_type": "markdown",
   "metadata": {},
   "source": [
    "Create a DataFrame from patient_list.  Name it df_patient."
   ]
  },
  {
   "cell_type": "code",
   "execution_count": null,
   "metadata": {},
   "outputs": [],
   "source": [
    "# Write your code here\n",
    "df_patient = pd.DataFrame(patient_list)\n",
    "df_patient.head(2)"
   ]
  },
  {
   "cell_type": "markdown",
   "metadata": {},
   "source": [
    "View and analyse df_patient.  \n",
    "Use DataFrame methods: head(), tail(), info(), describe().\n"
   ]
  },
  {
   "cell_type": "code",
   "execution_count": null,
   "metadata": {},
   "outputs": [],
   "source": [
    "# Write your code here\n",
    "print(\"Analysing the df1 dataframe\")\n",
    "print(\"head\\n\", df_patient.head())\n",
    "print(\"tail\\n\", df_patient.tail())"
   ]
  },
  {
   "cell_type": "code",
   "execution_count": null,
   "metadata": {},
   "outputs": [],
   "source": [
    "print(\"info\\n\", df_patient.info())\n",
    "print(\"describe\\n\", df_patient.describe())"
   ]
  },
  {
   "cell_type": "markdown",
   "metadata": {},
   "source": [
    "Set the nhs_id column as the index.  Use \n",
    "> df_patient.set_index(keys='nhs_id', inplace=True).  \n",
    "\n",
    "Note that this also removes the column.\n"
   ]
  },
  {
   "cell_type": "code",
   "execution_count": null,
   "metadata": {},
   "outputs": [],
   "source": [
    "# Write your code here\n",
    "df_patient.set_index(keys='nhs_id', inplace=True)\n",
    "df_patient.head(2)"
   ]
  },
  {
   "cell_type": "markdown",
   "metadata": {},
   "source": [
    "## Select rows and columns"
   ]
  },
  {
   "cell_type": "markdown",
   "metadata": {},
   "source": [
    "Select the name column from df_patient as a Series."
   ]
  },
  {
   "cell_type": "code",
   "execution_count": null,
   "metadata": {},
   "outputs": [],
   "source": [
    "# Write your code here\n",
    "#series_name = df_patient['name']\n",
    "series_name = df_patient.name\n",
    "print(type(series_name))\n",
    "print(series_name.head(2))"
   ]
  },
  {
   "cell_type": "markdown",
   "metadata": {},
   "source": [
    "Select both the name and age columns from df_patient (as a DataFrame)"
   ]
  },
  {
   "cell_type": "code",
   "execution_count": null,
   "metadata": {},
   "outputs": [],
   "source": [
    "# Write your code here\n",
    "#df_patient[['name', 'age']]\n",
    "df = df_patient.loc[: ,['name', 'age']]\n",
    "print(type(df))\n",
    "print(df.head(2))"
   ]
  },
  {
   "cell_type": "markdown",
   "metadata": {},
   "source": [
    "Select the 2nd row using iloc[]"
   ]
  },
  {
   "cell_type": "code",
   "execution_count": null,
   "metadata": {},
   "outputs": [],
   "source": [
    "# Write your code here\n",
    "df_patient.iloc[1]"
   ]
  },
  {
   "cell_type": "markdown",
   "metadata": {},
   "source": [
    "Select the 2nd to the 5th row inclusive using iloc[]"
   ]
  },
  {
   "cell_type": "code",
   "execution_count": null,
   "metadata": {},
   "outputs": [],
   "source": [
    "# Write your code here\n",
    "df_patient.iloc[1:5]"
   ]
  },
  {
   "cell_type": "markdown",
   "metadata": {},
   "source": [
    "Select the row with the index '234-567-8901' using .loc[]"
   ]
  },
  {
   "cell_type": "code",
   "execution_count": null,
   "metadata": {},
   "outputs": [],
   "source": [
    "# Write your code here\n",
    "df_patient.loc['234-567-8901']"
   ]
  },
  {
   "cell_type": "markdown",
   "metadata": {},
   "source": [
    "Select the row with the indexes between '234-567-8901' and '567-890-1234' using loc[].  \n",
    "Note that this returns rows inclusive of the first and last row."
   ]
  },
  {
   "cell_type": "code",
   "execution_count": null,
   "metadata": {},
   "outputs": [],
   "source": [
    "# Write your code here\n",
    "df_patient.loc['234-567-8901':'567-890-1234']"
   ]
  },
  {
   "cell_type": "markdown",
   "metadata": {},
   "source": [
    "Select a subset of *both* rows and columns from df_patient\n",
    "* the row with the indexes between '234-567-8901' and '567-890-1234' incusive\n",
    "* the name and age columns  \n",
    "\n",
    "Use loc[]\n"
   ]
  },
  {
   "cell_type": "code",
   "execution_count": null,
   "metadata": {},
   "outputs": [],
   "source": [
    "# Write your code here\n",
    "df_patient.loc['234-567-8901':'567-890-1234', ['name', 'age']]"
   ]
  },
  {
   "cell_type": "markdown",
   "metadata": {},
   "source": [
    "## Manipulate data in DataFrames"
   ]
  },
  {
   "cell_type": "markdown",
   "metadata": {},
   "source": [
    "Add a new column, age_next_year"
   ]
  },
  {
   "cell_type": "code",
   "execution_count": null,
   "metadata": {},
   "outputs": [],
   "source": [
    "# Write your code here\n",
    "df_patient['age_next_year'] = df_patient['age'] + 1   \n",
    "df_patient.head(2)"
   ]
  },
  {
   "cell_type": "markdown",
   "metadata": {},
   "source": [
    "Drop the column, age_next_year\n"
   ]
  },
  {
   "cell_type": "code",
   "execution_count": null,
   "metadata": {},
   "outputs": [],
   "source": [
    "# Write your code here\n",
    "df_patient.drop(columns='age_next_year', inplace=True)\n",
    "df_patient.head(2)"
   ]
  },
  {
   "cell_type": "markdown",
   "metadata": {},
   "source": [
    "Create a filtered DataFrame that contains only those patients who are 40 years old or older."
   ]
  },
  {
   "cell_type": "code",
   "execution_count": null,
   "metadata": {},
   "outputs": [],
   "source": [
    "# Write your code here\n",
    "#df_patient['age'] >= 40\n",
    "df_patient[df_patient['age'] >= 40]"
   ]
  },
  {
   "cell_type": "markdown",
   "metadata": {},
   "source": [
    "Sort the patient DataFrame by its index (nhs_id) values."
   ]
  },
  {
   "cell_type": "code",
   "execution_count": null,
   "metadata": {},
   "outputs": [],
   "source": [
    "# Write your code here\n",
    "df_patient.sort_index(ascending=True)"
   ]
  },
  {
   "cell_type": "markdown",
   "metadata": {},
   "source": [
    "Sort the patient DataFrame by values of the age column: from oldest to youngest."
   ]
  },
  {
   "cell_type": "code",
   "execution_count": null,
   "metadata": {},
   "outputs": [],
   "source": [
    "# Write your code here\n",
    "df_patient.sort_values(by='age', ascending=False)"
   ]
  },
  {
   "cell_type": "markdown",
   "metadata": {},
   "source": [
    "Sort the patient DataFrame by values of the age and name column: from oldest to youngest, then for patients of teh same age, in alphbetical order of name."
   ]
  },
  {
   "cell_type": "code",
   "execution_count": null,
   "metadata": {},
   "outputs": [],
   "source": [
    "# Write your code here\n",
    "df_patient.sort_values(by=['age', 'name'], ascending=[False, True])"
   ]
  }
 ],
 "metadata": {
  "kernelspec": {
   "display_name": ".venv",
   "language": "python",
   "name": "python3"
  },
  "language_info": {
   "codemirror_mode": {
    "name": "ipython",
    "version": 3
   },
   "file_extension": ".py",
   "mimetype": "text/x-python",
   "name": "python",
   "nbconvert_exporter": "python",
   "pygments_lexer": "ipython3",
   "version": "3.12.3"
  }
 },
 "nbformat": 4,
 "nbformat_minor": 2
}
