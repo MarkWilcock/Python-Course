{
 "cells": [
  {
   "cell_type": "markdown",
   "metadata": {},
   "source": [
    "# pandas lesson \n",
    "\n",
    "## Introduction\n",
    "\n",
    "pandas is *the* library for data analysis in Python.  It has two data structures: \n",
    "* the Series for 1D labelled data such as a single row or column,\n",
    "* the DataFrame for 2D data such as a table. \n",
    "\n",
    "A good place to get started with pandas is at https://pandas.pydata.org/getting_started.html\n",
    "\n",
    " This lesson shows examples of typical operations on a pandas DataFrame including:\n",
    "* select a subset of columns\n",
    "* calculate new columns\n",
    "* filter rows in various ways\n",
    "* group and summarise\n",
    "* handle missing values\n"
   ]
  },
  {
   "cell_type": "code",
   "execution_count": null,
   "metadata": {},
   "outputs": [],
   "source": [
    "import pandas as pd\n",
    "import numpy as np\n",
    "import matplotlib.pyplot as plt # pandas uses matplotlib for plotting"
   ]
  },
  {
   "cell_type": "markdown",
   "metadata": {},
   "source": [
    "## pandas Series (a 1D labelled array)\n",
    "\n",
    "A Series is a 1D labelled array.  By default the labels are position-based integers, starting at 0.  Labels don't need to be unique.  The elements of a Series are usually of the same type. A Series may become a column in a dataframe (table) so we should expect this. These types include various types of number (ints and floats) and strings (objects).\n",
    "\n",
    "We can create a Series in many ways, for example from a list."
   ]
  },
  {
   "cell_type": "markdown",
   "metadata": {},
   "source": [
    "### Create a Series"
   ]
  },
  {
   "cell_type": "code",
   "execution_count": null,
   "metadata": {},
   "outputs": [],
   "source": [
    "# Create a Series form a list of first names\n",
    "names = ['Harry', 'Hermione', 'Ron']\n",
    "first_names = pd.Series(names)\n",
    "first_names"
   ]
  },
  {
   "cell_type": "code",
   "execution_count": null,
   "metadata": {},
   "outputs": [],
   "source": [
    "#  We can pass in an index when creating a Series\n",
    "initials = ['hp', 'hg', 'rw']\n",
    "first_names = pd.Series(names, index=initials)\n",
    "first_names"
   ]
  },
  {
   "cell_type": "markdown",
   "metadata": {},
   "source": [
    "Examine the first_names Series.  You may want to try these properties and methods: index, values, dtype, shape, ndim, size."
   ]
  },
  {
   "cell_type": "code",
   "execution_count": null,
   "metadata": {},
   "outputs": [],
   "source": [
    "# Write your code here as a set of print statements. The first one is provided.\n",
    "print(\"Index:\", first_names.index) "
   ]
  },
  {
   "cell_type": "markdown",
   "metadata": {},
   "source": [
    "We can create a Series with a defined size and initialize with fixed or random values."
   ]
  },
  {
   "cell_type": "code",
   "execution_count": null,
   "metadata": {},
   "outputs": [],
   "source": [
    "# a Series of 4 random numbers with mean 10 and standard deviation 1\n",
    "pd.Series(np.random.randn(4), name = 'price') + 10 # name is an optional parameter"
   ]
  },
  {
   "cell_type": "markdown",
   "metadata": {},
   "source": [
    "### Access elements in a Series"
   ]
  },
  {
   "cell_type": "markdown",
   "metadata": {},
   "source": [
    "We can access elements of the Series \n",
    "* by position using the iloc property,  or \n",
    "* by their index using the loc property. "
   ]
  },
  {
   "cell_type": "code",
   "execution_count": null,
   "metadata": {},
   "outputs": [],
   "source": [
    "# returns the item in the 2nd position\n",
    "first_names.iloc[1]"
   ]
  },
  {
   "cell_type": "code",
   "execution_count": null,
   "metadata": {},
   "outputs": [],
   "source": [
    "# returns the item in the 2nd and 3rd positions\n",
    "first_names.iloc[1:3] "
   ]
  },
  {
   "cell_type": "code",
   "execution_count": null,
   "metadata": {},
   "outputs": [],
   "source": [
    "#  Returns the element but using the index label\n",
    "first_names.loc['rw']"
   ]
  },
  {
   "cell_type": "markdown",
   "metadata": {},
   "source": [
    "Note that when slicing with loc, the syntax is inclusive (and not the usual Pythton syntax!)."
   ]
  },
  {
   "cell_type": "code",
   "execution_count": null,
   "metadata": {},
   "outputs": [],
   "source": [
    "first_names.loc['hp':'rw']"
   ]
  },
  {
   "cell_type": "markdown",
   "metadata": {},
   "source": [
    "We can use the index to set values from the Series."
   ]
  },
  {
   "cell_type": "code",
   "execution_count": null,
   "metadata": {},
   "outputs": [],
   "source": [
    "print(\"before change:\", first_names.loc['rw']) \n",
    "first_names['rw'] = 'Ronald' # set a value in the Series\n",
    "print(\"after change:\", first_names.loc['rw']) "
   ]
  },
  {
   "cell_type": "markdown",
   "metadata": {},
   "source": [
    "We can use *in* to see if the index value is in the Series"
   ]
  },
  {
   "cell_type": "code",
   "execution_count": null,
   "metadata": {},
   "outputs": [],
   "source": [
    "'hg' in first_names # check if an index is in the Series"
   ]
  },
  {
   "cell_type": "markdown",
   "metadata": {},
   "source": [
    "### Element wise operations"
   ]
  },
  {
   "cell_type": "markdown",
   "metadata": {},
   "source": [
    "An element wise operation is one that is performed on every element of the Series. For example,  multiply all values by 100"
   ]
  },
  {
   "cell_type": "markdown",
   "metadata": {},
   "source": [
    "The examples in this section use a Series of 5 numbers named prices that is defined below."
   ]
  },
  {
   "cell_type": "code",
   "execution_count": null,
   "metadata": {},
   "outputs": [],
   "source": [
    "prices = pd.Series([10, 12, 15, 18, 16])\n",
    "prices"
   ]
  },
  {
   "cell_type": "markdown",
   "metadata": {},
   "source": [
    "THis multiplies every elemnt by a scalar value"
   ]
  },
  {
   "cell_type": "code",
   "execution_count": null,
   "metadata": {},
   "outputs": [],
   "source": [
    "prices * 100"
   ]
  },
  {
   "cell_type": "markdown",
   "metadata": {},
   "source": [
    "Add 10 to each value in the prices Series."
   ]
  },
  {
   "cell_type": "code",
   "execution_count": null,
   "metadata": {},
   "outputs": [],
   "source": [
    "# Write your code here"
   ]
  },
  {
   "cell_type": "markdown",
   "metadata": {},
   "source": [
    "We can aggregate (e.g sum. average) the values in a Series either \n",
    "* using a numpy method, e.g. np.sum(prices)\n",
    "* a method on the Series e.g. prices.sum()"
   ]
  },
  {
   "cell_type": "code",
   "execution_count": null,
   "metadata": {},
   "outputs": [],
   "source": [
    "np.sum(prices) # total value of all elements"
   ]
  },
  {
   "cell_type": "code",
   "execution_count": null,
   "metadata": {},
   "outputs": [],
   "source": [
    "prices.sum() "
   ]
  },
  {
   "cell_type": "markdown",
   "metadata": {},
   "source": [
    "Find the min, max, average, median and other summary statistics of the prices Series"
   ]
  },
  {
   "cell_type": "code",
   "execution_count": null,
   "metadata": {},
   "outputs": [],
   "source": [
    "# Write your code here as a set of print statements. The first one is provided.\n",
    "print(f\"minimum: numpy method {np.min(prices)}, Series method {prices.min()}\")\n",
    "\n"
   ]
  },
  {
   "cell_type": "markdown",
   "metadata": {},
   "source": [
    "## pandas DataFrames\n",
    "\n",
    "A DataFrame is basically a table.  It is a 2D labelled data structure.  The columns can be different types.  You can think of it as a dict of Series objects (columns) if that helps.  Like a Series, a Dataframe has an index column.\n",
    "\n",
    "We can build a pandas Dataframe in many ways, for example from a dict. The dict's keys become the column names and the dict's values become the column values."
   ]
  },
  {
   "cell_type": "code",
   "execution_count": null,
   "metadata": {},
   "outputs": [],
   "source": [
    "fb_dict = {\n",
    "        'id': ['MCY', 'LIV', 'TOT', 'CHE', 'ARL'],\n",
    "        'city': ['Manchester',\t'Liverpool', 'London', 'London', 'London'],\n",
    "        'team':\t['Manchester City', 'Liverpool', 'Tottenham Hotspur', 'Chelsea', 'Arsenal'],\n",
    "        'champions_league': ['Yes', 'Yes', 'No', 'No', 'Yes'],\n",
    "        'won':\t[5, 6, 6, 5, 5],\n",
    "        'drawn': [4, 1, 0, 2,0],\n",
    "        'lost': [0, 0, 2, 0, 2],\n",
    "        'form': ['DWWWW', 'WWWWD', 'LLWWW', 'WWWDD', 'WWWWW']\n",
    "        }\n",
    "\n",
    "fb = pd.DataFrame(fb_dict)\n",
    "\n",
    "# set the index to the unique values of the 'id' column - more useful than 0,1,2...\n",
    "fb = fb.set_index('id')\n",
    "fb"
   ]
  },
  {
   "cell_type": "markdown",
   "metadata": {},
   "source": [
    "Exercise: Examine the dataframe.  \n",
    "Use the following dataframe properties and methods: index, head(), describe(), shape, values, columns."
   ]
  },
  {
   "cell_type": "code",
   "execution_count": null,
   "metadata": {},
   "outputs": [],
   "source": [
    "# Write your code here as a set of print statements. The first one is provided.\n",
    "print(\"Index:\", fb.index)"
   ]
  },
  {
   "cell_type": "markdown",
   "metadata": {},
   "source": [
    "Typically, we create a dataframe by using a pandas method to load the data from a source.  In the example below, we load data from a CSV file on a public URL."
   ]
  },
  {
   "cell_type": "code",
   "execution_count": null,
   "metadata": {},
   "outputs": [],
   "source": [
    "csv_file_url = \"https://zomalextrainingstorage.blob.core.windows.net/datasets/misc/Churn.csv\"\n",
    "churn = pd.read_csv(csv_file_url)\n",
    "churn.head()"
   ]
  },
  {
   "cell_type": "markdown",
   "metadata": {},
   "source": [
    "Exercise: examine the churn Dataframe"
   ]
  },
  {
   "cell_type": "code",
   "execution_count": null,
   "metadata": {},
   "outputs": [],
   "source": [
    "#  Write your code here"
   ]
  },
  {
   "cell_type": "markdown",
   "metadata": {},
   "source": [
    "### Access columns in a Dataframe"
   ]
  },
  {
   "cell_type": "markdown",
   "metadata": {},
   "source": [
    "We can access a columns or columns, col1, col2 in a dataframe df in several ways: \n",
    "* df['col1'] which returns a series\n",
    "* df.col1 which returns a series (pandas allows us to refre to column names like a property! )\n",
    "* df[['col1']] or df[['col1', 'col2']] which return dataframes\n",
    "* df.loc[ : , ['col1', 'col2']] which is possibly best practice and most flexible\n",
    "\n",
    "Exercise: return the city and team columns in various ways"
   ]
  },
  {
   "cell_type": "code",
   "execution_count": null,
   "metadata": {},
   "outputs": [],
   "source": [
    "# Write your code here\n",
    "print(\"Using dot notation:\\n\", fb.city)"
   ]
  },
  {
   "cell_type": "markdown",
   "metadata": {},
   "source": [
    "### Sort rows\n",
    "Order the rows in the dataframe by the number of games won (low to high), then in the case of any ties, by the number of games drawn."
   ]
  },
  {
   "cell_type": "code",
   "execution_count": null,
   "metadata": {},
   "outputs": [],
   "source": [
    "fb.sort_values(by = ['won', 'drawn'], ascending=True)"
   ]
  },
  {
   "cell_type": "markdown",
   "metadata": {},
   "source": [
    "Exercise: sort rows by the form column"
   ]
  },
  {
   "cell_type": "code",
   "execution_count": null,
   "metadata": {},
   "outputs": [],
   "source": [
    "# Write your code here"
   ]
  },
  {
   "cell_type": "markdown",
   "metadata": {},
   "source": [
    "### Create new columns"
   ]
  },
  {
   "cell_type": "code",
   "execution_count": null,
   "metadata": {},
   "outputs": [],
   "source": [
    "# Teams get 3 point for a win, 1 for a draw, none for a loss\n",
    "fb['points'] = fb['won'] * 3 + fb['drawn']\n",
    "fb"
   ]
  },
  {
   "cell_type": "markdown",
   "metadata": {},
   "source": [
    "**Exercise:** Create a new column, played, to hold the number of games played by each team.\n"
   ]
  },
  {
   "cell_type": "code",
   "execution_count": null,
   "metadata": {},
   "outputs": [],
   "source": [
    "# Write your code here"
   ]
  },
  {
   "cell_type": "markdown",
   "metadata": {},
   "source": [
    "Add a new column team_caps. Note the way this is done.  The apply method argument is the string upper method"
   ]
  },
  {
   "cell_type": "code",
   "execution_count": null,
   "metadata": {},
   "outputs": [],
   "source": [
    "fb['team_caps'] = fb['team'].apply(str.upper)\n",
    "fb"
   ]
  },
  {
   "cell_type": "markdown",
   "metadata": {},
   "source": [
    "The next two statements have the same effect.  They both create a column with the first five characters of the team.  Which do you prefer?"
   ]
  },
  {
   "cell_type": "code",
   "execution_count": null,
   "metadata": {},
   "outputs": [],
   "source": [
    "# Use slicing\n",
    "fb['team_short'] = fb['team'].str[:5]\n",
    "fb"
   ]
  },
  {
   "cell_type": "code",
   "execution_count": null,
   "metadata": {},
   "outputs": [],
   "source": [
    "# Use a list comprehension\n",
    "fb['team_short2'] = [x[0:5] for x in fb['team'] if len(x) > 5]\n",
    "fb"
   ]
  },
  {
   "cell_type": "code",
   "execution_count": null,
   "metadata": {},
   "outputs": [],
   "source": [
    "# To keep the dataframe tidy, drop the new columns columns we added\n",
    "fb = fb.drop(['team_caps', 'team_short', 'team_short2'], axis=1)\n",
    "fb"
   ]
  },
  {
   "cell_type": "markdown",
   "metadata": {},
   "source": [
    "### Filter rows\n",
    "Filter both rows, uins the index, and columns of the dataframe in various ways using the loc method"
   ]
  },
  {
   "cell_type": "code",
   "execution_count": null,
   "metadata": {},
   "outputs": [],
   "source": [
    "fb.loc['LIV', :] # one row, all columns, returns a series"
   ]
  },
  {
   "cell_type": "code",
   "execution_count": null,
   "metadata": {},
   "outputs": [],
   "source": [
    "fb.loc[['LIV'], :] # one row, all columns, returns a dataframe"
   ]
  },
  {
   "cell_type": "code",
   "execution_count": null,
   "metadata": {},
   "outputs": [],
   "source": [
    "fb.loc[['LIV', 'MCY'], :] #   two rows, all columns, returns a dataframe"
   ]
  },
  {
   "cell_type": "code",
   "execution_count": null,
   "metadata": {},
   "outputs": [],
   "source": [
    "fb.loc[['LIV', 'MCY'], ['team', 'won']] # two rows, two columns"
   ]
  },
  {
   "cell_type": "markdown",
   "metadata": {},
   "source": [
    "### Group data\n",
    "\n",
    "Group by city"
   ]
  },
  {
   "cell_type": "code",
   "execution_count": null,
   "metadata": {},
   "outputs": [],
   "source": [
    "fb_by_city = fb.groupby(['city'], as_index=False)\n",
    "fb_by_city.groups"
   ]
  },
  {
   "cell_type": "markdown",
   "metadata": {},
   "source": [
    "Get the totals of all the numeric columns per city"
   ]
  },
  {
   "cell_type": "code",
   "execution_count": null,
   "metadata": {},
   "outputs": [],
   "source": [
    "fb_by_city.sum(numeric_only=True)\n",
    "fb_by_city[['points', 'won']].sum()\n"
   ]
  },
  {
   "cell_type": "markdown",
   "metadata": {},
   "source": [
    "Exercise: group by those teams in (and not in) the Champions League (champions_league = 'Yes' or 'No')\n",
    "Sum the won, drawn and lost  columms"
   ]
  },
  {
   "cell_type": "code",
   "execution_count": null,
   "metadata": {},
   "outputs": [],
   "source": [
    "# Write your code here"
   ]
  },
  {
   "cell_type": "code",
   "execution_count": null,
   "metadata": {},
   "outputs": [],
   "source": [
    "fb.loc[:, ['city']] # all rows, one column"
   ]
  },
  {
   "cell_type": "code",
   "execution_count": null,
   "metadata": {},
   "outputs": [],
   "source": [
    "fb.loc[:, ['team', 'won']] # all rows, two columns"
   ]
  },
  {
   "cell_type": "markdown",
   "metadata": {},
   "source": [
    "### Filter Rows by Values"
   ]
  },
  {
   "cell_type": "markdown",
   "metadata": {},
   "source": [
    "We have already seen that a boolean expression returns a Series of bools"
   ]
  },
  {
   "cell_type": "code",
   "execution_count": null,
   "metadata": {},
   "outputs": [],
   "source": [
    "fb.won > 5\n"
   ]
  },
  {
   "cell_type": "markdown",
   "metadata": {},
   "source": [
    "We can use this boolean expression to filter the rows of the dataframe where the bools are True"
   ]
  },
  {
   "cell_type": "code",
   "execution_count": null,
   "metadata": {},
   "outputs": [],
   "source": [
    "fb.loc[fb.won > 5, :]"
   ]
  },
  {
   "cell_type": "markdown",
   "metadata": {},
   "source": [
    "Exercise: filter the fb dataframe to return only London teams"
   ]
  },
  {
   "cell_type": "code",
   "execution_count": null,
   "metadata": {},
   "outputs": [],
   "source": [
    "# Write your code here\n"
   ]
  },
  {
   "cell_type": "markdown",
   "metadata": {},
   "source": [
    "We can combine two filter criteria with an & (and)"
   ]
  },
  {
   "cell_type": "code",
   "execution_count": null,
   "metadata": {},
   "outputs": [],
   "source": [
    "(fb.city == 'London') & (fb.won > 5)"
   ]
  },
  {
   "cell_type": "markdown",
   "metadata": {},
   "source": [
    "Exercise:  filter the fb dataframe to return only London teams that have won more than 5 games"
   ]
  },
  {
   "cell_type": "code",
   "execution_count": null,
   "metadata": {},
   "outputs": [],
   "source": [
    "# Write your code here"
   ]
  }
 ],
 "metadata": {
  "kernelspec": {
   "display_name": ".venv",
   "language": "python",
   "name": "python3"
  },
  "language_info": {
   "codemirror_mode": {
    "name": "ipython",
    "version": 3
   },
   "file_extension": ".py",
   "mimetype": "text/x-python",
   "name": "python",
   "nbconvert_exporter": "python",
   "pygments_lexer": "ipython3",
   "version": "3.12.3"
  },
  "orig_nbformat": 2
 },
 "nbformat": 4,
 "nbformat_minor": 2
}
