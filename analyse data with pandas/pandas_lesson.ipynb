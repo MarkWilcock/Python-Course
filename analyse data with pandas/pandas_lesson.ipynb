{
 "cells": [
  {
   "cell_type": "markdown",
   "metadata": {},
   "source": [
    "# pandas lesson \n",
    "\n",
    "Objective: Wrangle Data with pandas package.  Create a dataset, add new columns, select columns, filter rows group and aggregate.\n",
    "\n",
    " A pandas Dataframe is a 2D object (table).\n",
    " A pandas Series is a 1D labelled object.\n",
    " pandas rows have unique labels (a strange concept to SQL people).\n",
    "\n",
    " This lesson shows examples of typical operations on a pandas dataframe including:\n",
    "* calculating new columns\n",
    "* filtering rows in various ways\n",
    "* grouping and summarising \n",
    "* using the apply function and lambda functions\n",
    "* creating simple plots"
   ]
  },
  {
   "cell_type": "code",
   "execution_count": null,
   "metadata": {},
   "outputs": [],
   "source": [
    "import pandas as pd\n",
    "import numpy as np\n",
    "import matplotlib.pyplot as plt # pandas uses matplotlib for plotting"
   ]
  },
  {
   "cell_type": "code",
   "execution_count": null,
   "metadata": {},
   "outputs": [],
   "source": [
    "#  Let's have a quick look at a series\n",
    "p = pd.Series(np.random.randn(4), name = 'price')\n",
    "p, p.index, p.values, p.dtype, p.shape, p.ndim, p.size"
   ]
  },
  {
   "cell_type": "code",
   "execution_count": null,
   "metadata": {},
   "outputs": [],
   "source": [
    "p * 100 # multiply all values by 100, an element-wise operation"
   ]
  },
  {
   "cell_type": "code",
   "execution_count": null,
   "metadata": {},
   "outputs": [],
   "source": [
    "np.abs(p) # absolute value of all elements"
   ]
  },
  {
   "cell_type": "code",
   "execution_count": null,
   "metadata": {},
   "outputs": [],
   "source": [
    "p.mean(), p.std(), p.min(), p.max(), p.median(), p.quantile(0.25), p.quantile(0.75) # some summary statistics"
   ]
  },
  {
   "cell_type": "code",
   "execution_count": null,
   "metadata": {},
   "outputs": [],
   "source": [
    "p.index = [\"HSBC\", \"BP\", \"TSCO\", \"RDSA\"] \n",
    "#p.describe()\n",
    "p"
   ]
  },
  {
   "cell_type": "code",
   "execution_count": null,
   "metadata": {},
   "outputs": [],
   "source": [
    "p['BP'] # get a value in the Series\n"
   ]
  },
  {
   "cell_type": "code",
   "execution_count": null,
   "metadata": {},
   "outputs": [],
   "source": [
    "p['BP'] = 5.0 # set a value in the Series\n",
    "p['BP']"
   ]
  },
  {
   "cell_type": "code",
   "execution_count": null,
   "metadata": {},
   "outputs": [],
   "source": [
    "'TSCO' in p # is this value a member of the Series"
   ]
  },
  {
   "cell_type": "code",
   "execution_count": null,
   "metadata": {},
   "outputs": [],
   "source": [
    "#  We can build a pandas dataframe from a dict\n",
    "fb_dict = {\n",
    "        'id' : ['MCY', 'LIV', 'TOT', 'CHE', 'ARL'],\n",
    "        'city' :\t['Manchester',\t'Liverpool', 'London', 'London', 'London'],\n",
    "        'team' :\t['Manchester City', 'Liverpool', 'Tottenham Hotspur', 'Chelsea', 'Arsenal'],\n",
    "        'won' :\t[5, 6, 6, 5, 5],\n",
    "        'drawn' : [4, 1, 0, 2,0],\n",
    "        'lost' : [0, 0, 2, 0, 2],\n",
    "        'form' : ['DWWWW', 'WWWWD', 'LLWWW', 'WWWDD', 'WWWWW']\n",
    "        }\n",
    "#  Create a pandas dataframe\n",
    "# The dict's keys become the column names and the dict's values become the column values\n",
    "fb_df = pd.DataFrame(fb_dict)\n",
    "\n",
    "# set the index to the unique values of the 'id' column - more useful than 0,1,2...\n",
    "fb = fb_df.set_index('id')\n",
    "fb\n"
   ]
  },
  {
   "cell_type": "code",
   "execution_count": null,
   "metadata": {},
   "outputs": [],
   "source": [
    "fb.index"
   ]
  },
  {
   "cell_type": "code",
   "execution_count": null,
   "metadata": {},
   "outputs": [],
   "source": [
    "fb.head(2), fb.tail(2)\n"
   ]
  },
  {
   "cell_type": "code",
   "execution_count": null,
   "metadata": {},
   "outputs": [],
   "source": [
    "fb.describe() # summary statistics of the numeric columns"
   ]
  },
  {
   "cell_type": "code",
   "execution_count": null,
   "metadata": {},
   "outputs": [],
   "source": [
    "fb.shape"
   ]
  },
  {
   "cell_type": "code",
   "execution_count": null,
   "metadata": {},
   "outputs": [],
   "source": [
    "fb.values # a numpy array"
   ]
  },
  {
   "cell_type": "code",
   "execution_count": null,
   "metadata": {},
   "outputs": [],
   "source": [
    "# fb[['city']]\n",
    "fb.city # values of a column.  Note the  dot syntax\n"
   ]
  },
  {
   "cell_type": "code",
   "execution_count": null,
   "metadata": {},
   "outputs": [],
   "source": [
    "fb.city.unique()\n"
   ]
  },
  {
   "cell_type": "code",
   "execution_count": null,
   "metadata": {},
   "outputs": [],
   "source": [
    "\n",
    "fb.columns #  Return a list of the columns"
   ]
  },
  {
   "cell_type": "code",
   "execution_count": null,
   "metadata": {},
   "outputs": [],
   "source": [
    "# Create new columns\n",
    "# Teams get 3 point for a win, 1 for a draw, none for a loss\n",
    "fb['points'] = fb['won'] * 3 + fb['drawn']\n",
    "fb\n"
   ]
  },
  {
   "cell_type": "markdown",
   "metadata": {},
   "source": [
    "### Create new columns"
   ]
  },
  {
   "cell_type": "markdown",
   "metadata": {},
   "source": [
    "**Exercise:** Create a new column, played, to hold the number of games played by each team.\n"
   ]
  },
  {
   "cell_type": "code",
   "execution_count": null,
   "metadata": {},
   "outputs": [],
   "source": [
    "# Write your code here"
   ]
  },
  {
   "cell_type": "markdown",
   "metadata": {},
   "source": [
    "Show a column chart of the scores of each team "
   ]
  },
  {
   "cell_type": "code",
   "execution_count": null,
   "metadata": {},
   "outputs": [],
   "source": [
    "fb['points'].plot(kind = 'bar')\n",
    "plt.show()"
   ]
  },
  {
   "cell_type": "markdown",
   "metadata": {},
   "source": [
    "### Sort rows\n",
    "Order the rows in the dataframe by the points scored (low to high), then in the case of any ties, by the number of games won."
   ]
  },
  {
   "cell_type": "code",
   "execution_count": null,
   "metadata": {},
   "outputs": [],
   "source": [
    "fb_sorted = fb.sort_values(by = ['points', 'won'], ascending=True)\n",
    "# Show the sorted dataframe in a column chart\n",
    "fb_sorted['points'].plot(kind = 'bar')\n",
    "plt.show()"
   ]
  },
  {
   "cell_type": "markdown",
   "metadata": {},
   "source": [
    "Sort fb by index\n"
   ]
  },
  {
   "cell_type": "code",
   "execution_count": null,
   "metadata": {},
   "outputs": [],
   "source": [
    "fb = fb.sort_values(by = 'id', ascending=True)\n",
    "fb"
   ]
  },
  {
   "cell_type": "markdown",
   "metadata": {},
   "source": [
    "Add a new column team_caps. Note the way this is done.  The apply method argument is the string upper method"
   ]
  },
  {
   "cell_type": "code",
   "execution_count": null,
   "metadata": {},
   "outputs": [],
   "source": [
    "fb['team_caps'] = fb['team'].apply(str.upper)\n",
    "fb"
   ]
  },
  {
   "cell_type": "markdown",
   "metadata": {},
   "source": [
    "The next two statements have the same effect.  They both create a column with the first five characters of the team.  Which do you prefer?"
   ]
  },
  {
   "cell_type": "code",
   "execution_count": null,
   "metadata": {},
   "outputs": [],
   "source": [
    "# Use slicing\n",
    "fb['team_short'] = fb['team'].str[:5]\n",
    "fb"
   ]
  },
  {
   "cell_type": "code",
   "execution_count": null,
   "metadata": {},
   "outputs": [],
   "source": [
    "# Use a list comprehension\n",
    "fb['team_short2'] = [x[0:5] for x in fb['team'] if len(x) > 5]\n",
    "fb"
   ]
  },
  {
   "cell_type": "code",
   "execution_count": null,
   "metadata": {},
   "outputs": [],
   "source": [
    "# To keep the dataframe tidy, drop the new columns columns we added\n",
    "fb = fb.drop(['team_caps', 'team_short', 'team_short2'], axis=1)"
   ]
  },
  {
   "cell_type": "markdown",
   "metadata": {},
   "source": [
    "#### Grouping\n",
    "\n",
    "Group by city to get the total scores per city"
   ]
  },
  {
   "cell_type": "code",
   "execution_count": null,
   "metadata": {},
   "outputs": [],
   "source": [
    "fb_by_city = fb.groupby(['city'], as_index = False)\n",
    "fb_by_city.sum(numeric_only=True)\n"
   ]
  },
  {
   "cell_type": "markdown",
   "metadata": {},
   "source": [
    "### Filter rows\n",
    "Filter both rows and columns of the dataframe in various ways using the loc method"
   ]
  },
  {
   "cell_type": "code",
   "execution_count": null,
   "metadata": {},
   "outputs": [],
   "source": [
    "fb.loc[:, ['city']] # all rows, one column"
   ]
  },
  {
   "cell_type": "code",
   "execution_count": null,
   "metadata": {},
   "outputs": [],
   "source": [
    "fb.loc['LIV', :] # one row, all columns, returns a series"
   ]
  },
  {
   "cell_type": "code",
   "execution_count": null,
   "metadata": {},
   "outputs": [],
   "source": [
    "fb.loc[['LIV'], :] # one row, all columns, returns a dataframe\n"
   ]
  },
  {
   "cell_type": "code",
   "execution_count": null,
   "metadata": {},
   "outputs": [],
   "source": [
    "fb.loc[['LIV', 'MCY'], :] #   two rows, all columns, returns a dataframe"
   ]
  },
  {
   "cell_type": "code",
   "execution_count": null,
   "metadata": {},
   "outputs": [],
   "source": [
    "fb.loc[['LIV', 'MCY'], ['team', 'won']] # two rows, two columns"
   ]
  },
  {
   "cell_type": "code",
   "execution_count": null,
   "metadata": {},
   "outputs": [],
   "source": [
    "fb.loc[:, ['team', 'won']] # all rows, two columns"
   ]
  },
  {
   "cell_type": "code",
   "execution_count": null,
   "metadata": {},
   "outputs": [],
   "source": [
    " # Returns a series. Note the use of the <dataframe>.<column> notation\n",
    "fb.won"
   ]
  },
  {
   "cell_type": "code",
   "execution_count": null,
   "metadata": {},
   "outputs": [],
   "source": [
    "# returns a Series of bools\n",
    "fb.won > 5\n"
   ]
  },
  {
   "cell_type": "code",
   "execution_count": null,
   "metadata": {},
   "outputs": [],
   "source": [
    "# filters the rows of the dataframe where the bools are True\n",
    "fb.loc[fb.won > 5, :]"
   ]
  },
  {
   "cell_type": "code",
   "execution_count": null,
   "metadata": {},
   "outputs": [],
   "source": [
    "# filters the rows of the dataframe where the city is London\n",
    "fb.loc[fb.city == 'London', :]"
   ]
  },
  {
   "cell_type": "code",
   "execution_count": null,
   "metadata": {},
   "outputs": [],
   "source": [
    "# Combine two filter criteria with an & (and)\n",
    "(fb.city == 'London') & (fb.won > 5)\n"
   ]
  },
  {
   "cell_type": "code",
   "execution_count": null,
   "metadata": {},
   "outputs": [],
   "source": [
    "# return rows of London teams that have won more than 5 games\n",
    "fb.loc[(fb.city == 'London') & (fb.won > 5), :]"
   ]
  }
 ],
 "metadata": {
  "kernelspec": {
   "display_name": ".venv",
   "language": "python",
   "name": "python3"
  },
  "language_info": {
   "codemirror_mode": {
    "name": "ipython",
    "version": 3
   },
   "file_extension": ".py",
   "mimetype": "text/x-python",
   "name": "python",
   "nbconvert_exporter": "python",
   "pygments_lexer": "ipython3",
   "version": "3.11.2"
  },
  "orig_nbformat": 2
 },
 "nbformat": 4,
 "nbformat_minor": 2
}
