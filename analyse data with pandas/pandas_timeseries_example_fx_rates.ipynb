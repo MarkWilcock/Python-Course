{
 "cells": [
  {
   "cell_type": "markdown",
   "metadata": {},
   "source": [
    "# pandas timeseries example \n",
    "\n",
    "The source data are time series of the daily FX rates of the euro and US dollar against the British pound.  The data is from the Bank Of England.\n",
    "\n",
    "Time series data is a sequence of data points collected or recorded at successive time intervals, often used for analysis and forecasting of trends or patterns over time."
   ]
  },
  {
   "cell_type": "code",
   "execution_count": null,
   "metadata": {},
   "outputs": [],
   "source": [
    "import pandas as pd\n",
    "import matplotlib.pyplot as plt"
   ]
  },
  {
   "cell_type": "markdown",
   "metadata": {},
   "source": [
    "The two source data files are on a publicly readable location on the web"
   ]
  },
  {
   "cell_type": "code",
   "execution_count": null,
   "metadata": {},
   "outputs": [],
   "source": [
    "EUR_GBP_FXRATE_DATA_URL = \"https://raw.githubusercontent.com/MarkWilcock/CourseDatasets/main/FX%20Rate%20Time%20Series/EUR-GBP.csv\"\n",
    "USD_GBP_FXRATE_DATA_URL = \"https://raw.githubusercontent.com/MarkWilcock/CourseDatasets/main/FX%20Rate%20Time%20Series/USD-GBP.csv\""
   ]
  },
  {
   "cell_type": "markdown",
   "metadata": {},
   "source": [
    "Load the EUR-GBP data into a data frame and show a few rows."
   ]
  },
  {
   "cell_type": "code",
   "execution_count": null,
   "metadata": {},
   "outputs": [],
   "source": [
    "df_eur = pd.read_csv(EUR_GBP_FXRATE_DATA_URL, parse_dates = ['Date'])\n",
    "df_eur.head()"
   ]
  },
  {
   "cell_type": "code",
   "execution_count": null,
   "metadata": {},
   "outputs": [],
   "source": [
    "# Rename the columns to something shorter and more meaningful\n",
    "df_eur.columns = (['Date', 'GBP-EUR'])\n",
    "df_eur.head()"
   ]
  },
  {
   "cell_type": "code",
   "execution_count": null,
   "metadata": {},
   "outputs": [],
   "source": [
    "# Set the index to be the date column. This will allow us to easily plot the data\n",
    "df_eur.set_index('Date', inplace = True)\n",
    "df_eur.sort_index(inplace=True)\n",
    "df_eur.head()"
   ]
  },
  {
   "cell_type": "code",
   "execution_count": null,
   "metadata": {},
   "outputs": [],
   "source": [
    "# Plot the data.  This will plot the data as a line graph\n",
    "df_eur.plot()"
   ]
  },
  {
   "cell_type": "code",
   "execution_count": null,
   "metadata": {},
   "outputs": [],
   "source": [
    "# Inspect the dataframe in various ways\n",
    "df_eur.describe()\n",
    "df_eur.head()\n",
    "df_eur.tail()\n",
    "df_eur.columns\n",
    "df_eur.info()"
   ]
  },
  {
   "cell_type": "code",
   "execution_count": null,
   "metadata": {},
   "outputs": [],
   "source": [
    "# Create a new dataframe for 2018 only\n",
    "df_eur_2018 = df_eur.loc['01-01-2018':'31-12-2018'] \n",
    "df_eur_2018.head()\n",
    "df_eur_2018.plot()"
   ]
  },
  {
   "cell_type": "code",
   "execution_count": null,
   "metadata": {},
   "outputs": [],
   "source": [
    "# Plot March 2018 only\n",
    "df_eur.loc['2018-03'].plot()\n"
   ]
  },
  {
   "cell_type": "code",
   "execution_count": null,
   "metadata": {},
   "outputs": [],
   "source": [
    "\n",
    "# Load, plt and show a few rows of the USD-GBP data\n",
    "df_usd = pd.read_csv(USD_GBP_FXRATE_DATA_URL, parse_dates = ['Date'])\n",
    "df_usd.columns = (['Date', 'GBP-USD'])\n",
    "df_usd = df_usd.set_index('Date')\n",
    "df_usd = df_usd.sort_index()\n",
    "df_usd.plot()\n",
    "df_usd.head()"
   ]
  },
  {
   "cell_type": "code",
   "execution_count": null,
   "metadata": {},
   "outputs": [],
   "source": [
    "# merge these two datasets\n",
    "df_all = df_eur.merge(df_usd, left_index=True, right_index=True)\n",
    "df_all.plot()\n",
    "df_all.head()"
   ]
  }
 ],
 "metadata": {
  "kernelspec": {
   "display_name": ".venv",
   "language": "python",
   "name": "python3"
  },
  "language_info": {
   "codemirror_mode": {
    "name": "ipython",
    "version": 3
   },
   "file_extension": ".py",
   "mimetype": "text/x-python",
   "name": "python",
   "nbconvert_exporter": "python",
   "pygments_lexer": "ipython3",
   "version": "3.11.2"
  },
  "orig_nbformat": 2
 },
 "nbformat": 4,
 "nbformat_minor": 2
}
