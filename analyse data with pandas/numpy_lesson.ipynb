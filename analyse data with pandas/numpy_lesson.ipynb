{
 "cells": [
  {
   "cell_type": "markdown",
   "metadata": {},
   "source": [
    "# Lesson: numpy Package\n",
    "\n",
    "numpy is a very important package, described as \"the fundamental package for scientific computing with Python\". It is the underpinning for pandas and many AI and ML packages.\n",
    "\n",
    "It provides the np.ndarray data type (array for short). Unlike lists, all the element in arrays must be the same data type (usually ints or float). We can do element-wise operations on these arrays to make our code simpler and shorter.  Operations on arrays work a lot faster than operations on lists.\n"
   ]
  },
  {
   "cell_type": "code",
   "execution_count": 1,
   "metadata": {},
   "outputs": [],
   "source": [
    "import numpy as np"
   ]
  },
  {
   "cell_type": "markdown",
   "metadata": {},
   "source": [
    "## Create numpy arrays"
   ]
  },
  {
   "cell_type": "markdown",
   "metadata": {},
   "source": [
    "Create an numpy array from a list.  \n",
    "We will use this np_squares array in many of the code cells below."
   ]
  },
  {
   "cell_type": "code",
   "execution_count": 4,
   "metadata": {},
   "outputs": [
    {
     "name": "stdout",
     "output_type": "stream",
     "text": [
      "np_squares: [ 1  4  9 16 25]\n",
      "type: <class 'numpy.ndarray'>\n"
     ]
    }
   ],
   "source": [
    "np_squares = np.array([1, 4, 9, 16, 25])\n",
    "print(\"np_squares:\", np_squares)\n",
    "print(\"type:\", type(np_squares))"
   ]
  },
  {
   "cell_type": "markdown",
   "metadata": {},
   "source": [
    "A numpy array can be 1, 2 or more dimensions."
   ]
  },
  {
   "cell_type": "code",
   "execution_count": 5,
   "metadata": {},
   "outputs": [
    {
     "data": {
      "text/plain": [
       "(array([[1, 2, 3],\n",
       "        [4, 5, 6]]),\n",
       " (2, 3),\n",
       " 2,\n",
       " np.int64(1),\n",
       " numpy.int64)"
      ]
     },
     "execution_count": 5,
     "metadata": {},
     "output_type": "execute_result"
    }
   ],
   "source": [
    "#  A numpy array can also be 2 or more dimensions\n",
    "list_of_lists = [[1,2,3], [4,5,6]]\n",
    "a2 = np.array(list_of_lists) # from a list of lists\n",
    "a2, a2.shape, a2.ndim, a2[0,0], type(a2[0,0])"
   ]
  },
  {
   "cell_type": "markdown",
   "metadata": {},
   "source": [
    "An array has many useful properties"
   ]
  },
  {
   "cell_type": "code",
   "execution_count": 8,
   "metadata": {},
   "outputs": [
    {
     "name": "stdout",
     "output_type": "stream",
     "text": [
      "shape: (2, 3)\n",
      "number of dimensions: 2\n"
     ]
    }
   ],
   "source": [
    "print(\"shape:\", a2.shape)\n",
    "print(\"number of dimensions:\", a2.ndim)\n"
   ]
  },
  {
   "cell_type": "markdown",
   "metadata": {},
   "source": [
    "Access the array elemnst with index notation."
   ]
  },
  {
   "cell_type": "code",
   "execution_count": 7,
   "metadata": {},
   "outputs": [
    {
     "name": "stdout",
     "output_type": "stream",
     "text": [
      "element in first row first column: 1\n",
      "type: <class 'numpy.int64'>\n"
     ]
    }
   ],
   "source": [
    "print(\"element in first row first column:\", a2[0,0])\n",
    "print(\"type:\", type(a2[0,0]))"
   ]
  },
  {
   "cell_type": "markdown",
   "metadata": {},
   "source": [
    "Create numpy arrays using numpy functions"
   ]
  },
  {
   "cell_type": "code",
   "execution_count": 10,
   "metadata": {},
   "outputs": [
    {
     "data": {
      "text/plain": [
       "array([0., 0., 0.])"
      ]
     },
     "execution_count": 10,
     "metadata": {},
     "output_type": "execute_result"
    }
   ],
   "source": [
    "np_zeros = np.zeros(3) # initialise with all elements with value 0\n",
    "np_zeros"
   ]
  },
  {
   "cell_type": "code",
   "execution_count": 11,
   "metadata": {},
   "outputs": [
    {
     "data": {
      "text/plain": [
       "array([1., 1., 1.])"
      ]
     },
     "execution_count": 11,
     "metadata": {},
     "output_type": "execute_result"
    }
   ],
   "source": [
    "np_ones = np.ones(3) # # initialise with all elements with value 1\n",
    "np_ones"
   ]
  },
  {
   "cell_type": "code",
   "execution_count": 13,
   "metadata": {},
   "outputs": [
    {
     "data": {
      "text/plain": [
       "array([ 1.5786748 , -0.56674104, -0.42957394, -0.73846063, -0.79449132])"
      ]
     },
     "execution_count": 13,
     "metadata": {},
     "output_type": "execute_result"
    }
   ],
   "source": [
    "# Create an numpy array  with a set of random values\n",
    "np_random_normal = np.random.randn(5) # standard normal distribution\n",
    "np_random_normal"
   ]
  },
  {
   "cell_type": "code",
   "execution_count": 14,
   "metadata": {},
   "outputs": [
    {
     "data": {
      "text/plain": [
       "array([5, 4, 1, 5, 1, 1, 5, 3, 4, 3], dtype=int32)"
      ]
     },
     "execution_count": 14,
     "metadata": {},
     "output_type": "execute_result"
    }
   ],
   "source": [
    "# simulate 10 throws of a fair die - a discrete, uniform distribution\n",
    "dice_throws = np.random.randint(low = 1, high = 6, size = 10) \n",
    "dice_throws"
   ]
  },
  {
   "cell_type": "markdown",
   "metadata": {},
   "source": [
    "Create a 2D array with random values"
   ]
  },
  {
   "cell_type": "code",
   "execution_count": 16,
   "metadata": {},
   "outputs": [
    {
     "name": "stdout",
     "output_type": "stream",
     "text": [
      "array:\n",
      " [[-0.77778751  1.05493573]\n",
      " [-0.24322534 -1.06412731]\n",
      " [-0.00541027 -1.47459934]\n",
      " [-0.16191043  1.33885742]]\n",
      "shape: (4, 2)\n"
     ]
    }
   ],
   "source": [
    "\n",
    "a2 = np.random.randn(4, 2) \n",
    "print(\"array:\\n\", a2) \n",
    "print(\"shape:\", a2.shape)"
   ]
  },
  {
   "cell_type": "markdown",
   "metadata": {},
   "source": [
    "## Operate on numpy arrays\n",
    "We can take advantage of element-wise operations. We don't need to loop through the elements of the array."
   ]
  },
  {
   "cell_type": "markdown",
   "metadata": {},
   "source": [
    "Add (or multiply, subtract, divide...) a constant scalar value to each element in the array"
   ]
  },
  {
   "cell_type": "code",
   "execution_count": 17,
   "metadata": {},
   "outputs": [
    {
     "data": {
      "text/plain": [
       "(array([ 1,  4,  9, 16, 25]), array([11, 14, 19, 26, 35]))"
      ]
     },
     "execution_count": 17,
     "metadata": {},
     "output_type": "execute_result"
    }
   ],
   "source": [
    "np_squares, np_squares + 10"
   ]
  },
  {
   "cell_type": "markdown",
   "metadata": {},
   "source": [
    "Add (or multiply...) two arrays.  This is an element-wise operation.  The arrays must be the same size."
   ]
  },
  {
   "cell_type": "code",
   "execution_count": 18,
   "metadata": {},
   "outputs": [
    {
     "name": "stdout",
     "output_type": "stream",
     "text": [
      "add two arrays: [33 44 55]\n",
      "multiply two arrays: [ 90 160 250]\n"
     ]
    }
   ],
   "source": [
    "a = np.array([3,4,5])\n",
    "b = np.array([30,40,50])\n",
    "print(\"add two arrays:\", a + b)\n",
    "print(\"multiply two arrays:\", a * b)\n"
   ]
  },
  {
   "cell_type": "markdown",
   "metadata": {},
   "source": [
    "## Filter arrays with boolean expressions"
   ]
  },
  {
   "cell_type": "markdown",
   "metadata": {},
   "source": [
    "A boolean expresion on an array will return an array of booleans the same length as the array."
   ]
  },
  {
   "cell_type": "code",
   "execution_count": 19,
   "metadata": {},
   "outputs": [
    {
     "data": {
      "text/plain": [
       "array([ True,  True,  True, False, False])"
      ]
     },
     "execution_count": 19,
     "metadata": {},
     "output_type": "execute_result"
    }
   ],
   "source": [
    "np_squares = np.array([1, 4, 9, 16, 25])\n",
    "np_squares < 15"
   ]
  },
  {
   "cell_type": "markdown",
   "metadata": {},
   "source": [
    "We can use this boolean array in slice notation to returns a smaller array with only those elements that meet the criteria."
   ]
  },
  {
   "cell_type": "code",
   "execution_count": 20,
   "metadata": {},
   "outputs": [
    {
     "data": {
      "text/plain": [
       "array([1, 4, 9])"
      ]
     },
     "execution_count": 20,
     "metadata": {},
     "output_type": "execute_result"
    }
   ],
   "source": [
    "np_squares[np_squares < 15]"
   ]
  },
  {
   "cell_type": "markdown",
   "metadata": {},
   "source": [
    "## Slicing and Indexing Arrays"
   ]
  },
  {
   "cell_type": "markdown",
   "metadata": {},
   "source": [
    "We can index and slice array in the usual fashion."
   ]
  },
  {
   "cell_type": "code",
   "execution_count": 21,
   "metadata": {},
   "outputs": [
    {
     "data": {
      "text/plain": [
       "array([ 9, 16])"
      ]
     },
     "execution_count": 21,
     "metadata": {},
     "output_type": "execute_result"
    }
   ],
   "source": [
    "# returns the element at index 2\n",
    "indexed = np_squares[2] \n",
    "indexed"
   ]
  },
  {
   "cell_type": "code",
   "execution_count": null,
   "metadata": {},
   "outputs": [],
   "source": [
    "# returns the elements from index 2 to 4 (not including 4)\n",
    "sliced = np_squares[2:4] \n",
    "sliced"
   ]
  },
  {
   "cell_type": "markdown",
   "metadata": {},
   "source": [
    "## Math (aggregaton) operations\n",
    "\n",
    "We can aggregate array of numeric elements.\n"
   ]
  },
  {
   "cell_type": "code",
   "execution_count": 23,
   "metadata": {},
   "outputs": [
    {
     "name": "stdout",
     "output_type": "stream",
     "text": [
      "np_squares: [ 1  4  9 16 25]\n",
      "total sum: 55\n",
      "smallest value: 1\n",
      "largest value: 25\n",
      "average: 11.0\n"
     ]
    }
   ],
   "source": [
    "print(\"np_squares:\", np_squares)\n",
    "print(\"total sum:\", np_squares.sum())\n",
    "print(\"smallest value:\", np_squares.min())\n",
    "print(\"largest value:\", np_squares.max())\n",
    "print(\"average:\", np_squares.mean())\n"
   ]
  },
  {
   "cell_type": "markdown",
   "metadata": {},
   "source": [
    "## Reshape Arrays"
   ]
  },
  {
   "cell_type": "code",
   "execution_count": 25,
   "metadata": {},
   "outputs": [
    {
     "name": "stdout",
     "output_type": "stream",
     "text": [
      "evens\n",
      " [ 2  4  6  8 10 12 14 16 18 20 22 24]\n",
      "shape: (12,)\n"
     ]
    }
   ],
   "source": [
    "evens = np.arange(2, 26, 2) # start at 2, stop before 26, step by 2\n",
    "print(\"evens\\n\", evens)\n",
    "print(\"shape:\", evens.shape) # note the trailing comma in the result to indicate a tuple of 1 element"
   ]
  },
  {
   "cell_type": "code",
   "execution_count": 26,
   "metadata": {},
   "outputs": [
    {
     "name": "stdout",
     "output_type": "stream",
     "text": [
      "reshaped\n",
      " [[ 2  4  6  8]\n",
      " [10 12 14 16]\n",
      " [18 20 22 24]]\n",
      "shape: (3, 4)\n"
     ]
    }
   ],
   "source": [
    "reshaped = evens.reshape(3, 4) # reshape to 3 rows, 4 columns\n",
    "print(\"reshaped\\n\", reshaped)\n",
    "print(\"shape:\", reshaped.shape)"
   ]
  },
  {
   "cell_type": "markdown",
   "metadata": {},
   "source": [
    "# Stack Arrays"
   ]
  },
  {
   "cell_type": "code",
   "execution_count": 27,
   "metadata": {},
   "outputs": [
    {
     "name": "stdout",
     "output_type": "stream",
     "text": [
      "array1\n",
      " [[1 2 3]\n",
      " [4 5 6]]\n",
      "array2\n",
      " [[ 7  8  9]\n",
      " [10 11 12]]\n"
     ]
    }
   ],
   "source": [
    "# Create a couple of 2D arrays\n",
    "array1 = np.array([[1,2,3], [4,5,6]])\n",
    "array2 = np.array([[7,8,9], [10,11,12]])\n",
    "print(\"array1\\n\", array1)\n",
    "print(\"array2\\n\", array2)\n"
   ]
  },
  {
   "cell_type": "code",
   "execution_count": 28,
   "metadata": {},
   "outputs": [
    {
     "name": "stdout",
     "output_type": "stream",
     "text": [
      "vstacked\n",
      " [[ 1  2  3]\n",
      " [ 4  5  6]\n",
      " [ 7  8  9]\n",
      " [10 11 12]]\n"
     ]
    }
   ],
   "source": [
    "# Stack vertically\n",
    "vstacked = np.vstack((array1, array2)) \n",
    "print(\"vstacked\\n\", vstacked)"
   ]
  },
  {
   "cell_type": "code",
   "execution_count": 29,
   "metadata": {},
   "outputs": [
    {
     "name": "stdout",
     "output_type": "stream",
     "text": [
      "hstacked\n",
      " [[ 1  2  3  7  8  9]\n",
      " [ 4  5  6 10 11 12]]\n"
     ]
    }
   ],
   "source": [
    "# Stack horizontally\n",
    "hstacked = np.hstack((array1, array2))\n",
    "print(\"hstacked\\n\", hstacked)"
   ]
  }
 ],
 "metadata": {
  "kernelspec": {
   "display_name": ".venv",
   "language": "python",
   "name": "python3"
  },
  "language_info": {
   "codemirror_mode": {
    "name": "ipython",
    "version": 3
   },
   "file_extension": ".py",
   "mimetype": "text/x-python",
   "name": "python",
   "nbconvert_exporter": "python",
   "pygments_lexer": "ipython3",
   "version": "3.12.1"
  },
  "orig_nbformat": 2
 },
 "nbformat": 4,
 "nbformat_minor": 2
}
