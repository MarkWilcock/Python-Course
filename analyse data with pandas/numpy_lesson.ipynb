{
 "cells": [
  {
   "cell_type": "markdown",
   "metadata": {},
   "source": [
    "# Lesson: numpy Package\n",
    "\n",
    "numpy is a very important package, described as \"the fundamental package for scientific computing with Python\". It is the underpinning for pandas and many AI and ML packages.\n",
    "\n",
    "It provides the np.ndarray data type (array for short). Unlike lists, all the element in arrays must be the same data type (usually ints or float). We can do element-wise operations on these arrays to make our code simpler and shorter.  Operations on arrays work a lot faster than operations on lists.\n"
   ]
  },
  {
   "cell_type": "code",
   "execution_count": null,
   "metadata": {},
   "outputs": [],
   "source": [
    "import numpy as np"
   ]
  },
  {
   "cell_type": "markdown",
   "metadata": {},
   "source": [
    "## Create numpy arrays"
   ]
  },
  {
   "cell_type": "code",
   "execution_count": null,
   "metadata": {},
   "outputs": [],
   "source": [
    "# Create an numpy array from a list\n",
    "np_squares = np.array([1, 4, 9, 16, 25])\n",
    "np_squares, type(np_squares) "
   ]
  },
  {
   "cell_type": "code",
   "execution_count": null,
   "metadata": {},
   "outputs": [],
   "source": [
    "#  A numpy array can also be 2 or more dimensions\n",
    "list_of_lists = [[1,2,3], [4,5,6]]\n",
    "a2 = np.array(list_of_lists) # from a list of lists\n",
    "a2, a2.shape, a2.ndim, a2[0,0], type(a2[0,0])"
   ]
  },
  {
   "cell_type": "code",
   "execution_count": null,
   "metadata": {},
   "outputs": [],
   "source": [
    "# Create numpy arrays using numpy functions\n",
    "a = np.zeros(3) # initialise with all elements with value 0\n",
    "b = np.ones(3) # # initialise with all elements with value 1\n",
    "a, b, type(a), type(a[0])"
   ]
  },
  {
   "cell_type": "code",
   "execution_count": null,
   "metadata": {},
   "outputs": [],
   "source": [
    "# Create an numpy array  with a set of random values\n",
    "c = np.random.randn(5) # standard normal distribution\n",
    "d = np.random.randint(low = 100, high = 200, size = 6) # discrete, uniform distribution\n",
    "c, d"
   ]
  },
  {
   "cell_type": "code",
   "execution_count": null,
   "metadata": {},
   "outputs": [],
   "source": [
    "# Create a 2D array with random values\n",
    "a2 = np.random.randn(4, 2) \n",
    "a2, a2.shape"
   ]
  },
  {
   "cell_type": "markdown",
   "metadata": {},
   "source": [
    "## Operate on numpy arrays\n",
    "We can take advantage of element-wise operations. We don't need to loop through the elements of the array."
   ]
  },
  {
   "cell_type": "code",
   "execution_count": null,
   "metadata": {},
   "outputs": [],
   "source": [
    "#  Add (or multiply, subtract, divide...) a constant value to each element in the array\n",
    "np_squares = np.array([1, 4, 9, 16, 25])\n",
    "np_squares, np_squares + 10"
   ]
  },
  {
   "cell_type": "code",
   "execution_count": null,
   "metadata": {},
   "outputs": [],
   "source": [
    "#  Add (or multiply...)  two arrays\n",
    "a = np.array([3,4,5])\n",
    "b = np.array([30,40,50])\n",
    "a + b, a* b"
   ]
  },
  {
   "cell_type": "markdown",
   "metadata": {},
   "source": [
    "## Filter arrays with boolean expressions"
   ]
  },
  {
   "cell_type": "code",
   "execution_count": null,
   "metadata": {},
   "outputs": [],
   "source": [
    "np_squares = np.array([1, 4, 9, 16, 25])\n",
    "np_squares < 15 # return an array of booleans the same length as the array"
   ]
  },
  {
   "cell_type": "code",
   "execution_count": null,
   "metadata": {},
   "outputs": [],
   "source": [
    "np_squares[np_squares < 15] # returns a smaller array with only those elements that meet the criteria"
   ]
  },
  {
   "cell_type": "markdown",
   "metadata": {},
   "source": [
    "## Slicing and Indexing Arrays"
   ]
  },
  {
   "cell_type": "code",
   "execution_count": null,
   "metadata": {},
   "outputs": [],
   "source": [
    "np_squares = np.array([1, 4, 9, 16, 25])\n",
    "indexed = np_squares[2] # returns the element at index 2\n",
    "sliced = np_squares[2:4] # returns the elements from index 2 to 4 (not including 4)\n",
    "indexed, sliced"
   ]
  },
  {
   "cell_type": "markdown",
   "metadata": {},
   "source": [
    "## Math (aggregaton) operations\n"
   ]
  },
  {
   "cell_type": "code",
   "execution_count": null,
   "metadata": {},
   "outputs": [],
   "source": [
    "np_squares = np.array([1, 4, 9, 16, 25])\n",
    "np_squares.min(), np_squares.max(), np_squares.mean(), np_squares.std()"
   ]
  },
  {
   "cell_type": "markdown",
   "metadata": {},
   "source": [
    "## Reshape Arrays"
   ]
  },
  {
   "cell_type": "code",
   "execution_count": null,
   "metadata": {},
   "outputs": [],
   "source": [
    "evens = np.arange(2, 26, 2) # start at 2, stop before 26, step by 2\n",
    "evens, evens.shape"
   ]
  },
  {
   "cell_type": "code",
   "execution_count": null,
   "metadata": {},
   "outputs": [],
   "source": [
    "evens.reshape(3, 4) # reshape to 3 rows, 4 columns"
   ]
  },
  {
   "cell_type": "markdown",
   "metadata": {},
   "source": [
    "# Stack Arrays"
   ]
  },
  {
   "cell_type": "code",
   "execution_count": null,
   "metadata": {},
   "outputs": [],
   "source": [
    "# Create a couple of 2D arrays\n",
    "arr1 = np.array([[1,2,3], [4,5,6]])\n",
    "arr2 = np.array([[7,8,9], [10,11,12]])\n",
    "arr1, arr2"
   ]
  },
  {
   "cell_type": "code",
   "execution_count": null,
   "metadata": {},
   "outputs": [],
   "source": [
    "# Stack vertically\n",
    "np.vstack((arr1, arr2)) # stack vertically"
   ]
  },
  {
   "cell_type": "code",
   "execution_count": null,
   "metadata": {},
   "outputs": [],
   "source": [
    "# Stack horizontally\n",
    "np.hstack((arr1, arr2)) # stack horizontally"
   ]
  }
 ],
 "metadata": {
  "kernelspec": {
   "display_name": ".venv",
   "language": "python",
   "name": "python3"
  },
  "language_info": {
   "codemirror_mode": {
    "name": "ipython",
    "version": 3
   },
   "file_extension": ".py",
   "mimetype": "text/x-python",
   "name": "python",
   "nbconvert_exporter": "python",
   "pygments_lexer": "ipython3",
   "version": "3.11.2"
  },
  "orig_nbformat": 2
 },
 "nbformat": 4,
 "nbformat_minor": 2
}
