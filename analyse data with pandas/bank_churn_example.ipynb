{
 "cells": [
  {
   "cell_type": "markdown",
   "metadata": {
    "id": "zr3CaKWciPw5"
   },
   "source": [
    "# Bank Churn Analysis"
   ]
  },
  {
   "cell_type": "markdown",
   "metadata": {
    "id": "sHwWm53ViUCO"
   },
   "source": [
    "## Data Load"
   ]
  },
  {
   "cell_type": "code",
   "execution_count": null,
   "metadata": {
    "executionInfo": {
     "elapsed": 5,
     "status": "ok",
     "timestamp": 1739203459827,
     "user": {
      "displayName": "Mark Wilcock",
      "userId": "01289097066483342066"
     },
     "user_tz": 0
    },
    "id": "D8pBDujgH8ac"
   },
   "outputs": [],
   "source": [
    "import pandas as pd\n",
    "from matplotlib import pyplot as plt\n",
    "import seaborn as sns\n"
   ]
  },
  {
   "cell_type": "code",
   "execution_count": null,
   "metadata": {
    "executionInfo": {
     "elapsed": 11,
     "status": "ok",
     "timestamp": 1739203459861,
     "user": {
      "displayName": "Mark Wilcock",
      "userId": "01289097066483342066"
     },
     "user_tz": 0
    },
    "id": "jqxHCleDiW8_"
   },
   "outputs": [],
   "source": []
  },
  {
   "cell_type": "code",
   "execution_count": null,
   "metadata": {
    "colab": {
     "base_uri": "https://localhost:8080/",
     "height": 35
    },
    "executionInfo": {
     "elapsed": 7,
     "status": "ok",
     "timestamp": 1739203459872,
     "user": {
      "displayName": "Mark Wilcock",
      "userId": "01289097066483342066"
     },
     "user_tz": 0
    },
    "id": "Pc3uwW5bG206",
    "outputId": "2d82fd08-8210-498e-ddf6-544335128b50"
   },
   "outputs": [],
   "source": [
    "data_url = \"https://zomalextrainingstorage.blob.core.windows.net/datasets/misc/Churn.csv\"\n",
    "data_url"
   ]
  },
  {
   "cell_type": "code",
   "execution_count": null,
   "metadata": {
    "colab": {
     "base_uri": "https://localhost:8080/",
     "height": 424
    },
    "executionInfo": {
     "elapsed": 1296,
     "status": "ok",
     "timestamp": 1739203461169,
     "user": {
      "displayName": "Mark Wilcock",
      "userId": "01289097066483342066"
     },
     "user_tz": 0
    },
    "id": "cNlP-iCNHras",
    "outputId": "791acfe0-161d-4b1c-b9c4-86f392e579dc"
   },
   "outputs": [],
   "source": [
    "df = pd.read_csv(data_url)\n",
    "df"
   ]
  },
  {
   "cell_type": "markdown",
   "metadata": {
    "id": "9gDWHNFjiYcD"
   },
   "source": [
    "## Data Cleaning"
   ]
  },
  {
   "cell_type": "code",
   "execution_count": null,
   "metadata": {
    "colab": {
     "base_uri": "https://localhost:8080/",
     "height": 206
    },
    "executionInfo": {
     "elapsed": 104,
     "status": "ok",
     "timestamp": 1739203467158,
     "user": {
      "displayName": "Mark Wilcock",
      "userId": "01289097066483342066"
     },
     "user_tz": 0
    },
    "id": "xzo0mtpriNoG",
    "outputId": "9afb7e19-eff3-442e-d04e-5488f26e7295"
   },
   "outputs": [],
   "source": [
    "# Write the Python code to add a new column RemainOrLeave.  The values are based on Exited - 'Remain' from 0, 'Leave' from 1\n",
    "#df['RemainOrLeave'] = df['Exited'].apply(lambda x: 'Remain' if x == 0 else 'Leave')\n",
    "df['RemainOrLeave'] = df['Exited'].map({0: 'Remain', 1: 'Leave'})\n",
    "columns_to_drop = [\"RowNumber\", \"CustomerId\", \"Surname\"]\n",
    "df.drop(columns=columns_to_drop, inplace=True)\n",
    "df.head()"
   ]
  },
  {
   "cell_type": "markdown",
   "metadata": {
    "id": "UhLRvHG1icbW"
   },
   "source": [
    "## Data Viz"
   ]
  },
  {
   "cell_type": "code",
   "execution_count": null,
   "metadata": {
    "id": "HEH7LAqOQEz5"
   },
   "outputs": [],
   "source": [
    "df.groupby('Geography').size().plot(kind='barh', color=sns.palettes.mpl_palette('Dark2'))"
   ]
  },
  {
   "cell_type": "code",
   "execution_count": null,
   "metadata": {
    "id": "ggq_dTQyNDJc"
   },
   "outputs": [],
   "source": [
    "df['Age'].plot(kind='hist', bins=20, title='Age',color='red')\n",
    "#plt.gca().spines[['top', 'right',]].set_visible(False)"
   ]
  },
  {
   "cell_type": "code",
   "execution_count": null,
   "metadata": {
    "id": "J848sw2GJ2b6"
   },
   "outputs": [],
   "source": [
    "df['CreditScore'].plot(kind='hist', bins=50, title='Credit Score')"
   ]
  },
  {
   "cell_type": "code",
   "execution_count": null,
   "metadata": {
    "collapsed": true,
    "id": "xR0eC8E0Vo6p"
   },
   "outputs": [],
   "source": [
    "\n",
    "plt.figure(figsize=(8, 6))  # Adjust figure size for better visualization\n",
    "sns.countplot(x='Geography', data=df, palette='Dark2') # Use countplot for better aesthetics\n",
    "plt.title('Number of Customers by Geography')\n",
    "plt.xlabel('Geography')\n",
    "plt.ylabel('Number of Customers')\n",
    "plt.xticks(rotation=0, ha='right') # Rotate x-axis labels for readability\n",
    "plt.show()\n"
   ]
  },
  {
   "cell_type": "code",
   "execution_count": null,
   "metadata": {
    "id": "Iup7IqT9YPl4"
   },
   "outputs": [],
   "source": [
    "plt.figure(figsize=(8, 6))  # Adjust figure size for better visualization\n",
    "sns.countplot(x='Geography', data=df, legend=False, hue = 'Exited') # Use countplot for better aesthetics\n",
    "plt.title('Number of Customers by Geography')\n",
    "plt.xlabel('Geography')\n",
    "plt.ylabel('Number of Customers')\n",
    "plt.xticks(rotation=0, ha='right') # Rotate x-axis labels for readability\n",
    "plt.show()\n"
   ]
  },
  {
   "cell_type": "code",
   "execution_count": null,
   "metadata": {
    "id": "PHZ5YiBpcKYO"
   },
   "outputs": [],
   "source": [
    "import matplotlib.pyplot as plt\n",
    "import seaborn as sns\n",
    "\n",
    "plt.figure(figsize=(8, 6))  # Adjust figure size for better visualization\n",
    "ax = sns.countplot(x='Geography', data=df, hue='RemainOrLeave')  # Assign plot to ax\n",
    "\n",
    "# Add data labels\n",
    "for container in ax.containers:\n",
    "    ax.bar_label(container, fmt='%d', label_type='edge', fontsize=12, padding=3)\n",
    "\n",
    "plt.title('Number of Customers by Geography')\n",
    "plt.xlabel('Geography')\n",
    "plt.ylabel('Number of Customers')\n",
    "plt.xticks(rotation=0, ha='right')  # Rotate x-axis labels for readability\n",
    "plt.show()\n"
   ]
  }
 ],
 "metadata": {
  "colab": {
   "authorship_tag": "ABX9TyO77VAkgLebgTQdqUEM3KUc",
   "provenance": []
  },
  "kernelspec": {
   "display_name": ".venv",
   "language": "python",
   "name": "python3"
  },
  "language_info": {
   "codemirror_mode": {
    "name": "ipython",
    "version": 3
   },
   "file_extension": ".py",
   "mimetype": "text/x-python",
   "name": "python",
   "nbconvert_exporter": "python",
   "pygments_lexer": "ipython3",
   "version": "3.12.3"
  }
 },
 "nbformat": 4,
 "nbformat_minor": 0
}
