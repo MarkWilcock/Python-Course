{
 "cells": [
  {
   "cell_type": "markdown",
   "metadata": {},
   "source": [
    "# pandas exercise 4\n",
    "This covers\n",
    "* merge DataFrames"
   ]
  },
  {
   "cell_type": "code",
   "execution_count": null,
   "metadata": {},
   "outputs": [],
   "source": [
    "import pandas as pd"
   ]
  },
  {
   "cell_type": "markdown",
   "metadata": {},
   "source": [
    "The example in this section use the DataFrames, defined below."
   ]
  },
  {
   "cell_type": "code",
   "execution_count": null,
   "metadata": {},
   "outputs": [],
   "source": [
    "df_names = pd.DataFrame({\n",
    "    'id': [1, 2, 3, 4],\n",
    "    'name': ['Alice', 'Bob', 'Charlie', 'David']\n",
    "})\n",
    "\n",
    "df_ages = pd.DataFrame({\n",
    "    'id': [3, 4, 5, 6],\n",
    "    'age': [25, 30, 35, 40]\n",
    "})\n",
    "\n",
    "df_cities = pd.DataFrame({\n",
    "    'identifier': [3, 4, 5],\n",
    "    'city': ['London', 'Leeds', 'Manchester']\n",
    "})\n"
   ]
  },
  {
   "cell_type": "markdown",
   "metadata": {},
   "source": [
    "Use the pandas merge method to join these two datasets.  The default merge does an inner join."
   ]
  },
  {
   "cell_type": "code",
   "execution_count": null,
   "metadata": {},
   "outputs": [],
   "source": [
    "# Write your code here\n"
   ]
  },
  {
   "cell_type": "markdown",
   "metadata": {},
   "source": [
    "Change the value of the how argument to 'left', 'right', then 'outer' and explain why certain rows appear in the resulting DataFrame."
   ]
  },
  {
   "cell_type": "code",
   "execution_count": null,
   "metadata": {},
   "outputs": [],
   "source": [
    "# Write your code here\n"
   ]
  },
  {
   "cell_type": "markdown",
   "metadata": {},
   "source": [
    "If the columns that we want to merge on in the two DataFrames have different names, we can use the left_on and right_on arguments.  \n",
    "Merge the df_names and df_cities DataFrames on id / identifier columns"
   ]
  },
  {
   "cell_type": "code",
   "execution_count": null,
   "metadata": {},
   "outputs": [],
   "source": [
    "# Write your code here\n"
   ]
  },
  {
   "cell_type": "markdown",
   "metadata": {},
   "source": [
    "We can merge on the index values.  For the next section, we set the index of the df_names and df_ages to be the values of the id column. (Note that the id column is removed.)  "
   ]
  },
  {
   "cell_type": "code",
   "execution_count": null,
   "metadata": {},
   "outputs": [],
   "source": [
    "# set the index of the dataframes and show the dataframes now have id as the index and no longer as a column\n",
    "df_names.set_index('id', inplace=True)\n",
    "df_ages.set_index('id', inplace=True)\n",
    "print(\"df_names\\n\", df_names)\n",
    "print(\"df_ages\\n\", df_ages)"
   ]
  },
  {
   "cell_type": "markdown",
   "metadata": {},
   "source": [
    "Merge the re-indexed df_names and df_ages DataFrames.  Use \n",
    "\n",
    "> left_index=True, right_index=True\n",
    "\n",
    "arguments to indicate that you want to merge on the index values."
   ]
  },
  {
   "cell_type": "code",
   "execution_count": null,
   "metadata": {},
   "outputs": [],
   "source": [
    "# Write your code here\n"
   ]
  }
 ],
 "metadata": {
  "kernelspec": {
   "display_name": ".venv",
   "language": "python",
   "name": "python3"
  },
  "language_info": {
   "codemirror_mode": {
    "name": "ipython",
    "version": 3
   },
   "file_extension": ".py",
   "mimetype": "text/x-python",
   "name": "python",
   "nbconvert_exporter": "python",
   "pygments_lexer": "ipython3",
   "version": "3.12.3"
  }
 },
 "nbformat": 4,
 "nbformat_minor": 2
}
