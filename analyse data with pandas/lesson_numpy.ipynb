{
 "cells": [
  {
   "cell_type": "markdown",
   "metadata": {},
   "source": [
    "# numpy Package\n",
    "\n",
    "numpy is a very important package in Python. It provides the np.ndarray data type (array for short). Unlike lists, all the element in arrays must be the same data type (usually  ints or float). We can do element-wise operations on these arrays to make our code simpler & shorter.\n",
    "Operatons on arrays work a lot faster than operations on lists.\n"
   ]
  },
  {
   "cell_type": "code",
   "execution_count": 2,
   "metadata": {},
   "outputs": [],
   "source": [
    "import numpy as np"
   ]
  },
  {
   "cell_type": "code",
   "execution_count": 6,
   "metadata": {},
   "outputs": [
    {
     "data": {
      "text/plain": [
       "(array([0., 0., 0.]), array([1., 1., 1.]), numpy.ndarray, numpy.float64)"
      ]
     },
     "execution_count": 6,
     "metadata": {},
     "output_type": "execute_result"
    }
   ],
   "source": [
    "# Create numpy arrays\n",
    "a = np.zeros(3) # initialise with all elements with value 0\n",
    "b = np.ones(3) # # initialise with all elements with value 1\n",
    "a, b, type(a), type(a[0])"
   ]
  },
  {
   "cell_type": "code",
   "execution_count": 8,
   "metadata": {},
   "outputs": [
    {
     "data": {
      "text/plain": [
       "(array([ 1,  4,  9, 16, 25]), numpy.ndarray)"
      ]
     },
     "execution_count": 8,
     "metadata": {},
     "output_type": "execute_result"
    }
   ],
   "source": [
    "# Create an numpy array from a list\n",
    "np_squares = np.array([1, 4, 9, 16, 25])\n",
    "np_squares, type(np_squares) "
   ]
  },
  {
   "cell_type": "code",
   "execution_count": 9,
   "metadata": {},
   "outputs": [
    {
     "data": {
      "text/plain": [
       "(array([-1.52960732, -0.07574867, -0.15655135, -0.62838012,  0.31657364]),\n",
       " array([154, 105, 161, 158, 144, 115]))"
      ]
     },
     "execution_count": 9,
     "metadata": {},
     "output_type": "execute_result"
    }
   ],
   "source": [
    "# Create an numpy array  with a set of random values\n",
    "a = np.random.randn(5) # standard normal distribution\n",
    "b = np.random.randint(low = 100, high = 200, size = 6) # discrete, uniform distribution\n",
    "a, b"
   ]
  },
  {
   "cell_type": "code",
   "execution_count": 10,
   "metadata": {},
   "outputs": [
    {
     "data": {
      "text/plain": [
       "(5,)"
      ]
     },
     "execution_count": 10,
     "metadata": {},
     "output_type": "execute_result"
    }
   ],
   "source": [
    "# Examine numpy arrays\n",
    "np_squares.shape # This array has one dimension"
   ]
  },
  {
   "cell_type": "code",
   "execution_count": 16,
   "metadata": {},
   "outputs": [
    {
     "data": {
      "text/plain": [
       "((2, 3), 2)"
      ]
     },
     "execution_count": 16,
     "metadata": {},
     "output_type": "execute_result"
    }
   ],
   "source": [
    "#  A numpy array can also be 2 or more dimensions\n",
    "list_of_lists = [[1,2,3], [4,5,6]]\n",
    "a2 = np.array(list_of_lists) # from a list of lists\n",
    "a2.shape, a2.ndim # 2 dimensions"
   ]
  },
  {
   "cell_type": "code",
   "execution_count": 17,
   "metadata": {},
   "outputs": [
    {
     "data": {
      "text/plain": [
       "(array([[ 1.03908929,  1.43154874, -0.67012927],\n",
       "        [-0.09570645,  0.59901196,  1.4657608 ],\n",
       "        [ 0.64719777, -0.38611462,  1.63005971],\n",
       "        [-1.72268592,  0.91067423, -0.30783799]]),\n",
       " (4, 3))"
      ]
     },
     "execution_count": 17,
     "metadata": {},
     "output_type": "execute_result"
    }
   ],
   "source": [
    "a2 = np.random.randn(4, 3) \n",
    "a2, a2.shape"
   ]
  },
  {
   "cell_type": "markdown",
   "metadata": {},
   "source": [
    "## Operate on numpy arrays\n",
    "We can take advantage of element-wise operations. We don't need to loop through the elements of the array."
   ]
  },
  {
   "cell_type": "code",
   "execution_count": 18,
   "metadata": {},
   "outputs": [
    {
     "data": {
      "text/plain": [
       "array([11, 14, 19, 26, 35])"
      ]
     },
     "execution_count": 18,
     "metadata": {},
     "output_type": "execute_result"
    }
   ],
   "source": [
    "#  Add (or multiply...) a constant value to each element in the array\n",
    "np_squares + 10"
   ]
  },
  {
   "cell_type": "code",
   "execution_count": 19,
   "metadata": {},
   "outputs": [
    {
     "data": {
      "text/plain": [
       "array([33, 44, 55])"
      ]
     },
     "execution_count": 19,
     "metadata": {},
     "output_type": "execute_result"
    }
   ],
   "source": [
    "#  Add (or multiply...)  two arrays\n",
    "a = np.array([3,4,5])\n",
    "b = np.array([30,40,50])\n",
    "a + b"
   ]
  },
  {
   "cell_type": "markdown",
   "metadata": {},
   "source": [
    "## Filter arrays"
   ]
  },
  {
   "cell_type": "code",
   "execution_count": 23,
   "metadata": {},
   "outputs": [
    {
     "data": {
      "text/plain": [
       "array([ True,  True,  True, False, False])"
      ]
     },
     "execution_count": 23,
     "metadata": {},
     "output_type": "execute_result"
    }
   ],
   "source": [
    "np_squares < 15 # return an array of booleans the same length as the array"
   ]
  },
  {
   "cell_type": "code",
   "execution_count": 24,
   "metadata": {},
   "outputs": [
    {
     "data": {
      "text/plain": [
       "array([1, 4, 9])"
      ]
     },
     "execution_count": 24,
     "metadata": {},
     "output_type": "execute_result"
    }
   ],
   "source": [
    "np_squares[np_squares < 15] # returns a smaller array with only those elements that meet the criteria"
   ]
  },
  {
   "cell_type": "markdown",
   "metadata": {},
   "source": [
    "### Exercise : calculate the BMI of these three people\n",
    "The BMI is the weight divided by the height squared\n"
   ]
  },
  {
   "cell_type": "code",
   "execution_count": 25,
   "metadata": {},
   "outputs": [
    {
     "data": {
      "text/plain": [
       "array([23.62028791, 24.21229339, 24.81632653])"
      ]
     },
     "execution_count": 25,
     "metadata": {},
     "output_type": "execute_result"
    }
   ],
   "source": [
    "weights = [74, 75, 76]\n",
    "heights = [1.77, 1.76, 1.75]\n",
    "\n",
    "w = np.array(weights)\n",
    "h = np.array(heights)\n",
    "def bmi(weight, height):\n",
    "    \"\"\"\n",
    "    Returns the body mass index of a person given the weight (kg) and height(m) \n",
    "    \"\"\"\n",
    "    return weight / (height * height)\n",
    "\n",
    "bmi(w, h)"
   ]
  },
  {
   "cell_type": "markdown",
   "metadata": {},
   "source": [
    "\n",
    "### Exercise:\n",
    "The numpy arrays below contain the results (the number of matches won, drawn and lost) of five teams\n",
    "\n",
    "1. Create a numpy array, team_played, to hold the number of games played \n",
    "2. Create a numpy array, team_score, to hold the teams scores (3 for a win, 1 for a draw, 0 for a loss)"
   ]
  },
  {
   "cell_type": "code",
   "execution_count": null,
   "metadata": {},
   "outputs": [],
   "source": [
    "team_won = np.array([4, 3, 1, 6, 3])\n",
    "team_drawn = np.array([2, 1, 1, 7, 2])\n",
    "team_lost = np.array([1, 3, 4, 5, 8])"
   ]
  },
  {
   "cell_type": "markdown",
   "metadata": {},
   "source": [
    "### Exercise: calculate the family size for each of these passengers\n",
    "The Titanic dataset a row for each passengers and has two integer columns sib_sp and parch\n",
    "To find the size of the family group. family_size, we add sib_sp to parch and add 1.\n",
    "Let's look at the  7 passengers.\n"
   ]
  },
  {
   "cell_type": "code",
   "execution_count": null,
   "metadata": {},
   "outputs": [],
   "source": [
    "titanic_sib_sp = [2, 0, 3, 1, 4, 0]\n",
    "titanic_parch = [1, 2, 1, 1, 2, 3]\n"
   ]
  },
  {
   "cell_type": "code",
   "execution_count": null,
   "metadata": {},
   "outputs": [],
   "source": [
    "# EXERCISE ANSWERS \n",
    "# EXERCISE ANSWERS \n",
    "# EXERCISE ANSWERS \n",
    "# EXERCISE ANSWERS \n",
    "# EXERCISE ANSWERS \n",
    "# EXERCISE ANSWERS \n",
    "# EXERCISE ANSWERS \n",
    "# EXERCISE ANSWERS \n",
    "# EXERCISE ANSWERS \n",
    "# EXERCISE ANSWERS \n",
    "# EXERCISE ANSWERS \n",
    "# EXERCISE ANSWERS \n",
    "# EXERCISE ANSWERS \n",
    "# EXERCISE ANSWERS \n",
    "# EXERCISE ANSWERS \n",
    "# EXERCISE ANSWERS \n",
    "# EXERCISE ANSWERS \n",
    "# EXERCISE ANSWERS \n",
    "# EXERCISE ANSWERS \n",
    "# EXERCISE ANSWERS \n",
    "# EXERCISE ANSWERS \n",
    "# EXERCISE ANSWERS \n",
    "# EXERCISE ANSWERS \n",
    "# EXERCISE ANSWERS \n",
    "# EXERCISE ANSWERS \n",
    "# EXERCISE ANSWERS \n",
    "# EXERCISE ANSWERS \n",
    "# EXERCISE ANSWERS \n",
    "# EXERCISE ANSWERS \n",
    "# EXERCISE ANSWERS \n",
    "# EXERCISE ANSWERS \n",
    "# EXERCISE ANSWERS \n",
    "# EXERCISE ANSWERS \n",
    "# EXERCISE ANSWERS \n",
    "# EXERCISE ANSWERS \n",
    "# EXERCISE ANSWERS \n",
    "# EXERCISE ANSWERS \n",
    "# EXERCISE ANSWERS \n",
    "# EXERCISE ANSWERS \n",
    "# EXERCISE ANSWERS \n"
   ]
  },
  {
   "cell_type": "code",
   "execution_count": null,
   "metadata": {},
   "outputs": [],
   "source": [
    "# football\n",
    "team_played = team_won + team_drawn + team_lost\n",
    "team_score = 3 * team_won + team_drawn\n",
    "\n",
    "# BMI\n",
    "np_weights = np.array(weights)\n",
    "np_heights = np.array(heights)\n",
    "np_weights / (np_heights * 2)\n",
    "\n",
    "# Titanic\n",
    "titanic_sib_sp_np = np.array(titanic_sib_sp)\n",
    "titanic_parch_np = np.array(titanic_parch)\n",
    "titanic_family_size_np = titanic_parch_np + titanic_sib_sp_np + 1\n"
   ]
  }
 ],
 "metadata": {
  "kernelspec": {
   "display_name": ".venv",
   "language": "python",
   "name": "python3"
  },
  "language_info": {
   "codemirror_mode": {
    "name": "ipython",
    "version": 3
   },
   "file_extension": ".py",
   "mimetype": "text/x-python",
   "name": "python",
   "nbconvert_exporter": "python",
   "pygments_lexer": "ipython3",
   "version": "3.11.2"
  },
  "orig_nbformat": 2
 },
 "nbformat": 4,
 "nbformat_minor": 2
}
