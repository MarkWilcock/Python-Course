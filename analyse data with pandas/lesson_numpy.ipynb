{
 "metadata": {
  "language_info": {
   "codemirror_mode": {
    "name": "ipython",
    "version": 3
   },
   "file_extension": ".py",
   "mimetype": "text/x-python",
   "name": "python",
   "nbconvert_exporter": "python",
   "pygments_lexer": "ipython3",
   "version": "3.9.2"
  },
  "orig_nbformat": 2,
  "kernelspec": {
   "name": "python392jvsc74a57bd08abb1f199d14c7f4bde2f9b20a5186bf36d429b95679315f95e5b318beb2c041",
   "display_name": "Python 3.9.2 64-bit ('.course-env')"
  }
 },
 "nbformat": 4,
 "nbformat_minor": 2,
 "cells": [
  {
   "source": [
    "# Basics of the Numpy Package\n",
    "Just enough numpy that we need to do our data analysis in pandas\n",
    "\n",
    "numpy is a very important package in Python. It provides the np.ndarray data type (array for short). Unlike lists, all the element in arrays must be the same data type (usually  ints or float). We can do element-wise operations on these arrays to make our code simpler & shorter.\n",
    "Operatons on arrays work a lot faster than operations on lists.\n"
   ],
   "cell_type": "markdown",
   "metadata": {}
  },
  {
   "cell_type": "code",
   "execution_count": null,
   "metadata": {},
   "outputs": [],
   "source": [
    "import numpy as np"
   ]
  },
  {
   "cell_type": "code",
   "execution_count": null,
   "metadata": {},
   "outputs": [],
   "source": [
    "# Create numpy arrays\n",
    "a = np.zeros(3) # initialise with all elements with value 0\n",
    "b = np.ones(3) # # initialise with all elements with value 1\n",
    "a\n",
    "type(a[0])\n"
   ]
  },
  {
   "cell_type": "code",
   "execution_count": null,
   "metadata": {},
   "outputs": [],
   "source": [
    "# Create an numpy array from a list\n",
    "np_squares = np.array([1, 4, 9, 16, 25])\n",
    "type(np_squares) # a n-dimensional array\n",
    "np_squares"
   ]
  },
  {
   "cell_type": "code",
   "execution_count": null,
   "metadata": {},
   "outputs": [],
   "source": [
    "# Create an numpy array  with a set of random values\n",
    "a = np.random.randn(5) # normal distribution\n",
    "a = np.random.randint(low = 100, high = 200, size = 6) # discrete, uniform distribution\n",
    "a"
   ]
  },
  {
   "cell_type": "code",
   "execution_count": null,
   "metadata": {},
   "outputs": [],
   "source": [
    "# Examine numpy arrays\n",
    "np_squares.shape # This array has one dimension"
   ]
  },
  {
   "cell_type": "code",
   "execution_count": null,
   "metadata": {},
   "outputs": [],
   "source": [
    "#  Aside: Array can also be 2  (or more) dimensions\n",
    "list_of_lists = [[1,2,3], [4,5,6]]\n",
    "a2 = np.array(list_of_lists) # from a list of lists\n",
    "a2.shape\n",
    "\n",
    "a2 = np.random.randn(5, 6) \n",
    "a2.shape"
   ]
  },
  {
   "source": [
    "## Operate on numpy arrays\n",
    "Take advantage of element-wise operations\n"
   ],
   "cell_type": "markdown",
   "metadata": {}
  },
  {
   "cell_type": "code",
   "execution_count": null,
   "metadata": {},
   "outputs": [],
   "source": [
    "#  Add (or multiply...) a constant value to each element in the array\n",
    "np_squares + 10"
   ]
  },
  {
   "cell_type": "code",
   "execution_count": null,
   "metadata": {},
   "outputs": [],
   "source": [
    "#  Add (or multiply...)  two arrays\n",
    "a = np.array([3,4,5])\n",
    "b = np.array([30,40,50])\n",
    "a + b"
   ]
  },
  {
   "cell_type": "code",
   "execution_count": null,
   "metadata": {},
   "outputs": [],
   "source": [
    "# Filter arrays\n",
    "np_squares < 15 # resturn an array of booleans the same length as the array\n",
    "np_squares[np_squares < 15] # returns a smmaler array with only those elements that meet the criteria"
   ]
  },
  {
   "source": [
    "### Exercise : calculate the BMI of these three people\n",
    "The BMI is the weight divided by the height squared\n"
   ],
   "cell_type": "markdown",
   "metadata": {}
  },
  {
   "cell_type": "code",
   "execution_count": null,
   "metadata": {},
   "outputs": [],
   "source": [
    "weights = [74, 75, 76]\n",
    "heights = [1.77, 1.76, 1.75]\n",
    "\n",
    "w = np.array(weights)\n",
    "h = np.array(heights)\n",
    "def bmi(height, weight):\n",
    "    \"\"\"\n",
    "    Returns the body mass index of a person given the weight (kg) and height(m) \n",
    "    \"\"\"\n",
    "    return weight / (height * height)\n",
    "\n",
    "bmi(h, w)"
   ]
  },
  {
   "source": [
    "\n",
    "### Exercise:\n",
    "The numpy arrays below contain the results (the number of matches won, drawn and lost) of five teams\n",
    "\n",
    "1. Create a numpy array, team_played, to hold the number of games played \n",
    "2. Create a numpy array, team_score, to hold the teams scores (3 for a win, 1 for a draw, 0 for a loss)"
   ],
   "cell_type": "markdown",
   "metadata": {}
  },
  {
   "cell_type": "code",
   "execution_count": null,
   "metadata": {},
   "outputs": [],
   "source": [
    "team_won = np.array([4, 3, 1, 6, 3])\n",
    "team_drawn = np.array([2, 1, 1, 7, 2])\n",
    "team_lost = np.array([1, 3, 4, 5, 8])"
   ]
  },
  {
   "source": [
    "### Exercise: calculate the family size for each of these passengers\n",
    "The Titanic dataset a row for each passengers and has two integer columns sib_sp and parch\n",
    "To find the size of the family group. family_size, we add sib_sp to parch and add 1.\n",
    "Let's look at the  7 passengers.\n"
   ],
   "cell_type": "markdown",
   "metadata": {}
  },
  {
   "cell_type": "code",
   "execution_count": null,
   "metadata": {},
   "outputs": [],
   "source": [
    "titanic_sib_sp = [2, 0, 3, 1, 4, 0]\n",
    "titanic_parch = [1, 2, 1, 1, 2, 3]\n"
   ]
  },
  {
   "cell_type": "code",
   "execution_count": null,
   "metadata": {},
   "outputs": [],
   "source": [
    "# EXERCISE ANSWERS \n",
    "# EXERCISE ANSWERS \n",
    "# EXERCISE ANSWERS \n",
    "# EXERCISE ANSWERS \n",
    "# EXERCISE ANSWERS \n",
    "# EXERCISE ANSWERS \n",
    "# EXERCISE ANSWERS \n",
    "# EXERCISE ANSWERS \n",
    "# EXERCISE ANSWERS \n",
    "# EXERCISE ANSWERS \n",
    "# EXERCISE ANSWERS \n",
    "# EXERCISE ANSWERS \n",
    "# EXERCISE ANSWERS \n",
    "# EXERCISE ANSWERS \n",
    "# EXERCISE ANSWERS \n",
    "# EXERCISE ANSWERS \n",
    "# EXERCISE ANSWERS \n",
    "# EXERCISE ANSWERS \n",
    "# EXERCISE ANSWERS \n",
    "# EXERCISE ANSWERS \n",
    "# EXERCISE ANSWERS \n",
    "# EXERCISE ANSWERS \n",
    "# EXERCISE ANSWERS \n",
    "# EXERCISE ANSWERS \n",
    "# EXERCISE ANSWERS \n",
    "# EXERCISE ANSWERS \n",
    "# EXERCISE ANSWERS \n",
    "# EXERCISE ANSWERS \n",
    "# EXERCISE ANSWERS \n",
    "# EXERCISE ANSWERS \n",
    "# EXERCISE ANSWERS \n",
    "# EXERCISE ANSWERS \n",
    "# EXERCISE ANSWERS \n",
    "# EXERCISE ANSWERS \n",
    "# EXERCISE ANSWERS \n",
    "# EXERCISE ANSWERS \n",
    "# EXERCISE ANSWERS \n",
    "# EXERCISE ANSWERS \n",
    "# EXERCISE ANSWERS \n",
    "# EXERCISE ANSWERS \n"
   ]
  },
  {
   "cell_type": "code",
   "execution_count": null,
   "metadata": {},
   "outputs": [],
   "source": [
    "# football\n",
    "team_played = team_won + team_drawn + team_lost\n",
    "team_score = 3 * team_won + team_drawn\n",
    "\n",
    "# BMI\n",
    "np_weights = np.array(weights)\n",
    "np_heights = np.array(heights)\n",
    "np_weights / (np_heights * 2)\n",
    "\n",
    "# Titanic\n",
    "titanic_sib_sp_np = np.array(titanic_sib_sp)\n",
    "titanic_parch_np = np.array(titanic_parch)\n",
    "titanic_family_size_np = titanic_parch_np + titanic_sib_sp_np + 1\n"
   ]
  },
  {
   "cell_type": "code",
   "execution_count": null,
   "metadata": {},
   "outputs": [],
   "source": []
  }
 ]
}