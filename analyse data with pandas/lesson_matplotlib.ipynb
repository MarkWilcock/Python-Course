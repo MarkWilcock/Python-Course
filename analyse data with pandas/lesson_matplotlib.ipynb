{
 "cells": [
  {
   "cell_type": "markdown",
   "metadata": {},
   "source": [
    "# Visualise Data with matplotlib\n",
    "\n",
    "matplotlib is the long standing and most popular visualisation module.\n",
    "Other visualisation packages are available (seaborn, bokeh) and may be a better choice.\n"
   ]
  },
  {
   "cell_type": "code",
   "execution_count": null,
   "metadata": {},
   "outputs": [],
   "source": [
    "import pandas as pd\n",
    "import matplotlib.pyplot as plt"
   ]
  },
  {
   "cell_type": "code",
   "execution_count": null,
   "metadata": {},
   "outputs": [],
   "source": [
    "SURVEY_DATA_URL = \"https://raw.githubusercontent.com/MarkWilcock/CourseDatasets/main/COVID%20Infection%20Survey/Covid%20Infection%20Survey%202021-02-12.csv\"\n",
    "survey = pd.read_csv(SURVEY_DATA_URL, parse_dates=[\"Date\"])\n",
    "survey.head(2)"
   ]
  },
  {
   "cell_type": "code",
   "execution_count": null,
   "metadata": {},
   "outputs": [],
   "source": [
    "# Create a line chart to show the change in the infection rate in London overtime\n",
    "fig, ax = plt.subplots()\n",
    "ax.plot(survey[\"Date\"], survey[\"London-Central\"], marker=\"o\", color=\"blue\")\n",
    "ax.plot(survey[\"Date\"], survey[\"London-Upper\"], marker=\"v\", color=\"grey\")\n",
    "ax.plot(survey[\"Date\"], survey[\"London-Lower\"], marker=\"v\", color=\"grey\")\n",
    "ax.set_xlabel(\"Date\")\n",
    "ax.set_ylabel(\"Infection Rate\")\n",
    "ax.set_title(\n",
    "    \"Estimated infection rate in London with 95% credible intervals over a recent period\"\n",
    ")\n",
    "fig.set_size_inches(4, 3)\n",
    "plt.show()\n"
   ]
  },
  {
   "cell_type": "code",
   "execution_count": null,
   "metadata": {},
   "outputs": [],
   "source": []
  }
 ],
 "metadata": {
  "kernelspec": {
   "display_name": ".venv",
   "language": "python",
   "name": "python3"
  },
  "language_info": {
   "codemirror_mode": {
    "name": "ipython",
    "version": 3
   },
   "file_extension": ".py",
   "mimetype": "text/x-python",
   "name": "python",
   "nbconvert_exporter": "python",
   "pygments_lexer": "ipython3",
   "version": "3.11.2"
  },
  "orig_nbformat": 2
 },
 "nbformat": 4,
 "nbformat_minor": 2
}
