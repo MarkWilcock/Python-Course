{
 "cells": [
  {
   "cell_type": "markdown",
   "metadata": {},
   "source": [
    "# Build the League table from thre match results using pandas"
   ]
  },
  {
   "cell_type": "code",
   "execution_count": null,
   "metadata": {},
   "outputs": [],
   "source": [
    "import pandas as pd\n",
    "import numpy as np"
   ]
  },
  {
   "cell_type": "code",
   "execution_count": null,
   "metadata": {},
   "outputs": [],
   "source": [
    "# Import the match results into a pandas dataframe\n",
    "MATCH_DATA_URL = \"https://raw.githubusercontent.com/MarkWilcock/CourseDatasets/main/Football/EPL%20Data%2020-21.csv\"\n",
    "df_match = pd.read_csv(MATCH_DATA_URL)\n",
    "df_match.head()"
   ]
  },
  {
   "cell_type": "code",
   "execution_count": null,
   "metadata": {},
   "outputs": [],
   "source": [
    "result_col_list = ('Team', 'Opposing Team', 'GF', 'GA')\n",
    "\n",
    "#  Each match generates two results - one for the home teams and one for teh away team\n",
    "home_cols_list = ['HomeTeam', 'AwayTeam', 'FTHG', 'FTAG']\n",
    "df_home = df_match.loc[:, home_cols_list]\n",
    "df_home.columns = result_col_list \n",
    "df_home.head()\n"
   ]
  },
  {
   "cell_type": "code",
   "execution_count": null,
   "metadata": {},
   "outputs": [],
   "source": [
    "\n",
    "# The columns are ordered from the away teams perspective\n",
    "# e.g. for the away team , Goals For (GF) is the number of away goals\n",
    "away_cols_list = ['AwayTeam', 'HomeTeam', 'FTAG', 'FTHG']\n",
    "df_away = df_match.loc[:, away_cols_list]\n",
    "df_away.columns =  result_col_list # ('Team', 'Opposing Team', 'GF', 'GA')\n",
    "df_away.head()"
   ]
  },
  {
   "cell_type": "code",
   "execution_count": null,
   "metadata": {},
   "outputs": [],
   "source": [
    "# This contains all results - two for each match - one for the home team and one for the away team\n",
    "#df_all = df_home.append(df_away)\n",
    "df_all = pd.concat([df_home, df_away])\n",
    "df_all.head()"
   ]
  },
  {
   "cell_type": "code",
   "execution_count": null,
   "metadata": {},
   "outputs": [],
   "source": [
    "# Calculate whether the match was won, drawn or lost by the team\n",
    "df_all['won'] = np.where(df_all['GF'] > df_all['GA'], 1 , 0)\n",
    "df_all['drawn'] = np.where(df_all['GF'] == df_all['GA'], 1 , 0)\n",
    "df_all['lost'] = np.where(df_all['GF'] < df_all['GA'], 1 , 0)\n",
    "df_all.head()"
   ]
  },
  {
   "cell_type": "code",
   "execution_count": null,
   "metadata": {},
   "outputs": [],
   "source": [
    "#  Group by Teams to get the league table and the total won / drawn / lost\n",
    "df_league = df_all.groupby(['Team']).sum()\n",
    "df_league.head()"
   ]
  },
  {
   "cell_type": "code",
   "execution_count": null,
   "metadata": {},
   "outputs": [],
   "source": [
    "\n",
    "#  A  match will either result ina win / draw / loss so summing these (since either 1 or 0) will return matches played\n",
    "df_league['played'] = df_league['won'] + df_league['drawn'] + df_league['lost']\n",
    "#  Taems get 3 points for a win, 1 for a draw and no points for a loss\n",
    "df_league['points'] = 3 * df_league['won'] + df_league['drawn']\n",
    "\n",
    "#  The goal difference (GD) \n",
    "df_league['GD'] = df_league['GF'] - df_league['GA']\n",
    "\n",
    "df_league.head()\n"
   ]
  },
  {
   "cell_type": "code",
   "execution_count": null,
   "metadata": {},
   "outputs": [],
   "source": [
    "# Sort by Points (high to low) and then by GD (also high to low)\n",
    "df_league  = df_league.sort_values(by = ['points', 'GD'], ascending = False)\n",
    "\n",
    "# Now that the league table is in the proper order , assign positions\n",
    "df_league['position'] = np.arange(len(df_league)) + 1\n",
    "\n",
    "#  Put the columns in the usual exapected order\n",
    "df_league = df_league.loc[:, ['position', 'played', 'won', 'drawn', 'lost', 'GF', 'GA', 'GD', 'points']]\n",
    "\n",
    "df_league.head(3)"
   ]
  }
 ],
 "metadata": {
  "kernelspec": {
   "display_name": ".venv",
   "language": "python",
   "name": "python3"
  },
  "language_info": {
   "codemirror_mode": {
    "name": "ipython",
    "version": 3
   },
   "file_extension": ".py",
   "mimetype": "text/x-python",
   "name": "python",
   "nbconvert_exporter": "python",
   "pygments_lexer": "ipython3",
   "version": "3.11.2"
  },
  "orig_nbformat": 2
 },
 "nbformat": 4,
 "nbformat_minor": 2
}
