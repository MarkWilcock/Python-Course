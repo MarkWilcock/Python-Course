{
 "metadata": {
  "language_info": {
   "codemirror_mode": {
    "name": "ipython",
    "version": 3
   },
   "file_extension": ".py",
   "mimetype": "text/x-python",
   "name": "python",
   "nbconvert_exporter": "python",
   "pygments_lexer": "ipython3",
   "version": "3.9.2"
  },
  "orig_nbformat": 2,
  "kernelspec": {
   "name": "python392jvsc74a57bd08abb1f199d14c7f4bde2f9b20a5186bf36d429b95679315f95e5b318beb2c041",
   "display_name": "Python 3.9.2 64-bit ('.course-env')"
  }
 },
 "nbformat": 4,
 "nbformat_minor": 2,
 "cells": [
  {
   "source": [
    "# Build the League table from thre match results using pandas"
   ],
   "cell_type": "markdown",
   "metadata": {}
  },
  {
   "cell_type": "code",
   "execution_count": null,
   "metadata": {},
   "outputs": [],
   "source": [
    "import pandas as pd\n",
    "import numpy as np"
   ]
  },
  {
   "cell_type": "code",
   "execution_count": null,
   "metadata": {},
   "outputs": [],
   "source": [
    "# Import the match results into a pandas dataframe\n",
    "df_match = pd.read_csv(\"./Datasets/EPL Data 20-21.csv\")"
   ]
  },
  {
   "cell_type": "code",
   "execution_count": null,
   "metadata": {},
   "outputs": [],
   "source": [
    "result_col_list = ('Team', 'Opposing Team', 'GF', 'GA')\n",
    "\n",
    "#  Each match generates tow results - one for the home teams and one for teh away team\n",
    "home_cols_list = ['Home Team', 'Away Team', 'Full Time Home Goals', 'Full Time Away Goals']\n",
    "df_home = df_match.loc[:, home_cols_list]\n",
    "df_home.columns = result_col_list # ('Team', 'Opposing Team', 'GF', 'GA')\n",
    "\n",
    "# The columns are ordered from the away teams perspective\n",
    "# e.g. for the away team , Goals For (GF) is the number of away goals\n",
    "away_cols_list = ['Away Team', 'Home Team', 'Full Time Away Goals', 'Full Time Home Goals']\n",
    "df_away = df_match.loc[:, away_cols_list]\n",
    "df_away.columns =  result_col_list # ('Team', 'Opposing Team', 'GF', 'GA')\n"
   ]
  },
  {
   "cell_type": "code",
   "execution_count": null,
   "metadata": {},
   "outputs": [],
   "source": [
    "# This contains all results - two for each match - one for the home team and one for the away team\n",
    "df_all = df_home.append(df_away)"
   ]
  },
  {
   "cell_type": "code",
   "execution_count": null,
   "metadata": {},
   "outputs": [],
   "source": [
    "# Calculate whether the match was won, drawn or lost by the team\n",
    "df_all['won'] = np.where(df_all['GF'] > df_all['GA'], 1 , 0)\n",
    "df_all['drawn'] = np.where(df_all['GF'] == df_all['GA'], 1 , 0)\n",
    "df_all['lost'] = np.where(df_all['GF'] < df_all['GA'], 1 , 0)"
   ]
  },
  {
   "cell_type": "code",
   "execution_count": null,
   "metadata": {},
   "outputs": [],
   "source": [
    "#  Group by Teams to get the league table and the total won / drawn / lost\n",
    "df_league = df_all.groupby(['Team']).sum()\n",
    "\n",
    "#  A  match will either result ina win / drw / loss so summing these (since either 1 or 0) will return matches played\n",
    "df_league['played'] = df_league['won'] + df_league['drawn'] + df_league['lost']\n",
    "#  Tams get 3 points for a win, 1 for a draw and no points for a loss\n",
    "df_league['points'] = 3 * df_league['won'] + df_league['drawn']\n",
    "\n",
    "#  The goal difference (GD) \n",
    "df_league['GD'] = df_league['GF'] - df_league['GA']\n",
    "\n",
    "# Sort by Points (high to low) and then by GD (also high to low)\n",
    "df_league  = df_league.sort_values(by = ['points', 'GD'], ascending = False)\n",
    "\n",
    "# Now that the league tabkle is in the proper order , assign positions\n",
    "df_league['position'] = np.arange(len(df_league)) + 1\n",
    "\n",
    "#  Put the columns in the usual exapected order\n",
    "df_league = df_league.loc[:, ['position', 'played', 'won', 'drawn', 'lost', 'GF', 'GA', 'GD', 'points']]\n",
    "\n"
   ]
  },
  {
   "cell_type": "code",
   "execution_count": null,
   "metadata": {},
   "outputs": [],
   "source": [
    "#  Write out to an Excel files\n",
    "df_league.to_csv(\"./Datasets/league_table.csv\")"
   ]
  },
  {
   "cell_type": "code",
   "execution_count": null,
   "metadata": {},
   "outputs": [],
   "source": []
  }
 ]
}