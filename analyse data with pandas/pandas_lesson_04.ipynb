{
 "cells": [
  {
   "cell_type": "markdown",
   "metadata": {},
   "source": [
    "# pandas lesson 4 (Handle Missing Data)\n",
    "\n",
    "The isnull() and isna() methods will detect missing data.  These have corresponding notnull() and notna() methods.  \n",
    "The fillna() and dropna() can correct or remove missing data,\n"
   ]
  },
  {
   "cell_type": "code",
   "execution_count": null,
   "metadata": {},
   "outputs": [],
   "source": [
    "import pandas as pd\n",
    "import numpy as np\n",
    "import matplotlib.pyplot as plt # pandas uses matplotlib for plotting"
   ]
  },
  {
   "cell_type": "markdown",
   "metadata": {},
   "source": [
    "In these examples we will use a DataFrame of car models.  This  has missing values for some rows in three of the columns: price, country_of_manufacture and is_electric.  This is fictitious data."
   ]
  },
  {
   "cell_type": "code",
   "execution_count": null,
   "metadata": {},
   "outputs": [],
   "source": [
    "data = {\n",
    "    \"make\": [\"Toyota\", \"Toyota\", \"Toyota\", \"Toyota\", \n",
    "             \"Honda\", \"Honda\", \"Honda\", \"Honda\",\n",
    "             \"Ford\", \"Ford\", \"Ford\", \"Ford\",\n",
    "             \"Chevrolet\", \"Chevrolet\", \"Chevrolet\", \"Chevrolet\",\n",
    "             \"Nissan\", \"Nissan\", \"Nissan\", \"Nissan\"],\n",
    "    \"model\": [\"Camry\", \"Corolla\", \"Prius\", \"Passat\",\n",
    "              \"Civic\", \"Accord\", \"CR-V\", \"Cortina\",\n",
    "              \"F-150\", \"Mustang\", \"Beetle\", \"Explorer\",\n",
    "              \"Malibu\", \"Tahoe\", \"Impala\", \"Camaro\",\n",
    "              \"Altima\", \"Sentra\", \"Maxima\", \"Frontier\"],\n",
    "    \"price\": [24000, 20000, 25000, None,\n",
    "              22000, 26000, 30000, None,\n",
    "              30000, 35000, None, 32000,\n",
    "              22000, 50000, 28000, None,\n",
    "              24000, 19000, 35000, None],\n",
    "    \"country_of_manufacture\": [\"Japan\", \"Europe\", \"Japan\", None,\n",
    "                               \"Japan\", \"Japan\", \"Europe\", None,\n",
    "                               \"USA\", \"USA\", None, \"USA\",\n",
    "                               \"USA\", \"USA\", \"USA\", None,\n",
    "                               \"Japan\", \"Japan\", \"Japan\", None],\n",
    "    \"is_electric\": [True, False, True, None,\n",
    "                    False, False, False, None,\n",
    "                    False, False, None, True,\n",
    "                    False, False, False, None,\n",
    "                    False, False, True, None]\n",
    "}\n",
    "\n",
    "df = pd.DataFrame(data)\n",
    "df\n"
   ]
  },
  {
   "cell_type": "markdown",
   "metadata": {},
   "source": [
    "Find missing data"
   ]
  },
  {
   "cell_type": "code",
   "execution_count": null,
   "metadata": {},
   "outputs": [],
   "source": [
    "df.isna().head() # show the first 5 rows of the dataframe with True/False values for missing data"
   ]
  },
  {
   "cell_type": "code",
   "execution_count": null,
   "metadata": {},
   "outputs": [],
   "source": [
    "df.isna().sum() # count the number of missing values in each column"
   ]
  },
  {
   "cell_type": "code",
   "execution_count": null,
   "metadata": {},
   "outputs": [],
   "source": [
    "mean_price = df[\"price\"].mean() # calculate the mean of the price column\n",
    "mean_price"
   ]
  },
  {
   "cell_type": "code",
   "execution_count": null,
   "metadata": {},
   "outputs": [],
   "source": [
    "# use the mean to fill in the missing values of the price column\n",
    "df[\"price\"] = df[\"price\"].fillna(mean_price)\n",
    "df.head()"
   ]
  },
  {
   "cell_type": "code",
   "execution_count": null,
   "metadata": {},
   "outputs": [],
   "source": [
    "# use 'Unknown' to fill in the missing values of the country_of_manufacture column\n",
    "df[\"country_of_manufacture\"] = df[\"country_of_manufacture\"].fillna(\"Unknown\")"
   ]
  },
  {
   "cell_type": "code",
   "execution_count": null,
   "metadata": {},
   "outputs": [],
   "source": [
    "# drop the rows where is_electric is missing\n",
    "df = df.dropna(subset=[\"is_electric\"])\n",
    "df"
   ]
  }
 ],
 "metadata": {
  "kernelspec": {
   "display_name": ".venv",
   "language": "python",
   "name": "python3"
  },
  "language_info": {
   "codemirror_mode": {
    "name": "ipython",
    "version": 3
   },
   "file_extension": ".py",
   "mimetype": "text/x-python",
   "name": "python",
   "nbconvert_exporter": "python",
   "pygments_lexer": "ipython3",
   "version": "3.12.3"
  },
  "orig_nbformat": 2
 },
 "nbformat": 4,
 "nbformat_minor": 2
}
