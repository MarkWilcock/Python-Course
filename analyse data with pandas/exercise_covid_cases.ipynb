{
 "cells": [
  {
   "cell_type": "markdown",
   "metadata": {},
   "source": [
    "# COVID Cases UK Example\n",
    "\n",
    "A short example to show how useful Python is in data analysis - before we start on the basics.  We will import a CSV file into a dataset and plot a  time-series chart.\n"
   ]
  },
  {
   "cell_type": "code",
   "execution_count": null,
   "metadata": {},
   "outputs": [],
   "source": [
    "# Import the modules\n",
    "import pandas as pd\n",
    "import matplotlib.pyplot as plt"
   ]
  },
  {
   "cell_type": "code",
   "execution_count": null,
   "metadata": {},
   "outputs": [],
   "source": [
    "# Load our data from  CSV file\n",
    "COVID_DATA_URL = \"https://raw.githubusercontent.com/MarkWilcock/CourseDatasets/main/Coronavirus%20UK/cases.csv\"\n",
    "df_uk= pd.read_csv(COVID_DATA_URL, parse_dates = ['date'])\n",
    "df_uk.head(2)"
   ]
  },
  {
   "cell_type": "code",
   "execution_count": null,
   "metadata": {},
   "outputs": [],
   "source": [
    "df_uk.columns\n",
    "df_uk.info()\n"
   ]
  },
  {
   "cell_type": "code",
   "execution_count": null,
   "metadata": {},
   "outputs": [],
   "source": [
    "df_uk = df_uk.drop(['areaCode', 'areaType'], axis=1)\n",
    "df_uk.columns = ('Country', 'Date', 'Cases', 'CumulativeCases')\n",
    "df_uk.head(2)\n"
   ]
  },
  {
   "cell_type": "code",
   "execution_count": null,
   "metadata": {},
   "outputs": [],
   "source": [
    "df_uk.describe()"
   ]
  },
  {
   "cell_type": "code",
   "execution_count": null,
   "metadata": {},
   "outputs": [],
   "source": [
    "# group by Country and sum the cases\n",
    "df_uk_grouped = df_uk.groupby(['Country'])[['Cases']].sum()\n",
    "df_uk_grouped"
   ]
  },
  {
   "cell_type": "code",
   "execution_count": null,
   "metadata": {},
   "outputs": [],
   "source": [
    "df_uk_wide = df_uk.pivot(index = 'Date', columns='Country', values='Cases')\n",
    "df_uk_wide.plot()\n"
   ]
  },
  {
   "cell_type": "markdown",
   "metadata": {},
   "source": [
    "##  England only analysis"
   ]
  },
  {
   "cell_type": "code",
   "execution_count": null,
   "metadata": {},
   "outputs": [],
   "source": [
    "df_eng = df_uk.loc[df_uk.Country == 'England']\n",
    "df_eng = df_eng.set_index('Date')\n",
    "df_eng = df_eng.sort_index()\n",
    "\n",
    "df_eng.Cases.plot()\n",
    "plt.show()\n",
    "\n",
    "df_eng.loc['2021','Cases'].plot()  # Show 2021 year only\n",
    "plt.show()\n",
    "\n",
    "df_eng.loc['2021-03','Cases'].plot()  # Show March 2021  only\n",
    "plt.show()\n",
    "\n",
    "#df_eng.index.values.max() # - what is the latest date for which there is data?\n"
   ]
  }
 ],
 "metadata": {
  "kernelspec": {
   "display_name": ".venv",
   "language": "python",
   "name": "python3"
  },
  "language_info": {
   "codemirror_mode": {
    "name": "ipython",
    "version": 3
   },
   "file_extension": ".py",
   "mimetype": "text/x-python",
   "name": "python",
   "nbconvert_exporter": "python",
   "pygments_lexer": "ipython3",
   "version": "3.11.2"
  },
  "orig_nbformat": 2
 },
 "nbformat": 4,
 "nbformat_minor": 2
}
