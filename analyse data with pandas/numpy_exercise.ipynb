{
 "cells": [
  {
   "cell_type": "markdown",
   "metadata": {},
   "source": [
    "# numpy Package - Exercises"
   ]
  },
  {
   "cell_type": "code",
   "execution_count": null,
   "metadata": {},
   "outputs": [],
   "source": [
    "import numpy as np"
   ]
  },
  {
   "cell_type": "markdown",
   "metadata": {},
   "source": [
    "**Exercise: Titanic**\n",
    "\n",
    "These lists represents 7 passengers from the Titanic.  For example, the first passenger has 2 sibling/spouses and one parent/child. Calculate the family size for each passenger.  To do this, add sib_sp (the number of siblings and spouses) to parch (the number of parents and children) and add 1 (for the passenger).\n",
    "\n",
    "You can choose to do this either using numpy or not.  With the numpy approach, firstly convert the lists to numpy arrays.  In the other approach you may want to zip the lists together then use in a list comprehension to do the calculation."
   ]
  },
  {
   "cell_type": "code",
   "execution_count": null,
   "metadata": {},
   "outputs": [],
   "source": [
    "\n",
    "sib_sp = [2, 0, 3, 1, 4, 0]\n",
    "parch = [1, 2, 1, 1, 2, 3]"
   ]
  },
  {
   "cell_type": "markdown",
   "metadata": {},
   "source": [
    "**Exercise : BMI**\n",
    "\n",
    "Calculate the BMI of these three people.  The BMI is the weight (kg) divided by the height (metres) squared."
   ]
  },
  {
   "cell_type": "code",
   "execution_count": null,
   "metadata": {},
   "outputs": [],
   "source": [
    "weights = [74, 75, 76]\n",
    "heights = [1.77, 1.76, 1.75]"
   ]
  },
  {
   "cell_type": "markdown",
   "metadata": {},
   "source": [
    "\n",
    "**Exercise: Football**\n",
    "\n",
    "The numpy arrays below contain the results (the number of matches won, drawn and lost) of five teams.  For example the first team has won four matches, drawn two and lost one.  Teams have played a different number of matches.\n",
    "\n",
    "1. Create a numpy array, team_played, to hold the number of games played \n",
    "2. Create a numpy array, team_score, to hold the teams scores (3 for a win, 1 for a draw, 0 for a loss)"
   ]
  },
  {
   "cell_type": "code",
   "execution_count": null,
   "metadata": {},
   "outputs": [],
   "source": [
    "team_won = np.array([4, 3, 1, 6, 3])\n",
    "team_drawn = np.array([2, 1, 1, 7, 2])\n",
    "team_lost = np.array([1, 3, 4, 5, 8])"
   ]
  },
  {
   "cell_type": "code",
   "execution_count": null,
   "metadata": {},
   "outputs": [],
   "source": [
    "team_played = team_won + team_drawn + team_lost\n",
    "team_played\n"
   ]
  },
  {
   "cell_type": "code",
   "execution_count": null,
   "metadata": {},
   "outputs": [],
   "source": [
    "team_score = team_won * 3 + team_drawn * 1 + team_lost * 0\n",
    "team_score\n"
   ]
  },
  {
   "cell_type": "code",
   "execution_count": null,
   "metadata": {},
   "outputs": [],
   "source": [
    "def add_lists(a, b):\n",
    "    return [x + y for x, y in zip(a, b)]\n",
    "\n",
    "a = [1, 2, 3]\n",
    "b = [4, 5, 6]\n",
    "result = add_lists(a, b)\n",
    "print(result)  # Output: [5, 7, 9]"
   ]
  }
 ],
 "metadata": {
  "kernelspec": {
   "display_name": ".venv",
   "language": "python",
   "name": "python3"
  },
  "language_info": {
   "codemirror_mode": {
    "name": "ipython",
    "version": 3
   },
   "file_extension": ".py",
   "mimetype": "text/x-python",
   "name": "python",
   "nbconvert_exporter": "python",
   "pygments_lexer": "ipython3",
   "version": "3.11.2"
  },
  "orig_nbformat": 2
 },
 "nbformat": 4,
 "nbformat_minor": 2
}
