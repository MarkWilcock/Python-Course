{
 "cells": [
  {
   "cell_type": "code",
   "execution_count": null,
   "metadata": {},
   "outputs": [],
   "source": [
    "import pyodbc\n",
    "import pandas as pd\n",
    "from dotenv import load_dotenv\n",
    "import os\n",
    "\n",
    "\n",
    "# Define the connection parameters\n",
    "server = os.getenv('SQL_SERVER')  # e.g., 'your_server.database.windows.net'\n",
    "database = os.getenv('SQL_DATABASE')\n",
    "username = os.getenv('SQL_USERNAME')\n",
    "password = os.getenv('SQL_PASSWORD')\n",
    "driver = '{ODBC Driver 17 for SQL Server}'  # Use the appropriate ODBC driver\n",
    "#driver = '{ODBC Driver 18 for SQL Server}'  # Use the appropriate ODBC driver\n",
    "\n",
    "# Create the connection string\n",
    "connection_string = f'DRIVER={driver};SERVER={server};DATABASE={database};PORT=1433;UID={username};PWD={password}'\n",
    "\n",
    "# Establish the database connection\n",
    "connection = pyodbc.connect(connection_string)\n",
    "\n",
    "# SQL query to retrieve data\n",
    "sql_query = 'SELECT * FROM PatientStay'\n",
    "\n",
    "# Read data from the database into a DataFrame\n",
    "df = pd.read_sql(sql_query, connection)\n",
    "\n",
    "# Close the database connection\n",
    "connection.close()\n",
    "\n",
    "# Now, df contains your data from the Azure SQL Database\n",
    "df\n"
   ]
  }
 ],
 "metadata": {
  "kernelspec": {
   "display_name": ".venv",
   "language": "python",
   "name": "python3"
  },
  "language_info": {
   "codemirror_mode": {
    "name": "ipython",
    "version": 3
   },
   "file_extension": ".py",
   "mimetype": "text/x-python",
   "name": "python",
   "nbconvert_exporter": "python",
   "pygments_lexer": "ipython3",
   "version": "3.12.3"
  }
 },
 "nbformat": 4,
 "nbformat_minor": 2
}
