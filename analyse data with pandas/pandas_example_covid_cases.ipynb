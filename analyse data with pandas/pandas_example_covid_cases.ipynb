{
 "cells": [
  {
   "cell_type": "markdown",
   "metadata": {},
   "source": [
    "# pandas Example - COVID Cases UK \n",
    "\n",
    "A short example to show the Python pandas package for data analysis.\n",
    "\n",
    "The source data is a CSV file containing the number of COVID cases by date in each of the fouur countries of the UK. We import this data into a pandas dataframe, filter and group the data and plot several time-series charts."
   ]
  },
  {
   "cell_type": "code",
   "execution_count": null,
   "metadata": {},
   "outputs": [],
   "source": [
    "# Import the modules\n",
    "import pandas as pd\n",
    "import matplotlib.pyplot as plt"
   ]
  },
  {
   "cell_type": "code",
   "execution_count": null,
   "metadata": {},
   "outputs": [],
   "source": [
    "# Load our data from  CSV file\n",
    "COVID_DATA_URL = \"https://raw.githubusercontent.com/MarkWilcock/CourseDatasets/main/Coronavirus%20UK/cases.csv\"\n",
    "df_uk= pd.read_csv(COVID_DATA_URL, parse_dates = ['date'])\n",
    "df_uk.head(2)"
   ]
  },
  {
   "cell_type": "code",
   "execution_count": null,
   "metadata": {},
   "outputs": [],
   "source": [
    "df_uk.info()\n"
   ]
  },
  {
   "cell_type": "code",
   "execution_count": null,
   "metadata": {},
   "outputs": [],
   "source": [
    "# tidy the dataframe: drop some columns and rename others\n",
    "df_uk = df_uk.drop(['areaCode', 'areaType'], axis=1)\n",
    "df_uk.columns = ('Country', 'Date', 'Cases', 'CumulativeCases')\n",
    "df_uk.head(2)\n"
   ]
  },
  {
   "cell_type": "code",
   "execution_count": null,
   "metadata": {},
   "outputs": [],
   "source": [
    "# the describe method gives us some basic stats on the data\n",
    "df_uk.describe()"
   ]
  },
  {
   "cell_type": "code",
   "execution_count": null,
   "metadata": {},
   "outputs": [],
   "source": [
    "# group by country and sum the cases\n",
    "df_uk_grouped = df_uk.groupby(['Country'])[['Cases']].sum()\n",
    "df_uk_grouped"
   ]
  },
  {
   "cell_type": "code",
   "execution_count": null,
   "metadata": {},
   "outputs": [],
   "source": [
    "# pivot the data prior to plotting it\n",
    "df_uk_wide = df_uk.pivot(index = 'Date', columns='Country', values='Cases')\n",
    "df_uk_wide.head(2)"
   ]
  },
  {
   "cell_type": "code",
   "execution_count": null,
   "metadata": {},
   "outputs": [],
   "source": [
    "df_uk_wide.plot()"
   ]
  },
  {
   "cell_type": "markdown",
   "metadata": {},
   "source": [
    "##  England only analysis"
   ]
  },
  {
   "cell_type": "code",
   "execution_count": null,
   "metadata": {},
   "outputs": [],
   "source": [
    "# Filer the cases to those in England only\n",
    "df_eng = df_uk.loc[df_uk.Country == 'England']\n",
    "# since we have only one country, we can drop the country column\n",
    "df_eng = df_eng.drop(['Country'], axis=1)\n",
    "# Now that we have unique values in the Date column, we can set it as the index\n",
    "df_eng = df_eng.set_index('Date')\n",
    "df_eng = df_eng.sort_index()\n",
    "df_eng.head(2)\n"
   ]
  },
  {
   "cell_type": "code",
   "execution_count": null,
   "metadata": {},
   "outputs": [],
   "source": [
    "df_eng.Cases.plot()\n",
    "plt.show()"
   ]
  },
  {
   "cell_type": "code",
   "execution_count": null,
   "metadata": {},
   "outputs": [],
   "source": [
    "df_eng.loc['2021','Cases'].plot()  # Show 2021 year only\n",
    "plt.show()"
   ]
  },
  {
   "cell_type": "code",
   "execution_count": null,
   "metadata": {},
   "outputs": [],
   "source": [
    "df_eng.loc['2021-03','Cases'].plot()  # Show March 2021  only\n",
    "plt.show()"
   ]
  }
 ],
 "metadata": {
  "kernelspec": {
   "display_name": ".venv",
   "language": "python",
   "name": "python3"
  },
  "language_info": {
   "codemirror_mode": {
    "name": "ipython",
    "version": 3
   },
   "file_extension": ".py",
   "mimetype": "text/x-python",
   "name": "python",
   "nbconvert_exporter": "python",
   "pygments_lexer": "ipython3",
   "version": "3.13.7"
  },
  "orig_nbformat": 2
 },
 "nbformat": 4,
 "nbformat_minor": 2
}
