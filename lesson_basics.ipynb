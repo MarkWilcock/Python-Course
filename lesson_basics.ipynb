{
 "cells": [
  {
   "attachments": {},
   "cell_type": "markdown",
   "metadata": {},
   "source": [
    "# Python Basics"
   ]
  },
  {
   "attachments": {},
   "cell_type": "markdown",
   "metadata": {},
   "source": [
    "The canonical first program -  Hello World\n",
    "\n",
    "print is a function in the python3 standard library. It causes the interpreter to display a text string on the screen.  \n",
    "print does an action (side-effect) to write a value to the console. Actions include reading / writing a file.  \n"
   ]
  },
  {
   "cell_type": "code",
   "execution_count": null,
   "metadata": {},
   "outputs": [],
   "source": [
    "# Comments start with a #\n",
    "print(\"Hello World\")"
   ]
  },
  {
   "attachments": {},
   "cell_type": "markdown",
   "metadata": {},
   "source": [
    "When a cell block is run, the notebook will show the value of the final expresssion, below the cell ."
   ]
  },
  {
   "cell_type": "code",
   "execution_count": null,
   "metadata": {},
   "outputs": [],
   "source": [
    "7 * 7  # this line is run but the result is not shown in the output\n",
    "6 + 3  # this line is also run and the result is shown in the output"
   ]
  },
  {
   "attachments": {},
   "cell_type": "markdown",
   "metadata": {},
   "source": [
    "**Variables** store values and objects for later use.  If the expression is a variable assignment then nothing will be shown, so we often will write two lines like below\n",
    "\n",
    "1. the first line sets the value of the variable\n",
    "2. the second line is just the variable name so we can see the result\n"
   ]
  },
  {
   "cell_type": "code",
   "execution_count": null,
   "metadata": {},
   "outputs": [],
   "source": [
    "var1 = 5 + 7\n",
    "var1"
   ]
  },
  {
   "cell_type": "markdown",
   "metadata": {},
   "source": [
    "Useful tip: We often want to the cell outputs to show the values of two or more variables.  We can do this by listing the variable names on the last line separated by a comma.  (Later, we will learn that we are constructing a tuple.)"
   ]
  },
  {
   "cell_type": "code",
   "execution_count": null,
   "metadata": {},
   "outputs": [],
   "source": [
    "miles_journey = 200\n",
    "km_journey = miles_journey * 1.60934 # there are about 1.61 km in a mile\n",
    "furlongs_journey = miles_journey * 8 # there are 8 furlongs in a mile\n",
    "km_journey, furlongs_journey # show both results"
   ]
  },
  {
   "cell_type": "markdown",
   "metadata": {},
   "source": [
    "We can also use the f strings function to format and display several variables nicely."
   ]
  },
  {
   "cell_type": "code",
   "execution_count": null,
   "metadata": {},
   "outputs": [],
   "source": [
    "f\"The journey is {miles_journey} miles, {km_journey} kilometres, or {furlongs_journey} furlongs\""
   ]
  },
  {
   "attachments": {},
   "cell_type": "markdown",
   "metadata": {},
   "source": [
    "## In Python, format is function"
   ]
  },
  {
   "attachments": {},
   "cell_type": "markdown",
   "metadata": {},
   "source": [
    "**Whitespace matters!**  This is different to  most other languages.  The benefit is readability and consistency.\n",
    "\n",
    "Before a code block, use a colon:\n",
    "Code blacks are indented, usually by 4 spaces.  Be consistent."
   ]
  },
  {
   "cell_type": "code",
   "execution_count": null,
   "metadata": {},
   "outputs": [],
   "source": [
    "for i in range(5):\n",
    "    print(i)"
   ]
  },
  {
   "attachments": {},
   "cell_type": "markdown",
   "metadata": {},
   "source": [
    "## Datatypes (int, float, bool, str)\n",
    "\n",
    "The four main datatypes are int, float, bool, str.  Python will dynamically assign a datatype to a variable based on the value of the expression during the assignment."
   ]
  },
  {
   "cell_type": "code",
   "execution_count": null,
   "metadata": {},
   "outputs": [],
   "source": [
    "# An int (integer) datatype is a whole number\n",
    "answer = 42\n",
    "type(answer) # the type function returns the type of the variable"
   ]
  },
  {
   "cell_type": "code",
   "execution_count": null,
   "metadata": {},
   "outputs": [],
   "source": [
    "# A float is a number with  a fractional part\n",
    "average_goals =  2.56\n",
    "type(average_goals)"
   ]
  },
  {
   "cell_type": "code",
   "execution_count": null,
   "metadata": {},
   "outputs": [],
   "source": [
    "# A string is a collection of characters.  Define a string in either single or double quotes.\n",
    "country = \"United Kingdom\" \n",
    "type(country)"
   ]
  },
  {
   "cell_type": "code",
   "execution_count": null,
   "metadata": {},
   "outputs": [],
   "source": [
    "# A bool is either True or False\n",
    "today_is_monday = True\n",
    "type(today_is_monday)"
   ]
  },
  {
   "attachments": {},
   "cell_type": "markdown",
   "metadata": {},
   "source": [
    "*Advanced* The behaviour of operators depends on the datatypes"
   ]
  },
  {
   "cell_type": "code",
   "execution_count": null,
   "metadata": {},
   "outputs": [],
   "source": [
    "2 + 3  # adding numbers, what you expect"
   ]
  },
  {
   "cell_type": "code",
   "execution_count": null,
   "metadata": {},
   "outputs": [],
   "source": [
    "\"2\" + \"3\"  # adding strings concatenates them"
   ]
  },
  {
   "cell_type": "code",
   "execution_count": null,
   "metadata": {},
   "outputs": [],
   "source": [
    "\"hello \" * 3  # multiplying strings repeats them"
   ]
  }
 ],
 "metadata": {
  "interpreter": {
   "hash": "68c45707def87feca5a47d18982249224aa76d0675ca5b6bc7cad154e506106e"
  },
  "kernelspec": {
   "display_name": "Python 3.9.2  ('.venv': venv)",
   "name": "python3"
  },
  "language_info": {
   "codemirror_mode": {
    "name": "ipython",
    "version": 3
   },
   "file_extension": ".py",
   "mimetype": "text/x-python",
   "name": "python",
   "nbconvert_exporter": "python",
   "pygments_lexer": "ipython3",
   "version": "3.10.13"
  },
  "metadata": {
   "interpreter": {
    "hash": "68c45707def87feca5a47d18982249224aa76d0675ca5b6bc7cad154e506106e"
   }
  },
  "orig_nbformat": 2
 },
 "nbformat": 4,
 "nbformat_minor": 2
}
