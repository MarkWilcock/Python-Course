{
 "cells": [
  {
   "attachments": {},
   "cell_type": "markdown",
   "metadata": {},
   "source": [
    "## Object orientated programming in Python\n",
    "\n",
    "Best practices for building classes:\n",
    "\n",
    "* Naming Conventions: Use CamelCase for class names and snake_case for method and variable names.\n",
    "* Use Docstrings: Include docstrings to document classes, methods, and attributes\n",
    "* Use Private Methods and Attributes and prefix attribute names with an underscore to indicate they are private.\n",
    "* Use Properties: Use @property and @property_name.setter for attribute access.\n",
    "* Implement str (for a user friendly description, used by print()) \n",
    "* optionally, implement repr (for a developer friendly description)\n",
    "* Use default values for optional constructor argument\n"
   ]
  },
  {
   "cell_type": "markdown",
   "metadata": {},
   "source": [
    "Example: an Airport class with attributes code and city"
   ]
  },
  {
   "cell_type": "code",
   "execution_count": 6,
   "metadata": {},
   "outputs": [],
   "source": [
    "class Airport:\n",
    "    \"\"\" An airport has a three letter code and serves a major city \"\"\"\n",
    "    def __init__(self, code, city=\"London\"):\n",
    "        self._code = code\n",
    "        self._city = city\n",
    "    \n",
    "    def __str__(self):\n",
    "        \"\"\" Returns the code and city in a nicely formatted string \"\"\"\n",
    "        return f\"Airport code {self.code} serves city {self.city}.\"\n",
    "\n",
    "    @property\n",
    "    def code(self):\n",
    "        return self._code\n",
    "\n",
    "    @code.setter\n",
    "    def code(self, code):\n",
    "        if len(code) != 3:\n",
    "            raise ValueError(\"Airport code must be 3 characters\")\n",
    "        self._code = code\n",
    "\n",
    "    @property\n",
    "    def city(self):\n",
    "        return self._city\n",
    "\n",
    "    @city.setter\n",
    "    def city(self, city):\n",
    "        if city not in (\"London\", \"Birmingham\", \"Manchester\"):\n",
    "            raise ValueError(\"Airport city must be either London, Birmingham or Manchester\")\n",
    "        self._city = city"
   ]
  },
  {
   "cell_type": "markdown",
   "metadata": {},
   "source": [
    "Now we have created the Airport class, we use it elsewhere."
   ]
  },
  {
   "cell_type": "code",
   "execution_count": 7,
   "metadata": {},
   "outputs": [
    {
     "name": "stdout",
     "output_type": "stream",
     "text": [
      "Airport code LGW serves city London.\n",
      "Airport code MAN serves city Manchester.\n",
      "Airport code LHR serves city London.\n"
     ]
    }
   ],
   "source": [
    "airports = []\n",
    "airports.append(Airport(\"LGW\"))\n",
    "airports.append(Airport(\"MAN\", \"Manchester\"))\n",
    "airports.append(Airport(\"LHR\", \"London\"))\n",
    "\n",
    "for airport in airports:\n",
    "    print(airport) # will use the __str__ method"
   ]
  },
  {
   "cell_type": "code",
   "execution_count": 9,
   "metadata": {},
   "outputs": [
    {
     "name": "stdout",
     "output_type": "stream",
     "text": [
      "Airport code STN serves city London.\n",
      "Airport code STN serves city Birmingham.\n"
     ]
    }
   ],
   "source": [
    "stansted = Airport(\"STN\", \"London\")\n",
    "print(stansted)\n",
    "\n",
    "stansted.city = \"Birmingham\"\n",
    "print(stansted)"
   ]
  },
  {
   "cell_type": "code",
   "execution_count": 10,
   "metadata": {},
   "outputs": [],
   "source": [
    "# Change the city for Stansted to an unacceptable value will raise an error\n",
    "#stansted.city = \"Paris\""
   ]
  }
 ],
 "metadata": {
  "kernelspec": {
   "display_name": ".venv",
   "language": "python",
   "name": "python3"
  },
  "language_info": {
   "codemirror_mode": {
    "name": "ipython",
    "version": 3
   },
   "file_extension": ".py",
   "mimetype": "text/x-python",
   "name": "python",
   "nbconvert_exporter": "python",
   "pygments_lexer": "ipython3",
   "version": "3.11.2"
  },
  "orig_nbformat": 4
 },
 "nbformat": 4,
 "nbformat_minor": 2
}
