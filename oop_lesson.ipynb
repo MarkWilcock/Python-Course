{
 "cells": [
  {
   "attachments": {},
   "cell_type": "markdown",
   "metadata": {},
   "source": [
    "Object orientated programming in Python"
   ]
  },
  {
   "cell_type": "code",
   "execution_count": null,
   "metadata": {},
   "outputs": [],
   "source": [
    "# Create an Airport class with attributes code and city\n",
    "class Airport:\n",
    "    def __init__(self, code, city):\n",
    "        self._code = code\n",
    "        self._city = city\n",
    "\n",
    "    # Create a __str__ method that returns the code and city in a nicely formatted string\n",
    "    def __str__(self):\n",
    "        return f\"Airport code {self.code} serves city {self.city}.\"\n",
    "\n",
    "    @property\n",
    "    def code(self):\n",
    "        return self._code\n",
    "\n",
    "    @code.setter\n",
    "    def code(self, code):\n",
    "        if len(code) != 3:\n",
    "            raise ValueError(\"Airport code must be 3 characters\")\n",
    "        self._code = code\n",
    "\n",
    "    @property\n",
    "    def city(self):\n",
    "        return self._city\n",
    "\n",
    "    @city.setter\n",
    "    def city(self, city):\n",
    "        if city not in (\"London\", \"Birmingham\", \"Manchester\"):\n",
    "            raise ValueError(\"Airport city must be either London, Birmingham or Manchester\")\n",
    "        self._city = city"
   ]
  },
  {
   "cell_type": "code",
   "execution_count": null,
   "metadata": {},
   "outputs": [],
   "source": [
    "def main():\n",
    "# Create a list of airports\n",
    "    airports = []\n",
    "    airports.append(Airport(\"LGW\", \"London\"))\n",
    "    airports.append(Airport(\"MAN\", \"Manchester\"))\n",
    "    airports.append(Airport(\"LHR\", \"London\"))\n",
    "\n",
    "    for airport in airports:\n",
    "        print(airport) # will use the __str__ method\n",
    "\n",
    "    stansted = Airport(\"STN\", \"London\")\n",
    "    print(stansted)\n",
    "    stansted.city = \"Birmingham\"\n",
    "    print(stansted)\n",
    "\n",
    "    # Change the city for Stansted to an unacceptable value will raise an error\n",
    "    stansted.city = \"Paris\"\n",
    "    \n",
    "if __name__ == \"__main__\":\n",
    "    main()\n"
   ]
  }
 ],
 "metadata": {
  "kernelspec": {
   "display_name": ".venv",
   "language": "python",
   "name": "python3"
  },
  "language_info": {
   "codemirror_mode": {
    "name": "ipython",
    "version": 3
   },
   "file_extension": ".py",
   "mimetype": "text/x-python",
   "name": "python",
   "nbconvert_exporter": "python",
   "pygments_lexer": "ipython3",
   "version": "3.11.2"
  },
  "orig_nbformat": 4
 },
 "nbformat": 4,
 "nbformat_minor": 2
}
