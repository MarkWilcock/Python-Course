{
 "cells": [
  {
   "cell_type": "markdown",
   "id": "63a7157d",
   "metadata": {},
   "source": [
    "# Practical Python Example 1\n",
    "\n",
    "This is an example of using Python to automate a typical data analysis operations. \n",
    "\n",
    "The source dataset is an Excel workbook containing [a fictitious dataset described here](https://zomalex.co.uk/datasets/montana_dataset.html).  This has a fact table, Store, and three related lookup tables: Countries, Products and Segments. \n",
    "\n",
    "The Store table is in the 'Store Tab' worksheet.  \n",
    "The Countries, Products and Segments tables are in the 'Lookups Tab' worksheet.\n",
    "\n",
    "This Python script\n",
    "\n",
    "* loads these Excel tables into pandas dataframes\n",
    "* add some extra calculated columns to the Store dataframe\n",
    "* merges the lookup tables into the Store table\n",
    "* create a summary of the dataset \n",
    "* plots this summary data as a bar chart\n",
    "* exports the bar chart as a PNG file\n"
   ]
  },
  {
   "cell_type": "code",
   "execution_count": null,
   "id": "fa7912ab",
   "metadata": {},
   "outputs": [],
   "source": [
    "import pandas as pd\n",
    "import openpyxl"
   ]
  },
  {
   "cell_type": "code",
   "execution_count": null,
   "id": "da3c229e",
   "metadata": {},
   "outputs": [],
   "source": [
    "data_xlsx_filepath = \"./resources/montana-data-tables.xlsx\""
   ]
  },
  {
   "cell_type": "markdown",
   "id": "fc06e09c",
   "metadata": {},
   "source": [
    "Inspect the structure of the Excel workbook: sheets and tables"
   ]
  },
  {
   "cell_type": "code",
   "execution_count": null,
   "id": "8688f292",
   "metadata": {},
   "outputs": [],
   "source": [
    "wb = openpyxl.load_workbook(filename=data_xlsx_filepath)\n",
    "for sheet in wb.worksheets:\n",
    "    print(f\"Sheet: {sheet.title}\")\n",
    "    for table in sheet.tables:\n",
    "        print(f\"Table: {table} Range: {sheet.tables[table].ref}\")\n"
   ]
  },
  {
   "cell_type": "markdown",
   "id": "0dda1b0e",
   "metadata": {},
   "source": [
    "The three Excel tables are on a worksheet named Lookups Tab. \n",
    "We cannot load directly from an Excel table.  \n",
    "Instead we retrieve the table name and range then use that information to import the data."
   ]
  },
  {
   "cell_type": "markdown",
   "id": "87fa5b0e",
   "metadata": {},
   "source": [
    "Create a function that returns the data in an Excel table as a dataframe.  We will use this for several tables."
   ]
  },
  {
   "cell_type": "code",
   "execution_count": null,
   "id": "212a87b0",
   "metadata": {},
   "outputs": [],
   "source": [
    "def get_dataframe_from_table(sheet_name, table_name):\n",
    "    store_tab_sheet = wb[sheet_name]\n",
    "    store_table = store_tab_sheet.tables[table_name]\n",
    "\n",
    "    # Get the cell range for the table\n",
    "    table_range = store_table.ref\n",
    "\n",
    "    # Extract the cell values from the range\n",
    "    data = store_tab_sheet[table_range] # This gives a tuple of tuples (rows of cells)\n",
    "    # Convert to a list of lists (2D array) for easier DataFrame creation\n",
    "    rows = [[cell.value for cell in row] for row in data]\n",
    "\n",
    "    # Convert to DataFrame\n",
    "    df = pd.DataFrame(rows[1:], columns=rows[0])\n",
    "    return df\n"
   ]
  },
  {
   "cell_type": "code",
   "execution_count": null,
   "id": "795051cc",
   "metadata": {},
   "outputs": [],
   "source": [
    "df_store = get_dataframe_from_table(\"Store Tab\", \"Store\")\n",
    "df_countries = get_dataframe_from_table(\"Lookups Tab\", \"Countries\")\n",
    "df_products = get_dataframe_from_table(\"Lookups Tab\", \"Products\")\n",
    "df_segments = get_dataframe_from_table(\"Lookups Tab\", \"Segments\")"
   ]
  },
  {
   "cell_type": "markdown",
   "id": "b247cf5a",
   "metadata": {},
   "source": [
    "Add three Calculated columns to the Store DataFrame.\n",
    "\n",
    "* Gross Sales = SalePrice * Quantity\n",
    "* Sales = Gross Sales - Discount\n",
    "* Profit = Sales - COGS"
   ]
  },
  {
   "cell_type": "code",
   "execution_count": null,
   "id": "e5250ffd",
   "metadata": {},
   "outputs": [],
   "source": [
    "df_store[\"Gross Sales\"] = df_store[\"Quantity\"] * df_store[\"SalePrice\"]\n",
    "df_store[\"Sales\"] = df_store[\"Gross Sales\"] - df_store[\"Discount\"]\n",
    "df_store[\"Profit\"] = df_store[\"Sales\"] - df_store[\"COGS\"]"
   ]
  },
  {
   "cell_type": "markdown",
   "id": "f87aad15",
   "metadata": {},
   "source": [
    "Merge the three lookup tables into the Store table."
   ]
  },
  {
   "cell_type": "code",
   "execution_count": null,
   "id": "af9679d2",
   "metadata": {},
   "outputs": [],
   "source": [
    "df_store_merged = df_store.merge(df_countries, on='Country', how='left')\n",
    "df_store_merged = df_store_merged.merge(df_products, on='Product', how='left')\n",
    "df_store_merged = df_store_merged.merge(df_segments, on='Segment', how='left')\n",
    "df_store_merged.columns"
   ]
  },
  {
   "cell_type": "code",
   "execution_count": null,
   "id": "d633a590",
   "metadata": {},
   "outputs": [],
   "source": [
    "df_sales_summary = df_store_merged.groupby(['Region', 'Tier'])['Sales'].sum().reset_index()\n",
    "df_sales_summary"
   ]
  },
  {
   "cell_type": "code",
   "execution_count": null,
   "id": "c7a1aeb9",
   "metadata": {},
   "outputs": [],
   "source": [
    "df_sales_summary.to_csv(\"./outputs/sales-summary.csv\", index=False)"
   ]
  },
  {
   "cell_type": "markdown",
   "id": "0797b732",
   "metadata": {},
   "source": [
    "Create a chart from this Dataframe - a horizontal bar chart of Sales by Tier on the axis and Region on the legend.\n",
    "Order the tiers as 'Gold', 'Silver', 'Bronze'\n"
   ]
  },
  {
   "cell_type": "code",
   "execution_count": null,
   "id": "449ebdb7",
   "metadata": {},
   "outputs": [],
   "source": [
    "import matplotlib.pyplot as plt\n",
    "\n",
    "df_pivot = df_sales_summary.pivot(index='Tier', columns='Region', values='Sales')\n",
    "\n",
    "# Set the order for the index\n",
    "tier_order = ['Gold', 'Silver', 'Bronze']\n",
    "df_pivot.index = pd.CategoricalIndex(df_pivot.index, categories=tier_order, ordered=True)\n",
    "df_pivot = df_pivot.sort_index()\n",
    "\n",
    "df_pivot.plot(kind='barh', stacked=True)\n",
    "\n",
    "plt.xlabel('Sales')\n",
    "plt.title('Sales by Tier and Region')\n",
    "plt.legend(title='Region')\n",
    "plt.tight_layout()\n",
    "plt.show()\n"
   ]
  },
  {
   "cell_type": "markdown",
   "id": "98625244",
   "metadata": {},
   "source": [
    "Save the chart as an image file in the  outputs folder"
   ]
  },
  {
   "cell_type": "code",
   "execution_count": null,
   "id": "d33930b3",
   "metadata": {},
   "outputs": [],
   "source": [
    "fig, ax = plt.subplots()\n",
    "df_pivot.plot(kind='barh', stacked=True, ax=ax)\n",
    "\n",
    "ax.set_xlabel('Sales')\n",
    "ax.set_title('Sales by Tier and Region')\n",
    "ax.legend(title='Region')\n",
    "plt.tight_layout()\n",
    "\n",
    "plt.savefig('./outputs/sales_by_tier_region.png')\n",
    "plt.close(fig)"
   ]
  }
 ],
 "metadata": {
  "kernelspec": {
   "display_name": ".venv",
   "language": "python",
   "name": "python3"
  },
  "language_info": {
   "codemirror_mode": {
    "name": "ipython",
    "version": 3
   },
   "file_extension": ".py",
   "mimetype": "text/x-python",
   "name": "python",
   "nbconvert_exporter": "python",
   "pygments_lexer": "ipython3",
   "version": "3.13.7"
  }
 },
 "nbformat": 4,
 "nbformat_minor": 5
}
