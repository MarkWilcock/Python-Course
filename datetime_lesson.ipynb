{
 "cells": [
  {
   "attachments": {},
   "cell_type": "markdown",
   "metadata": {},
   "source": [
    "# The datetime module\n",
    "The datetime module provides classes for working with dates and times. It allows us to parse, format, manipulate dates and perform date arithmetic.  It is part of Python's standard library (no need to pip install anything)."
   ]
  },
  {
   "cell_type": "code",
   "execution_count": null,
   "metadata": {},
   "outputs": [],
   "source": [
    "import datetime"
   ]
  },
  {
   "cell_type": "code",
   "execution_count": null,
   "metadata": {},
   "outputs": [],
   "source": [
    "time_now = datetime.datetime.now()\n",
    "time_now"
   ]
  },
  {
   "cell_type": "code",
   "execution_count": null,
   "metadata": {},
   "outputs": [],
   "source": [
    "may_15_2021 = datetime.datetime(2021, 5, 21)\n",
    "may_15_2021"
   ]
  },
  {
   "attachments": {},
   "cell_type": "markdown",
   "metadata": {},
   "source": [
    "The strftime() method takes a format string to return the datetime as a string"
   ]
  },
  {
   "cell_type": "code",
   "execution_count": null,
   "metadata": {},
   "outputs": [],
   "source": [
    "may_15_2021.strftime(\"%d %B %Y\")"
   ]
  },
  {
   "attachments": {},
   "cell_type": "markdown",
   "metadata": {},
   "source": [
    "The timedelta() class returns a duration, the difference between two dates or times."
   ]
  },
  {
   "cell_type": "code",
   "execution_count": null,
   "metadata": {},
   "outputs": [],
   "source": [
    "same_date_next_year = may_15_2021 + datetime.timedelta(days=365)\n",
    "same_date_next_year.strftime(\"%d %B %Y\")"
   ]
  },
  {
   "cell_type": "code",
   "execution_count": null,
   "metadata": {},
   "outputs": [],
   "source": [
    "from datetime import datetime\n",
    "\n",
    "def days_between_dates(start_date, end_date):\n",
    "    \"\"\"\n",
    "    Calculates the number of days between two dates\n",
    "    The dates are provided as strings in the format YYYY-MM-DD\n",
    "    \"\"\"\n",
    "    start_date = datetime.strptime(start_date, \"%Y-%m-%d\")\n",
    "    end_date = datetime.strptime(end_date, \"%Y-%m-%d\")\n",
    "    return (end_date - start_date).days"
   ]
  },
  {
   "cell_type": "code",
   "execution_count": null,
   "metadata": {},
   "outputs": [],
   "source": [
    "days_between_dates(start_date=\"2020-01-01\", end_date=\"2023-01-02\")"
   ]
  }
 ],
 "metadata": {
  "interpreter": {
   "hash": "68c45707def87feca5a47d18982249224aa76d0675ca5b6bc7cad154e506106e"
  },
  "kernelspec": {
   "display_name": "Python 3.9.2  ('.venv': venv)",
   "name": "python3"
  },
  "language_info": {
   "codemirror_mode": {
    "name": "ipython",
    "version": 3
   },
   "file_extension": ".py",
   "mimetype": "text/x-python",
   "name": "python",
   "nbconvert_exporter": "python",
   "pygments_lexer": "ipython3",
   "version": "3.11.2"
  },
  "orig_nbformat": 2
 },
 "nbformat": 4,
 "nbformat_minor": 2
}
