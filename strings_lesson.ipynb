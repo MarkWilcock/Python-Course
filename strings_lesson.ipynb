{
 "cells": [
  {
   "attachments": {},
   "cell_type": "markdown",
   "metadata": {},
   "source": [
    "# Strings "
   ]
  },
  {
   "attachments": {},
   "cell_type": "markdown",
   "metadata": {},
   "source": [
    "A string is an ordered collection of characters (an array).  Characters are arrays of length 1."
   ]
  },
  {
   "cell_type": "code",
   "execution_count": null,
   "metadata": {},
   "outputs": [],
   "source": [
    "monty_quote = 'Nobody expects the Spanish Inquisition!'\n",
    "monty_quote"
   ]
  },
  {
   "cell_type": "code",
   "execution_count": null,
   "metadata": {},
   "outputs": [],
   "source": [
    "# use the len() function to find the length of the string\n",
    "len(monty_quote)"
   ]
  },
  {
   "attachments": {},
   "cell_type": "markdown",
   "metadata": {},
   "source": [
    "## String Methods"
   ]
  },
  {
   "attachments": {},
   "cell_type": "markdown",
   "metadata": {},
   "source": [
    "\n",
    "Python is an object oriented language and everything is an object (even integers) and has properties and methods. Properties and methods are accessed with the dot (.) notation. Methods are functions relevant to objects of a particular data type or class. We will look at some methods of strings. \n",
    "\n",
    "Invoke a method with the dot notation on a string.  Experiment with a few string methods to change the case of the string. "
   ]
  },
  {
   "cell_type": "code",
   "execution_count": null,
   "metadata": {},
   "outputs": [],
   "source": [
    "print(\n",
    "    \"upper():\" + monty_quote.upper(),\n",
    "    \"lower():\" + monty_quote.lower(),\n",
    "    \"capitalize():\" + monty_quote.capitalize(),\n",
    "    \"title():\" + monty_quote.title(),\n",
    "    \"swapcase():\" + monty_quote.swapcase(),\n",
    "    sep='\\n'\n",
    ")"
   ]
  },
  {
   "cell_type": "markdown",
   "metadata": {},
   "source": [
    "We can split a sentence into a list of words with split()"
   ]
  },
  {
   "cell_type": "code",
   "execution_count": null,
   "metadata": {},
   "outputs": [],
   "source": [
    "monty_quote.split()"
   ]
  },
  {
   "attachments": {},
   "cell_type": "markdown",
   "metadata": {},
   "source": [
    "f strings allow use to combine strings with variables in an elegant way"
   ]
  },
  {
   "cell_type": "code",
   "execution_count": null,
   "metadata": {},
   "outputs": [],
   "source": [
    "number_of_people = 0\n",
    "country = 'Spanish'\n",
    "f'{number_of_people} people expect(s) the {country} Inquisition!'"
   ]
  },
  {
   "attachments": {},
   "cell_type": "markdown",
   "metadata": {},
   "source": [
    "To find in a string is within another, use the membership operator, in"
   ]
  },
  {
   "cell_type": "code",
   "execution_count": null,
   "metadata": {},
   "outputs": [],
   "source": [
    "'expects' in monty_quote, 'anticipates' in monty_quote"
   ]
  },
  {
   "attachments": {},
   "cell_type": "markdown",
   "metadata": {},
   "source": [
    "String methods always return the changed value.  They do not change the original string"
   ]
  },
  {
   "cell_type": "code",
   "execution_count": null,
   "metadata": {},
   "outputs": [],
   "source": [
    "whisper = \"Hello\"\n",
    "shout = whisper.upper()\n",
    "whisper + \" | \" + shout"
   ]
  },
  {
   "attachments": {},
   "cell_type": "markdown",
   "metadata": {},
   "source": [
    "## Indexing Strings - get a single element using the position.  \n",
    "\n",
    "Indexing is useful for many data types and not just strings.\n",
    "Python counts from 0!"
   ]
  },
  {
   "cell_type": "code",
   "execution_count": null,
   "metadata": {},
   "outputs": [],
   "source": [
    "print(\n",
    "    'first char: ' + monty_quote[0],\n",
    "    'second char: ' + monty_quote[1],\n",
    "    'third char: ' + monty_quote[2],\n",
    "    'last char: ' + monty_quote[-1],\n",
    "    sep='\\n'\n",
    ")"
   ]
  },
  {
   "attachments": {},
   "cell_type": "markdown",
   "metadata": {},
   "source": [
    "## Slicing - get a sublist using the start and end positions.  \n",
    "\n",
    "Note: Slicing returns the sublist from the element at the start position up to but *not* including the element at the end position.\n",
    "\n",
    "We don't have to start the slice at the beginning of the string.  We can slice with negative integers.  We can omit the end position to go to the end of the string.  We can also omit the start position to go from the start of the string."
   ]
  },
  {
   "cell_type": "code",
   "execution_count": null,
   "metadata": {},
   "outputs": [],
   "source": [
    "print(\n",
    "    'first 5 chars: ' + monty_quote[:5],\n",
    "    'last 5 chars: ' + monty_quote[-5:],\n",
    "    'all chars: ' + monty_quote[:],\n",
    "    ' 4 chars from 3rd position: ' + monty_quote[2:6],\n",
    "    sep='\\n'\n",
    ")"
   ]
  }
 ],
 "metadata": {
  "interpreter": {
   "hash": "68c45707def87feca5a47d18982249224aa76d0675ca5b6bc7cad154e506106e"
  },
  "kernelspec": {
   "display_name": "Python 3.9.2  ('.venv': venv)",
   "name": "python3"
  },
  "language_info": {
   "codemirror_mode": {
    "name": "ipython",
    "version": 3
   },
   "file_extension": ".py",
   "mimetype": "text/x-python",
   "name": "python",
   "nbconvert_exporter": "python",
   "pygments_lexer": "ipython3",
   "version": "3.11.2"
  },
  "metadata": {
   "interpreter": {
    "hash": "68c45707def87feca5a47d18982249224aa76d0675ca5b6bc7cad154e506106e"
   }
  },
  "orig_nbformat": 2
 },
 "nbformat": 4,
 "nbformat_minor": 2
}
