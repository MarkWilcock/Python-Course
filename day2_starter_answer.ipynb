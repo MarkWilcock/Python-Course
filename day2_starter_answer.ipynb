{
 "cells": [
  {
   "cell_type": "markdown",
   "metadata": {},
   "source": [
    "# Day 2 Starter Answer\n",
    "This set of exercises consolidates and refreshes the topics covered in the Foundation course."
   ]
  },
  {
   "cell_type": "markdown",
   "metadata": {},
   "source": [
    "## Strings\n",
    "\n",
    "### String methods\n",
    "Here is a quote from Monthy Python"
   ]
  },
  {
   "cell_type": "code",
   "execution_count": 2,
   "metadata": {},
   "outputs": [],
   "source": [
    "quote = \"What have the Romans ever done for us?\""
   ]
  },
  {
   "cell_type": "markdown",
   "metadata": {},
   "source": [
    "Use string methods to \n",
    "1. uppercase (this has been done for you)\n",
    "1. lowercase\n",
    "1. split into a list of words"
   ]
  },
  {
   "cell_type": "code",
   "execution_count": 3,
   "metadata": {},
   "outputs": [
    {
     "data": {
      "text/plain": [
       "'WHAT HAVE THE ROMANS EVER DONE FOR US?'"
      ]
     },
     "execution_count": 3,
     "metadata": {},
     "output_type": "execute_result"
    }
   ],
   "source": [
    "# uppercase the quote \n",
    "# Write your code below here\n",
    "quote_upper = quote.upper()\n",
    "quote_upper"
   ]
  },
  {
   "cell_type": "code",
   "execution_count": 5,
   "metadata": {},
   "outputs": [
    {
     "data": {
      "text/plain": [
       "'what have the romans ever done for us?'"
      ]
     },
     "execution_count": 5,
     "metadata": {},
     "output_type": "execute_result"
    }
   ],
   "source": [
    "# lowercase the quote \n",
    "# Write your code below here\n",
    "quote_lower = quote.lower()\n",
    "quote_lower"
   ]
  },
  {
   "cell_type": "code",
   "execution_count": 6,
   "metadata": {},
   "outputs": [
    {
     "data": {
      "text/plain": [
       "['What', 'have', 'the', 'Romans', 'ever', 'done', 'for', 'us?']"
      ]
     },
     "execution_count": 6,
     "metadata": {},
     "output_type": "execute_result"
    }
   ],
   "source": [
    "# split the quote into a list of words  \n",
    "# Write your code below here\n",
    "quote_split = quote.split()\n",
    "quote_split"
   ]
  },
  {
   "cell_type": "markdown",
   "metadata": {},
   "source": [
    "### Indexing and Slicing strings\n",
    "Return\n",
    "1. the first character of the quote (this has been done for you)\n",
    "1. the last character\n",
    "1. the first five characters\n",
    "1. the last five characters\n"
   ]
  },
  {
   "cell_type": "code",
   "execution_count": 7,
   "metadata": {},
   "outputs": [
    {
     "data": {
      "text/plain": [
       "'W'"
      ]
     },
     "execution_count": 7,
     "metadata": {},
     "output_type": "execute_result"
    }
   ],
   "source": [
    "# Return the first character of the quote (this has been done for you)\n",
    "# Write your code below here\n",
    "quote_first_char = quote[0]\n",
    "quote_first_char"
   ]
  },
  {
   "cell_type": "code",
   "execution_count": 9,
   "metadata": {},
   "outputs": [
    {
     "data": {
      "text/plain": [
       "'?'"
      ]
     },
     "execution_count": 9,
     "metadata": {},
     "output_type": "execute_result"
    }
   ],
   "source": [
    "# Return the last character of the quote\n",
    "# Write your code below here\n",
    "quote_last_char = quote[-1]\n",
    "quote_last_char\n"
   ]
  },
  {
   "cell_type": "code",
   "execution_count": 10,
   "metadata": {},
   "outputs": [
    {
     "data": {
      "text/plain": [
       "'What '"
      ]
     },
     "execution_count": 10,
     "metadata": {},
     "output_type": "execute_result"
    }
   ],
   "source": [
    "# Return the first five character of the quote\n",
    "# Write your code below here\n",
    "quote_first_five = quote[:5]\n",
    "quote_first_five"
   ]
  },
  {
   "cell_type": "code",
   "execution_count": 11,
   "metadata": {},
   "outputs": [
    {
     "data": {
      "text/plain": [
       "'r us?'"
      ]
     },
     "execution_count": 11,
     "metadata": {},
     "output_type": "execute_result"
    }
   ],
   "source": [
    "# Return the last five character of the quote\n",
    "# Write your code below here\n",
    "quote_last_five = quote[-5:]\n",
    "quote_last_five"
   ]
  },
  {
   "cell_type": "markdown",
   "metadata": {},
   "source": [
    "## Lists\n",
    "Create a list, named packages,  with three items, all strings: 'pandas', 'seaborn' and 'scikit-learn'.  Show the list."
   ]
  },
  {
   "cell_type": "code",
   "execution_count": 12,
   "metadata": {},
   "outputs": [],
   "source": [
    "# Write your code here\n",
    "packages = ['pandas', 'seaborn', 'scikit-learn']"
   ]
  },
  {
   "cell_type": "markdown",
   "metadata": {},
   "source": [
    "Append a string, 'requests'  to this list. Show the changed list."
   ]
  },
  {
   "cell_type": "code",
   "execution_count": 13,
   "metadata": {},
   "outputs": [
    {
     "data": {
      "text/plain": [
       "['pandas', 'seaborn', 'scikit-learn', 'requests']"
      ]
     },
     "execution_count": 13,
     "metadata": {},
     "output_type": "execute_result"
    }
   ],
   "source": [
    "# Write your code here\n",
    "packages.append('requests')\n",
    "packages"
   ]
  },
  {
   "cell_type": "markdown",
   "metadata": {},
   "source": [
    "Insert a string, 'keras\" as the 2nd item of this list. Show the changed list"
   ]
  },
  {
   "cell_type": "code",
   "execution_count": 15,
   "metadata": {},
   "outputs": [
    {
     "data": {
      "text/plain": [
       "['pandas', 'seaborn', 'keras', 'keras', 'scikit-learn', 'requests']"
      ]
     },
     "execution_count": 15,
     "metadata": {},
     "output_type": "execute_result"
    }
   ],
   "source": [
    "# Write your code here\n",
    "packages.insert(2, 'keras')\n",
    "packages"
   ]
  },
  {
   "cell_type": "markdown",
   "metadata": {},
   "source": [
    "Show the first, last and penultimate items in the packages list (hint: use indexing)"
   ]
  },
  {
   "cell_type": "code",
   "execution_count": 16,
   "metadata": {},
   "outputs": [
    {
     "data": {
      "text/plain": [
       "('pandas', 'requests', 'scikit-learn')"
      ]
     },
     "execution_count": 16,
     "metadata": {},
     "output_type": "execute_result"
    }
   ],
   "source": [
    "# Write your code here\n",
    "packages[0], packages[-1], packages[-2]"
   ]
  },
  {
   "cell_type": "markdown",
   "metadata": {},
   "source": [
    "Build a new list of the 2nd to the 4th items inclusive in the packages list (hint: use slicing)"
   ]
  },
  {
   "cell_type": "code",
   "execution_count": 17,
   "metadata": {},
   "outputs": [
    {
     "data": {
      "text/plain": [
       "['seaborn', 'keras', 'keras']"
      ]
     },
     "execution_count": 17,
     "metadata": {},
     "output_type": "execute_result"
    }
   ],
   "source": [
    "# Write your code here\n",
    "packages[1:4]"
   ]
  },
  {
   "cell_type": "markdown",
   "metadata": {},
   "source": [
    "## Dicts\n",
    "Create a dict, named fruit,  with three keys: 'apple', 'banana' and 'cherry' and with respective values\n",
    "* 'Fruit, edible, sweet, varying colors, grown on trees'\n",
    "* 'Fruit, elongated, yellow, peelable, soft, sweet'\n",
    "* 'Small, round, red fruit, sweet or tart, stone inside'\n",
    "Display the dict"
   ]
  },
  {
   "cell_type": "code",
   "execution_count": 19,
   "metadata": {},
   "outputs": [
    {
     "data": {
      "text/plain": [
       "{'apple': 'Fruit, edible, sweet, varying colors, grown on trees',\n",
       " 'banana': 'Fruit, elongated, yellow, peelable, soft, sweet',\n",
       " 'cherry': 'Small, round, red fruit, sweet or tart, stone inside'}"
      ]
     },
     "execution_count": 19,
     "metadata": {},
     "output_type": "execute_result"
    }
   ],
   "source": [
    "# Write your code here\n",
    "fruit = {\n",
    "    'apple': 'Fruit, edible, sweet, varying colors, grown on trees',\n",
    "    'banana': 'Fruit, elongated, yellow, peelable, soft, sweet',\n",
    "    'cherry': 'Small, round, red fruit, sweet or tart, stone inside'\n",
    "}\n",
    "fruit"
   ]
  },
  {
   "cell_type": "markdown",
   "metadata": {},
   "source": [
    "Add another fruit of your choice to the dict and display the dict"
   ]
  },
  {
   "cell_type": "code",
   "execution_count": 21,
   "metadata": {},
   "outputs": [
    {
     "data": {
      "text/plain": [
       "{'apple': 'Fruit, edible, sweet, varying colors, grown on trees',\n",
       " 'banana': 'Fruit, elongated, yellow, peelable, soft, sweet',\n",
       " 'cherry': 'Small, round, red fruit, sweet or tart, stone inside',\n",
       " 'date': 'Fruit, sweet, brown, grows on palm trees'}"
      ]
     },
     "execution_count": 21,
     "metadata": {},
     "output_type": "execute_result"
    }
   ],
   "source": [
    "# Write your code here\n",
    "fruit['date'] = 'Fruit, sweet, brown, grows on palm trees'\n",
    "fruit"
   ]
  },
  {
   "cell_type": "markdown",
   "metadata": {},
   "source": [
    "# Conditional flow\n",
    "This section covers if - elif - else and for.\n"
   ]
  },
  {
   "cell_type": "markdown",
   "metadata": {},
   "source": [
    "Once the code cell below is run, the current_hour variable will be set to the hour of the current time. (int datatype)"
   ]
  },
  {
   "cell_type": "code",
   "execution_count": 22,
   "metadata": {},
   "outputs": [
    {
     "data": {
      "text/plain": [
       "15"
      ]
     },
     "execution_count": 22,
     "metadata": {},
     "output_type": "execute_result"
    }
   ],
   "source": [
    "from datetime import datetime\n",
    "\n",
    "current_hour = datetime.now().hour\n",
    "current_hour"
   ]
  },
  {
   "cell_type": "markdown",
   "metadata": {},
   "source": [
    "If current_hour is less then 12, print good morning.  If less than 17, print good afternoon.  Otherwise, print good evening."
   ]
  },
  {
   "cell_type": "code",
   "execution_count": 23,
   "metadata": {},
   "outputs": [
    {
     "data": {
      "text/plain": [
       "'Good afternoon'"
      ]
     },
     "execution_count": 23,
     "metadata": {},
     "output_type": "execute_result"
    }
   ],
   "source": [
    "# Write your code here\n",
    "if current_hour < 12:\n",
    "    message = 'Good morning'\n",
    "elif current_hour < 17: \n",
    "    message = 'Good afternoon'\n",
    "else:\n",
    "    message = 'Good evening'\n",
    "\n",
    "message"
   ]
  },
  {
   "cell_type": "markdown",
   "metadata": {},
   "source": [
    "Print the years between 2020 and 2030 inclusive.  Print each year on a new line.  The result should look like:  \n",
    "2020  \n",
    "2021  \n",
    "...  \n",
    "2030"
   ]
  },
  {
   "cell_type": "code",
   "execution_count": 24,
   "metadata": {},
   "outputs": [
    {
     "name": "stdout",
     "output_type": "stream",
     "text": [
      "2020\n",
      "2021\n",
      "2022\n",
      "2023\n",
      "2024\n",
      "2025\n",
      "2026\n",
      "2027\n",
      "2028\n",
      "2029\n",
      "2030\n"
     ]
    }
   ],
   "source": [
    "# Write your code here\n",
    "for i in range(2020, 2031, 1):\n",
    "    print(i)"
   ]
  },
  {
   "cell_type": "markdown",
   "metadata": {},
   "source": [
    "# Brainteaser exercise"
   ]
  },
  {
   "cell_type": "markdown",
   "metadata": {},
   "source": [
    "Here is a set of blood pressure reading over the last few days.  \n",
    "\n",
    "> '120/80', '122/79', '125/82', '129/85', '129/90', '127/88', '126/80'\n",
    "\n",
    "These are in the format _sys_/_dia_ where:\n",
    "* _sys_ is the systolic pressure - the high number before the /\n",
    "* _dia_ is the diastolic pressure - the lower number after the /"
   ]
  },
  {
   "cell_type": "markdown",
   "metadata": {},
   "source": [
    "Create a list (or tuple if you prefer) of these readings.  \n",
    "Assign this to a varable, named bp_readings."
   ]
  },
  {
   "cell_type": "code",
   "execution_count": 28,
   "metadata": {},
   "outputs": [
    {
     "data": {
      "text/plain": [
       "('120/80', '122/79', '125/82', '129/85', '129/90', '127/88', '126/80')"
      ]
     },
     "execution_count": 28,
     "metadata": {},
     "output_type": "execute_result"
    }
   ],
   "source": [
    "# Write your code here\n",
    "bp_readings = ('120/80', '122/79', '125/82', '129/85', '129/90', '127/88', '126/80')\n",
    "bp_readings"
   ]
  },
  {
   "cell_type": "markdown",
   "metadata": {},
   "source": [
    "Using bp_readings, create a list (or tuple if you prefer) that contains the systolic numbers. The elements should be integers.  \n",
    "Assign this to a varable, named systolic. \n",
    "If a list, The result should look like \n",
    "\n",
    "> [120, 122, 125, 129, 127, 126]\n"
   ]
  },
  {
   "cell_type": "code",
   "execution_count": 33,
   "metadata": {},
   "outputs": [
    {
     "data": {
      "text/plain": [
       "[120, 122, 125, 129, 129, 127, 126]"
      ]
     },
     "execution_count": 33,
     "metadata": {},
     "output_type": "execute_result"
    }
   ],
   "source": [
    "# Write your code here\n",
    "systolic = [int(bp_reading.split('/')[0]) for bp_reading in bp_readings]\n",
    "systolic\n"
   ]
  },
  {
   "cell_type": "markdown",
   "metadata": {},
   "source": [
    "Do the same for the diastolic numbers.\n",
    "Assign this to a varable, named diastolic. \n"
   ]
  },
  {
   "cell_type": "code",
   "execution_count": 35,
   "metadata": {},
   "outputs": [
    {
     "data": {
      "text/plain": [
       "[80, 79, 82, 85, 90, 88, 80]"
      ]
     },
     "execution_count": 35,
     "metadata": {},
     "output_type": "execute_result"
    }
   ],
   "source": [
    "# Write your code here\n",
    "diastolic = [int(bp_reading.split('/')[1]) for bp_reading in bp_readings]\n",
    "diastolic"
   ]
  },
  {
   "cell_type": "markdown",
   "metadata": {},
   "source": [
    "Calculate\n",
    "1. the average systolic pressure reading throughout the period?\n",
    "1. the smallest systolic pressure reading"
   ]
  },
  {
   "cell_type": "code",
   "execution_count": 39,
   "metadata": {},
   "outputs": [
    {
     "name": "stdout",
     "output_type": "stream",
     "text": [
      "Systolic Results :  Average: 125.42857142857143, Smallest 120  \n",
      "\n"
     ]
    }
   ],
   "source": [
    "#  write your code here\n",
    "avg_stystolic = sum(systolic) / len(systolic)\n",
    "min_stystolic = min(systolic)\n",
    "message = f'Systolic Results :  Average: {avg_stystolic}, Smallest {min_stystolic}  \\n'\n",
    "print(message)"
   ]
  },
  {
   "cell_type": "markdown",
   "metadata": {},
   "source": [
    "*Optional Advanced Section*  \n",
    "zip together the systolic and diastolic lists to reproduce the original bp list.  \n",
    "Hint: use the zip function"
   ]
  },
  {
   "cell_type": "code",
   "execution_count": 42,
   "metadata": {},
   "outputs": [
    {
     "data": {
      "text/plain": [
       "[(120, 80), (122, 79), (125, 82), (129, 85), (129, 90), (127, 88), (126, 80)]"
      ]
     },
     "execution_count": 42,
     "metadata": {},
     "output_type": "execute_result"
    }
   ],
   "source": [
    "# write your code here\n",
    "zipped_bp_list = list (zip(systolic, diastolic))\n",
    "zipped_bp_list"
   ]
  },
  {
   "cell_type": "code",
   "execution_count": 46,
   "metadata": {},
   "outputs": [
    {
     "data": {
      "text/plain": [
       "['120/80', '122/79', '125/82', '129/85', '129/90', '127/88', '126/80']"
      ]
     },
     "execution_count": 46,
     "metadata": {},
     "output_type": "execute_result"
    }
   ],
   "source": [
    "[str(z[0]) + '/' + str(z[1]) for z in zipped_bp_list]"
   ]
  }
 ],
 "metadata": {
  "kernelspec": {
   "display_name": ".venv",
   "language": "python",
   "name": "python3"
  },
  "language_info": {
   "codemirror_mode": {
    "name": "ipython",
    "version": 3
   },
   "file_extension": ".py",
   "mimetype": "text/x-python",
   "name": "python",
   "nbconvert_exporter": "python",
   "pygments_lexer": "ipython3",
   "version": "3.12.3"
  }
 },
 "nbformat": 4,
 "nbformat_minor": 2
}
