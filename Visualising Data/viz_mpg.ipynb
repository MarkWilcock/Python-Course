{
 "cells": [
  {
   "cell_type": "markdown",
   "metadata": {},
   "source": [
    "# Visualise the mpg dataset with seaborn\n",
    "mpg is a famous dataset of the performance, including miles per gallon, of cars in the 1970s\n"
   ]
  },
  {
   "cell_type": "code",
   "execution_count": null,
   "metadata": {},
   "outputs": [],
   "source": [
    "import seaborn as sns\n",
    "import matplotlib.pyplot as plt\n",
    "import pandas as pd"
   ]
  },
  {
   "cell_type": "code",
   "execution_count": null,
   "metadata": {},
   "outputs": [],
   "source": [
    "# mpg is an internal dataset provided with sns so we don't need to import from an external file\n",
    "mpg = sns.load_dataset(\"mpg\")"
   ]
  },
  {
   "cell_type": "code",
   "execution_count": null,
   "metadata": {},
   "outputs": [],
   "source": [
    "# The cylinders column is numeric.  Encode as both hue (colour, sequential palette provided) and size\n",
    "sns.relplot(data=mpg, x='horsepower', y='mpg', size='cylinders', hue='cylinders', kind='scatter')"
   ]
  },
  {
   "cell_type": "code",
   "execution_count": null,
   "metadata": {},
   "outputs": [],
   "source": [
    "#  Use (point) style to show markers as different shapes\n",
    "sns.relplot(data=mpg, x='acceleration', y='mpg', style='origin', hue='origin', kind='scatter')"
   ]
  },
  {
   "cell_type": "code",
   "execution_count": null,
   "metadata": {},
   "outputs": [],
   "source": [
    "# Create a scatter plot and line chart of same data. Since each year has several values, the  line chart has 95% confidence intervals\n",
    "sns.relplot(data=mpg, x='model_year', y = 'mpg', kind=\"scatter\")\n",
    "plt.show()\n",
    "sns.relplot(data=mpg, x='model_year', y = 'mpg', kind=\"line\")\n",
    "plt.show()\n",
    "sns.relplot(data=mpg, x='model_year', y = 'mpg', kind=\"line\", errorbar='sd') # uses 1 standard deviation rather than 95% for the shaded area\n",
    "plt.show()"
   ]
  },
  {
   "cell_type": "code",
   "execution_count": null,
   "metadata": {},
   "outputs": [],
   "source": [
    "# horsepower generally reduces over the year for models from every country especially the USA.  Note that ci set to None for no confidence intervals\n",
    "sns.relplot(data=mpg, x='model_year', y='horsepower', kind='line', errorbar=None, style = 'origin', hue = 'origin', dashes=False, markers=True)"
   ]
  }
 ],
 "metadata": {
  "kernelspec": {
   "display_name": ".venv",
   "language": "python",
   "name": "python3"
  },
  "language_info": {
   "codemirror_mode": {
    "name": "ipython",
    "version": 3
   },
   "file_extension": ".py",
   "mimetype": "text/x-python",
   "name": "python",
   "nbconvert_exporter": "python",
   "pygments_lexer": "ipython3",
   "version": "3.11.2"
  },
  "metadata": {
   "interpreter": {
    "hash": "047320649600f32f163458a3ea42b5e6faa8e94a8e8162718a3776c6fffc4da4"
   }
  },
  "orig_nbformat": 2
 },
 "nbformat": 4,
 "nbformat_minor": 2
}
