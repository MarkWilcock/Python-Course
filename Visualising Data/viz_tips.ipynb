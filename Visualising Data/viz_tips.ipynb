{
 "cells": [
  {
   "cell_type": "markdown",
   "metadata": {},
   "source": [
    "# Visualise the tips dataset with seaborn\n",
    "The tips dataset contains details of restaurant bookings including the bill amount and tips."
   ]
  },
  {
   "cell_type": "code",
   "execution_count": null,
   "metadata": {},
   "outputs": [],
   "source": [
    "import seaborn as sns\n",
    "import matplotlib.pyplot as plt\n",
    "import pandas as pd"
   ]
  },
  {
   "cell_type": "code",
   "execution_count": null,
   "metadata": {},
   "outputs": [],
   "source": [
    "# tips is a inbuilt sns dataset - details of restaurant meals - price, tips, size of the party etc\n",
    "tips = sns.load_dataset(\"tips\")\n",
    "tips.head(3)"
   ]
  },
  {
   "cell_type": "code",
   "execution_count": null,
   "metadata": {},
   "outputs": [],
   "source": [
    "# The colours dict maps values of the smoker column to colours on the chart\n",
    "colours = {\"Yes\": \"black\",  \"No\" :\"red\" }"
   ]
  },
  {
   "cell_type": "code",
   "execution_count": null,
   "metadata": {},
   "outputs": [],
   "source": [
    "# Create a scatterplot.  smokers in black dots, non-smokers in red \n",
    "sns.scatterplot(\n",
    "    x = \"total_bill\", \n",
    "    y = \"tip\", \n",
    "    hue ='smoker', \n",
    "    hue_order = ['No', 'Yes'],\n",
    "    palette=colours,\n",
    "    data = tips)"
   ]
  },
  {
   "cell_type": "code",
   "execution_count": null,
   "metadata": {},
   "outputs": [],
   "source": [
    "# Create clustered column chart with smoker on axis and sex on legend\n",
    "sns.countplot(x=\"smoker\", hue=\"sex\", data = tips)"
   ]
  },
  {
   "cell_type": "code",
   "execution_count": null,
   "metadata": {},
   "outputs": [],
   "source": [
    "# A rel(ational) plot can serve as a scatter chart (hue = <column>), or as a small multiples charts (row, col = <column>)\n",
    "sns.relplot(\n",
    "    x = \"total_bill\", \n",
    "    y = \"tip\", \n",
    "    # hue ='smoker', \n",
    "    # hue_order = ['No', 'Yes'],\n",
    "    # palette=colours,\n",
    "    kind=\"scatter\",\n",
    "    data = tips,\n",
    "    row = \"smoker\",\n",
    "    col=\"sex\"\n",
    "    )\n",
    "plt.show()\n"
   ]
  },
  {
   "cell_type": "code",
   "execution_count": null,
   "metadata": {},
   "outputs": [],
   "source": [
    "# the col_wrap argument controls the number of charts per column\n",
    "sns.relplot(\n",
    "    x = \"total_bill\", \n",
    "    y = \"tip\", \n",
    "    kind=\"scatter\",\n",
    "    data = tips,\n",
    "    col=\"day\",\n",
    "    col_wrap=3,\n",
    "    col_order=['Sun', 'Thur', 'Fri', 'Sat']\n",
    "    )"
   ]
  },
  {
   "cell_type": "code",
   "execution_count": null,
   "metadata": {},
   "outputs": [],
   "source": [
    "# size of party encoded as both hue and size\n",
    "sns.relplot(\n",
    "    x = \"total_bill\", \n",
    "    y = \"tip\", \n",
    "    # hue ='smoker', \n",
    "    # hue_order = ['No', 'Yes'],\n",
    "    # palette=colours,\n",
    "    kind=\"scatter\",\n",
    "    data = tips,\n",
    "    size='size',\n",
    "    hue='size'\n",
    "    )\n",
    "plt.show()"
   ]
  },
  {
   "cell_type": "code",
   "execution_count": null,
   "metadata": {},
   "outputs": [],
   "source": [
    "# for a categorical variable, use style = <column> as well as hue\n",
    "# Note alpha used for transparency\n",
    "sns.relplot(\n",
    "    x = \"total_bill\", \n",
    "    y = \"tip\", \n",
    "    kind=\"scatter\",\n",
    "    data = tips,\n",
    "    style='smoker',\n",
    "    hue='smoker',\n",
    "    alpha = 0.4\n",
    "    )\n",
    "plt.show()"
   ]
  },
  {
   "cell_type": "code",
   "execution_count": null,
   "metadata": {},
   "outputs": [],
   "source": [
    "# Box plots are a type of categorical plot\n",
    "sns.catplot(data=tips, x='time', y='total_bill', kind='box')\n",
    "plt.show()\n",
    "# Change a few defaults\n",
    "sns.catplot(data=tips, x='time', y='total_bill', kind='box', order = ('Dinner', 'Lunch'), sym=\"\", whis=[0,100])\n",
    "plt.show()\n"
   ]
  }
 ],
 "metadata": {
  "kernelspec": {
   "display_name": ".venv",
   "language": "python",
   "name": "python3"
  },
  "language_info": {
   "codemirror_mode": {
    "name": "ipython",
    "version": 3
   },
   "file_extension": ".py",
   "mimetype": "text/x-python",
   "name": "python",
   "nbconvert_exporter": "python",
   "pygments_lexer": "ipython3",
   "version": "3.11.2"
  },
  "metadata": {
   "interpreter": {
    "hash": "047320649600f32f163458a3ea42b5e6faa8e94a8e8162718a3776c6fffc4da4"
   }
  },
  "orig_nbformat": 2
 },
 "nbformat": 4,
 "nbformat_minor": 2
}
