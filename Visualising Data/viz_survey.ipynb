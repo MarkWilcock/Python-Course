{
 "cells": [
  {
   "cell_type": "markdown",
   "metadata": {},
   "source": [
    "# Visualise the COVID Infection Survey with seaborn\n",
    "The ONS produce a survey of the estimated COVID infection rate in nine English regions over a recent six week period.\n",
    "The data provided the best estimate (the central value) but also the upper and lower ranges of 95% credible intervals."
   ]
  },
  {
   "cell_type": "code",
   "execution_count": null,
   "metadata": {},
   "outputs": [],
   "source": [
    "import seaborn as sns\n",
    "import matplotlib.pyplot as plt\n",
    "import pandas as pd"
   ]
  },
  {
   "cell_type": "code",
   "execution_count": null,
   "metadata": {},
   "outputs": [],
   "source": [
    "covid_infection_survey_data_url = \"https://raw.githubusercontent.com/MarkWilcock/CourseDatasets/main/COVID%20Infection%20Survey/Covid%20Infection%20Survey%202021-03-06.csv\"\n",
    "survey = pd.read_csv(covid_infection_survey_data_url, parse_dates= ['Date'])\n",
    "survey.info()\n",
    "survey.head(2)"
   ]
  },
  {
   "cell_type": "code",
   "execution_count": null,
   "metadata": {},
   "outputs": [],
   "source": [
    "# Show the infection rate in the London region over time\n",
    "sns.relplot(data=survey, x='Date', y ='London-Central', kind='line')\n",
    "#sns.relplot(data=survey, x='Date', y =['London-Central', 'London-Upper'], kind='line') # This did not work!\n",
    "plt.show()"
   ]
  },
  {
   "cell_type": "code",
   "execution_count": null,
   "metadata": {},
   "outputs": [],
   "source": [
    "# To visualise in seaborn, we need to reshape the dataset\n",
    "# Unpivot the data to get 3 columns: Date, Attribute and Rate\n",
    "survey_long = survey.melt(id_vars=['Date'], var_name='Attribute', value_name='Rate')\n",
    "survey_long.head(2)"
   ]
  },
  {
   "cell_type": "code",
   "execution_count": null,
   "metadata": {},
   "outputs": [],
   "source": [
    "# Split the Attribute column into Region and ValueType, and then remove it\n",
    "survey_long[['Region', 'ValueType']] = survey_long['Attribute'].str.split('-', expand=True)\n",
    "survey_long = survey_long.drop(columns = 'Attribute')\n",
    "survey_long.head(2)"
   ]
  },
  {
   "cell_type": "code",
   "execution_count": null,
   "metadata": {},
   "outputs": [],
   "source": [
    "# Create a line chart comparing the estimated infection rate over time in two regions \n",
    "survey_long_central = survey_long.loc[survey_long['ValueType'] == 'Central', :]\n",
    "survey_long_central_filtered = survey_long_central.loc[survey_long_central['Region'].isin(['London', 'North East']), :]\n",
    "\n",
    "sns.relplot(data=survey_long_central_filtered, x='Date', y='Rate', hue ='Region', kind='line', style='Region')"
   ]
  },
  {
   "cell_type": "code",
   "execution_count": null,
   "metadata": {},
   "outputs": [],
   "source": [
    "# Create a small multiples chart - one chart for each region\n",
    "sns.relplot(data=survey_long, x='Date', y='Rate', col ='Region', hue='ValueType', col_wrap=3, kind='line')"
   ]
  }
 ],
 "metadata": {
  "kernelspec": {
   "display_name": ".venv",
   "language": "python",
   "name": "python3"
  },
  "language_info": {
   "codemirror_mode": {
    "name": "ipython",
    "version": 3
   },
   "file_extension": ".py",
   "mimetype": "text/x-python",
   "name": "python",
   "nbconvert_exporter": "python",
   "pygments_lexer": "ipython3",
   "version": "3.11.2"
  },
  "metadata": {
   "interpreter": {
    "hash": "047320649600f32f163458a3ea42b5e6faa8e94a8e8162718a3776c6fffc4da4"
   }
  },
  "orig_nbformat": 2
 },
 "nbformat": 4,
 "nbformat_minor": 2
}
