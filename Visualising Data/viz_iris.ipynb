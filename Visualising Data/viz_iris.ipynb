{
 "cells": [
  {
   "cell_type": "markdown",
   "metadata": {},
   "source": [
    "# Visualise the iris dataset  with seaborn\n",
    "iris is a famous dataset of the sepal and petal lengths and widths of 150 iris flowers of thrree different species"
   ]
  },
  {
   "cell_type": "code",
   "execution_count": null,
   "metadata": {},
   "outputs": [],
   "source": [
    "import seaborn as sns\n",
    "import matplotlib.pyplot as plt\n",
    "import pandas as pd\n",
    "\n",
    "sns.set_style('darkgrid')\n",
    "sns.set_palette('RdBu')"
   ]
  },
  {
   "cell_type": "code",
   "execution_count": null,
   "metadata": {},
   "outputs": [],
   "source": [
    "# Import the dataset. For convenience, rename the columns to lowercase and no spaces and dots\n",
    "iris = pd.read_csv(\"..\\Datasets\\irisdata.csv\")\n",
    "iris.columns = ('observation', 'sepal_length', 'sepal_width', 'petal_length', 'petal_width', 'species')\n",
    "iris"
   ]
  },
  {
   "cell_type": "code",
   "execution_count": null,
   "metadata": {},
   "outputs": [],
   "source": [
    "# Build a scatter plot of the relationship between petal and sepal  lengths.\n",
    "sns.scatterplot(x='petal_length', y = 'sepal_length', hue = 'species', data = iris)\n",
    "plt.show()"
   ]
  },
  {
   "cell_type": "code",
   "execution_count": null,
   "metadata": {},
   "outputs": [],
   "source": [
    "sns.relplot(data= iris, x='petal_length', y = 'sepal_length', hue = 'species', kind='scatter')\n",
    "plt.show()"
   ]
  },
  {
   "cell_type": "code",
   "execution_count": null,
   "metadata": {},
   "outputs": [],
   "source": [
    "# A rel(ational) plot is more flexible than a scatterplot since it can also create small multiples\n",
    "sns.relplot(data = iris, x='petal_length', y = 'sepal_length', hue = 'species', kind='scatter')\n",
    "plt.show()\n",
    "sns.relplot(data = iris, x='petal_length', y = 'sepal_length', col = 'species', kind='scatter')\n",
    "plt.show()"
   ]
  }
 ],
 "metadata": {
  "kernelspec": {
   "display_name": ".venv",
   "language": "python",
   "name": "python3"
  },
  "language_info": {
   "codemirror_mode": {
    "name": "ipython",
    "version": 3
   },
   "file_extension": ".py",
   "mimetype": "text/x-python",
   "name": "python",
   "nbconvert_exporter": "python",
   "pygments_lexer": "ipython3",
   "version": "3.11.2"
  },
  "metadata": {
   "interpreter": {
    "hash": "047320649600f32f163458a3ea42b5e6faa8e94a8e8162718a3776c6fffc4da4"
   }
  },
  "orig_nbformat": 3
 },
 "nbformat": 4,
 "nbformat_minor": 2
}
