{
 "cells": [
  {
   "cell_type": "markdown",
   "metadata": {},
   "source": [
    "# Visualise the titanic dataset with seaborn\n",
    "The titanic dataset contains the details of 891 passengers, including name, passenger class, sex, point of embarkation - and whether they survived or not."
   ]
  },
  {
   "cell_type": "code",
   "execution_count": null,
   "metadata": {},
   "outputs": [],
   "source": [
    "import seaborn as sns\n",
    "import matplotlib.pyplot as plt\n",
    "import pandas as pd\n",
    "import numpy as np"
   ]
  },
  {
   "cell_type": "code",
   "execution_count": null,
   "metadata": {},
   "outputs": [],
   "source": [
    "titanic = pd.read_csv(\"../Datasets/Titanic.csv\")\n",
    "titanic.info()\n",
    "titanic.head(2)"
   ]
  },
  {
   "cell_type": "code",
   "execution_count": null,
   "metadata": {},
   "outputs": [],
   "source": [
    "# sns.set_palette(\"RdBu\")\n",
    "# sns.set_context(\"talk\")\n",
    "sns.countplot(data=titanic, x='Embarked')\n",
    "plt.show()\n",
    "sns.countplot(data=titanic, x='Pclass')\n",
    "plt.show()\n",
    "# 2 variables, on axis and on legend\n",
    "sns.countplot(data = titanic, x='Embarked', hue= 'Sex')\n",
    "plt.show()"
   ]
  },
  {
   "cell_type": "code",
   "execution_count": null,
   "metadata": {},
   "outputs": [],
   "source": [
    "#  better to use catplot (categorical plot) with kind='count' rather than countplot\n",
    "sns.catplot(data= titanic, x= 'Survived', kind='count')\n",
    "plt.show()"
   ]
  },
  {
   "cell_type": "code",
   "execution_count": null,
   "metadata": {},
   "outputs": [],
   "source": [
    "#  order the axis values\n",
    "sns.catplot(data= titanic, x= 'Embarked', order=['C','Q','S'], kind='count')\n",
    "plt.show()"
   ]
  },
  {
   "cell_type": "code",
   "execution_count": null,
   "metadata": {},
   "outputs": [],
   "source": [
    "# Create a column chart to find average age of people in each passenger class. Note 95% CI shown by default.\n",
    "sns.catplot(data= titanic, x=\"Pclass\", y=\"Age\", kind='bar')\n",
    "plt.show()"
   ]
  },
  {
   "cell_type": "code",
   "execution_count": null,
   "metadata": {},
   "outputs": [],
   "source": [
    "# Create small multiples of chart abpve for mean and women.\n",
    "sns.catplot(data= titanic, x=\"Pclass\", y=\"Age\", kind='bar', col='Sex')\n",
    "plt.show()"
   ]
  },
  {
   "cell_type": "code",
   "execution_count": null,
   "metadata": {},
   "outputs": [],
   "source": [
    "#  When the y variable is a boolean or 0/1, this results in a percentage plot reporting True (or 1)\n",
    "sns.catplot(data= titanic, x='Sex', y='Survived', kind='bar')\n",
    "plt.show()"
   ]
  },
  {
   "cell_type": "code",
   "execution_count": null,
   "metadata": {},
   "outputs": [],
   "source": [
    "# Note that by default, kind = 'strip' which gives a swarm plot\n",
    "sns.catplot(data= titanic, x='Pclass', y = 'Fare')\n",
    "plt.show()\n",
    "sns.catplot(data= titanic, x='Pclass', y = 'Fare', kind='bar')\n",
    "plt.show()"
   ]
  },
  {
   "cell_type": "code",
   "execution_count": null,
   "metadata": {},
   "outputs": [],
   "source": [
    "# Box plots\n",
    "# fare paid by passengers in each class\n",
    "sns.catplot(data= titanic, x='Pclass', y = 'Fare', kind='box')\n",
    "plt.show()\n",
    "\n",
    "sns.catplot(data= titanic, x='Pclass', y = 'Fare', hue='Sex', kind='box')\n",
    "plt.show()\n"
   ]
  },
  {
   "cell_type": "code",
   "execution_count": null,
   "metadata": {},
   "outputs": [],
   "source": [
    "# point plots\n",
    "sns.catplot(data=titanic, x = 'Pclass', y='Fare', hue='Sex', kind='point')\n",
    "plt.show\n",
    "# remove the lines berween categories\n",
    "sns.catplot(data=titanic, x = 'Pclass', y='Fare', hue='Sex', kind='point', join=False, estimator=np.median)\n",
    "plt.show\n"
   ]
  }
 ],
 "metadata": {
  "kernelspec": {
   "display_name": ".venv",
   "language": "python",
   "name": "python3"
  },
  "language_info": {
   "codemirror_mode": {
    "name": "ipython",
    "version": 3
   },
   "file_extension": ".py",
   "mimetype": "text/x-python",
   "name": "python",
   "nbconvert_exporter": "python",
   "pygments_lexer": "ipython3",
   "version": "3.11.2"
  },
  "metadata": {
   "interpreter": {
    "hash": "047320649600f32f163458a3ea42b5e6faa8e94a8e8162718a3776c6fffc4da4"
   }
  },
  "orig_nbformat": 2
 },
 "nbformat": 4,
 "nbformat_minor": 2
}
