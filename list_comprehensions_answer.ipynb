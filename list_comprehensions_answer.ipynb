{
 "cells": [
  {
   "cell_type": "markdown",
   "metadata": {},
   "source": [
    "# List comprehensions: Answer"
   ]
  },
  {
   "cell_type": "code",
   "execution_count": null,
   "metadata": {},
   "outputs": [],
   "source": [
    "# In this exercise, we will use a list comprehension with a list of names of London hospitals\n",
    "hospitals = ['guy', 'king', 'thomas', 'bart', 'george']"
   ]
  },
  {
   "cell_type": "code",
   "execution_count": null,
   "metadata": {},
   "outputs": [],
   "source": [
    "# Return a list of the names of the hospitals with a 's' on the end e.g. guys, kings,...\n",
    "# Write your code below\n",
    "[hospital + 's' for hospital in hospitals]"
   ]
  },
  {
   "cell_type": "code",
   "execution_count": null,
   "metadata": {},
   "outputs": [],
   "source": [
    "# Return a list of the names of the hospitals with the first character in upper case e.g. Guy, King,...\n",
    "# hint: use a string method to capitalise the first letter of a string\n",
    "# Write your code below\n",
    "[hospital.capitalize() for hospital in hospitals]"
   ]
  },
  {
   "cell_type": "code",
   "execution_count": null,
   "metadata": {},
   "outputs": [],
   "source": [
    "# Return a list of the names of only those names that have a length of 4 characters\n",
    "# Write your code below\n",
    "[hospital for hospital in hospitals if len(hospital) == 4]"
   ]
  },
  {
   "cell_type": "code",
   "execution_count": null,
   "metadata": {},
   "outputs": [],
   "source": [
    "# Return a list of the names back to front e.g. yug, gnik, ...\n",
    "# Here is a function you can use\n",
    "def reverse_string(s):\n",
    "    return s[::-1]\n",
    "\n",
    "# Write your code below\n",
    "[reverse_string(hospital) for hospital in hospitals]"
   ]
  }
 ],
 "metadata": {
  "kernelspec": {
   "display_name": ".venv",
   "language": "python",
   "name": "python3"
  },
  "language_info": {
   "codemirror_mode": {
    "name": "ipython",
    "version": 3
   },
   "file_extension": ".py",
   "mimetype": "text/x-python",
   "name": "python",
   "nbconvert_exporter": "python",
   "pygments_lexer": "ipython3",
   "version": "3.12.3"
  }
 },
 "nbformat": 4,
 "nbformat_minor": 2
}
