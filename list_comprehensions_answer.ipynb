{
 "cells": [
  {
   "cell_type": "markdown",
   "metadata": {},
   "source": [
    "# List comprehensions: Answer"
   ]
  },
  {
   "cell_type": "markdown",
   "metadata": {},
   "source": [
    "In this exercise, we will use a list comprehension with a list of names of London hospitals"
   ]
  },
  {
   "cell_type": "code",
   "execution_count": null,
   "metadata": {},
   "outputs": [],
   "source": [
    "hospitals = ['guy', 'king', 'thomas', 'bart', 'george']"
   ]
  },
  {
   "cell_type": "markdown",
   "metadata": {},
   "source": [
    "Create a list of all the hospitals. For each hospital add an 's' to the end  of the name.  \n",
    "The result will be a list [guys, kings, thomass, barts, georges]\n"
   ]
  },
  {
   "cell_type": "code",
   "execution_count": null,
   "metadata": {},
   "outputs": [],
   "source": [
    "# Write your code below\n",
    "[hospital + 's' for hospital in hospitals]"
   ]
  },
  {
   "cell_type": "markdown",
   "metadata": {},
   "source": [
    "Create a list of all the hospitals. For each hospital, upper case the first character of the name.  \n",
    "The result will be a list [Guy, King, Thomas, Bart, George]  \n",
    "Hint: use a string method to capitalise the first letter of a string.\n"
   ]
  },
  {
   "cell_type": "code",
   "execution_count": null,
   "metadata": {},
   "outputs": [],
   "source": [
    "# Write your code below\n",
    "[hospital.capitalize() for hospital in hospitals]"
   ]
  },
  {
   "cell_type": "markdown",
   "metadata": {},
   "source": [
    "Create a list of only those hospitals that have a name of length 4 characters.  \n",
    "The result will be a list [king, bart]\n"
   ]
  },
  {
   "cell_type": "code",
   "execution_count": null,
   "metadata": {},
   "outputs": [],
   "source": [
    "# Write your code below\n",
    "[hospital for hospital in hospitals if len(hospital) == 4]"
   ]
  },
  {
   "cell_type": "markdown",
   "metadata": {},
   "source": [
    "Create a list of all the hospitals. For each hospital, write the name back top front.  \n",
    "The result will be a list ['yug', 'gnik', 'samoht', 'trab', 'egroeg']  \n",
    "Use the reverse_string function, defined below."
   ]
  },
  {
   "cell_type": "code",
   "execution_count": null,
   "metadata": {},
   "outputs": [],
   "source": [
    "def reverse_string(s):\n",
    "    \"\"\" Reverses the input string e.g 'hello' -> 'olleh' \"\"\"\n",
    "    return s[::-1]"
   ]
  },
  {
   "cell_type": "code",
   "execution_count": null,
   "metadata": {},
   "outputs": [],
   "source": [
    "# Write your code below\n",
    "[reverse_string(hospital) for hospital in hospitals]"
   ]
  }
 ],
 "metadata": {
  "kernelspec": {
   "display_name": ".venv",
   "language": "python",
   "name": "python3"
  },
  "language_info": {
   "codemirror_mode": {
    "name": "ipython",
    "version": 3
   },
   "file_extension": ".py",
   "mimetype": "text/x-python",
   "name": "python",
   "nbconvert_exporter": "python",
   "pygments_lexer": "ipython3",
   "version": "3.12.3"
  }
 },
 "nbformat": 4,
 "nbformat_minor": 2
}
