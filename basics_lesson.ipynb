{
 "cells": [
  {
   "attachments": {},
   "cell_type": "markdown",
   "metadata": {},
   "source": [
    "# Basics (Getting started with Python)\n",
    "\n",
    "We are going to learn Python like this:\n",
    "* read a chunk of code and guess/explain what it will do\n",
    "* run a chunk of code and explain what it did\n",
    "* change then run a chunk of code and explain what is different\n",
    "* write a chunk of code from scratch\n",
    "* do some exercises at the end of each section\n",
    "\n",
    "In this lesson we learn about:\n",
    "* variables\n",
    "* Python's 'whitespace is significant' principle (indentation defines blocks)\n",
    "* passing arguments into a function (positional and keyword arguments)\n",
    "* built in functions like print() and its defaults (`sep`, `end`)\n",
    "* f-strings and useful format specifiers\n",
    "* range and for-loops\n",
    "* what to do when we get an error message \n",
    "\n"
   ]
  },
  {
   "cell_type": "markdown",
   "metadata": {},
   "source": [
    "When a cell block is run, the notebook shows the value of the final expression below the cell.\n",
    "Rule of thumb: only the last expression's value in a cell is displayed."
   ]
  },
  {
   "cell_type": "code",
   "execution_count": null,
   "metadata": {},
   "outputs": [],
   "source": [
    "7 * 7"
   ]
  },
  {
   "cell_type": "code",
   "execution_count": null,
   "metadata": {},
   "outputs": [],
   "source": [
    "6 + 3  "
   ]
  },
  {
   "cell_type": "code",
   "execution_count": null,
   "metadata": {},
   "outputs": [],
   "source": [
    "7 * 7\n",
    "6 + 3"
   ]
  },
  {
   "cell_type": "markdown",
   "metadata": {},
   "source": [
    "**Variables** store values and objects for later use.  If the expression is a variable assignment then nothing will be shown, so we often will write two lines like below\n",
    "\n",
    "1. the first line sets the value of the variable\n",
    "2. the second line is just the variable name so we can see the result\n"
   ]
  },
  {
   "cell_type": "code",
   "execution_count": null,
   "metadata": {},
   "outputs": [],
   "source": [
    "result = 5 + 7\n",
    "result"
   ]
  },
  {
   "cell_type": "markdown",
   "metadata": {},
   "source": [
    "Useful tip: We often want the cell output to show the values of two or more variables. We can do this by listing the variable names on the last line separated by a comma. (Later, we will learn that we are constructing a tuple.)"
   ]
  },
  {
   "cell_type": "code",
   "execution_count": null,
   "metadata": {},
   "outputs": [],
   "source": [
    "7 * 7, 6 + 3"
   ]
  },
  {
   "cell_type": "markdown",
   "metadata": {},
   "source": [
    "Question: what does the following code cell do?"
   ]
  },
  {
   "cell_type": "code",
   "execution_count": null,
   "metadata": {},
   "outputs": [],
   "source": [
    "miles_journey = 200\n",
    "km_journey = miles_journey * 1.60934 # there are about 1.61 km in a mile\n",
    "furlongs_journey = miles_journey * 8 # there are 8 furlongs in a mile\n",
    "km_journey, furlongs_journey # show both results"
   ]
  },
  {
   "cell_type": "markdown",
   "metadata": {},
   "source": [
    "####  Exercise\n",
    "Change `miles_journey` to 350 and recompute the values above.  \n",
    "Add yards using 1760 yards per mile and display it too.\n",
    "\n"
   ]
  },
  {
   "cell_type": "code",
   "execution_count": null,
   "metadata": {},
   "outputs": [],
   "source": [
    "# Write your code here"
   ]
  },
  {
   "cell_type": "markdown",
   "metadata": {},
   "source": [
    "### Python Errors\n",
    "\n",
    "Two common error types you'll see early on. Run these to see how errors look, then fix them and re-run.\n",
    "- SyntaxError: fix the code structure (e.g., quotes, commas).\n",
    "- NameError: the variable hasn't been defined yet.\n",
    "\n",
    "Tip: read from the bottom of the traceback: error type → message → line number."
   ]
  },
  {
   "cell_type": "code",
   "execution_count": null,
   "metadata": {},
   "outputs": [],
   "source": [
    "# SyntaxError example (unmatched quote)\n",
    "# print('Hello)\n"
   ]
  },
  {
   "cell_type": "code",
   "execution_count": null,
   "metadata": {},
   "outputs": [],
   "source": [
    "# NameError example\n",
    "# unknown_var + 1\n"
   ]
  },
  {
   "attachments": {},
   "cell_type": "markdown",
   "metadata": {},
   "source": [
    "### The print function\n",
    "\n",
    "print is a built-in function in Python 3. It displays text on the screen.  \n",
    "print performs a side effect: writing a value to the console. Other actions include reading/writing a file.  "
   ]
  },
  {
   "cell_type": "code",
   "execution_count": null,
   "metadata": {},
   "outputs": [],
   "source": [
    "print('hello world')"
   ]
  },
  {
   "cell_type": "markdown",
   "metadata": {},
   "source": [
    "The print function can take several positional arguments. By default, sep=' ' and end='\\n'"
   ]
  },
  {
   "cell_type": "code",
   "execution_count": null,
   "metadata": {},
   "outputs": [],
   "source": [
    "print('hello', 'good morning', 'welcome')"
   ]
  },
  {
   "cell_type": "markdown",
   "metadata": {},
   "source": [
    "A function can have positional arguments and named arguments that can modify the behaviour of the function."
   ]
  },
  {
   "cell_type": "code",
   "execution_count": null,
   "metadata": {},
   "outputs": [],
   "source": [
    "print('hello', 'good morning', 'welcome', sep='-xxx-', end=\" *** STOP ***\\n\")"
   ]
  },
  {
   "cell_type": "markdown",
   "metadata": {},
   "source": [
    "Tip: In a notebook you can view help with `print?` or in Python with `help(print)`.\n"
   ]
  },
  {
   "cell_type": "markdown",
   "metadata": {},
   "source": [
    "### f-strings\n",
    "\n",
    "We can also use f-strings to format and display several variables nicely."
   ]
  },
  {
   "cell_type": "code",
   "execution_count": null,
   "metadata": {},
   "outputs": [],
   "source": [
    "f\"The journey is {miles_journey} miles, {km_journey:.2f} kilometres, or {furlongs_journey} furlongs\""
   ]
  },
  {
   "cell_type": "markdown",
   "metadata": {},
   "source": [
    "More formatting with f-strings: currency and percentages.\n"
   ]
  },
  {
   "cell_type": "code",
   "execution_count": null,
   "metadata": {},
   "outputs": [],
   "source": [
    "price = 1234.5\n",
    "ratio = 0.2567\n",
    "f'Km: {km_journey:.2f} | Price: £{price:,.2f} | Ratio: {ratio:.1%}'"
   ]
  },
  {
   "cell_type": "markdown",
   "metadata": {},
   "source": [
    "Use `.2f` for 2 decimal places, `:,` for thousands separators, and `%` for percentages.\n"
   ]
  },
  {
   "cell_type": "markdown",
   "metadata": {},
   "source": [
    "### The input function\n",
    "\n",
    "input gets a string from the user. use it to collect a name, then greet with an f-string.\n"
   ]
  },
  {
   "cell_type": "code",
   "execution_count": null,
   "metadata": {},
   "outputs": [],
   "source": [
    "name = input('Your name? ')\n",
    "print(f'Hello, {name}!')"
   ]
  },
  {
   "cell_type": "markdown",
   "metadata": {},
   "source": [
    "### For loops"
   ]
  },
  {
   "cell_type": "markdown",
   "metadata": {},
   "source": [
    "In Python, indentation is syntax. **Whitespace matters!**  \n",
    "This is different to most other languages. The benefit is readability and consistency.  \n",
    "Before a code block, always use a colon. Code blocks are indented, either by 2 or 4 spaces.  Be consistent."
   ]
  },
  {
   "cell_type": "code",
   "execution_count": null,
   "metadata": {},
   "outputs": [],
   "source": [
    "for i in range(5):\n",
    "    print(\"Hello\")\n",
    "    print(f\"i is {i}\")\n"
   ]
  },
  {
   "cell_type": "markdown",
   "metadata": {},
   "source": [
    "### Optional Section: The range function\n",
    "\n",
    "The range() function generates a sequence of numbers.  Python counts from 0.  \n",
    "range() can take 1, 2 or 3 arguments: start, stop and step.\n",
    "* range(stop) - Generates numbers from 0 to stop - 1.\n",
    "* range(start, stop) - Generates numbers from start to stop - 1.\n",
    "* range(start, stop, step) - Generates numbers from start to stop - 1, incrementing by step. If step is negative, it decrements.\n",
    "\n",
    "Since range produces values on demand when iterated (it's not a generator, but an immutable sequence), we use it in a for loop,\n",
    "or we can put it into a list to see all the values (more about lists later)."
   ]
  },
  {
   "cell_type": "code",
   "execution_count": null,
   "metadata": {},
   "outputs": [],
   "source": [
    "print(\"range(10):\", list(range(10))) # start default is 0, step default is 1, loop does *not* include stop value.\n",
    "print(\"range(5, 10):\", list(range(5, 10))) # start is 5, step default is 1, loop does *not* include stop value.\n",
    "print(\"range(5, 10, 2):\", list(range(5, 10, 2))) # start is 5, step is 2, loop does *not* include stop value."
   ]
  }
 ],
 "metadata": {
  "kernelspec": {
   "display_name": ".venv",
   "language": "python",
   "name": "python3"
  },
  "language_info": {
   "codemirror_mode": {
    "name": "ipython",
    "version": 3
   },
   "file_extension": ".py",
   "mimetype": "text/x-python",
   "name": "python",
   "nbconvert_exporter": "python",
   "pygments_lexer": "ipython3",
   "version": "3.13.8"
  },
  "metadata": {
   "interpreter": {
    "hash": "68c45707def87feca5a47d18982249224aa76d0675ca5b6bc7cad154e506106e"
   }
  },
  "orig_nbformat": 2
 },
 "nbformat": 4,
 "nbformat_minor": 2
}
