{
 "cells": [
  {
   "attachments": {},
   "cell_type": "markdown",
   "metadata": {},
   "source": [
    "# Basics (Getting started with Python)\n",
    "A first look at Python. We learn about lots of Pythonic concepts including:\n",
    "* built in functions like print()\n",
    "* side effects\n",
    "* positional and keyword arguments\n",
    "* syntax errors and runtime errors\n",
    "* variables\n",
    "* Python's \"format as function\" principle\n",
    "* passing arguments into a functions\n",
    "\n",
    "We are going to learn Python like this:\n",
    "* read a chunk of code of code, and guess / explain what it will do\n",
    "* run a chunk of  code and explain what it did\n",
    "* change then run a chunk of code and explain what is different\n",
    "* write a chunk of code of code from scratch\n",
    "* do some exercises and the end of each section"
   ]
  },
  {
   "attachments": {},
   "cell_type": "markdown",
   "metadata": {},
   "source": [
    "print is a function in the python3 standard library. It causes the interpreter to display a text string on the screen.  \n",
    "print does an action (side-effect) to write a value to the console. Actions include reading / writing a file.  \n"
   ]
  },
  {
   "cell_type": "code",
   "execution_count": null,
   "metadata": {},
   "outputs": [],
   "source": [
    "print('hello world')"
   ]
  },
  {
   "cell_type": "markdown",
   "metadata": {},
   "source": [
    "The print function can take several (positional) arguments"
   ]
  },
  {
   "cell_type": "code",
   "execution_count": null,
   "metadata": {},
   "outputs": [],
   "source": [
    "print('hello', 'good morning', 'welcome')"
   ]
  },
  {
   "cell_type": "markdown",
   "metadata": {},
   "source": [
    "A function can have positional arguments and named arguments that can modify the behavour of the function."
   ]
  },
  {
   "cell_type": "code",
   "execution_count": null,
   "metadata": {},
   "outputs": [],
   "source": [
    "print('hello', 'good morning', 'welcome', sep='-xxx-', end=\" *** STOP ***\\n\")"
   ]
  },
  {
   "attachments": {},
   "cell_type": "markdown",
   "metadata": {},
   "source": [
    "When a cell block is run, the notebook will show the value of the final expresssion, below the cell ."
   ]
  },
  {
   "cell_type": "code",
   "execution_count": null,
   "metadata": {},
   "outputs": [],
   "source": [
    "7 * 7"
   ]
  },
  {
   "cell_type": "code",
   "execution_count": null,
   "metadata": {},
   "outputs": [],
   "source": [
    "6 + 3  "
   ]
  },
  {
   "cell_type": "code",
   "execution_count": null,
   "metadata": {},
   "outputs": [],
   "source": [
    "7 * 7\n",
    "6 + 3"
   ]
  },
  {
   "attachments": {},
   "cell_type": "markdown",
   "metadata": {},
   "source": [
    "**Variables** store values and objects for later use.  If the expression is a variable assignment then nothing will be shown, so we often will write two lines like below\n",
    "\n",
    "1. the first line sets the value of the variable\n",
    "2. the second line is just the variable name so we can see the result\n"
   ]
  },
  {
   "cell_type": "code",
   "execution_count": null,
   "metadata": {},
   "outputs": [],
   "source": [
    "result = 5 + 7\n",
    "result"
   ]
  },
  {
   "cell_type": "markdown",
   "metadata": {},
   "source": [
    "Useful tip: We often want to the cell outputs to show the values of two or more variables.  We can do this by listing the variable names on the last line separated by a comma.  (Later, we will learn that we are constructing a tuple.)"
   ]
  },
  {
   "cell_type": "code",
   "execution_count": null,
   "metadata": {},
   "outputs": [],
   "source": [
    "7 * 7, 6 + 3"
   ]
  },
  {
   "cell_type": "markdown",
   "metadata": {},
   "source": [
    "Question: what does the following code cell do?"
   ]
  },
  {
   "cell_type": "code",
   "execution_count": null,
   "metadata": {},
   "outputs": [],
   "source": [
    "miles_journey = 200\n",
    "km_journey = miles_journey * 1.60934 # there are about 1.61 km in a mile\n",
    "furlongs_journey = miles_journey * 8 # there are 8 furlongs in a mile\n",
    "km_journey, furlongs_journey # show both results"
   ]
  },
  {
   "cell_type": "markdown",
   "metadata": {},
   "source": [
    "We can also use the f strings function to format and display several variables nicely."
   ]
  },
  {
   "cell_type": "code",
   "execution_count": null,
   "metadata": {},
   "outputs": [],
   "source": [
    "f\"The journey is {miles_journey} miles, {km_journey} kilometres, or {furlongs_journey} furlongs\""
   ]
  },
  {
   "cell_type": "markdown",
   "metadata": {},
   "source": [
    "The range() function generates a sequence of numbers.  Python counts from 0.  \n",
    "range() can take 1, 2 or 3 arguments: start, stop and step.\n",
    "* range(stop) - Generates numbers from 0 to stop - 1.\n",
    "* range(start, stop) - Generates numbers from start to stop - 1.\n",
    "* range(start, stop, step) - Generates numbers from start to stop - 1, incrementing by step. If step is negative, it decrements.\n",
    "\n",
    "Since range is a generator (explained in the advanced course) and yields each number in the sequence one by one, we use it in a for loop,\n",
    "or we can put it into a list (more about lists later)."
   ]
  },
  {
   "cell_type": "code",
   "execution_count": null,
   "metadata": {},
   "outputs": [],
   "source": [
    "print(\"range(10):\", list(range(10))) # start default is 0, step default is 1, loop does *not* include stop value.\n",
    "print(\"range(5, 10):\", list(range(5, 10))) # start is 5, step default is 1, loop does *not* include stop value.\n",
    "print(\"range(5, 10, 2):\", list(range(5, 10, 2))) # start is 5, step is 2, loop does *not* include stop value."
   ]
  },
  {
   "attachments": {},
   "cell_type": "markdown",
   "metadata": {},
   "source": [
    "In Python, format is function! **Whitespace matters!**  \n",
    "This is different to  most other languages.  The benefit is readability and consistency.\n",
    "\n",
    "Before a code block, always use a colon. Code blocks are indented, usually by 4 spaces.  Be consistent."
   ]
  },
  {
   "cell_type": "code",
   "execution_count": null,
   "metadata": {},
   "outputs": [],
   "source": [
    "for i in range(5):\n",
    "    print(\"i is\", i)\n",
    "    print(\"twice i  is\", i * 2)\n",
    "    "
   ]
  }
 ],
 "metadata": {
  "interpreter": {
   "hash": "68c45707def87feca5a47d18982249224aa76d0675ca5b6bc7cad154e506106e"
  },
  "kernelspec": {
   "display_name": "Python 3.9.2  ('.venv': venv)",
   "name": "python3"
  },
  "language_info": {
   "codemirror_mode": {
    "name": "ipython",
    "version": 3
   },
   "file_extension": ".py",
   "mimetype": "text/x-python",
   "name": "python",
   "nbconvert_exporter": "python",
   "pygments_lexer": "ipython3",
   "version": "3.12.3"
  },
  "metadata": {
   "interpreter": {
    "hash": "68c45707def87feca5a47d18982249224aa76d0675ca5b6bc7cad154e506106e"
   }
  },
  "orig_nbformat": 2
 },
 "nbformat": 4,
 "nbformat_minor": 2
}
