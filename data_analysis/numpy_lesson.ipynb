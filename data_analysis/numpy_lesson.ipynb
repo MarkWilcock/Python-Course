{
 "cells": [
  {
   "cell_type": "markdown",
   "metadata": {},
   "source": [
    "# Lesson: numpy Package\n",
    "\n",
    "numpy is a very important package, described as \"the fundamental package for scientific computing with Python\". It is the underpinning for pandas and many AI and ML packages.\n",
    "\n",
    "It provides the np.ndarray data type (array for short). Unlike lists, all the element in arrays must be the same data type (usually ints or float). We can do element-wise operations on these arrays to make our code simpler and shorter.  Operations on arrays work a lot faster than operations on lists.\n"
   ]
  },
  {
   "cell_type": "code",
   "execution_count": null,
   "metadata": {},
   "outputs": [],
   "source": [
    "import numpy as np"
   ]
  },
  {
   "cell_type": "markdown",
   "metadata": {},
   "source": [
    "## Create numpy arrays"
   ]
  },
  {
   "cell_type": "markdown",
   "metadata": {},
   "source": [
    "Create an numpy array from a list.  \n",
    "\n",
    "We will use this these arrays in many of the examples below."
   ]
  },
  {
   "cell_type": "code",
   "execution_count": null,
   "metadata": {},
   "outputs": [],
   "source": [
    "squares = np.array([1, 4, 9, 16, 25])\n",
    "print(\"squares:\", squares)\n",
    "print(\"type:\", type(squares))\n",
    "\n",
    "array1 = np.array([3,4,5])\n",
    "array2 = np.array([30,40,50])\n",
    "print(\"array1:\", array1)\n",
    "print(\"array2:\", array2)\n"
   ]
  },
  {
   "cell_type": "markdown",
   "metadata": {},
   "source": [
    "A numpy array can be 1, 2 or more dimensions."
   ]
  },
  {
   "cell_type": "code",
   "execution_count": null,
   "metadata": {},
   "outputs": [],
   "source": [
    "#  A numpy array can also be 2 or more dimensions\n",
    "list_of_lists = [[1,2,3], [4,5,6]]\n",
    "array2d = np.array(list_of_lists) # from a list of lists\n",
    "array2d"
   ]
  },
  {
   "cell_type": "markdown",
   "metadata": {},
   "source": [
    "An array has many useful properties"
   ]
  },
  {
   "cell_type": "code",
   "execution_count": null,
   "metadata": {},
   "outputs": [],
   "source": [
    "print(\"shape:\", array2d.shape)\n",
    "print(\"number of dimensions:\", array2d.ndim)"
   ]
  },
  {
   "cell_type": "markdown",
   "metadata": {},
   "source": [
    "Create numpy arrays using numpy functions"
   ]
  },
  {
   "cell_type": "code",
   "execution_count": null,
   "metadata": {},
   "outputs": [],
   "source": [
    "np_zeros = np.zeros(3) # initialise with all elements with value 0\n",
    "np_zeros"
   ]
  },
  {
   "cell_type": "code",
   "execution_count": null,
   "metadata": {},
   "outputs": [],
   "source": [
    "np_ones = np.ones(3) # # initialise with all elements with value 1\n",
    "np_ones"
   ]
  },
  {
   "cell_type": "markdown",
   "metadata": {},
   "source": [
    "## Index and Slice Arrays"
   ]
  },
  {
   "cell_type": "markdown",
   "metadata": {},
   "source": [
    "We can index and slice array in the usual fashion."
   ]
  },
  {
   "cell_type": "code",
   "execution_count": null,
   "metadata": {},
   "outputs": [],
   "source": [
    "# returns the element at index 2\n",
    "indexed = squares[2] \n",
    "indexed"
   ]
  },
  {
   "cell_type": "code",
   "execution_count": null,
   "metadata": {},
   "outputs": [],
   "source": [
    "# returns the elements from index 2 to 4 (not including 4)\n",
    "sliced = squares[2:4] \n",
    "sliced"
   ]
  },
  {
   "cell_type": "markdown",
   "metadata": {},
   "source": [
    "With a 2D array, we use the [i, j] format as the slicer."
   ]
  },
  {
   "cell_type": "code",
   "execution_count": null,
   "metadata": {},
   "outputs": [],
   "source": [
    "print(\"element in first row, first column of array2d:\", array2d[0,0])\n",
    "print(\"type:\", type(array2d[0,0]))"
   ]
  },
  {
   "cell_type": "markdown",
   "metadata": {},
   "source": [
    "## Array Operations\n",
    "We can take advantage of element-wise operations. We don't need to loop through the elements of the array."
   ]
  },
  {
   "cell_type": "markdown",
   "metadata": {},
   "source": [
    "Add (or multiply, subtract, divide...) a constant scalar value to each element in the array"
   ]
  },
  {
   "cell_type": "code",
   "execution_count": null,
   "metadata": {},
   "outputs": [],
   "source": [
    "print(\"squares\", squares)\n",
    "print(\"squares + 10\", squares + 10)"
   ]
  },
  {
   "cell_type": "markdown",
   "metadata": {},
   "source": [
    "Add (or multiply...) two arrays.  This is an element-wise operation.  The arrays must be the same size."
   ]
  },
  {
   "cell_type": "code",
   "execution_count": null,
   "metadata": {},
   "outputs": [],
   "source": [
    "print(\"add two arrays:\", array1 + array2)\n",
    "print(\"multiply two arrays:\", array1 * array2)"
   ]
  },
  {
   "cell_type": "code",
   "execution_count": null,
   "metadata": {},
   "outputs": [],
   "source": [
    "# dot product of two arrays is the sum of the product of their corresponding elements\n",
    "np.dot(array1, array2)"
   ]
  },
  {
   "cell_type": "markdown",
   "metadata": {},
   "source": [
    "### Broadcasting\n",
    "Broadcasting allows operations between arrays of different shapes."
   ]
  },
  {
   "cell_type": "code",
   "execution_count": null,
   "metadata": {},
   "outputs": [],
   "source": [
    "print(\"array1:\\n\", array1)\n",
    "print(\"array2d:\\n\", array2d)\n",
    "print(\"array1 + array2d:\\n\", array1 + array2d)\n"
   ]
  },
  {
   "cell_type": "markdown",
   "metadata": {},
   "source": [
    "## Filter arrays with boolean expressions"
   ]
  },
  {
   "cell_type": "markdown",
   "metadata": {},
   "source": [
    "A boolean expresion on an array will return an array of booleans the same length as the array."
   ]
  },
  {
   "cell_type": "code",
   "execution_count": null,
   "metadata": {},
   "outputs": [],
   "source": [
    "squares < 15"
   ]
  },
  {
   "cell_type": "markdown",
   "metadata": {},
   "source": [
    "We can use this boolean array in slice notation to returns a smaller array with only those elements that meet the criteria."
   ]
  },
  {
   "cell_type": "code",
   "execution_count": null,
   "metadata": {},
   "outputs": [],
   "source": [
    "squares[squares < 15]"
   ]
  },
  {
   "cell_type": "markdown",
   "metadata": {},
   "source": [
    "## Statistical (aggregaton) operations\n",
    "\n",
    "We can aggregate array of numeric elements.\n"
   ]
  },
  {
   "cell_type": "code",
   "execution_count": null,
   "metadata": {},
   "outputs": [],
   "source": [
    "print(\"squares:\", squares)\n",
    "print(\"total sum:\", squares.sum())\n",
    "print(\"smallest value:\", squares.min())\n",
    "print(\"largest value:\", squares.max())\n",
    "print(\"average:\", squares.mean())\n"
   ]
  },
  {
   "cell_type": "markdown",
   "metadata": {},
   "source": [
    "## Reshape Arrays"
   ]
  },
  {
   "cell_type": "code",
   "execution_count": null,
   "metadata": {},
   "outputs": [],
   "source": [
    "evens = np.arange(2, 26, 2) # start at 2, stop before 26, step by 2\n",
    "print(\"evens\\n\", evens)\n",
    "print(\"shape:\", evens.shape) # note the trailing comma in the result to indicate a tuple of 1 element"
   ]
  },
  {
   "cell_type": "code",
   "execution_count": null,
   "metadata": {},
   "outputs": [],
   "source": [
    "reshaped = evens.reshape(3, 4) # reshape to 3 rows, 4 columns\n",
    "print(\"reshaped\\n\", reshaped)\n",
    "print(\"shape:\", reshaped.shape)"
   ]
  },
  {
   "cell_type": "markdown",
   "metadata": {},
   "source": [
    "## Stack Arrays"
   ]
  },
  {
   "cell_type": "code",
   "execution_count": null,
   "metadata": {},
   "outputs": [],
   "source": [
    "# Create a couple of 2D arrays\n",
    "array1 = np.array([[1,2,3], [4,5,6]])\n",
    "array2 = np.array([[7,8,9], [10,11,12]])\n",
    "print(\"array1\\n\", array1)\n",
    "print(\"array2\\n\", array2)\n"
   ]
  },
  {
   "cell_type": "code",
   "execution_count": null,
   "metadata": {},
   "outputs": [],
   "source": [
    "# Stack vertically\n",
    "vstacked = np.vstack((array1, array2)) \n",
    "print(\"vstacked\\n\", vstacked)"
   ]
  },
  {
   "cell_type": "code",
   "execution_count": null,
   "metadata": {},
   "outputs": [],
   "source": [
    "# Stack horizontally\n",
    "hstacked = np.hstack((array1, array2))\n",
    "print(\"hstacked\\n\", hstacked)"
   ]
  },
  {
   "cell_type": "markdown",
   "metadata": {},
   "source": [
    "## Random number generation"
   ]
  },
  {
   "cell_type": "markdown",
   "metadata": {},
   "source": [
    "Create an numpy array  with a set of random values"
   ]
  },
  {
   "cell_type": "code",
   "execution_count": null,
   "metadata": {},
   "outputs": [],
   "source": [
    "np.random.randn(5) # standard normal distribution"
   ]
  },
  {
   "cell_type": "code",
   "execution_count": null,
   "metadata": {},
   "outputs": [],
   "source": [
    "np.random.randn(4, 2) # 4x2 array of random numbers"
   ]
  },
  {
   "cell_type": "code",
   "execution_count": null,
   "metadata": {},
   "outputs": [],
   "source": [
    "# simulate 10 throws of a fair die - a discrete, uniform distribution\n",
    "dice_throws = np.random.randint(low = 1, high = 6, size = 10) \n",
    "dice_throws"
   ]
  }
 ],
 "metadata": {
  "kernelspec": {
   "display_name": ".venv",
   "language": "python",
   "name": "python3"
  },
  "language_info": {
   "codemirror_mode": {
    "name": "ipython",
    "version": 3
   },
   "file_extension": ".py",
   "mimetype": "text/x-python",
   "name": "python",
   "nbconvert_exporter": "python",
   "pygments_lexer": "ipython3",
   "version": "3.12.3"
  },
  "orig_nbformat": 2
 },
 "nbformat": 4,
 "nbformat_minor": 2
}
