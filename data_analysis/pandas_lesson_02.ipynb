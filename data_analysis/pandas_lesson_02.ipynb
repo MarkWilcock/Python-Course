{
 "cells": [
  {
   "cell_type": "markdown",
   "metadata": {},
   "source": [
    "# pandas lesson 2 (Dataframes)\n",
    "\n",
    " This lesson shows examples of typical operations on a pandas DataFrame including:\n",
    "* create a DataFrame using a pandas read_... method\n",
    "* select a subset of columns\n",
    "* calculate new columns\n",
    "* filter rows by values or by index\n",
    "* sort rows by index or by values"
   ]
  },
  {
   "cell_type": "code",
   "execution_count": null,
   "metadata": {},
   "outputs": [],
   "source": [
    "import pandas as pd\n",
    "import numpy as np\n",
    "import matplotlib.pyplot as plt # pandas uses matplotlib for plotting"
   ]
  },
  {
   "cell_type": "markdown",
   "metadata": {},
   "source": [
    "A DataFrame is basically a table.  It is a 2D labelled data structure.  The columns can be different types.  You can think of it as a dict of Series objects (columns) if that helps.  Like a Series, a Dataframe has an index column.\n",
    "\n",
    "We can build a pandas Dataframe in many ways, for example from a dict. The dict's keys become the column names and the dict's values become the column values.\n",
    "\n",
    "We can use the pandas read_csv method to load data directly into a DataFrame.  WE will use the epl DataFrame in the following sections.This contains the football English Premier League results from teh 2023-24 season as provided by ChatGPT!)"
   ]
  },
  {
   "cell_type": "code",
   "execution_count": null,
   "metadata": {},
   "outputs": [],
   "source": [
    "epl_csv_file_url = \"https://zomalextrainingstorage.blob.core.windows.net/datasets/misc/EPL%20Results%202023-24.csv\"\n",
    "epl = pd.read_csv(epl_csv_file_url)\n",
    "epl.head()"
   ]
  },
  {
   "cell_type": "markdown",
   "metadata": {},
   "source": [
    "Use the three letter code for the team as the index"
   ]
  },
  {
   "cell_type": "code",
   "execution_count": null,
   "metadata": {},
   "outputs": [],
   "source": [
    "epl.set_index('Code', inplace=True)\n",
    "epl.head()"
   ]
  },
  {
   "cell_type": "markdown",
   "metadata": {},
   "source": [
    "Exercise: Examine the dataframe.  \n",
    "Use the following dataframe properties and methods: index, head(), describe(), shape, values, columns."
   ]
  },
  {
   "cell_type": "code",
   "execution_count": null,
   "metadata": {},
   "outputs": [],
   "source": [
    "# Write your code here as a set of print statements. The first one is provided.\n",
    "print(\"Index:\\n\", epl.index)"
   ]
  },
  {
   "cell_type": "markdown",
   "metadata": {},
   "source": [
    "### Access columns in a Dataframe"
   ]
  },
  {
   "cell_type": "markdown",
   "metadata": {},
   "source": [
    "We can access a columns or columns, col1, col2 in a DataFrame df in several ways: \n",
    "* df['col1'] which returns a series\n",
    "* df.col1 which returns a series (pandas allows us to refer to column names like a property! )\n",
    "* df[['col1']] or df[['col1', 'col2']] which return DataFrames\n",
    "* df.loc[ : , ['col1', 'col2']] which return DataFrames and is possibly best practice and most flexible"
   ]
  },
  {
   "cell_type": "markdown",
   "metadata": {},
   "source": [
    "Task: experiment with various ways of selecting columns of the epl DataFrame."
   ]
  },
  {
   "cell_type": "code",
   "execution_count": null,
   "metadata": {},
   "outputs": [],
   "source": [
    "# Here are some examples\n",
    "print(\"Using dot notation:\\n\", epl.Team.head(2))\n",
    "print(\"Using [] slice notation:\\n\", epl['Team'].head(2))\n",
    "# Write your code here\n"
   ]
  },
  {
   "cell_type": "markdown",
   "metadata": {},
   "source": [
    "### Sort rows\n",
    "We can sort by values or sort by index.  Sort by values is the more usual case.  \n",
    "\n",
    "Order the rows in the dataframe by the number of games won (low to high), then in the case of any ties, by the number of games drawn."
   ]
  },
  {
   "cell_type": "code",
   "execution_count": null,
   "metadata": {},
   "outputs": [],
   "source": [
    "epl.sort_values(by = ['Won', 'Drawn'], ascending=True)"
   ]
  },
  {
   "cell_type": "markdown",
   "metadata": {},
   "source": [
    "Task: sort rows by the GF and GA column (highest first)"
   ]
  },
  {
   "cell_type": "code",
   "execution_count": null,
   "metadata": {},
   "outputs": [],
   "source": [
    "# Write your code here"
   ]
  },
  {
   "cell_type": "markdown",
   "metadata": {},
   "source": [
    "We can also sort a DataFrame by its index."
   ]
  },
  {
   "cell_type": "code",
   "execution_count": null,
   "metadata": {},
   "outputs": [],
   "source": [
    "epl_sorted_by_index = epl.sort_index()\n",
    "epl_sorted_by_index.head()"
   ]
  },
  {
   "cell_type": "markdown",
   "metadata": {},
   "source": [
    "### Create new columns"
   ]
  },
  {
   "cell_type": "code",
   "execution_count": null,
   "metadata": {},
   "outputs": [],
   "source": [
    "# Teams get 3 point for a win, 1 for a draw, none for a loss\n",
    "epl['Points'] = epl['Won'] * 3 + epl['Drawn']\n",
    "epl.head()"
   ]
  },
  {
   "cell_type": "markdown",
   "metadata": {},
   "source": [
    "Task: Create a new column, Played, to hold the number of games played by each team.\n"
   ]
  },
  {
   "cell_type": "code",
   "execution_count": null,
   "metadata": {},
   "outputs": [],
   "source": [
    "# Write your code here"
   ]
  },
  {
   "cell_type": "markdown",
   "metadata": {},
   "source": [
    "Task: Create a new column, GD, to hold the goal difference, calculated as GF - GA (Goals For - Goals Against)"
   ]
  },
  {
   "cell_type": "code",
   "execution_count": null,
   "metadata": {},
   "outputs": [],
   "source": [
    "# Write your code here"
   ]
  },
  {
   "cell_type": "markdown",
   "metadata": {},
   "source": [
    "### Filter rows\n",
    "Filter both rows and columns of the dataframe in various ways using the loc method and the index / column names."
   ]
  },
  {
   "cell_type": "code",
   "execution_count": null,
   "metadata": {},
   "outputs": [],
   "source": [
    "epl.loc['LIV', :] # one row, all columns, returns a Series"
   ]
  },
  {
   "cell_type": "code",
   "execution_count": null,
   "metadata": {},
   "outputs": [],
   "source": [
    "epl.loc[['LIV'], :] # one row, all columns, returns a DataFrame"
   ]
  },
  {
   "cell_type": "code",
   "execution_count": null,
   "metadata": {},
   "outputs": [],
   "source": [
    "epl.loc[['LIV', 'MCY'], :] #   two rows, all columns, returns a DataFrame"
   ]
  },
  {
   "cell_type": "code",
   "execution_count": null,
   "metadata": {},
   "outputs": [],
   "source": [
    "epl.loc[['LIV', 'MCY'], ['Team', 'Won']] # two rows, two columns"
   ]
  },
  {
   "cell_type": "markdown",
   "metadata": {},
   "source": [
    "### Filter Rows by Values"
   ]
  },
  {
   "cell_type": "markdown",
   "metadata": {},
   "source": [
    "We have already seen that a boolean expression returns a Series of bools"
   ]
  },
  {
   "cell_type": "code",
   "execution_count": null,
   "metadata": {},
   "outputs": [],
   "source": [
    "epl.Won >= 25\n"
   ]
  },
  {
   "cell_type": "markdown",
   "metadata": {},
   "source": [
    "We can use this boolean expression to filter the rows of the DataFrame where the bools are True"
   ]
  },
  {
   "cell_type": "code",
   "execution_count": null,
   "metadata": {},
   "outputs": [],
   "source": [
    "epl.loc[epl.Won >= 25, :]"
   ]
  },
  {
   "cell_type": "markdown",
   "metadata": {},
   "source": [
    "Task: filter the epl DataFrame to return only teams with 80 points or more"
   ]
  },
  {
   "cell_type": "code",
   "execution_count": null,
   "metadata": {},
   "outputs": [],
   "source": [
    "# Write your code here\n"
   ]
  },
  {
   "cell_type": "markdown",
   "metadata": {},
   "source": [
    "Filter teams that have Manchester in their name"
   ]
  },
  {
   "cell_type": "code",
   "execution_count": null,
   "metadata": {},
   "outputs": [],
   "source": [
    "\n",
    "epl.loc[epl.Team.str.contains('Manchester'), :]"
   ]
  },
  {
   "cell_type": "markdown",
   "metadata": {},
   "source": [
    "We can combine two filter criteria with an & (and)"
   ]
  },
  {
   "cell_type": "code",
   "execution_count": null,
   "metadata": {},
   "outputs": [],
   "source": [
    "epl.Team.str.contains('Manchester') & (epl.Won > 25)"
   ]
  },
  {
   "cell_type": "markdown",
   "metadata": {},
   "source": [
    "Task:  filter the epl dataframe to return only London teams that have won more than 5 games"
   ]
  },
  {
   "cell_type": "code",
   "execution_count": null,
   "metadata": {},
   "outputs": [],
   "source": [
    "# Write your code here"
   ]
  }
 ],
 "metadata": {
  "kernelspec": {
   "display_name": ".venv",
   "language": "python",
   "name": "python3"
  },
  "language_info": {
   "codemirror_mode": {
    "name": "ipython",
    "version": 3
   },
   "file_extension": ".py",
   "mimetype": "text/x-python",
   "name": "python",
   "nbconvert_exporter": "python",
   "pygments_lexer": "ipython3",
   "version": "3.12.3"
  },
  "orig_nbformat": 2
 },
 "nbformat": 4,
 "nbformat_minor": 2
}
