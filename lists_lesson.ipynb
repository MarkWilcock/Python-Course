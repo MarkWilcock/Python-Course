{
 "cells": [
  {
   "attachments": {},
   "cell_type": "markdown",
   "metadata": {},
   "source": [
    "# Lists\n",
    "A list is an mutable ordered collection of elements. The elements can be of different data types. Create a list with []."
   ]
  },
  {
   "cell_type": "code",
   "execution_count": null,
   "metadata": {},
   "outputs": [],
   "source": [
    "# A list of different fruits\n",
    "fruit_basket = [\"apple\", \"banana\", \"cherry\"]\n",
    "fruit_basket"
   ]
  },
  {
   "cell_type": "code",
   "execution_count": null,
   "metadata": {},
   "outputs": [],
   "source": [
    "# A list of integers\n",
    "points = [17, 19, 15]\n",
    "points"
   ]
  },
  {
   "cell_type": "code",
   "execution_count": null,
   "metadata": {},
   "outputs": [],
   "source": [
    "# A list of floats. Notice that the same value can appear more than once in a list\n",
    "weekly_rainfall = [0.2, 0.3, 0.2, 0.4, 0.2, 0.2, 0.1]\n",
    "weekly_rainfall"
   ]
  },
  {
   "attachments": {},
   "cell_type": "markdown",
   "metadata": {},
   "source": [
    "This list contains a items of different types: string, int, bool and another list. It's rare to see this in practice however. "
   ]
  },
  {
   "cell_type": "code",
   "execution_count": null,
   "metadata": {},
   "outputs": [],
   "source": [
    "a_diverse_list = [\"Chelsea\", 15, True, points]\n",
    "a_diverse_list"
   ]
  },
  {
   "cell_type": "code",
   "execution_count": null,
   "metadata": {},
   "outputs": [],
   "source": [
    "# Find the number of elements in a list with len() function\n",
    "len(fruit_basket)"
   ]
  },
  {
   "cell_type": "code",
   "execution_count": null,
   "metadata": {},
   "outputs": [],
   "source": [
    "# Use an index to get an element of the list by providing its position, \n",
    "# with 0 being the first position, and -1 being the last position\n",
    "fruit_basket[0]\n"
   ]
  },
  {
   "cell_type": "code",
   "execution_count": null,
   "metadata": {},
   "outputs": [],
   "source": [
    "# Returns the last element of the list\n",
    "fruit_basket[-1]"
   ]
  },
  {
   "cell_type": "code",
   "execution_count": null,
   "metadata": {},
   "outputs": [],
   "source": [
    "# If we have a list of numbers, we can perform some mathematical aggregation operations e.g. sum\n",
    "print(\"minimum rainfall\", min(weekly_rainfall))\n",
    "print(\"maximum rainfall\", max(weekly_rainfall))\n",
    "print(\"total rainfall\", sum(weekly_rainfall))\n",
    "\n",
    "# There is no inbuilt function for averages so we have to do a sum() / len() calculation\n",
    "# The statistics module has a mean() function\n",
    "print(\"average rainfall\", sum(weekly_rainfall) / len(weekly_rainfall)) \n",
    "\n",
    "# Ww can use f strings with a format specifier to \"round\" a number\n",
    "print(f\"average rainfall (formatted) { sum(weekly_rainfall) / len(weekly_rainfall):.2f}cm\") \n",
    "\n"
   ]
  },
  {
   "attachments": {},
   "cell_type": "markdown",
   "metadata": {},
   "source": [
    "Lists are mutable - they can be \"edited\".  We can change an item in the list or append to the list. For example, let's append and insert  element to a list.  This is the first time that we have seen a method.\n"
   ]
  },
  {
   "cell_type": "code",
   "execution_count": null,
   "metadata": {},
   "outputs": [],
   "source": [
    "fruit_basket.append(\"elderberry\")\n",
    "fruit_basket"
   ]
  },
  {
   "cell_type": "code",
   "execution_count": null,
   "metadata": {},
   "outputs": [],
   "source": [
    "fruit_basket.insert(0, \"apricot\")\n",
    "fruit_basket"
   ]
  },
  {
   "cell_type": "code",
   "execution_count": null,
   "metadata": {},
   "outputs": [],
   "source": [
    "# sort is an in-place operation, the original string is replaced.\n",
    "fruit_basket.sort()  \n",
    "fruit_basket"
   ]
  },
  {
   "cell_type": "markdown",
   "metadata": {},
   "source": [
    "## Looping through the elemenst of a list (or any collection type)"
   ]
  },
  {
   "cell_type": "code",
   "execution_count": null,
   "metadata": {},
   "outputs": [],
   "source": [
    "# We can loop through the elemsnts of a list using for\n",
    "for fruit_item_index in range(0, len(fruit_basket)):\n",
    "    print(fruit_basket[fruit_item_index], \"is in the basket\")\n"
   ]
  },
  {
   "cell_type": "code",
   "execution_count": null,
   "metadata": {},
   "outputs": [],
   "source": [
    "# there is a more elegant way to do this\n",
    "for fruit_item in fruit_basket:\n",
    "    print(fruit_item, \"is in the basket\")"
   ]
  },
  {
   "cell_type": "markdown",
   "metadata": {},
   "source": [
    "## Zip a list\n"
   ]
  },
  {
   "cell_type": "markdown",
   "metadata": {},
   "source": [
    "We can zip a couple of lists (or any collection data structure)\n",
    "This pairs up the the corresponding elements of each structure.\n",
    "We would expect both lists to have the same length but zip() will cope well if this is not the case.\n",
    "\n",
    "The zip function takes (zero or more) iterables, aggregates them in a tuple, and returns an iterator of tuples.\n",
    "The list function is used to convert an iterator or iterable into a list."
   ]
  },
  {
   "cell_type": "code",
   "execution_count": null,
   "metadata": {},
   "outputs": [],
   "source": [
    "initials = ['hp', 'hg', 'rw', 'aa']\n",
    "names = ['harry', 'hermione', 'ron']\n",
    "\n",
    "list(zip(initials, names))"
   ]
  },
  {
   "cell_type": "code",
   "execution_count": null,
   "metadata": {},
   "outputs": [],
   "source": [
    "# We can also loop through the iterator returned by zip with a for loop\n",
    "for zipped_item in zip(initials, names):\n",
    "    print(f\"{zipped_item[1]} has initials {zipped_item[0]}\")"
   ]
  },
  {
   "cell_type": "markdown",
   "metadata": {},
   "source": [
    "*Lists - advanced optional section*"
   ]
  },
  {
   "attachments": {},
   "cell_type": "markdown",
   "metadata": {},
   "source": [
    "To copy a list we simply can't assign a new variable.  This will point to the same list.  Instead use copy() method or list() constructor."
   ]
  },
  {
   "cell_type": "code",
   "execution_count": null,
   "metadata": {},
   "outputs": [],
   "source": [
    "test1 = [\"Frank\", \"Lampard\"]\n",
    "test2 = test1\n",
    "test1.append(\"Thomas\")\n",
    "test1.append(\"Tuchel\")\n",
    "test2"
   ]
  },
  {
   "cell_type": "code",
   "execution_count": null,
   "metadata": {},
   "outputs": [],
   "source": [
    "test1 = [\"Frank\", \"Lampard\"]\n",
    "test2 = test1.copy()\n",
    "test1.append(\"Thomas\")\n",
    "test1.append(\"Tuchel\")\n",
    "test2"
   ]
  }
 ],
 "metadata": {
  "interpreter": {
   "hash": "68c45707def87feca5a47d18982249224aa76d0675ca5b6bc7cad154e506106e"
  },
  "kernelspec": {
   "display_name": "Python 3.9.2  ('.venv': venv)",
   "name": "python3"
  },
  "language_info": {
   "codemirror_mode": {
    "name": "ipython",
    "version": 3
   },
   "file_extension": ".py",
   "mimetype": "text/x-python",
   "name": "python",
   "nbconvert_exporter": "python",
   "pygments_lexer": "ipython3",
   "version": "3.12.1"
  },
  "metadata": {
   "interpreter": {
    "hash": "68c45707def87feca5a47d18982249224aa76d0675ca5b6bc7cad154e506106e"
   }
  },
  "orig_nbformat": 2
 },
 "nbformat": 4,
 "nbformat_minor": 2
}
