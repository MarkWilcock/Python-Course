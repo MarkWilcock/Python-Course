{
 "cells": [
  {
   "attachments": {},
   "cell_type": "markdown",
   "metadata": {},
   "source": [
    "# Compound data structures:  list, tuple, dict and set"
   ]
  },
  {
   "attachments": {},
   "cell_type": "markdown",
   "metadata": {},
   "source": [
    "## Lists\n",
    "A list is an mutable ordered collection of elements. The elements can be of different data types. Create a list with [].\n"
   ]
  },
  {
   "cell_type": "code",
   "execution_count": null,
   "metadata": {},
   "outputs": [],
   "source": [
    "# A list of different fruits\n",
    "fruit_basket = [\"apple\", \"banana\", \"cherry\"]\n",
    "fruit_basket"
   ]
  },
  {
   "cell_type": "code",
   "execution_count": null,
   "metadata": {},
   "outputs": [],
   "source": [
    "# A list of integers\n",
    "points = [17, 19, 15]\n",
    "points"
   ]
  },
  {
   "cell_type": "code",
   "execution_count": null,
   "metadata": {},
   "outputs": [],
   "source": [
    "# A list of floats. Notice that the same value can appear more than once in a list\n",
    "weekly_rainfall = [0.2, 0.3, 0.2, 0.4, 0.2, 0.2, 0.1]\n",
    "weekly_rainfall"
   ]
  },
  {
   "attachments": {},
   "cell_type": "markdown",
   "metadata": {},
   "source": [
    "This list contains a items of different types: string, int, bool and another list. It's rare to see this in practice however. "
   ]
  },
  {
   "cell_type": "code",
   "execution_count": null,
   "metadata": {},
   "outputs": [],
   "source": [
    "a_diverse_list = [\"Chelsea\", 15, True, points]\n",
    "a_diverse_list"
   ]
  },
  {
   "cell_type": "code",
   "execution_count": null,
   "metadata": {},
   "outputs": [],
   "source": [
    "# Find the number of elements in a list with len() function\n",
    "len(fruit_basket)"
   ]
  },
  {
   "cell_type": "code",
   "execution_count": null,
   "metadata": {},
   "outputs": [],
   "source": [
    "# Use an index to get an element of the list by providing its position, with 0 being the first position, and -1 being the last position\n",
    "fruit_basket[0], \n"
   ]
  },
  {
   "cell_type": "code",
   "execution_count": null,
   "metadata": {},
   "outputs": [],
   "source": [
    "# Returns the last element of the list\n",
    "fruit_basket[-1]"
   ]
  },
  {
   "attachments": {},
   "cell_type": "markdown",
   "metadata": {},
   "source": [
    "Lists are mutable - they can be \"edited\".  We can change an item in the list or append to the list. For example, let's append and insert  element to a list.  This is the first time that we have seen a method.\n"
   ]
  },
  {
   "cell_type": "code",
   "execution_count": null,
   "metadata": {},
   "outputs": [],
   "source": [
    "fruit_basket.append(\"elderberry\")\n",
    "fruit_basket"
   ]
  },
  {
   "cell_type": "code",
   "execution_count": null,
   "metadata": {},
   "outputs": [],
   "source": [
    "fruit_basket.insert(0, \"apricot\")\n",
    "fruit_basket"
   ]
  },
  {
   "cell_type": "code",
   "execution_count": null,
   "metadata": {},
   "outputs": [],
   "source": [
    "# sort is an in-place operation, the original string is replaced.\n",
    "fruit_basket.sort()  \n",
    "fruit_basket"
   ]
  },
  {
   "attachments": {},
   "cell_type": "markdown",
   "metadata": {},
   "source": [
    "A list comprehension loops through each item of the list and creates a new list with changed values.\n"
   ]
  },
  {
   "cell_type": "code",
   "execution_count": null,
   "metadata": {},
   "outputs": [],
   "source": [
    "#  Use a list comprehension to add 10 to each element of the list\n",
    "[p + 10 for p in points]"
   ]
  },
  {
   "cell_type": "markdown",
   "metadata": {},
   "source": [
    "*Lists - advanced optional section*"
   ]
  },
  {
   "cell_type": "code",
   "execution_count": null,
   "metadata": {},
   "outputs": [],
   "source": [
    "# We can use if in a list comprehension to only change cretain values.\n",
    "strange_points = [17, \"eighteen\", 19, 15, \"twenty\", True]\n",
    "[p + 10 for p in strange_points if type(p) == int]\n"
   ]
  },
  {
   "attachments": {},
   "cell_type": "markdown",
   "metadata": {},
   "source": [
    "To copy a list we simply can't assign a new variable.  This will point to the same list.  Instead use copy() method or list() constructor."
   ]
  },
  {
   "cell_type": "code",
   "execution_count": null,
   "metadata": {},
   "outputs": [],
   "source": [
    "test1 = [\"Frank\", \"Lampard\"]\n",
    "test2 = test1\n",
    "test1.append(\"Thomas\")\n",
    "test1.append(\"Tuchel\")\n",
    "test2"
   ]
  },
  {
   "cell_type": "code",
   "execution_count": null,
   "metadata": {},
   "outputs": [],
   "source": [
    "test1 = [\"Frank\", \"Lampard\"]\n",
    "test2 = test1.copy()\n",
    "test1.append(\"Thomas\")\n",
    "test1.append(\"Tuchel\")\n",
    "test2"
   ]
  },
  {
   "attachments": {},
   "cell_type": "markdown",
   "metadata": {},
   "source": [
    "## Tuples\n",
    "A tuple is an **immutable** ordered set of elements. Create a tuple with () - called parentheses or round brackets.\n"
   ]
  },
  {
   "cell_type": "code",
   "execution_count": null,
   "metadata": {},
   "outputs": [],
   "source": [
    "## These were the winning balls on a week in December 2023\n",
    "lottery_winning_balls = (4, 12, 23, 30, 50, 56)\n",
    "lottery_winning_balls"
   ]
  },
  {
   "cell_type": "code",
   "execution_count": null,
   "metadata": {},
   "outputs": [],
   "source": [
    "# Another example\n",
    "digits = (1, 2, 3, 4, 5, 6, 7, 8, 9)\n",
    "digits"
   ]
  },
  {
   "cell_type": "code",
   "execution_count": null,
   "metadata": {},
   "outputs": [],
   "source": [
    "# We can access elements of a tuple using the same syntax as a list\n",
    "digits[0]\n"
   ]
  },
  {
   "cell_type": "code",
   "execution_count": null,
   "metadata": {},
   "outputs": [],
   "source": [
    "# This will return the last element of the tuple\n",
    "digits[-1]"
   ]
  },
  {
   "attachments": {},
   "cell_type": "markdown",
   "metadata": {},
   "source": [
    "We can *unpack* a tuple, assigning a variable to each element.  This is useful since functions can only return a single object."
   ]
  },
  {
   "cell_type": "code",
   "execution_count": null,
   "metadata": {},
   "outputs": [],
   "source": [
    "measurements = (1.77, 77, 25.1, 'overweight')\n",
    "height, weight, bmi, bmi_category = measurements\n",
    "\n",
    "bmi_category"
   ]
  },
  {
   "attachments": {},
   "cell_type": "markdown",
   "metadata": {},
   "source": [
    "## Dictionaries\n",
    "A dict is an ordered collection of key / value pairs.  \n",
    "Create a dict with this syntax {key1: value1, key2: value2}\n"
   ]
  },
  {
   "cell_type": "code",
   "execution_count": null,
   "metadata": {},
   "outputs": [],
   "source": [
    "terms = {\n",
    "    \"python\": \"a large tropical snake that kills animals for food by winding its long body tightly around them\", \n",
    "    \"pandas\": \"a large black and white animal like a bear that lives in China\", \n",
    "    \"requests\": \"the action of asking for something formally and politely\"\n",
    "}\n",
    "terms"
   ]
  },
  {
   "attachments": {},
   "cell_type": "markdown",
   "metadata": {},
   "source": [
    "We can get the value of a pair by providing the key, or using the get method"
   ]
  },
  {
   "cell_type": "code",
   "execution_count": null,
   "metadata": {},
   "outputs": [],
   "source": [
    "terms['python'], terms.get('pandas')"
   ]
  },
  {
   "cell_type": "markdown",
   "metadata": {},
   "source": [
    "More often, the dict is a list of attributes for a single item and several dicts are items in a list."
   ]
  },
  {
   "cell_type": "code",
   "execution_count": null,
   "metadata": {},
   "outputs": [],
   "source": [
    "patient_list = [\n",
    "    {\"nhs_id\": \"123-456-7890\", \"name\": \"Fred Bloggs\", \"age\": 42}, \n",
    "    {\"nhs_id\": \"234-567-8901\", \"name\": \"Jane Doe\", \"age\": 48}, \n",
    "    {\"nhs_id\": \"345-678-9012\", \"name\": \"John Smith\", \"age\": 31}\n",
    "]\n",
    "patient_list"
   ]
  },
  {
   "cell_type": "code",
   "execution_count": null,
   "metadata": {},
   "outputs": [],
   "source": [
    "# Iterate through the patient list and print the name of each patient\n",
    "for patient in patient_list:\n",
    "    print(patient['name'])\n"
   ]
  },
  {
   "cell_type": "code",
   "execution_count": null,
   "metadata": {},
   "outputs": [],
   "source": [
    "# We can use a list comprehension on a list of dicts to return a list of values for a specific key\n",
    "[patient['nhs_id'] for patient in patient_list]"
   ]
  },
  {
   "attachments": {},
   "cell_type": "markdown",
   "metadata": {},
   "source": [
    "Many APIs return data to Python as a combination of lists and dicts.  The example below is taken from the OpenAI quickstart - see https://platform.openai.com/docs/quickstart?context=python"
   ]
  },
  {
   "cell_type": "code",
   "execution_count": null,
   "metadata": {},
   "outputs": [],
   "source": [
    "messages=[\n",
    "    {\n",
    "        \"role\": \"system\", \n",
    "        \"content\": \"You are a poetic assistant, skilled in explaining complex programming concepts with creative flair.\"\n",
    "    },\n",
    "    {\"role\": \"user\", \n",
    "    \"content\": \"Compose a poem that explains the concept of recursion in programming.\"}\n",
    "  ]\n",
    "messages"
   ]
  },
  {
   "attachments": {},
   "cell_type": "markdown",
   "metadata": {},
   "source": [
    "## Sets ##\n",
    "\n",
    "Sets are unordered and unindexed.  A set cannot have a duplicate item.  Create with {}"
   ]
  },
  {
   "cell_type": "code",
   "execution_count": null,
   "metadata": {},
   "outputs": [],
   "source": [
    "my_primes = {2, 3, 5, 7, 11}\n",
    "my_primes"
   ]
  },
  {
   "cell_type": "code",
   "execution_count": null,
   "metadata": {},
   "outputs": [],
   "source": [
    "# A set cannot have a duplicate item\n",
    "my_set = {13, 2, 3, 3, 5, 7, 11}\n",
    "my_set\n",
    "# my_primes[0]"
   ]
  }
 ],
 "metadata": {
  "interpreter": {
   "hash": "68c45707def87feca5a47d18982249224aa76d0675ca5b6bc7cad154e506106e"
  },
  "kernelspec": {
   "display_name": "Python 3.9.2  ('.venv': venv)",
   "name": "python3"
  },
  "language_info": {
   "codemirror_mode": {
    "name": "ipython",
    "version": 3
   },
   "file_extension": ".py",
   "mimetype": "text/x-python",
   "name": "python",
   "nbconvert_exporter": "python",
   "pygments_lexer": "ipython3",
   "version": "3.12.3"
  },
  "metadata": {
   "interpreter": {
    "hash": "68c45707def87feca5a47d18982249224aa76d0675ca5b6bc7cad154e506106e"
   }
  },
  "orig_nbformat": 2
 },
 "nbformat": 4,
 "nbformat_minor": 2
}
