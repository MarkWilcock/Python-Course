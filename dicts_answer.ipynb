{
 "cells": [
  {
   "attachments": {},
   "cell_type": "markdown",
   "metadata": {},
   "source": [
    "# Answer: Dictionaries\n",
    "In this exercise, we create a few dict objects, compose them into a list, then loop through each dict in the list to retrieve some data."
   ]
  },
  {
   "attachments": {},
   "cell_type": "markdown",
   "metadata": {},
   "source": [
    "Here are the details of three patients.\n",
    "\n",
    "| nhs_id    | name | age |\n",
    "|-----------|------|-----|\n",
    "| 123-456-7890 | Fred Bloggs| 42 |\n",
    "| 234-567-8901 | Jane Doe | 55 |\n",
    "|345-678-9801  | Florence N | 175 |\n"
   ]
  },
  {
   "cell_type": "code",
   "execution_count": null,
   "metadata": {},
   "outputs": [],
   "source": [
    "# Create a dict named patient1 with three key-value pairs. The keys should be 'nhs_id', 'name' and 'age'.\n",
    "# Use the  data in the table above.\n",
    "# Write your code below.\n",
    "patient1 = {'nhs_id': '123-456-7890', 'name': 'Fred Bloggs', 'age': 42}\n",
    "patient1"
   ]
  },
  {
   "cell_type": "code",
   "execution_count": null,
   "metadata": {},
   "outputs": [],
   "source": [
    "# Get the value of the 'name' key of patient1 using the [] operator.\n",
    "# Write your code below.\n",
    "patient1['name']"
   ]
  },
  {
   "cell_type": "code",
   "execution_count": null,
   "metadata": {},
   "outputs": [],
   "source": [
    "# Get the value of the 'name' key of patient1 using the get() method.\n",
    "# Write your code below.\n",
    "patient1.get('name', 'Anonymous')"
   ]
  },
  {
   "cell_type": "code",
   "execution_count": null,
   "metadata": {},
   "outputs": [],
   "source": [
    "# Create a list named patients of three dicts. Use the data in the table above.\n",
    "# Write your code below.\n",
    "patients = [\n",
    "    {'nhs_id': '123-456-7890', 'name': 'Fred Bloggs', 'age': 42},\n",
    "    {'nhs_id': '234-567-8901', 'name': 'Jane Doe', 'age': 55},\n",
    "    {'nhs_id': '345-678-9012', 'name': 'Florence N', 'age': 175}\n",
    "]"
   ]
  },
  {
   "cell_type": "code",
   "execution_count": null,
   "metadata": {},
   "outputs": [],
   "source": [
    "# Iterate through the patients list and print the name of each patient. Use a for loop\n",
    "for patient in patients:\n",
    "    print(patient['name'])"
   ]
  },
  {
   "cell_type": "code",
   "execution_count": null,
   "metadata": {},
   "outputs": [],
   "source": [
    "# Return a new list that contains the name of each patient. Use a list comprehension.\n",
    "[patient['name'] for patient in patients]"
   ]
  }
 ],
 "metadata": {
  "interpreter": {
   "hash": "5997c304d9048cc3333dff7a280bf64458ec3f56eb4ae73f2127a57fb16aeeea"
  },
  "kernelspec": {
   "display_name": "Python 3.9.5 64-bit",
   "name": "python3"
  },
  "language_info": {
   "codemirror_mode": {
    "name": "ipython",
    "version": 3
   },
   "file_extension": ".py",
   "mimetype": "text/x-python",
   "name": "python",
   "nbconvert_exporter": "python",
   "pygments_lexer": "ipython3",
   "version": "3.12.3"
  },
  "metadata": {
   "interpreter": {
    "hash": "5997c304d9048cc3333dff7a280bf64458ec3f56eb4ae73f2127a57fb16aeeea"
   }
  },
  "orig_nbformat": 2
 },
 "nbformat": 4,
 "nbformat_minor": 2
}
