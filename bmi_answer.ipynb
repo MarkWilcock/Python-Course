{
 "cells": [
  {
   "cell_type": "markdown",
   "metadata": {},
   "source": [
    "# Exercise: BMI"
   ]
  },
  {
   "cell_type": "markdown",
   "metadata": {},
   "source": [
    "Write a function, bmi,  that takes two arguments, height and weight, and returns the body mass index (weight / (height ** 2).\n",
    "\n",
    "The formula is bmi = weight / (height * height)*  where height is in metres, weight is in kg.  \n",
    "See (https://www.nhs.uk/Tools/Pages/Healthyweightcalculator.aspx)\n",
    "\n",
    "Write another function, bmi_category, that takes arguments height and weight and returns a string which has the value:\n",
    "- \"underweight\" if the body mass index is under 20, \n",
    "- \"normal\" if the body mass index is 20 or more but under 25 or \n",
    "- \"overweight\" if the body mass index is 25 or more\n",
    "Use the bmi function.\n",
    "\n",
    "A person has a weight of 77kg and a height of 1.75m.  Are they underweight, normal or overweight?"
   ]
  },
  {
   "cell_type": "markdown",
   "metadata": {},
   "source": [
    "Define the bmi function"
   ]
  },
  {
   "cell_type": "code",
   "execution_count": null,
   "metadata": {},
   "outputs": [],
   "source": [
    "def bmi(height, weight):\n",
    "    \"\"\"\n",
    "    Returns the body mass index of a person given the weight (kg) and height(m)\n",
    "    \"\"\"\n",
    "    return weight / (height * height)"
   ]
  },
  {
   "cell_type": "markdown",
   "metadata": {},
   "source": [
    "Test the bmi function"
   ]
  },
  {
   "cell_type": "code",
   "execution_count": null,
   "metadata": {},
   "outputs": [],
   "source": [
    "height = 1.75\n",
    "weight = 77\n",
    "bmi(height, weight)"
   ]
  },
  {
   "cell_type": "markdown",
   "metadata": {},
   "source": [
    "Define the bmi_category function"
   ]
  },
  {
   "cell_type": "code",
   "execution_count": null,
   "metadata": {},
   "outputs": [],
   "source": [
    "def bmi_category(height, weight):\n",
    "    result = bmi(height, weight)\n",
    "    if result < 20:\n",
    "        category = \"underwight\"\n",
    "    elif result < 25:\n",
    "        category = \"normal\"\n",
    "    else:\n",
    "        category = \"overweight\"\n",
    "\n",
    "    return category"
   ]
  },
  {
   "cell_type": "markdown",
   "metadata": {},
   "source": [
    "Test the bmi_category function"
   ]
  },
  {
   "cell_type": "code",
   "execution_count": null,
   "metadata": {},
   "outputs": [],
   "source": [
    "bmi_category(height, weight)"
   ]
  }
 ],
 "metadata": {
  "interpreter": {
   "hash": "20bcbc86199f05c912a19f6140e3110aa149e89d6b37641ff62600b3f574ae9e"
  },
  "kernelspec": {
   "display_name": "Python 3.9.2 64-bit ('.venv': venv)",
   "language": "python",
   "name": "python3"
  },
  "language_info": {
   "codemirror_mode": {
    "name": "ipython",
    "version": 3
   },
   "file_extension": ".py",
   "mimetype": "text/x-python",
   "name": "python",
   "nbconvert_exporter": "python",
   "pygments_lexer": "ipython3",
   "version": "3.10.2"
  },
  "metadata": {
   "interpreter": {
    "hash": "68c45707def87feca5a47d18982249224aa76d0675ca5b6bc7cad154e506106e"
   }
  },
  "orig_nbformat": 2
 },
 "nbformat": 4,
 "nbformat_minor": 2
}
