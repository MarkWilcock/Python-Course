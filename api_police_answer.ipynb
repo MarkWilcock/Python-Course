{
 "cells": [
  {
   "cell_type": "markdown",
   "metadata": {},
   "source": [
    "# Answer:  Get data from the police street crime API\n",
    "## Objective: List each crime with details: id, category, outcome_status and street\n",
    "\n",
    "This API is called  as in this example: https://data.police.uk/api/crimes-street/all-crime?lat=51.4441480&lng=-0.1398390\n"
   ]
  },
  {
   "cell_type": "code",
   "execution_count": null,
   "metadata": {},
   "outputs": [],
   "source": [
    "import requests"
   ]
  },
  {
   "cell_type": "markdown",
   "metadata": {},
   "source": [
    "The co-ordinates below are for a location in London (Balham, SW12 post code).  Feel free to change."
   ]
  },
  {
   "cell_type": "code",
   "execution_count": null,
   "metadata": {},
   "outputs": [],
   "source": [
    "latitude = 51.4441480\n",
    "longitude = -0.1398390"
   ]
  },
  {
   "cell_type": "code",
   "execution_count": null,
   "metadata": {},
   "outputs": [],
   "source": [
    "crime_url = \"https://data.police.uk/api/crimes-street/all-crime?lat={0}&lng={1}\".format(\n",
    "    latitude, longitude\n",
    ")\n",
    "crime_response = requests.get(crime_url)\n",
    "crime_response.status_code"
   ]
  },
  {
   "cell_type": "code",
   "execution_count": null,
   "metadata": {},
   "outputs": [],
   "source": [
    "crime_json = crime_response.json()\n",
    "type(crime_json)  # is a list\n",
    "crime_json[0]  # Let's look at the first item in this list"
   ]
  },
  {
   "cell_type": "markdown",
   "metadata": {},
   "source": [
    "List each crime: id, category, outcome_status and street"
   ]
  },
  {
   "cell_type": "code",
   "execution_count": null,
   "metadata": {},
   "outputs": [],
   "source": [
    "for crime in crime_json:\n",
    "    category = crime[\"category\"]\n",
    "    outcome_status = crime[\"outcome_status\"]\n",
    "    location = crime[\"location\"]\n",
    "    street = location[\"street\"]\n",
    "    street_name = street[\"name\"]\n",
    "    print(category, street_name, outcome_status)"
   ]
  },
  {
   "cell_type": "markdown",
   "metadata": {},
   "source": [
    "Another way to loop through is to use a list comprehension"
   ]
  },
  {
   "cell_type": "code",
   "execution_count": null,
   "metadata": {},
   "outputs": [],
   "source": [
    "crime_list = [\n",
    "    (\n",
    "        crime[\"id\"],\n",
    "        crime[\"outcome_status\"],\n",
    "        crime[\"category\"],\n",
    "        crime[\"location\"][\"street\"][\"name\"],\n",
    "    )\n",
    "    for crime in crime_json\n",
    "]\n",
    "crime_list[0]"
   ]
  },
  {
   "cell_type": "markdown",
   "metadata": {},
   "source": [
    "Export crime_list to a CSV file"
   ]
  },
  {
   "cell_type": "code",
   "execution_count": null,
   "metadata": {},
   "outputs": [],
   "source": [
    "import csv\n",
    "\n",
    "with open(\"crimes.csv\", \"w\", newline=\"\") as csv_file:\n",
    "    csv_out = csv.writer(csv_file)\n",
    "    csv_out.writerow([\"id\", \"outcome_status\", \"category\", \"street_name\"])\n",
    "    csv_out.writerows(crime_list)"
   ]
  }
 ],
 "metadata": {
  "interpreter": {
   "hash": "68c45707def87feca5a47d18982249224aa76d0675ca5b6bc7cad154e506106e"
  },
  "kernelspec": {
   "display_name": "Python 3.9.5 64-bit ('.venv': venv)",
   "name": "python3"
  },
  "language_info": {
   "codemirror_mode": {
    "name": "ipython",
    "version": 3
   },
   "file_extension": ".py",
   "mimetype": "text/x-python",
   "name": "python",
   "nbconvert_exporter": "python",
   "pygments_lexer": "ipython3",
   "version": "3.10.2"
  },
  "orig_nbformat": 2
 },
 "nbformat": 4,
 "nbformat_minor": 2
}
