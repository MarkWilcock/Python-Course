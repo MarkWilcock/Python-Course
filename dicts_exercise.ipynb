{
 "cells": [
  {
   "attachments": {},
   "cell_type": "markdown",
   "metadata": {},
   "source": [
    "# Dictionaries : Exercise\n",
    "In this exercise, we create a few dict objects, compose them into a list, then loop through each dict in the list to retrieve some data."
   ]
  },
  {
   "attachments": {},
   "cell_type": "markdown",
   "metadata": {},
   "source": [
    "Here are the details of three patients.\n",
    "\n",
    "| nhs_id    | name | age |\n",
    "|-----------|------|-----|\n",
    "| 123-456-7890 | Fred Bloggs| 42 |\n",
    "| 234-567-8901 | Jane Doe | 55 |\n",
    "| 345-678-9801 | Florence Nightingale | 32 |\n",
    "\n",
    "Here is a dict for Fred Bloggs.  It has three key-value pairs. The keys are 'nhs_id', 'name' and 'age'."
   ]
  },
  {
   "cell_type": "code",
   "execution_count": null,
   "metadata": {},
   "outputs": [],
   "source": [
    "fred = {'nhs_id': '123-456-7890', 'name': 'Fred Bloggs', 'age': 42}\n",
    "fred"
   ]
  },
  {
   "cell_type": "markdown",
   "metadata": {},
   "source": [
    "Create a dict for Jane Doe in a similar fashion to that for Fred Bloggs."
   ]
  },
  {
   "cell_type": "code",
   "execution_count": null,
   "metadata": {},
   "outputs": [],
   "source": [
    "# Write your code below."
   ]
  },
  {
   "cell_type": "markdown",
   "metadata": {},
   "source": [
    "Get the value of the 'name' key of fred using the slice syntax, the [] operator."
   ]
  },
  {
   "cell_type": "code",
   "execution_count": null,
   "metadata": {},
   "outputs": [],
   "source": [
    "# Write your code below."
   ]
  },
  {
   "cell_type": "markdown",
   "metadata": {},
   "source": [
    "Get the value of the 'name' key of fred using the get() method."
   ]
  },
  {
   "cell_type": "code",
   "execution_count": null,
   "metadata": {},
   "outputs": [],
   "source": [
    "# Write your code below.\n"
   ]
  },
  {
   "cell_type": "code",
   "execution_count": null,
   "metadata": {},
   "outputs": [],
   "source": []
  },
  {
   "cell_type": "markdown",
   "metadata": {},
   "source": [
    "The cell below creates a list named patients.  Each element of the list is a dict.  The list has two elements.  \n",
    "Edit the list to add a third element based on the data for Florence Nightingale in the table above."
   ]
  },
  {
   "cell_type": "code",
   "execution_count": null,
   "metadata": {},
   "outputs": [],
   "source": [
    "# Write your code below.\n",
    "patients = [\n",
    "    {'nhs_id': '123-456-7890', 'name': 'Fred Bloggs', 'age': 42},\n",
    "    {'nhs_id': '234-567-8901', 'name': 'Jane Doe', 'age': 55}\n",
    "]\n",
    "patients"
   ]
  },
  {
   "cell_type": "markdown",
   "metadata": {},
   "source": [
    "Iterate through the patients list and print the name of each patient. Use a for loop"
   ]
  },
  {
   "cell_type": "code",
   "execution_count": null,
   "metadata": {},
   "outputs": [],
   "source": [
    "# Write your code below."
   ]
  },
  {
   "cell_type": "markdown",
   "metadata": {},
   "source": [
    "Create a new list that contains the name of each patient. Use a list comprehension."
   ]
  },
  {
   "cell_type": "code",
   "execution_count": null,
   "metadata": {},
   "outputs": [],
   "source": [
    "# Write your code below."
   ]
  },
  {
   "cell_type": "markdown",
   "metadata": {},
   "source": [
    "Add a new patient to the patients list\n",
    "The new patient is Aneurin Bevan, nhs_id '987-654-3210', age 51"
   ]
  },
  {
   "cell_type": "code",
   "execution_count": null,
   "metadata": {},
   "outputs": [],
   "source": [
    "# Write your code below."
   ]
  }
 ],
 "metadata": {
  "kernelspec": {
   "display_name": ".venv",
   "language": "python",
   "name": "python3"
  },
  "language_info": {
   "codemirror_mode": {
    "name": "ipython",
    "version": 3
   },
   "file_extension": ".py",
   "mimetype": "text/x-python",
   "name": "python",
   "nbconvert_exporter": "python",
   "pygments_lexer": "ipython3",
   "version": "3.13.7"
  },
  "metadata": {
   "interpreter": {
    "hash": "5997c304d9048cc3333dff7a280bf64458ec3f56eb4ae73f2127a57fb16aeeea"
   }
  },
  "orig_nbformat": 2
 },
 "nbformat": 4,
 "nbformat_minor": 2
}
