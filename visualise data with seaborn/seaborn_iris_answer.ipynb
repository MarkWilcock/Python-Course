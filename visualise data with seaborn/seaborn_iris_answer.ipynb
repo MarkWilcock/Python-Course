{
 "cells": [
  {
   "cell_type": "markdown",
   "metadata": {},
   "source": [
    "# seaborn iris exercise - model answer\n",
    "iris is a famous dataset of the sepal and petal lengths and widths of 150 iris flowers of thrree different species.\n",
    "\n",
    "Firstly, let's load the seaborn and other libraries."
   ]
  },
  {
   "cell_type": "code",
   "execution_count": null,
   "metadata": {},
   "outputs": [],
   "source": [
    "import seaborn as sns\n",
    "import matplotlib.pyplot as plt\n",
    "import pandas as pd\n",
    "\n",
    "sns.set_style('darkgrid')\n",
    "sns.set_palette('RdBu')"
   ]
  },
  {
   "cell_type": "markdown",
   "metadata": {},
   "source": [
    " Import the iris dataset from a CSV file on a public URL.  \n",
    " For convenience, rename the columns to lowercase and no spaces and dots."
   ]
  },
  {
   "cell_type": "code",
   "execution_count": null,
   "metadata": {},
   "outputs": [],
   "source": [
    "IRIS_DATA_URL = \"https://raw.githubusercontent.com/MarkWilcock/CourseDatasets/main/Iris/irisdata.csv\"\n",
    "iris = pd.read_csv(IRIS_DATA_URL)\n",
    "iris.head(2)"
   ]
  },
  {
   "cell_type": "markdown",
   "metadata": {},
   "source": [
    "For convenience, rename the columns to lowercase (snake_case) to remove spaces."
   ]
  },
  {
   "cell_type": "code",
   "execution_count": null,
   "metadata": {},
   "outputs": [],
   "source": [
    "iris.columns = ('observation', 'sepal_length', 'sepal_width', 'petal_length', 'petal_width', 'species')\n",
    "iris.head(2)"
   ]
  },
  {
   "cell_type": "markdown",
   "metadata": {},
   "source": [
    "Examine the iris DataFrame.  \n",
    "_Hint: use the DataFrame's head(), info(), describe() methods and shape property._"
   ]
  },
  {
   "cell_type": "code",
   "execution_count": null,
   "metadata": {},
   "outputs": [],
   "source": [
    "# Use the head() method. Write your code here\n",
    "iris.head()"
   ]
  },
  {
   "cell_type": "code",
   "execution_count": null,
   "metadata": {},
   "outputs": [],
   "source": [
    "# Use the info() method. Write your code here.\n",
    "iris.info()"
   ]
  },
  {
   "cell_type": "code",
   "execution_count": null,
   "metadata": {},
   "outputs": [],
   "source": [
    "# Use the describe() method with argument include = 'all'. Write your code here.\n",
    "iris.describe(include='all')"
   ]
  },
  {
   "cell_type": "code",
   "execution_count": null,
   "metadata": {},
   "outputs": [],
   "source": [
    "# Use the shape property . Write your code here.\n",
    "iris.shape"
   ]
  },
  {
   "cell_type": "markdown",
   "metadata": {},
   "source": [
    "Build a scatter plot of the relationship between petal length (x axis) and sepal  lengths (y axis).  \n",
    "Use the sns scatterplot() function.  Plot markers for different species in a a different hue."
   ]
  },
  {
   "cell_type": "code",
   "execution_count": null,
   "metadata": {},
   "outputs": [],
   "source": [
    "# Write your code here.\n",
    "sns.scatterplot(x='petal_length', y = 'sepal_length', hue = 'species', data = iris)\n",
    "plt.show()"
   ]
  },
  {
   "cell_type": "markdown",
   "metadata": {},
   "source": [
    "Note that seaborn also has the more versatile relplot() function that can create different chart types depending on the kind argument."
   ]
  },
  {
   "cell_type": "code",
   "execution_count": null,
   "metadata": {},
   "outputs": [],
   "source": [
    "sns.relplot(data= iris, x='petal_length', y = 'sepal_length', hue = 'species', kind='scatter')\n",
    "plt.show()"
   ]
  },
  {
   "cell_type": "markdown",
   "metadata": {},
   "source": [
    "A rel(ational) plot is more flexible than a scatterplot since it can also create small multiples.\n",
    "\n",
    "Copy the code cell above, and change the hue argument into a col argument (keeping 'species' as the value of this argument).  How does this change the plot?"
   ]
  },
  {
   "cell_type": "code",
   "execution_count": null,
   "metadata": {},
   "outputs": [],
   "source": [
    "#  Write your code here\n",
    "sns.relplot(data = iris, x='petal_length', y = 'sepal_length', col = 'species', kind='scatter')\n",
    "plt.show()"
   ]
  }
 ],
 "metadata": {
  "kernelspec": {
   "display_name": ".venv",
   "language": "python",
   "name": "python3"
  },
  "language_info": {
   "codemirror_mode": {
    "name": "ipython",
    "version": 3
   },
   "file_extension": ".py",
   "mimetype": "text/x-python",
   "name": "python",
   "nbconvert_exporter": "python",
   "pygments_lexer": "ipython3",
   "version": "3.12.3"
  },
  "metadata": {
   "interpreter": {
    "hash": "047320649600f32f163458a3ea42b5e6faa8e94a8e8162718a3776c6fffc4da4"
   }
  },
  "orig_nbformat": 3
 },
 "nbformat": 4,
 "nbformat_minor": 2
}
