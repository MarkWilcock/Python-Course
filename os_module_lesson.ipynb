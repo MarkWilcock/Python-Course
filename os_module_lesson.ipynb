{
 "cells": [
  {
   "attachments": {},
   "cell_type": "markdown",
   "metadata": {},
   "source": [
    "## The os and shutil modules\n",
    "The os module provides a way of using operating system functionality: e.g.,  reading or writing files, managing directories, handling environment variables, and executing system commands. \n",
    "\n",
    "The shutil module works in conjunction with the os module and provides high level file operations (copy and move files and directories)."
   ]
  },
  {
   "cell_type": "code",
   "execution_count": null,
   "metadata": {},
   "outputs": [],
   "source": [
    "import os\n",
    "import shutil"
   ]
  },
  {
   "cell_type": "markdown",
   "metadata": {},
   "source": [
    "## os module\n",
    "The os module includes  functions for:\n",
    "* operating on single files: e.g., os.rename(), os.replace() \n",
    "* listing, making and deleting directories: e.g., os.getcwd(), os.chdir(), os.listdir(), os.mkdir()\n",
    "* path operations: e.g. os.path.dirname()\n",
    "* environment variables e.g. os.getenv()"
   ]
  },
  {
   "cell_type": "code",
   "execution_count": null,
   "metadata": {},
   "outputs": [],
   "source": [
    "print('Current working directory', os.getcwd())\n",
    "print('List of files in the current directory', os.listdir())\n",
    "\n",
    "abs_path = os.path.abspath('.')\n",
    "print('Path name of the current directory',abs_path)\n",
    "      \n",
    "print('Directory name of the current directory', os.path.dirname(abs_path))\n"
   ]
  },
  {
   "cell_type": "code",
   "execution_count": null,
   "metadata": {},
   "outputs": [],
   "source": [
    "# Often, secrets are stored in environment variables and os.environ is used to access them\n",
    "#os.environ['APPDATA']\n",
    "#os.environ.get('APPDATA', 'no appdata found!')\n",
    "os.getenv('APPDATA', 'no appdata found!')"
   ]
  },
  {
   "cell_type": "markdown",
   "metadata": {},
   "source": [
    "## shutil module\n",
    "The most important functions are copy (copy2), move, and copytree."
   ]
  },
  {
   "cell_type": "code",
   "execution_count": null,
   "metadata": {},
   "outputs": [],
   "source": [
    "# Create the text.txt file in the current directory, or edit the code to select an existing file,  before running this code\n",
    "shutil.copy('test.txt', 'test_copy.txt')"
   ]
  }
 ],
 "metadata": {
  "interpreter": {
   "hash": "68c45707def87feca5a47d18982249224aa76d0675ca5b6bc7cad154e506106e"
  },
  "kernelspec": {
   "display_name": "Python 3.9.2  ('.venv': venv)",
   "name": "python3"
  },
  "language_info": {
   "codemirror_mode": {
    "name": "ipython",
    "version": 3
   },
   "file_extension": ".py",
   "mimetype": "text/x-python",
   "name": "python",
   "nbconvert_exporter": "python",
   "pygments_lexer": "ipython3",
   "version": "3.12.3"
  },
  "orig_nbformat": 2
 },
 "nbformat": 4,
 "nbformat_minor": 2
}
