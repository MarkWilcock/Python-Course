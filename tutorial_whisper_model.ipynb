{
 "cells": [
  {
   "cell_type": "markdown",
   "metadata": {
    "id": "AeB2z2DpMVFu"
   },
   "source": [
    "# Tutorial - Use the Whisper Voice to Text Model\n",
    "\n",
    "Whisper is a open-source model from OpenAI that converts voice to text.\n",
    "\n",
    "The Whisper GitHub repo is [https://github.com/openai/whisper](https://github.com/openai/whisper).  \n",
    "\n",
    "## Setup\n",
    "\n",
    "In the Menu, choose Runtime then \"Change Runtime Type\" then choose the option of a T4 GPU, or similar GPU, rather than a CPU.\n"
   ]
  },
  {
   "cell_type": "markdown",
   "metadata": {
    "id": "yineNykBN433"
   },
   "source": [
    "Install Whisper from the GitHub repo.  This will take a couple of minutes.\n",
    "\n",
    "In Colab use the line that starts with !.  The !command is a notebook feature for running shell commands.  It tells Python to pass the command, pip in this case, to the operating system's shell. The equivaluent to ! in VSCode is %, or better still to run the shell command from teh terminal.  (The terminal is now available in Google Colab.)\n",
    "\n",
    "In VSCode use the line that starts with %. Or run the command from the terminal window.\n",
    "\n",
    "The git+ prefix tells pip that the package should be cloned directly from a Git repository instead of being downloaded from PyPI (Python Package Index).\n",
    "\n",
    "Alternative we could have used pip install openai-whisper.  \n",
    "\n",
    "The [PyPi documentation page for Whisper](https://pypi.org/project/openai-whisper/) has good information."
   ]
  },
  {
   "cell_type": "code",
   "execution_count": 2,
   "metadata": {
    "colab": {
     "base_uri": "https://localhost:8080/"
    },
    "collapsed": true,
    "executionInfo": {
     "elapsed": 108478,
     "status": "ok",
     "timestamp": 1739113162570,
     "user": {
      "displayName": "Mark Wilcock",
      "userId": "01289097066483342066"
     },
     "user_tz": 0
    },
    "id": "ZmNryPLrMlWo",
    "outputId": "9bf6d2af-1a11-4aa5-8b36-7eb871ee9787"
   },
   "outputs": [
    {
     "name": "stdout",
     "output_type": "stream",
     "text": [
      "Collecting git+https://github.com/openai/whisper.git\n",
      "  Cloning https://github.com/openai/whisper.git to c:\\users\\mark\\appdata\\local\\temp\\pip-req-build-pb87w7kw\n",
      "  Resolved https://github.com/openai/whisper.git to commit 517a43ecd132a2089d85f4ebc044728a71d49f6e\n",
      "  Installing build dependencies: started\n",
      "  Installing build dependencies: finished with status 'done'\n",
      "  Getting requirements to build wheel: started\n",
      "  Getting requirements to build wheel: finished with status 'done'\n",
      "  Preparing metadata (pyproject.toml): started\n",
      "  Preparing metadata (pyproject.toml): finished with status 'done'\n",
      "Collecting more-itertools (from openai-whisper==20240930)\n",
      "  Using cached more_itertools-10.6.0-py3-none-any.whl.metadata (37 kB)\n",
      "Collecting numba (from openai-whisper==20240930)\n",
      "  Using cached numba-0.61.0-cp312-cp312-win_amd64.whl.metadata (2.8 kB)\n",
      "Requirement already satisfied: numpy in c:\\users\\mark\\documents\\repos\\python-course\\.venv\\lib\\site-packages (from openai-whisper==20240930) (1.26.4)\n",
      "Collecting tiktoken (from openai-whisper==20240930)\n",
      "  Using cached tiktoken-0.8.0-cp312-cp312-win_amd64.whl.metadata (6.8 kB)\n",
      "Collecting torch (from openai-whisper==20240930)\n",
      "  Downloading torch-2.6.0-cp312-cp312-win_amd64.whl.metadata (28 kB)\n",
      "Collecting tqdm (from openai-whisper==20240930)\n",
      "  Using cached tqdm-4.67.1-py3-none-any.whl.metadata (57 kB)\n",
      "Collecting llvmlite<0.45,>=0.44.0dev0 (from numba->openai-whisper==20240930)\n",
      "  Using cached llvmlite-0.44.0-cp312-cp312-win_amd64.whl.metadata (5.0 kB)\n",
      "Collecting regex>=2022.1.18 (from tiktoken->openai-whisper==20240930)\n",
      "  Using cached regex-2024.11.6-cp312-cp312-win_amd64.whl.metadata (41 kB)\n",
      "Requirement already satisfied: requests>=2.26.0 in c:\\users\\mark\\documents\\repos\\python-course\\.venv\\lib\\site-packages (from tiktoken->openai-whisper==20240930) (2.32.3)\n",
      "Collecting filelock (from torch->openai-whisper==20240930)\n",
      "  Downloading filelock-3.17.0-py3-none-any.whl.metadata (2.9 kB)\n",
      "Requirement already satisfied: typing-extensions>=4.10.0 in c:\\users\\mark\\documents\\repos\\python-course\\.venv\\lib\\site-packages (from torch->openai-whisper==20240930) (4.12.2)\n",
      "Collecting networkx (from torch->openai-whisper==20240930)\n",
      "  Using cached networkx-3.4.2-py3-none-any.whl.metadata (6.3 kB)\n",
      "Collecting jinja2 (from torch->openai-whisper==20240930)\n",
      "  Using cached jinja2-3.1.5-py3-none-any.whl.metadata (2.6 kB)\n",
      "Collecting fsspec (from torch->openai-whisper==20240930)\n",
      "  Downloading fsspec-2025.2.0-py3-none-any.whl.metadata (11 kB)\n",
      "Collecting setuptools (from torch->openai-whisper==20240930)\n",
      "  Using cached setuptools-75.8.0-py3-none-any.whl.metadata (6.7 kB)\n",
      "Collecting sympy==1.13.1 (from torch->openai-whisper==20240930)\n",
      "  Using cached sympy-1.13.1-py3-none-any.whl.metadata (12 kB)\n",
      "Collecting mpmath<1.4,>=1.1.0 (from sympy==1.13.1->torch->openai-whisper==20240930)\n",
      "  Using cached mpmath-1.3.0-py3-none-any.whl.metadata (8.6 kB)\n",
      "Requirement already satisfied: colorama in c:\\users\\mark\\documents\\repos\\python-course\\.venv\\lib\\site-packages (from tqdm->openai-whisper==20240930) (0.4.6)\n",
      "Requirement already satisfied: charset-normalizer<4,>=2 in c:\\users\\mark\\documents\\repos\\python-course\\.venv\\lib\\site-packages (from requests>=2.26.0->tiktoken->openai-whisper==20240930) (3.3.2)\n",
      "Requirement already satisfied: idna<4,>=2.5 in c:\\users\\mark\\documents\\repos\\python-course\\.venv\\lib\\site-packages (from requests>=2.26.0->tiktoken->openai-whisper==20240930) (3.7)\n",
      "Requirement already satisfied: urllib3<3,>=1.21.1 in c:\\users\\mark\\documents\\repos\\python-course\\.venv\\lib\\site-packages (from requests>=2.26.0->tiktoken->openai-whisper==20240930) (2.2.1)\n",
      "Requirement already satisfied: certifi>=2017.4.17 in c:\\users\\mark\\documents\\repos\\python-course\\.venv\\lib\\site-packages (from requests>=2.26.0->tiktoken->openai-whisper==20240930) (2024.6.2)\n",
      "Collecting MarkupSafe>=2.0 (from jinja2->torch->openai-whisper==20240930)\n",
      "  Using cached MarkupSafe-3.0.2-cp312-cp312-win_amd64.whl.metadata (4.1 kB)\n",
      "Using cached more_itertools-10.6.0-py3-none-any.whl (63 kB)\n",
      "Using cached numba-0.61.0-cp312-cp312-win_amd64.whl (2.8 MB)\n",
      "Using cached tiktoken-0.8.0-cp312-cp312-win_amd64.whl (883 kB)\n",
      "Downloading torch-2.6.0-cp312-cp312-win_amd64.whl (204.1 MB)\n",
      "   ---------------------------------------- 0.0/204.1 MB ? eta -:--:--\n",
      "   ---------------------------------------- 0.9/204.1 MB 28.2 MB/s eta 0:00:08\n",
      "   - -------------------------------------- 5.4/204.1 MB 68.6 MB/s eta 0:00:03\n",
      "   -- ------------------------------------- 10.3/204.1 MB 93.9 MB/s eta 0:00:03\n",
      "   -- ------------------------------------ 14.7/204.1 MB 110.0 MB/s eta 0:00:02\n",
      "   --- ------------------------------------ 18.4/204.1 MB 93.9 MB/s eta 0:00:02\n",
      "   ---- ----------------------------------- 21.9/204.1 MB 81.8 MB/s eta 0:00:03\n",
      "   ---- ----------------------------------- 25.2/204.1 MB 81.8 MB/s eta 0:00:03\n",
      "   ----- ---------------------------------- 29.1/204.1 MB 81.8 MB/s eta 0:00:03\n",
      "   ------ --------------------------------- 32.1/204.1 MB 72.6 MB/s eta 0:00:03\n",
      "   ------ --------------------------------- 34.9/204.1 MB 72.6 MB/s eta 0:00:03\n",
      "   ------- -------------------------------- 36.8/204.1 MB 59.8 MB/s eta 0:00:03\n",
      "   ------- -------------------------------- 38.9/204.1 MB 54.7 MB/s eta 0:00:04\n",
      "   -------- ------------------------------- 41.2/204.1 MB 50.4 MB/s eta 0:00:04\n",
      "   -------- ------------------------------- 43.2/204.1 MB 46.7 MB/s eta 0:00:04\n",
      "   -------- ------------------------------- 45.4/204.1 MB 43.7 MB/s eta 0:00:04\n",
      "   --------- ------------------------------ 48.1/204.1 MB 46.7 MB/s eta 0:00:04\n",
      "   --------- ------------------------------ 50.9/204.1 MB 54.7 MB/s eta 0:00:03\n",
      "   ---------- ----------------------------- 53.5/204.1 MB 59.5 MB/s eta 0:00:03\n",
      "   ----------- ---------------------------- 56.5/204.1 MB 65.6 MB/s eta 0:00:03\n",
      "   ----------- ---------------------------- 59.7/204.1 MB 65.2 MB/s eta 0:00:03\n",
      "   ------------ --------------------------- 62.0/204.1 MB 65.2 MB/s eta 0:00:03\n",
      "   ------------ --------------------------- 64.0/204.1 MB 59.8 MB/s eta 0:00:03\n",
      "   ------------ --------------------------- 65.9/204.1 MB 54.7 MB/s eta 0:00:03\n",
      "   ------------- -------------------------- 68.4/204.1 MB 50.4 MB/s eta 0:00:03\n",
      "   ------------- -------------------------- 70.4/204.1 MB 46.7 MB/s eta 0:00:03\n",
      "   ------------- -------------------------- 71.2/204.1 MB 40.9 MB/s eta 0:00:04\n",
      "   -------------- ------------------------- 72.2/204.1 MB 36.4 MB/s eta 0:00:04\n",
      "   -------------- ------------------------- 73.4/204.1 MB 34.4 MB/s eta 0:00:04\n",
      "   -------------- ------------------------- 74.8/204.1 MB 32.7 MB/s eta 0:00:04\n",
      "   --------------- ------------------------ 77.0/204.1 MB 32.8 MB/s eta 0:00:04\n",
      "   --------------- ------------------------ 79.1/204.1 MB 32.8 MB/s eta 0:00:04\n",
      "   --------------- ------------------------ 81.4/204.1 MB 36.4 MB/s eta 0:00:04\n",
      "   ---------------- ----------------------- 83.3/204.1 MB 40.9 MB/s eta 0:00:03\n",
      "   ---------------- ----------------------- 85.2/204.1 MB 43.7 MB/s eta 0:00:03\n",
      "   ----------------- ---------------------- 87.2/204.1 MB 43.5 MB/s eta 0:00:03\n",
      "   ----------------- ---------------------- 89.3/204.1 MB 43.5 MB/s eta 0:00:03\n",
      "   ----------------- ---------------------- 91.3/204.1 MB 40.9 MB/s eta 0:00:03\n",
      "   ------------------ --------------------- 92.9/204.1 MB 38.6 MB/s eta 0:00:03\n",
      "   ------------------ --------------------- 94.7/204.1 MB 43.5 MB/s eta 0:00:03\n",
      "   ------------------ --------------------- 96.5/204.1 MB 40.9 MB/s eta 0:00:03\n",
      "   ------------------- -------------------- 98.2/204.1 MB 40.9 MB/s eta 0:00:03\n",
      "   ------------------- ------------------- 100.0/204.1 MB 40.9 MB/s eta 0:00:03\n",
      "   ------------------- ------------------- 101.9/204.1 MB 40.9 MB/s eta 0:00:03\n",
      "   ------------------- ------------------- 104.3/204.1 MB 40.9 MB/s eta 0:00:03\n",
      "   -------------------- ------------------ 106.6/204.1 MB 43.7 MB/s eta 0:00:03\n",
      "   -------------------- ------------------ 109.3/204.1 MB 50.4 MB/s eta 0:00:02\n",
      "   --------------------- ----------------- 111.8/204.1 MB 54.4 MB/s eta 0:00:02\n",
      "   --------------------- ----------------- 114.5/204.1 MB 54.4 MB/s eta 0:00:02\n",
      "   ---------------------- ---------------- 117.5/204.1 MB 59.8 MB/s eta 0:00:02\n",
      "   ---------------------- ---------------- 120.1/204.1 MB 59.5 MB/s eta 0:00:02\n",
      "   ----------------------- --------------- 122.2/204.1 MB 54.7 MB/s eta 0:00:02\n",
      "   ----------------------- --------------- 124.4/204.1 MB 54.7 MB/s eta 0:00:02\n",
      "   ------------------------ -------------- 126.6/204.1 MB 50.4 MB/s eta 0:00:02\n",
      "   ------------------------ -------------- 128.7/204.1 MB 50.4 MB/s eta 0:00:02\n",
      "   ------------------------ -------------- 130.6/204.1 MB 46.7 MB/s eta 0:00:02\n",
      "   ------------------------- ------------- 132.7/204.1 MB 46.7 MB/s eta 0:00:02\n",
      "   ------------------------- ------------- 134.7/204.1 MB 46.7 MB/s eta 0:00:02\n",
      "   -------------------------- ------------ 136.9/204.1 MB 46.7 MB/s eta 0:00:02\n",
      "   -------------------------- ------------ 139.2/204.1 MB 46.7 MB/s eta 0:00:02\n",
      "   --------------------------- ----------- 141.8/204.1 MB 50.4 MB/s eta 0:00:02\n",
      "   --------------------------- ----------- 143.5/204.1 MB 46.9 MB/s eta 0:00:02\n",
      "   --------------------------- ----------- 145.3/204.1 MB 46.7 MB/s eta 0:00:02\n",
      "   ---------------------------- ---------- 147.4/204.1 MB 46.7 MB/s eta 0:00:02\n",
      "   ---------------------------- ---------- 149.6/204.1 MB 46.7 MB/s eta 0:00:02\n",
      "   ---------------------------- ---------- 151.8/204.1 MB 43.5 MB/s eta 0:00:02\n",
      "   ----------------------------- --------- 154.0/204.1 MB 46.7 MB/s eta 0:00:02\n",
      "   ----------------------------- --------- 156.3/204.1 MB 46.7 MB/s eta 0:00:02\n",
      "   ------------------------------ -------- 158.8/204.1 MB 50.4 MB/s eta 0:00:01\n",
      "   ------------------------------ -------- 160.8/204.1 MB 50.4 MB/s eta 0:00:01\n",
      "   ------------------------------- ------- 162.7/204.1 MB 46.7 MB/s eta 0:00:01\n",
      "   ------------------------------- ------- 164.3/204.1 MB 43.7 MB/s eta 0:00:01\n",
      "   ------------------------------- ------- 166.6/204.1 MB 43.7 MB/s eta 0:00:01\n",
      "   -------------------------------- ------ 168.7/204.1 MB 43.5 MB/s eta 0:00:01\n",
      "   -------------------------------- ------ 171.2/204.1 MB 43.5 MB/s eta 0:00:01\n",
      "   --------------------------------- ----- 172.9/204.1 MB 43.5 MB/s eta 0:00:01\n",
      "   --------------------------------- ----- 174.6/204.1 MB 43.7 MB/s eta 0:00:01\n",
      "   --------------------------------- ----- 176.7/204.1 MB 43.7 MB/s eta 0:00:01\n",
      "   ---------------------------------- ---- 178.9/204.1 MB 43.7 MB/s eta 0:00:01\n",
      "   ---------------------------------- ---- 181.1/204.1 MB 43.7 MB/s eta 0:00:01\n",
      "   ---------------------------------- ---- 183.2/204.1 MB 46.9 MB/s eta 0:00:01\n",
      "   ----------------------------------- --- 185.5/204.1 MB 46.7 MB/s eta 0:00:01\n",
      "   ----------------------------------- --- 188.1/204.1 MB 50.4 MB/s eta 0:00:01\n",
      "   ------------------------------------ -- 189.9/204.1 MB 50.4 MB/s eta 0:00:01\n",
      "   ------------------------------------ -- 191.9/204.1 MB 46.7 MB/s eta 0:00:01\n",
      "   ------------------------------------- - 194.1/204.1 MB 50.4 MB/s eta 0:00:01\n",
      "   ------------------------------------- - 196.5/204.1 MB 46.7 MB/s eta 0:00:01\n",
      "   ------------------------------------- - 198.8/204.1 MB 46.9 MB/s eta 0:00:01\n",
      "   --------------------------------------  201.1/204.1 MB 50.4 MB/s eta 0:00:01\n",
      "   --------------------------------------  203.3/204.1 MB 50.4 MB/s eta 0:00:01\n",
      "   --------------------------------------  204.1/204.1 MB 46.9 MB/s eta 0:00:01\n",
      "   --------------------------------------  204.1/204.1 MB 46.9 MB/s eta 0:00:01\n",
      "   --------------------------------------  204.1/204.1 MB 46.9 MB/s eta 0:00:01\n",
      "   --------------------------------------  204.1/204.1 MB 46.9 MB/s eta 0:00:01\n",
      "   --------------------------------------  204.1/204.1 MB 46.9 MB/s eta 0:00:01\n",
      "   --------------------------------------  204.1/204.1 MB 46.9 MB/s eta 0:00:01\n",
      "   --------------------------------------  204.1/204.1 MB 46.9 MB/s eta 0:00:01\n",
      "   --------------------------------------  204.1/204.1 MB 46.9 MB/s eta 0:00:01\n",
      "   --------------------------------------  204.1/204.1 MB 46.9 MB/s eta 0:00:01\n",
      "   --------------------------------------  204.1/204.1 MB 46.9 MB/s eta 0:00:01\n",
      "   --------------------------------------  204.1/204.1 MB 46.9 MB/s eta 0:00:01\n",
      "   --------------------------------------  204.1/204.1 MB 46.9 MB/s eta 0:00:01\n",
      "   --------------------------------------  204.1/204.1 MB 46.9 MB/s eta 0:00:01\n",
      "   --------------------------------------  204.1/204.1 MB 46.9 MB/s eta 0:00:01\n",
      "   --------------------------------------  204.1/204.1 MB 46.9 MB/s eta 0:00:01\n",
      "   --------------------------------------  204.1/204.1 MB 46.9 MB/s eta 0:00:01\n",
      "   --------------------------------------  204.1/204.1 MB 46.9 MB/s eta 0:00:01\n",
      "   --------------------------------------  204.1/204.1 MB 46.9 MB/s eta 0:00:01\n",
      "   --------------------------------------  204.1/204.1 MB 46.9 MB/s eta 0:00:01\n",
      "   ---------------------------------------- 204.1/204.1 MB 9.4 MB/s eta 0:00:00\n",
      "Using cached sympy-1.13.1-py3-none-any.whl (6.2 MB)\n",
      "Using cached tqdm-4.67.1-py3-none-any.whl (78 kB)\n",
      "Using cached llvmlite-0.44.0-cp312-cp312-win_amd64.whl (30.3 MB)\n",
      "Using cached regex-2024.11.6-cp312-cp312-win_amd64.whl (273 kB)\n",
      "Downloading filelock-3.17.0-py3-none-any.whl (16 kB)\n",
      "Downloading fsspec-2025.2.0-py3-none-any.whl (184 kB)\n",
      "   ---------------------------------------- 0.0/184.5 kB ? eta -:--:--\n",
      "   --------------------------------------- 184.5/184.5 kB 10.9 MB/s eta 0:00:00\n",
      "Using cached jinja2-3.1.5-py3-none-any.whl (134 kB)\n",
      "Using cached networkx-3.4.2-py3-none-any.whl (1.7 MB)\n",
      "Using cached setuptools-75.8.0-py3-none-any.whl (1.2 MB)\n",
      "Using cached MarkupSafe-3.0.2-cp312-cp312-win_amd64.whl (15 kB)\n",
      "Using cached mpmath-1.3.0-py3-none-any.whl (536 kB)\n",
      "Building wheels for collected packages: openai-whisper\n",
      "  Building wheel for openai-whisper (pyproject.toml): started\n",
      "  Building wheel for openai-whisper (pyproject.toml): finished with status 'done'\n",
      "  Created wheel for openai-whisper: filename=openai_whisper-20240930-py3-none-any.whl size=813013 sha256=0f2070a0a999bda13166c88f44aa620f59793a220514cd8c217a744bd7e60b7e\n",
      "  Stored in directory: C:\\Users\\Mark\\AppData\\Local\\Temp\\pip-ephem-wheel-cache-1zw8d7lr\\wheels\\c3\\03\\25\\5e0ba78bc27a3a089f137c9f1d92fdfce16d06996c071a016c\n",
      "Successfully built openai-whisper\n",
      "Installing collected packages: mpmath, tqdm, sympy, setuptools, regex, networkx, more-itertools, MarkupSafe, llvmlite, fsspec, filelock, tiktoken, numba, jinja2, torch, openai-whisper\n",
      "Successfully installed MarkupSafe-3.0.2 filelock-3.17.0 fsspec-2025.2.0 jinja2-3.1.5 llvmlite-0.44.0 more-itertools-10.6.0 mpmath-1.3.0 networkx-3.4.2 numba-0.61.0 openai-whisper-20240930 regex-2024.11.6 setuptools-75.8.0 sympy-1.13.1 tiktoken-0.8.0 torch-2.6.0 tqdm-4.67.1\n",
      "Note: you may need to restart the kernel to use updated packages.\n"
     ]
    },
    {
     "name": "stderr",
     "output_type": "stream",
     "text": [
      "  Running command git clone --filter=blob:none --quiet https://github.com/openai/whisper.git 'C:\\Users\\Mark\\AppData\\Local\\Temp\\pip-req-build-pb87w7kw'\n",
      "\n",
      "[notice] A new release of pip is available: 24.0 -> 25.0\n",
      "[notice] To update, run: python.exe -m pip install --upgrade pip\n"
     ]
    }
   ],
   "source": [
    "#  !pip install git+https://github.com/openai/whisper.git # use for Colab\n",
    "%pip install git+https://github.com/openai/whisper.git"
   ]
  },
  {
   "cell_type": "markdown",
   "metadata": {
    "id": "LbGkeCf-OUNh"
   },
   "source": [
    "Install FFmpeg.  This is a powerful, open-source command-line tool used for processing audio, video, and multimedia files. It can record, convert, edit, compress, and stream multimedia content across different formats.\n",
    "\n",
    "In VSCode in Windows, you need to install FFmpeg independently >  here are some instructions to do that.\n",
    "\n",
    "Installing FFmpeg on Windows Using Chocolatey\n",
    "Chocolatey (choco) is a Windows package manager that makes installing software easier via the command line.\n",
    "\n",
    "#### Step 1: Open PowerShell as Administrator\n",
    "\n",
    "Click Start, type PowerShell, right-click it, and select \"Run as administrator\".\n",
    "\n",
    "#### Step 2: Install Chocolatey (if not installed)\n",
    "\n",
    "If you haven't installed Chocolatey yet, run this command in PowerShell:\n",
    "\n",
    "> Set-ExecutionPolicy Bypass -Scope Process -Force; [System.Net.ServicePointManager]::SecurityProtocol = [System.Net.ServicePointManager]::SecurityProtocol -bor 3072; iex ((New-Object System.Net.WebClient).DownloadString('https://community.chocolatey.org/install.ps1'))\n",
    "\n",
    "After installation, restart PowerShell.\n",
    "\n",
    "#### Step 3: Install FFmpeg Using Chocolatey\n",
    "Run the following command:\n",
    "\n",
    "> choco install ffmpeg -y\n",
    "\n",
    "-y automatically confirms the installation.  \n",
    "Chocolatey will download and install FFmpeg for you.\n",
    "\n",
    "#### Step 4: Verify the Installation\n",
    "\n",
    "Once installed, check if FFmpeg is working by running:\n",
    "\n",
    "> ffmpeg -version\n",
    "\n",
    "If installed correctly, you will see FFmpeg version details.\n",
    "\n",
    "#### Alternative: Install the Full Version\n",
    "\n",
    "By default, Chocolatey installs the FFmpeg essentials package (lighter version). To install the full version:\n",
    "\n",
    "> choco install ffmpeg-full -y\n"
   ]
  },
  {
   "cell_type": "code",
   "execution_count": 4,
   "metadata": {
    "colab": {
     "base_uri": "https://localhost:8080/"
    },
    "collapsed": true,
    "executionInfo": {
     "elapsed": 7263,
     "status": "ok",
     "timestamp": 1739113242677,
     "user": {
      "displayName": "Mark Wilcock",
      "userId": "01289097066483342066"
     },
     "user_tz": 0
    },
    "id": "hx34wdTwObwy",
    "outputId": "df3ba1b0-f301-4ab9-943f-cb07a4574e0d"
   },
   "outputs": [],
   "source": [
    "# !sudo apt update && sudo apt install ffmpeg"
   ]
  },
  {
   "cell_type": "markdown",
   "metadata": {
    "id": "KGb-b-z_RlMq"
   },
   "source": [
    "Run the whisper model.\n",
    "\n",
    "The model comes in several sizes: tiny, small, medium and large.   Start with a tiny model.  As size increases, models take longer to run (and may not run on consumer PC hardware) and the transcription becomes more accurate.  If you are using Colab on more challenging audio file, increase the model size up to medium\n",
    "\n",
    "Later, if you are using Colab, you may want to change from the GPU to the CPU and see if it takes longer to transcribe the file.\n",
    "\n",
    "The file referred to in the code cell is a public file of a reading of the Gettysburg address.  Feel free to replace it with a file of your choosing."
   ]
  },
  {
   "cell_type": "code",
   "execution_count": 1,
   "metadata": {
    "colab": {
     "base_uri": "https://localhost:8080/"
    },
    "executionInfo": {
     "elapsed": 42348,
     "status": "ok",
     "timestamp": 1739114339940,
     "user": {
      "displayName": "Mark Wilcock",
      "userId": "01289097066483342066"
     },
     "user_tz": 0
    },
    "id": "zfh_1SOeQD7s",
    "outputId": "da5099c5-3d11-4264-9bf8-d1a7be94b0f2"
   },
   "outputs": [
    {
     "name": "stdout",
     "output_type": "stream",
     "text": [
      "Detecting language using up to the first 30 seconds. Use `--language` to specify the language\n",
      "Detected language: English\n",
      "[00:00.000 --> 00:05.000]  This is a Librevox recording. All Librevox recordings are in the public domain.\n",
      "[00:05.000 --> 00:10.000]  For more information or to volunteer, please visit Librevox.org.\n",
      "[00:13.000 --> 00:21.000]  The Gettysburg address by Abraham Lincoln, November 19th, 1863.\n",
      "[00:21.000 --> 00:38.000]  Four score and seven years ago, our fathers brought forth on this continent a new nation conceived in liberty and dedicated to the proposition that all men are created equal.\n",
      "[00:38.000 --> 00:50.000]  Now we are engaged in a great civil war, testing whether that nation or any nation so conceived and so dedicated can long endure.\n",
      "[00:50.000 --> 01:05.000]  We are met on a great battlefield of that war. We have come to dedicate a portion of that field as a final resting place for those who hear gave their lives that that nation might live.\n",
      "[01:05.000 --> 01:10.000]  It is all together fitting and proper that we should do this.\n",
      "[01:10.000 --> 01:20.000]  But in a larger sense, we cannot dedicate, we cannot consecrate, we cannot hellow this ground.\n",
      "[01:20.000 --> 01:31.000]  The brave men living and dead who struggled here have consecrated it far above our poor power to add or detract.\n",
      "[01:31.000 --> 01:40.000]  The world will little note, nor long remember what we say here, but it can never forget what they did here.\n",
      "[01:40.000 --> 01:51.000]  It is for us the living, rather, to be dedicated here to the unfinished work which they who fought here have thus far so nobly advanced.\n",
      "[01:51.000 --> 02:07.000]  It is rather for us to be here dedicated to the great task remaining before us that from these honored dead, we take increased devotion to that cause for which they gave the last full measure of devotion.\n",
      "[02:07.000 --> 02:28.000]  That we hear highly resolve that these dead shall not have died in vain that this nation under God shall have a new birth of freedom and that government of the people by the people for the people shall not perish from the earth.\n",
      "[02:28.000 --> 02:35.000]  And of Lincoln's Gettysburg address.\n"
     ]
    },
    {
     "name": "stderr",
     "output_type": "stream",
     "text": [
      "c:\\Users\\Mark\\Documents\\repos\\Python-Course\\.venv\\Lib\\site-packages\\whisper\\transcribe.py:132: UserWarning: FP16 is not supported on CPU; using FP32 instead\n",
      "  warnings.warn(\"FP16 is not supported on CPU; using FP32 instead\")\n"
     ]
    }
   ],
   "source": [
    "!whisper https://zomalextrainingstorage.blob.core.windows.net/datasets/misc/gettysburg_address.mp3 --model tiny"
   ]
  },
  {
   "cell_type": "markdown",
   "metadata": {
    "id": "oG4uYrOLTIXG"
   },
   "source": [
    "Open the Files icon to view the files on this hosted runtime.  You should see several files with the file name \"gettysburg_address\" and with different file types: .txt contains the text, .srt and .vtt are captioning files that also include timestamps.\n",
    "\n",
    "You can download or delete these if you wish."
   ]
  }
 ],
 "metadata": {
  "accelerator": "GPU",
  "colab": {
   "authorship_tag": "ABX9TyMYNi4Wd51qqPMzsfG54X4c",
   "gpuType": "T4",
   "provenance": []
  },
  "kernelspec": {
   "display_name": ".venv",
   "language": "python",
   "name": "python3"
  },
  "language_info": {
   "codemirror_mode": {
    "name": "ipython",
    "version": 3
   },
   "file_extension": ".py",
   "mimetype": "text/x-python",
   "name": "python",
   "nbconvert_exporter": "python",
   "pygments_lexer": "ipython3",
   "version": "3.12.3"
  }
 },
 "nbformat": 4,
 "nbformat_minor": 0
}
