{
 "cells": [
  {
   "cell_type": "markdown",
   "metadata": {},
   "source": [
    "# OOP Exercise - Vaccine \n",
    "\n",
    "Create a Vaccine class with the following properties\n",
    "* name: string, e.g. 'Pfizer', 'Oxford AstraZeneca', 'Moderna'\n",
    "* type: string, e.g. 'mRNA', 'adenovirus'\n",
    "* doses: integer, default to 2\n",
    "* is_approved: bool, default to False\n",
    "* approval_date: string, e.g. '2021-21-01' default to 'NA - Not yet approved'\n",
    "\n",
    "Ensure that the name and type properties cannot be changed once an instance of the class is created. \n",
    "\n",
    "Add a method, approve_for_use(approval_date), that sets is_approved to True and approval_date to the parameter value.  Ensure that the is_approved and approval_date properties cannot be set in any other way apart from this method.\n",
    "\n",
    "You may want to do this in small steps, string with a class with only name and type properties."
   ]
  },
  {
   "cell_type": "code",
   "execution_count": null,
   "metadata": {},
   "outputs": [],
   "source": [
    "#  Define the class here"
   ]
  },
  {
   "cell_type": "markdown",
   "metadata": {},
   "source": [
    "Test the Vaccine class"
   ]
  },
  {
   "cell_type": "code",
   "execution_count": null,
   "metadata": {},
   "outputs": [],
   "source": [
    "# Test the class here"
   ]
  }
 ],
 "metadata": {
  "kernelspec": {
   "display_name": ".venv",
   "language": "python",
   "name": "python3"
  },
  "language_info": {
   "codemirror_mode": {
    "name": "ipython",
    "version": 3
   },
   "file_extension": ".py",
   "mimetype": "text/x-python",
   "name": "python",
   "nbconvert_exporter": "python",
   "pygments_lexer": "ipython3",
   "version": "3.11.2"
  }
 },
 "nbformat": 4,
 "nbformat_minor": 2
}
