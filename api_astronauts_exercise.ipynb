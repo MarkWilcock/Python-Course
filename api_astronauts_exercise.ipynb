{
 "cells": [
  {
   "cell_type": "markdown",
   "metadata": {},
   "source": [
    "# Exercise: Astronauts\r\n",
    "\r\n",
    "## Who is up there?\r\n",
    "\r\n",
    "This API http://api.open-notify.org/astros.json lists the people currently in space.  Print a list of them.\r\n",
    "\r\n",
    "Hint: Use the requests module and the get() method. The response has a json() method that returns a dict.  This dict contain a 'people' key with list as the value.  The items in the list are themselves dicts and the value corresponding to the 'name' key of each dict provides the astronaut's name."
   ]
  }
 ],
 "metadata": {
  "interpreter": {
   "hash": "68c45707def87feca5a47d18982249224aa76d0675ca5b6bc7cad154e506106e"
  },
  "kernelspec": {
   "display_name": "Python 3.9.2  ('.venv': venv)",
   "name": "python3"
  },
  "language_info": {
   "name": "python",
   "version": ""
  },
  "orig_nbformat": 2
 },
 "nbformat": 4,
 "nbformat_minor": 2
}