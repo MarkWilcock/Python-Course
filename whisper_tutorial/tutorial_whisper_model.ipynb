{
 "cells": [
  {
   "cell_type": "markdown",
   "metadata": {
    "id": "AeB2z2DpMVFu"
   },
   "source": [
    "# Tutorial - Use the Whisper Voice to Text Model\n",
    "\n",
    "Whisper is a open-source model from OpenAI that converts voice to text.\n",
    "\n",
    "The Whisper GitHub repo is [https://github.com/openai/whisper](https://github.com/openai/whisper).  \n",
    "\n",
    "## Setup\n",
    "\n",
    "In the Menu, choose Runtime then \"Change Runtime Type\" then choose the option of a T4 GPU, or similar GPU, rather than a CPU.\n"
   ]
  },
  {
   "cell_type": "markdown",
   "metadata": {
    "id": "yineNykBN433"
   },
   "source": [
    "Install Whisper from the GitHub repo.  This will take a couple of minutes.\n",
    "\n",
    "In Colab use the line that starts with !.  The !command is a notebook feature for running shell commands.  It tells Python to pass the command, pip in this case, to the operating system's shell. The equivaluent to ! in VSCode is %, or better still to run the shell command from teh terminal.  (The terminal is now available in Google Colab.)\n",
    "\n",
    "In VSCode use the line that starts with %. Or run the command from the terminal window.\n",
    "\n",
    "The git+ prefix tells pip that the package should be cloned directly from a Git repository instead of being downloaded from PyPI (Python Package Index).\n",
    "\n",
    "Alternative we could have used pip install openai-whisper.  \n",
    "\n",
    "The [PyPi documentation page for Whisper](https://pypi.org/project/openai-whisper/) has good information."
   ]
  },
  {
   "cell_type": "code",
   "execution_count": null,
   "metadata": {
    "colab": {
     "base_uri": "https://localhost:8080/"
    },
    "collapsed": true,
    "executionInfo": {
     "elapsed": 108478,
     "status": "ok",
     "timestamp": 1739113162570,
     "user": {
      "displayName": "Mark Wilcock",
      "userId": "01289097066483342066"
     },
     "user_tz": 0
    },
    "id": "ZmNryPLrMlWo",
    "outputId": "9bf6d2af-1a11-4aa5-8b36-7eb871ee9787"
   },
   "outputs": [],
   "source": [
    "#  !pip install git+https://github.com/openai/whisper.git # use for Colab\n",
    "%pip install git+https://github.com/openai/whisper.git"
   ]
  },
  {
   "cell_type": "markdown",
   "metadata": {
    "id": "LbGkeCf-OUNh"
   },
   "source": [
    "Install FFmpeg.  This is a powerful, open-source command-line tool used for processing audio, video, and multimedia files. It can record, convert, edit, compress, and stream multimedia content across different formats.\n",
    "\n",
    "In VSCode in Windows, you need to install FFmpeg independently >  here are some instructions to do that.\n",
    "\n",
    "Installing FFmpeg on Windows Using Chocolatey\n",
    "Chocolatey (choco) is a Windows package manager that makes installing software easier via the command line.\n",
    "\n",
    "#### Step 1: Open PowerShell as Administrator\n",
    "\n",
    "Click Start, type PowerShell, right-click it, and select \"Run as administrator\".\n",
    "\n",
    "#### Step 2: Install Chocolatey (if not installed)\n",
    "\n",
    "If you haven't installed Chocolatey yet, run this command in PowerShell:\n",
    "\n",
    "> Set-ExecutionPolicy Bypass -Scope Process -Force; [System.Net.ServicePointManager]::SecurityProtocol = [System.Net.ServicePointManager]::SecurityProtocol -bor 3072; iex ((New-Object System.Net.WebClient).DownloadString('https://community.chocolatey.org/install.ps1'))\n",
    "\n",
    "After installation, restart PowerShell.\n",
    "\n",
    "#### Step 3: Install FFmpeg Using Chocolatey\n",
    "Run the following command:\n",
    "\n",
    "> choco install ffmpeg -y\n",
    "\n",
    "-y automatically confirms the installation.  \n",
    "Chocolatey will download and install FFmpeg for you.\n",
    "\n",
    "#### Step 4: Verify the Installation\n",
    "\n",
    "Once installed, check if FFmpeg is working by running:\n",
    "\n",
    "> ffmpeg -version\n",
    "\n",
    "If installed correctly, you will see FFmpeg version details.\n",
    "\n",
    "#### Alternative: Install the Full Version\n",
    "\n",
    "By default, Chocolatey installs the FFmpeg essentials package (lighter version). To install the full version:\n",
    "\n",
    "> choco install ffmpeg-full -y\n"
   ]
  },
  {
   "cell_type": "code",
   "execution_count": null,
   "metadata": {
    "colab": {
     "base_uri": "https://localhost:8080/"
    },
    "collapsed": true,
    "executionInfo": {
     "elapsed": 7263,
     "status": "ok",
     "timestamp": 1739113242677,
     "user": {
      "displayName": "Mark Wilcock",
      "userId": "01289097066483342066"
     },
     "user_tz": 0
    },
    "id": "hx34wdTwObwy",
    "outputId": "df3ba1b0-f301-4ab9-943f-cb07a4574e0d"
   },
   "outputs": [],
   "source": [
    "# !sudo apt update && sudo apt install ffmpeg"
   ]
  },
  {
   "cell_type": "markdown",
   "metadata": {
    "id": "KGb-b-z_RlMq"
   },
   "source": [
    "Run the whisper model.\n",
    "\n",
    "The model comes in several sizes: tiny, small, medium and large.   Start with a tiny model.  As size increases, models take longer to run (and may not run on consumer PC hardware) and the transcription becomes more accurate.  If you are using Colab on more challenging audio file, increase the model size up to medium\n",
    "\n",
    "Later, if you are using Colab, you may want to change from the GPU to the CPU and see if it takes longer to transcribe the file.\n",
    "\n",
    "The file referred to in the code cell is a public file of a reading of the Gettysburg address.  Feel free to replace it with a file of your choosing."
   ]
  },
  {
   "cell_type": "code",
   "execution_count": null,
   "metadata": {
    "colab": {
     "base_uri": "https://localhost:8080/"
    },
    "executionInfo": {
     "elapsed": 42348,
     "status": "ok",
     "timestamp": 1739114339940,
     "user": {
      "displayName": "Mark Wilcock",
      "userId": "01289097066483342066"
     },
     "user_tz": 0
    },
    "id": "zfh_1SOeQD7s",
    "outputId": "da5099c5-3d11-4264-9bf8-d1a7be94b0f2"
   },
   "outputs": [],
   "source": [
    "!whisper https://zomalextrainingstorage.blob.core.windows.net/datasets/misc/gettysburg_address.mp3 --model tiny"
   ]
  },
  {
   "cell_type": "markdown",
   "metadata": {
    "id": "oG4uYrOLTIXG"
   },
   "source": [
    "Open the Files icon to view the files on this hosted runtime.  You should see several files with the file name \"gettysburg_address\" and with different file types: .txt contains the text, .srt and .vtt are captioning files that also include timestamps.\n",
    "\n",
    "You can download or delete these if you wish."
   ]
  }
 ],
 "metadata": {
  "accelerator": "GPU",
  "colab": {
   "authorship_tag": "ABX9TyMYNi4Wd51qqPMzsfG54X4c",
   "gpuType": "T4",
   "provenance": []
  },
  "kernelspec": {
   "display_name": ".venv",
   "language": "python",
   "name": "python3"
  },
  "language_info": {
   "codemirror_mode": {
    "name": "ipython",
    "version": 3
   },
   "file_extension": ".py",
   "mimetype": "text/x-python",
   "name": "python",
   "nbconvert_exporter": "python",
   "pygments_lexer": "ipython3",
   "version": "3.12.3"
  }
 },
 "nbformat": 4,
 "nbformat_minor": 0
}
