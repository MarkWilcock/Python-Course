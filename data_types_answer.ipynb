{
 "cells": [
  {
   "attachments": {},
   "cell_type": "markdown",
   "metadata": {},
   "source": [
    "# Exercise: DataTypes"
   ]
  },
  {
   "attachments": {},
   "cell_type": "markdown",
   "metadata": {},
   "source": [
    "Create variables for a person with \n",
    "* _name_ \"Agatha\" \n",
    "* _weight_ 75 (kg)\n",
    "* _height_ 1.75 (metres) \n",
    "* _is\\_student_, a flag to define whether she is a student or not.  \n",
    "\n",
    "Use type()  to determine the data types of these variables."
   ]
  },
  {
   "cell_type": "code",
   "execution_count": null,
   "metadata": {},
   "outputs": [],
   "source": [
    "#  The first variable is done for you.\n",
    "name = 'Agatha'\n",
    "type(name)"
   ]
  },
  {
   "cell_type": "code",
   "execution_count": null,
   "metadata": {},
   "outputs": [],
   "source": [
    "# Create the weight variable here, and then determine its type.\n",
    "weight = 75\n",
    "type(weight)"
   ]
  },
  {
   "cell_type": "code",
   "execution_count": null,
   "metadata": {},
   "outputs": [],
   "source": [
    "# Create the height variable here, and then determine its type.\n",
    "height = 1.75\n",
    "type(height)"
   ]
  },
  {
   "cell_type": "code",
   "execution_count": null,
   "metadata": {},
   "outputs": [],
   "source": [
    "# Create the is_student variable here, and then determine its type.\n",
    "# Assume that Agatha is not a student.\n",
    "is_student = False\n",
    "type(is_student)"
   ]
  },
  {
   "attachments": {},
   "cell_type": "markdown",
   "metadata": {},
   "source": [
    "Using the variables above, do the following\n",
    "- add \" Christie\" to the name\n",
    "- add 0.1m to the height\n",
    "- add 5 to the weight\n",
    "- enrol as a student\n",
    "\n",
    "Print the variables combined onto a f string."
   ]
  },
  {
   "cell_type": "code",
   "execution_count": null,
   "metadata": {},
   "outputs": [],
   "source": [
    "# Add your code here\n",
    "name += \" Christie\"\n",
    "height += 0.1\n",
    "weight += 5\n",
    "is_student = True\n",
    "\n",
    "print(f'Name: {name}, height: {height}metres, weight: {weight}kg , is_student:  {is_student}.')"
   ]
  }
 ],
 "metadata": {
  "interpreter": {
   "hash": "5997c304d9048cc3333dff7a280bf64458ec3f56eb4ae73f2127a57fb16aeeea"
  },
  "kernelspec": {
   "display_name": "Python 3.9.5 64-bit",
   "name": "python3"
  },
  "language_info": {
   "codemirror_mode": {
    "name": "ipython",
    "version": 3
   },
   "file_extension": ".py",
   "mimetype": "text/x-python",
   "name": "python",
   "nbconvert_exporter": "python",
   "pygments_lexer": "ipython3",
   "version": "3.11.2"
  },
  "metadata": {
   "interpreter": {
    "hash": "5997c304d9048cc3333dff7a280bf64458ec3f56eb4ae73f2127a57fb16aeeea"
   }
  },
  "orig_nbformat": 2
 },
 "nbformat": 4,
 "nbformat_minor": 2
}
