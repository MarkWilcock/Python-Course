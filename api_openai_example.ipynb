{
 "cells": [
  {
   "cell_type": "markdown",
   "metadata": {},
   "source": [
    "## Example of using the OpenAI API\n",
    "We ask the OpenAI API to generate a response based on a given role and instructions. "
   ]
  },
  {
   "cell_type": "markdown",
   "metadata": {},
   "source": [
    "The OpenAI API is not installed into the Google Colab environment by default, so we need to install it before we can import functionality into our script."
   ]
  },
  {
   "cell_type": "code",
   "execution_count": null,
   "metadata": {},
   "outputs": [],
   "source": [
    "#  The ! is a special command to run shell commands from within the notebook.\n",
    "# pip is a package manager for Python. It allows you to install and manage additional packages that are not part of the Python standard library.\n",
    "# Here we are using pip to install the OpenAI package.\n",
    "# The OpenAI package is a Python library that provides a simple interface to the OpenAI GPT-3 language model.\n",
    "\n",
    "! pip install openai"
   ]
  },
  {
   "cell_type": "code",
   "execution_count": null,
   "metadata": {},
   "outputs": [],
   "source": [
    "# Once we have installed the OpenAI package, we can import the OpenAI class from the openai module.\n",
    "# The OpenAI class provides a simple interface to the OpenAI GPT-3 language model.\n",
    "# We can use this class to generate text using the GPT-3 language model.\n",
    "\n",
    "from openai import OpenAI"
   ]
  },
  {
   "cell_type": "markdown",
   "metadata": {},
   "source": [
    "The OpenAI class requires an API key to access the GPT-3 language model.  You can obtain an API key by signing up for an account on the OpenAI website.  Once you have an API key, you can use it to create an instance of the OpenAI class. During the course, the trainer will supply a temporary key."
   ]
  },
  {
   "cell_type": "code",
   "execution_count": null,
   "metadata": {},
   "outputs": [],
   "source": [
    "OPEN_AI_SECRET_KEY = \"*****\" # change this to the real secret key!"
   ]
  },
  {
   "cell_type": "code",
   "execution_count": null,
   "metadata": {},
   "outputs": [],
   "source": [
    "client = OpenAI(api_key=OPEN_AI_SECRET_KEY)"
   ]
  },
  {
   "cell_type": "code",
   "execution_count": null,
   "metadata": {},
   "outputs": [],
   "source": [
    "# Provide the model name and the messages to the completions.create method.\n",
    "# The model name is the name of the GPT-3 language model that we want to use.\n",
    "# The messages tell the model what the role and specific instructions are.\n",
    "# The completions.create method returns a completion object that contains the generated completion.\n",
    "\n",
    "completion = client.chat.completions.create(\n",
    "  model=\"gpt-3.5-turbo\",\n",
    "  messages=[\n",
    "    {\"role\": \"system\", \"content\": \"You are a poetic assistant, skilled in explaining Python concepts.\"},\n",
    "    {\"role\": \"user\", \"content\": \"Compose a poem that explains the list, dics and tuples.\"}\n",
    "  ]\n",
    ")\n",
    "\n",
    "print(completion.choices[0].message.content)"
   ]
  },
  {
   "cell_type": "markdown",
   "metadata": {},
   "source": [
    "Ignore any code cell below this."
   ]
  },
  {
   "cell_type": "code",
   "execution_count": null,
   "metadata": {},
   "outputs": [],
   "source": [
    "#client = OpenAI(api_key=os.environ[\"OPENAI_API_KEY\"])\n",
    "\n",
    "#Using Google Colab\n",
    "#!pip install google-colab\n",
    "#from google.colab import userdata \n",
    "#colab_open_ai_key = userdata.get('OPENAI_API_KEY')"
   ]
  }
 ],
 "metadata": {
  "kernelspec": {
   "display_name": ".venv",
   "language": "python",
   "name": "python3"
  },
  "language_info": {
   "codemirror_mode": {
    "name": "ipython",
    "version": 3
   },
   "file_extension": ".py",
   "mimetype": "text/x-python",
   "name": "python",
   "nbconvert_exporter": "python",
   "pygments_lexer": "ipython3",
   "version": "3.11.2"
  }
 },
 "nbformat": 4,
 "nbformat_minor": 2
}
