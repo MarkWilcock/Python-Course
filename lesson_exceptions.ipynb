{
 "cells": [
  {
   "cell_type": "markdown",
   "metadata": {},
   "source": [
    "# Exceptions Lesson"
   ]
  },
  {
   "cell_type": "markdown",
   "metadata": {},
   "source": [
    "An exception is an error that occurs during the execution of a program. When an exception occurs, the normal flow of the program is disrupted, and Python raises an exception object. You can catch and handle exceptions to gracefully deal with errors in your code.\n",
    "\n",
    "Python provides a way to handle exceptions using try, except, and optionally, finally blocks. The code cell below shows the basic structure."
   ]
  },
  {
   "cell_type": "code",
   "execution_count": null,
   "metadata": {},
   "outputs": [],
   "source": [
    "try:\n",
    "    # Code that might raise an exception\n",
    "    pass\n",
    "except  ValueError: # in geneneral SomeExceptionType:\n",
    "    # Handle the exception (optional)\n",
    "    pass\n",
    "else:\n",
    "    # Code to run if no exception is raised (optional)\n",
    "    pass\n",
    "finally:\n",
    "    # Code to run whether there's an exception or not (optional)\n",
    "    pass\n"
   ]
  },
  {
   "cell_type": "markdown",
   "metadata": {},
   "source": [
    "The next code cell will create an error.  It is of a type (class) ValueError"
   ]
  },
  {
   "cell_type": "code",
   "execution_count": null,
   "metadata": {},
   "outputs": [],
   "source": [
    "num = int('abc')"
   ]
  },
  {
   "cell_type": "markdown",
   "metadata": {},
   "source": [
    "We can handle errors withn a try / except block.  When the error is raised control goes to the except: block"
   ]
  },
  {
   "cell_type": "code",
   "execution_count": null,
   "metadata": {},
   "outputs": [],
   "source": [
    "try:\n",
    "    num1 = int('abc')\n",
    "\n",
    "except ValueError as e:\n",
    "    print(f'There was a ValueError: {e}')"
   ]
  },
  {
   "cell_type": "markdown",
   "metadata": {},
   "source": [
    "There are many other types of errors that can occur in Python. You can find a list of them here.\n",
    "https://docs.python.org/3/library/exceptions.html#bltin-exceptions"
   ]
  },
  {
   "cell_type": "markdown",
   "metadata": {},
   "source": [
    "The next code cell will create an error of class ZeroDivisionError"
   ]
  },
  {
   "cell_type": "code",
   "execution_count": null,
   "metadata": {},
   "outputs": [],
   "source": [
    "num2 = 4/0"
   ]
  },
  {
   "cell_type": "code",
   "execution_count": null,
   "metadata": {},
   "outputs": [],
   "source": [
    "try:\n",
    "    num2 = 4/0\n",
    "except ZeroDivisionError as e:\n",
    "    print(f'There was a ZeroDivison: {e}')\n"
   ]
  },
  {
   "cell_type": "markdown",
   "metadata": {},
   "source": [
    "The ZeroDivision will not catch the ValueError since the ValueError is a broader class of error.  However we can handle several exceptions."
   ]
  },
  {
   "cell_type": "code",
   "execution_count": null,
   "metadata": {},
   "outputs": [],
   "source": [
    "try:\n",
    "    num1 = int('abc') # causes a ValueError\n",
    "    num2 = 4/0 # causes a ZeroDivisionError\n",
    "    \n",
    "except ZeroDivisionError:\n",
    "    print('There was a ZeroDivison Error')\n",
    "except ValueError:\n",
    "    print('There was a ValueError')"
   ]
  },
  {
   "cell_type": "markdown",
   "metadata": {},
   "source": [
    "A common technique is to check those inputs which may cause errors within a try /catch block then continue once all checks passed"
   ]
  },
  {
   "cell_type": "markdown",
   "metadata": {},
   "source": [
    "to do: next code cell not yet correct"
   ]
  },
  {
   "cell_type": "code",
   "execution_count": null,
   "metadata": {},
   "outputs": [],
   "source": [
    "import sys\n",
    "try:\n",
    "    num1 = int('abc')\n",
    "    num2 = 4/0\n",
    "    \n",
    "except ZeroDivisionError:\n",
    "    print('There was a ZeroDivison Error')\n",
    "    sys.exit(0)\n",
    "except ValueError:\n",
    "    print('There was a ValueError')\n",
    "    sys.exit(0)\n",
    "\n",
    "# continue with the program if there is no error in the try block\n",
    "num1 + num2"
   ]
  }
 ],
 "metadata": {
  "kernelspec": {
   "display_name": ".venv",
   "language": "python",
   "name": "python3"
  },
  "language_info": {
   "codemirror_mode": {
    "name": "ipython",
    "version": 3
   },
   "file_extension": ".py",
   "mimetype": "text/x-python",
   "name": "python",
   "nbconvert_exporter": "python",
   "pygments_lexer": "ipython3",
   "version": "3.11.2"
  }
 },
 "nbformat": 4,
 "nbformat_minor": 2
}
