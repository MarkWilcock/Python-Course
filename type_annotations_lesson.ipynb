{
 "cells": [
  {
   "cell_type": "markdown",
   "metadata": {},
   "source": [
    "# Type annotations\n",
    "\n",
    "Python has dynamic typing (sometimes called duck typing).  Ee don't need to state when declaring a variable what type it is (as we do in some other languages that have static typing).\n",
    "\n",
    "However we can add type annotations which are hints about the types we expect.  These have a few benefits: improved reaability, catching errors early and tooling support.\n",
    "* They help us document our code better to make our intent clearer.\n",
    "* The editor can use these to give us a better experience e.g. autocomlete, warn of some possible errors before runtime.  \n",
    "\n",
    "We may need to switch on certain settings on e.g., in VSCode,  we set the python.analysis.typeCheckingMode to strict or install a static type checker package such as mypy.\n",
    "\n",
    "Note that Python execution ignores these type annotations when running the code!"
   ]
  },
  {
   "cell_type": "code",
   "execution_count": null,
   "metadata": {},
   "outputs": [],
   "source": [
    "n1 = 5\n",
    "n2: int = 6\n",
    "n3: int = 7.0 # if typpe annotation is used, there should be a red squiggle here"
   ]
  },
  {
   "cell_type": "markdown",
   "metadata": {},
   "source": [
    "Type annotations become more useful with compex data structures"
   ]
  },
  {
   "cell_type": "code",
   "execution_count": null,
   "metadata": {},
   "outputs": [],
   "source": [
    "names1 = ['Alex', 'Bob', 'Charlie', 'David']\n",
    "[name1.title() for name1 in names1 if len(name1) <= 4]"
   ]
  },
  {
   "cell_type": "code",
   "execution_count": null,
   "metadata": {},
   "outputs": [],
   "source": [
    "names2: list[str] = ['Alex', 'Bob', 'Charlie', 'David']\n",
    "[name2.title() for name2 in names2 if len(name2) <= 4]"
   ]
  },
  {
   "cell_type": "markdown",
   "metadata": {},
   "source": [
    "Type annotations make clear the types of arguments that a fucntion expects and the type it returns."
   ]
  },
  {
   "cell_type": "code",
   "execution_count": null,
   "metadata": {},
   "outputs": [],
   "source": [
    "# Example without type annotations\n",
    "def calculate_vat1(amount, vat_rate=0.2):\n",
    "    \"\"\"Calculate the VATable amount given a price and a VAT rate (default is 20%)\"\"\"\n",
    "    return amount * vat_rate\n",
    "\n",
    "calculate_vat1(100)"
   ]
  },
  {
   "cell_type": "code",
   "execution_count": null,
   "metadata": {},
   "outputs": [],
   "source": [
    "# Example with type annotations\n",
    "def calculate_vat2(amount: int, vat_rate:float=0.2) -> float:\n",
    "    \"\"\"Calculate the VATable amount given a price and a VAT rate (default is 20%)\"\"\"\n",
    "    return amount * vat_rate\n",
    "\n",
    "calculate_vat2(100)"
   ]
  },
  {
   "cell_type": "code",
   "execution_count": null,
   "metadata": {},
   "outputs": [],
   "source": [
    "# Note that type annotations would make the intent that this is a list of strings clearer\n",
    "cars: list[str] = ['Toyota', 'Honda', 'Ford']\n",
    "cars.append(123)  # the static type checking may show that the 123 item is not a string\n",
    "cars # but the runtime will go ahead anyway\n"
   ]
  }
 ],
 "metadata": {
  "kernelspec": {
   "display_name": ".venv",
   "language": "python",
   "name": "python3"
  },
  "language_info": {
   "codemirror_mode": {
    "name": "ipython",
    "version": 3
   },
   "file_extension": ".py",
   "mimetype": "text/x-python",
   "name": "python",
   "nbconvert_exporter": "python",
   "pygments_lexer": "ipython3",
   "version": "3.12.3"
  }
 },
 "nbformat": 4,
 "nbformat_minor": 2
}
