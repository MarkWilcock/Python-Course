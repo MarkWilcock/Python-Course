{
 "cells": [
  {
   "attachments": {},
   "cell_type": "markdown",
   "metadata": {},
   "source": [
    "# Answer: Tuples\n",
    "In this exercise we create a tuple and perform various operations on it."
   ]
  },
  {
   "cell_type": "code",
   "execution_count": null,
   "metadata": {},
   "outputs": [],
   "source": [
    "# Create a tuple named london with three items 'Chelsea', 'Arsenal', 'Tottenham'.\n",
    "# Write your code below.\n",
    "london = ('Chelsea', 'Arsenal', 'Tottenham')\n",
    "london"
   ]
  },
  {
   "cell_type": "code",
   "execution_count": null,
   "metadata": {},
   "outputs": [],
   "source": [
    "# Unpack the tuple into three varaibles: che, ars, tot.\n",
    "# Write your code below.\n",
    "che, ars, tot = london\n",
    "ars, che, tot # will return Arsenal, Chelsea, Tottenham in that order"
   ]
  },
  {
   "cell_type": "code",
   "execution_count": null,
   "metadata": {},
   "outputs": [],
   "source": [
    "#  This tuple has two elements. \n",
    "rectangle = (10, 20)\n",
    "\n",
    "# Uppack the tuple into two variables: length and width.\n",
    "# Write your code below\n",
    "length, width = rectangle\n",
    "\n",
    "# Calculate the area of the rectangle.\n",
    "# Write your code below\n",
    "area = length * width\n",
    "print('Area:', area)\n",
    "\n",
    "# Calculate the perimeter of the rectangle.\n",
    "# Write your code below.\n",
    "perimeter = 2 * (length + width)\n",
    "print('Perimeter:', perimeter)"
   ]
  }
 ],
 "metadata": {
  "interpreter": {
   "hash": "5997c304d9048cc3333dff7a280bf64458ec3f56eb4ae73f2127a57fb16aeeea"
  },
  "kernelspec": {
   "display_name": "Python 3.9.5 64-bit",
   "name": "python3"
  },
  "language_info": {
   "codemirror_mode": {
    "name": "ipython",
    "version": 3
   },
   "file_extension": ".py",
   "mimetype": "text/x-python",
   "name": "python",
   "nbconvert_exporter": "python",
   "pygments_lexer": "ipython3",
   "version": "3.12.3"
  },
  "metadata": {
   "interpreter": {
    "hash": "5997c304d9048cc3333dff7a280bf64458ec3f56eb4ae73f2127a57fb16aeeea"
   }
  },
  "orig_nbformat": 2
 },
 "nbformat": 4,
 "nbformat_minor": 2
}
