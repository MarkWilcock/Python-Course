{
 "cells": [
  {
   "attachments": {},
   "cell_type": "markdown",
   "metadata": {},
   "source": [
    "# Functional Programming with Python\n",
    "\n",
    "Demonstrates filtering of lists using a list comprehension.\n",
    "Introduces lambda functions and the map() and filter() functions"
   ]
  },
  {
   "cell_type": "markdown",
   "metadata": {},
   "source": [
    "Define an airport as a dict with two keys, code and city."
   ]
  },
  {
   "cell_type": "code",
   "execution_count": null,
   "metadata": {},
   "outputs": [],
   "source": [
    "london_city = {\"code\": \"LCY\", \"city\": \"London\"}"
   ]
  },
  {
   "cell_type": "code",
   "execution_count": null,
   "metadata": {},
   "outputs": [],
   "source": [
    "def print_airport (airport):\n",
    "    \"\"\" Print the airport code and city for an airport. This is a convenience function \"\"\"\n",
    "    print(f\"Airport code {airport['code']} serves city {airport['city']}\")"
   ]
  },
  {
   "cell_type": "code",
   "execution_count": null,
   "metadata": {},
   "outputs": [],
   "source": [
    "print(\"Print London City Airport with the function above\")\n",
    "print_airport(london_city)"
   ]
  },
  {
   "cell_type": "markdown",
   "metadata": {},
   "source": [
    "Start with a list of dicts representing UK airports.  Note that all values are deliberately lowercase for the purposes of this exercise."
   ]
  },
  {
   "cell_type": "code",
   "execution_count": null,
   "metadata": {},
   "outputs": [],
   "source": [
    "airports = [\n",
    "    {\"code\": \"lgw\", \"city\": \"london\"},\n",
    "    {\"code\": \"stn\", \"city\": \"london\"},\n",
    "    {\"code\": \"lhr\", \"city\": \"london\"},\n",
    "    {\"code\": \"bhx\", \"city\": \"birmingham\"},\n",
    "    {\"code\": \"man\", \"city\": \"manchester\"}\n",
    "]"
   ]
  },
  {
   "cell_type": "markdown",
   "metadata": {},
   "source": [
    "Show all airports"
   ]
  },
  {
   "cell_type": "code",
   "execution_count": null,
   "metadata": {},
   "outputs": [],
   "source": [
    "print(\"All airports\")\n",
    "for airport in airports:\n",
    "    print_airport(airport)"
   ]
  },
  {
   "cell_type": "markdown",
   "metadata": {},
   "source": [
    "Filter airports using a list comprehension."
   ]
  },
  {
   "cell_type": "code",
   "execution_count": null,
   "metadata": {},
   "outputs": [],
   "source": [
    "london_airports = [airport for airport in airports if airport[\"city\"] == \"london\"]\n",
    "\n",
    "for airport in london_airports:\n",
    "    print_airport(airport)\n"
   ]
  },
  {
   "cell_type": "markdown",
   "metadata": {},
   "source": [
    "Filter airports using filter and a lambda."
   ]
  },
  {
   "cell_type": "code",
   "execution_count": null,
   "metadata": {},
   "outputs": [],
   "source": [
    "london_airports = filter(lambda airport: airport[\"city\"] == \"london\", airports) \n",
    "for airport in london_airports:\n",
    "    print_airport(airport)"
   ]
  },
  {
   "cell_type": "markdown",
   "metadata": {},
   "source": [
    "Filter airports to those in London using filter and function\""
   ]
  },
  {
   "cell_type": "code",
   "execution_count": null,
   "metadata": {},
   "outputs": [],
   "source": [
    "def is_london(airport): \n",
    "    \"\"\" returns True if the airport is in London, False otherwise \"\"\"\n",
    "    return airport[\"city\"] == \"london\" \n",
    "\n",
    "london_airports = filter(is_london, airports)\n",
    "for airport in london_airports:\n",
    "    print_airport(airport)"
   ]
  },
  {
   "cell_type": "markdown",
   "metadata": {},
   "source": [
    "Sort airports by code using a lambda.\n",
    "\n",
    "sorted() takes a key function to determine the sort order and returns a new list.  The key function is called for each item in the list and  returns the value to sort on."
   ]
  },
  {
   "cell_type": "code",
   "execution_count": null,
   "metadata": {},
   "outputs": [],
   "source": [
    "\n",
    "sorted_airports = sorted(airports, key=lambda airport: airport[\"code\"])\n",
    "\n",
    "for airport in sorted_airports:\n",
    "    print_airport(airport)"
   ]
  },
  {
   "cell_type": "markdown",
   "metadata": {},
   "source": [
    "Sort airports by code using sorted() and a function\n"
   ]
  },
  {
   "cell_type": "code",
   "execution_count": null,
   "metadata": {},
   "outputs": [],
   "source": [
    "def get_code(airport):\n",
    "    \"\"\" returns the code for an airport \"\"\"\n",
    "    return airport[\"code\"]"
   ]
  },
  {
   "cell_type": "code",
   "execution_count": null,
   "metadata": {},
   "outputs": [],
   "source": [
    "sorted_airports = sorted(airports, key=get_code)\n",
    "for airport in sorted_airports:\n",
    "    print_airport(airport)"
   ]
  },
  {
   "cell_type": "markdown",
   "metadata": {},
   "source": [
    "Convert airport codes to uppercase and cities to title case using map() and a lambda function.\n",
    "\n",
    "map() takes a function to apply to each item in the list.  The function is a lambda that is called for each item in the list.  The lambda returns a new dict with the code converted to uppercase and the city converted to title case. "
   ]
  },
  {
   "cell_type": "code",
   "execution_count": null,
   "metadata": {},
   "outputs": [],
   "source": [
    "print(\"Using map and lambda to convert codes to uppercase and cities to title case\")\n",
    "cased_airports = map(lambda a: {\"code\": a[\"code\"].upper(), \"city\" : a[\"city\"].capitalize()}, airports)\n",
    "\n",
    "for airport in cased_airports:\n",
    "    print_airport(airport)"
   ]
  }
 ],
 "metadata": {
  "kernelspec": {
   "display_name": ".venv",
   "language": "python",
   "name": "python3"
  },
  "language_info": {
   "codemirror_mode": {
    "name": "ipython",
    "version": 3
   },
   "file_extension": ".py",
   "mimetype": "text/x-python",
   "name": "python",
   "nbconvert_exporter": "python",
   "pygments_lexer": "ipython3",
   "version": "3.11.2"
  },
  "orig_nbformat": 4
 },
 "nbformat": 4,
 "nbformat_minor": 2
}
