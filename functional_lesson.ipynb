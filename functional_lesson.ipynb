{
 "cells": [
  {
   "attachments": {},
   "cell_type": "markdown",
   "metadata": {},
   "source": [
    "# Functional Programming with Python\n",
    "\n",
    "Functional programming is a programming style that provides functions to other functions.  It encourages immutability, avoiding side effects, and the use of pure functions, which can make code more predictable\n",
    "\n",
    "This topic covers\n",
    "* lambda functions\n",
    "* the map, filter, sorted and reduce functions that apply a lambda or other function to items in a list.\n",
    "* list comprehensions"
   ]
  },
  {
   "cell_type": "markdown",
   "metadata": {},
   "source": [
    "### Lambda Functions\n",
    "\n",
    "Functional programming styles often use lambda functions - often short anonymous functions defined by the lambda keyword"
   ]
  },
  {
   "cell_type": "code",
   "execution_count": 2,
   "metadata": {},
   "outputs": [
    {
     "data": {
      "text/plain": [
       "125"
      ]
     },
     "execution_count": 2,
     "metadata": {},
     "output_type": "execute_result"
    }
   ],
   "source": [
    "square = lambda x: x**3\n",
    "square(5) "
   ]
  },
  {
   "cell_type": "code",
   "execution_count": 3,
   "metadata": {},
   "outputs": [
    {
     "name": "stdout",
     "output_type": "stream",
     "text": [
      "10\n"
     ]
    }
   ],
   "source": [
    "add = lambda x, y: x + y\n",
    "add(3, 7)"
   ]
  },
  {
   "cell_type": "markdown",
   "metadata": {},
   "source": [
    "map(), filter(), sorted() and reduce() are a set of special functions that take as arguments:\n",
    "* a short function such as a lambda function\n",
    "* a list (or similar iterable)\n",
    "We will look at each of these in turn."
   ]
  },
  {
   "cell_type": "markdown",
   "metadata": {},
   "source": [
    "The map function applies a function to each item in an iterable (e.g., a list) and returns an iterator with the results."
   ]
  },
  {
   "cell_type": "code",
   "execution_count": 4,
   "metadata": {},
   "outputs": [
    {
     "data": {
      "text/plain": [
       "[2, 4, 6, 8, 10]"
      ]
     },
     "execution_count": 4,
     "metadata": {},
     "output_type": "execute_result"
    }
   ],
   "source": [
    "numbers = [1, 2, 3, 4, 5]\n",
    "list(map(lambda x: x * 2, numbers))\n"
   ]
  },
  {
   "cell_type": "markdown",
   "metadata": {},
   "source": [
    "The filter function filters elements from an iterable based on a given function.  This function must return True or False."
   ]
  },
  {
   "cell_type": "code",
   "execution_count": 1,
   "metadata": {},
   "outputs": [
    {
     "data": {
      "text/plain": [
       "[2, 4, 6]"
      ]
     },
     "execution_count": 1,
     "metadata": {},
     "output_type": "execute_result"
    }
   ],
   "source": [
    "numbers = [1, 2, 3, 4, 5, 6]\n",
    "list(filter(lambda x: x % 2 == 0, numbers))"
   ]
  },
  {
   "cell_type": "markdown",
   "metadata": {},
   "source": [
    "The sorted function takes a custom lambda function to act as a key to sort items in a list."
   ]
  },
  {
   "cell_type": "code",
   "execution_count": 2,
   "metadata": {},
   "outputs": [
    {
     "data": {
      "text/plain": [
       "[(3, 2), (1, 5), (2, 8)]"
      ]
     },
     "execution_count": 2,
     "metadata": {},
     "output_type": "execute_result"
    }
   ],
   "source": [
    "pairs = [(1, 5), (3, 2), (2, 8)]\n",
    "sorted(pairs, key=lambda x: x[1])"
   ]
  },
  {
   "cell_type": "markdown",
   "metadata": {},
   "source": [
    "The reduce function applies a binary function (one that has two arguments)  to the elements of an iterable cumulatively to reduce the iterable to a single value.  The reduce function is in the functools module."
   ]
  },
  {
   "cell_type": "code",
   "execution_count": 12,
   "metadata": {},
   "outputs": [
    {
     "data": {
      "text/plain": [
       "120"
      ]
     },
     "execution_count": 12,
     "metadata": {},
     "output_type": "execute_result"
    }
   ],
   "source": [
    "from functools import reduce\n",
    "numbers = [1, 2, 3, 4, 5]\n",
    "reduce(lambda x, y: x * y, numbers)"
   ]
  },
  {
   "cell_type": "markdown",
   "metadata": {},
   "source": [
    "List comprehensions provide a concise way to create lists based on existing lists."
   ]
  },
  {
   "cell_type": "code",
   "execution_count": 8,
   "metadata": {},
   "outputs": [
    {
     "data": {
      "text/plain": [
       "[2, 4, 6, 8, 10]"
      ]
     },
     "execution_count": 8,
     "metadata": {},
     "output_type": "execute_result"
    }
   ],
   "source": [
    "# Filter elements with a list comprehension\n",
    "numbers = [1, 2, 3, 4, 5]\n",
    "[x * 2 for x in numbers]\n"
   ]
  },
  {
   "cell_type": "code",
   "execution_count": 10,
   "metadata": {},
   "outputs": [
    {
     "data": {
      "text/plain": [
       "[2, 4]"
      ]
     },
     "execution_count": 10,
     "metadata": {},
     "output_type": "execute_result"
    }
   ],
   "source": [
    "# Filter elements with a list comprehension\n",
    "numbers = [1, 2, 3, 4, 5]\n",
    "[x for x in numbers if x % 2 == 0]"
   ]
  },
  {
   "cell_type": "markdown",
   "metadata": {},
   "source": [
    "## Airport Example"
   ]
  },
  {
   "cell_type": "markdown",
   "metadata": {},
   "source": [
    "Define an airport as a dict with two keys, code and city."
   ]
  },
  {
   "cell_type": "code",
   "execution_count": 14,
   "metadata": {},
   "outputs": [],
   "source": [
    "london_city = {\"code\": \"LCY\", \"city\": \"London\"}"
   ]
  },
  {
   "cell_type": "code",
   "execution_count": 15,
   "metadata": {},
   "outputs": [],
   "source": [
    "def print_airport (airport):\n",
    "    \"\"\" Print the airport code and city for an airport. This is a convenience function \"\"\"\n",
    "    print(f\"Airport code {airport['code']} serves city {airport['city']}\")"
   ]
  },
  {
   "cell_type": "code",
   "execution_count": 16,
   "metadata": {},
   "outputs": [
    {
     "name": "stdout",
     "output_type": "stream",
     "text": [
      "Print London City Airport with the function above\n",
      "Airport code LCY serves city London\n"
     ]
    }
   ],
   "source": [
    "print(\"Print London City Airport with the function above\")\n",
    "print_airport(london_city)"
   ]
  },
  {
   "cell_type": "markdown",
   "metadata": {},
   "source": [
    "Start with a list of dicts representing UK airports.  Note that all values are deliberately lowercase for the purposes of this exercise."
   ]
  },
  {
   "cell_type": "code",
   "execution_count": 17,
   "metadata": {},
   "outputs": [],
   "source": [
    "airports = [\n",
    "    {\"code\": \"lgw\", \"city\": \"london\"},\n",
    "    {\"code\": \"stn\", \"city\": \"london\"},\n",
    "    {\"code\": \"lhr\", \"city\": \"london\"},\n",
    "    {\"code\": \"bhx\", \"city\": \"birmingham\"},\n",
    "    {\"code\": \"man\", \"city\": \"manchester\"}\n",
    "]"
   ]
  },
  {
   "cell_type": "markdown",
   "metadata": {},
   "source": [
    "Show all airports"
   ]
  },
  {
   "cell_type": "code",
   "execution_count": 18,
   "metadata": {},
   "outputs": [
    {
     "name": "stdout",
     "output_type": "stream",
     "text": [
      "All airports\n",
      "Airport code lgw serves city london\n",
      "Airport code stn serves city london\n",
      "Airport code lhr serves city london\n",
      "Airport code bhx serves city birmingham\n",
      "Airport code man serves city manchester\n"
     ]
    }
   ],
   "source": [
    "print(\"All airports\")\n",
    "for airport in airports:\n",
    "    print_airport(airport)"
   ]
  },
  {
   "cell_type": "markdown",
   "metadata": {},
   "source": [
    "### Filter"
   ]
  },
  {
   "cell_type": "markdown",
   "metadata": {},
   "source": [
    "Filter airports using a list comprehension."
   ]
  },
  {
   "cell_type": "code",
   "execution_count": null,
   "metadata": {},
   "outputs": [],
   "source": [
    "london_airports = [airport for airport in airports if airport[\"city\"] == \"london\"]\n",
    "\n",
    "for airport in london_airports:\n",
    "    print_airport(airport)\n"
   ]
  },
  {
   "cell_type": "markdown",
   "metadata": {},
   "source": [
    "Filter airports using filter() and a lambda."
   ]
  },
  {
   "cell_type": "code",
   "execution_count": null,
   "metadata": {},
   "outputs": [],
   "source": [
    "london_airports = filter(lambda airport: airport[\"city\"] == \"london\", airports) \n",
    "for airport in london_airports:\n",
    "    print_airport(airport)"
   ]
  },
  {
   "cell_type": "markdown",
   "metadata": {},
   "source": [
    "Filter airports filter() and a named function."
   ]
  },
  {
   "cell_type": "code",
   "execution_count": null,
   "metadata": {},
   "outputs": [],
   "source": [
    "def is_london(airport): \n",
    "    \"\"\" returns True if the airport is in London, False otherwise \"\"\"\n",
    "    return airport[\"city\"] == \"london\" \n",
    "\n",
    "london_airports = filter(is_london, airports)\n",
    "for airport in london_airports:\n",
    "    print_airport(airport)"
   ]
  },
  {
   "cell_type": "markdown",
   "metadata": {},
   "source": [
    "### Sort"
   ]
  },
  {
   "cell_type": "markdown",
   "metadata": {},
   "source": [
    "Sort airports using sorted() and a lambda.\n",
    "\n",
    "sorted() takes a key function to determine the sort order and returns a new list.  The key function is called for each item in the list and  returns the value to sort on."
   ]
  },
  {
   "cell_type": "code",
   "execution_count": null,
   "metadata": {},
   "outputs": [],
   "source": [
    "\n",
    "sorted_airports = sorted(airports, key=lambda airport: airport[\"code\"])\n",
    "\n",
    "for airport in sorted_airports:\n",
    "    print_airport(airport)"
   ]
  },
  {
   "cell_type": "markdown",
   "metadata": {},
   "source": [
    "Sort airports using sorted() and a named function.\n"
   ]
  },
  {
   "cell_type": "code",
   "execution_count": null,
   "metadata": {},
   "outputs": [],
   "source": [
    "def get_code(airport):\n",
    "    \"\"\" returns the code for an airport \"\"\"\n",
    "    return airport[\"code\"]"
   ]
  },
  {
   "cell_type": "code",
   "execution_count": null,
   "metadata": {},
   "outputs": [],
   "source": [
    "sorted_airports = sorted(airports, key=get_code)\n",
    "for airport in sorted_airports:\n",
    "    print_airport(airport)"
   ]
  },
  {
   "cell_type": "markdown",
   "metadata": {},
   "source": [
    "Change elements using map() and a lambda function.\n",
    "\n",
    "map() takes a function to apply to each item in the list.  The function is a lambda that is called for each item in the list.  The lambda returns a new dict with the code converted to uppercase and the city converted to title case. "
   ]
  },
  {
   "cell_type": "code",
   "execution_count": 19,
   "metadata": {},
   "outputs": [
    {
     "name": "stdout",
     "output_type": "stream",
     "text": [
      "Using map and lambda to convert codes to uppercase and cities to title case\n",
      "Airport code LGW serves city London\n",
      "Airport code STN serves city London\n",
      "Airport code LHR serves city London\n",
      "Airport code BHX serves city Birmingham\n",
      "Airport code MAN serves city Manchester\n"
     ]
    }
   ],
   "source": [
    "print(\"Using map and lambda to convert codes to uppercase and cities to title case\")\n",
    "cased_airports = map(lambda a: {\"code\": a[\"code\"].upper(), \"city\" : a[\"city\"].capitalize()}, airports)\n",
    "\n",
    "for cased_airport in cased_airports:\n",
    "    print_airport(cased_airport)"
   ]
  }
 ],
 "metadata": {
  "kernelspec": {
   "display_name": ".venv",
   "language": "python",
   "name": "python3"
  },
  "language_info": {
   "codemirror_mode": {
    "name": "ipython",
    "version": 3
   },
   "file_extension": ".py",
   "mimetype": "text/x-python",
   "name": "python",
   "nbconvert_exporter": "python",
   "pygments_lexer": "ipython3",
   "version": "3.11.2"
  },
  "orig_nbformat": 4
 },
 "nbformat": 4,
 "nbformat_minor": 2
}
