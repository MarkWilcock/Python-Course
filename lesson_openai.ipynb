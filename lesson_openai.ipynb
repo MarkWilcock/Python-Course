{
 "cells": [
  {
   "cell_type": "markdown",
   "metadata": {},
   "source": [
    "## Example of using the OpenAI API\n",
    "We will ask the OpenAI to generate a response based on its given role and some instructions\n",
    "\n",
    "This also show how the code gets a secret, the API key, using either a PC or Google Colab"
   ]
  },
  {
   "cell_type": "code",
   "execution_count": null,
   "metadata": {},
   "outputs": [],
   "source": [
    "! pip install openai"
   ]
  },
  {
   "cell_type": "code",
   "execution_count": null,
   "metadata": {},
   "outputs": [],
   "source": [
    "from openai import OpenAI"
   ]
  },
  {
   "cell_type": "code",
   "execution_count": null,
   "metadata": {},
   "outputs": [],
   "source": [
    "# Using a PC\n",
    "#client = OpenAI(api_key=os.environ[\"OPENAI_API_KEY\"])"
   ]
  },
  {
   "cell_type": "code",
   "execution_count": 2,
   "metadata": {},
   "outputs": [
    {
     "name": "stdout",
     "output_type": "stream",
     "text": [
      "^C\n"
     ]
    },
    {
     "ename": "ModuleNotFoundError",
     "evalue": "No module named 'google'",
     "output_type": "error",
     "traceback": [
      "\u001b[1;31m---------------------------------------------------------------------------\u001b[0m",
      "\u001b[1;31mModuleNotFoundError\u001b[0m                       Traceback (most recent call last)",
      "Cell \u001b[1;32mIn[2], line 3\u001b[0m\n\u001b[0;32m      1\u001b[0m \u001b[38;5;66;03m#Using Google Colab\u001b[39;00m\n\u001b[0;32m      2\u001b[0m get_ipython()\u001b[38;5;241m.\u001b[39msystem(\u001b[38;5;124m'\u001b[39m\u001b[38;5;124mpip install google-colab\u001b[39m\u001b[38;5;124m'\u001b[39m)\n\u001b[1;32m----> 3\u001b[0m \u001b[38;5;28;01mfrom\u001b[39;00m \u001b[38;5;21;01mgoogle\u001b[39;00m\u001b[38;5;21;01m.\u001b[39;00m\u001b[38;5;21;01mcolab\u001b[39;00m \u001b[38;5;28;01mimport\u001b[39;00m userdata \n\u001b[0;32m      4\u001b[0m userdata\u001b[38;5;241m.\u001b[39mget(\u001b[38;5;124m'\u001b[39m\u001b[38;5;124msecretName\u001b[39m\u001b[38;5;124m'\u001b[39m)\n",
      "\u001b[1;31mModuleNotFoundError\u001b[0m: No module named 'google'"
     ]
    },
    {
     "name": "stdout",
     "output_type": "stream",
     "text": [
      "Collecting google-colab\n",
      "  Downloading google-colab-1.0.0.tar.gz (72 kB)\n",
      "     ---------------------------------------- 0.0/72.9 kB ? eta -:--:--\n",
      "     ---------------------------------------- 72.9/72.9 kB 2.0 MB/s eta 0:00:00\n",
      "  Installing build dependencies: started\n",
      "  Installing build dependencies: finished with status 'done'\n",
      "  Getting requirements to build wheel: started\n",
      "  Getting requirements to build wheel: finished with status 'done'\n",
      "  Preparing metadata (pyproject.toml): started\n",
      "  Preparing metadata (pyproject.toml): finished with status 'done'\n",
      "Collecting google-auth~=1.4.0 (from google-colab)\n",
      "  Downloading google_auth-1.4.2-py2.py3-none-any.whl (64 kB)\n",
      "     ---------------------------------------- 0.0/64.2 kB ? eta -:--:--\n",
      "     ---------------------------------------- 64.2/64.2 kB 1.7 MB/s eta 0:00:00\n",
      "Collecting ipykernel~=4.6.0 (from google-colab)\n",
      "  Downloading ipykernel-4.6.1-py3-none-any.whl (104 kB)\n",
      "     ---------------------------------------- 0.0/104.5 kB ? eta -:--:--\n",
      "     -------------------------------------- 104.5/104.5 kB 6.3 MB/s eta 0:00:00\n",
      "Collecting ipython~=5.5.0 (from google-colab)\n",
      "  Downloading ipython-5.5.0-py3-none-any.whl (758 kB)\n",
      "     ---------------------------------------- 0.0/758.9 kB ? eta -:--:--\n",
      "     ------------------ ------------------- 368.6/758.9 kB 7.8 MB/s eta 0:00:01\n",
      "     ---------------------------------- --- 696.3/758.9 kB 6.3 MB/s eta 0:00:01\n",
      "     -------------------------------------- 758.9/758.9 kB 4.8 MB/s eta 0:00:00\n",
      "Collecting notebook~=5.2.0 (from google-colab)\n",
      "  Downloading notebook-5.2.2-py2.py3-none-any.whl (8.0 MB)\n",
      "     ---------------------------------------- 0.0/8.0 MB ? eta -:--:--\n",
      "     -- ------------------------------------- 0.4/8.0 MB 8.5 MB/s eta 0:00:01\n",
      "     --- ------------------------------------ 0.8/8.0 MB 8.3 MB/s eta 0:00:01\n",
      "     ----- ---------------------------------- 1.2/8.0 MB 8.3 MB/s eta 0:00:01\n",
      "     ------- -------------------------------- 1.6/8.0 MB 7.6 MB/s eta 0:00:01\n",
      "     --------- ------------------------------ 2.0/8.0 MB 7.8 MB/s eta 0:00:01\n",
      "     ----------- ---------------------------- 2.3/8.0 MB 7.8 MB/s eta 0:00:01\n",
      "     ------------- -------------------------- 2.7/8.0 MB 8.0 MB/s eta 0:00:01\n",
      "     --------------- ------------------------ 3.1/8.0 MB 7.9 MB/s eta 0:00:01\n",
      "     ----------------- ---------------------- 3.5/8.0 MB 8.0 MB/s eta 0:00:01\n",
      "     ------------------- -------------------- 3.9/8.0 MB 7.7 MB/s eta 0:00:01\n",
      "     -------------------- ------------------- 4.2/8.0 MB 7.8 MB/s eta 0:00:01\n",
      "     ---------------------- ----------------- 4.5/8.0 MB 7.8 MB/s eta 0:00:01\n",
      "     ------------------------ --------------- 4.9/8.0 MB 7.8 MB/s eta 0:00:01\n",
      "     -------------------------- ------------- 5.3/8.0 MB 7.9 MB/s eta 0:00:01\n",
      "     ---------------------------- ----------- 5.7/8.0 MB 7.9 MB/s eta 0:00:01\n",
      "     ------------------------------ --------- 6.1/8.0 MB 7.8 MB/s eta 0:00:01\n",
      "     -------------------------------- ------- 6.5/8.0 MB 7.8 MB/s eta 0:00:01\n",
      "     ---------------------------------- ----- 6.8/8.0 MB 7.8 MB/s eta 0:00:01\n",
      "     ------------------------------------ --- 7.2/8.0 MB 7.8 MB/s eta 0:00:01\n",
      "     -------------------------------------- - 7.6/8.0 MB 7.8 MB/s eta 0:00:01\n",
      "     ---------------------------------------  8.0/8.0 MB 7.8 MB/s eta 0:00:01\n",
      "     ---------------------------------------  8.0/8.0 MB 7.8 MB/s eta 0:00:01\n",
      "     ---------------------------------------  8.0/8.0 MB 7.8 MB/s eta 0:00:01\n",
      "     ---------------------------------------- 8.0/8.0 MB 7.1 MB/s eta 0:00:00\n",
      "Collecting six~=1.12.0 (from google-colab)\n",
      "  Downloading six-1.12.0-py2.py3-none-any.whl (10 kB)\n",
      "Collecting pandas~=0.24.0 (from google-colab)\n",
      "  Downloading pandas-0.24.2.tar.gz (11.8 MB)\n",
      "     ---------------------------------------- 0.0/11.8 MB ? eta -:--:--\n",
      "     - -------------------------------------- 0.5/11.8 MB 13.8 MB/s eta 0:00:01\n",
      "     -- ------------------------------------- 0.8/11.8 MB 9.7 MB/s eta 0:00:02\n",
      "     --- ------------------------------------ 1.1/11.8 MB 8.8 MB/s eta 0:00:02\n",
      "     ----- ---------------------------------- 1.5/11.8 MB 8.6 MB/s eta 0:00:02\n",
      "     ------ --------------------------------- 1.9/11.8 MB 8.6 MB/s eta 0:00:02\n",
      "     ------- -------------------------------- 2.3/11.8 MB 8.0 MB/s eta 0:00:02\n",
      "     -------- ------------------------------- 2.6/11.8 MB 8.2 MB/s eta 0:00:02\n",
      "     --------- ------------------------------ 2.9/11.8 MB 8.0 MB/s eta 0:00:02\n",
      "     ----------- ---------------------------- 3.3/11.8 MB 8.1 MB/s eta 0:00:02\n",
      "     ------------ --------------------------- 3.7/11.8 MB 8.1 MB/s eta 0:00:02\n",
      "     ------------- -------------------------- 4.1/11.8 MB 8.2 MB/s eta 0:00:01\n",
      "     --------------- ------------------------ 4.5/11.8 MB 7.9 MB/s eta 0:00:01\n",
      "     ---------------- ----------------------- 4.9/11.8 MB 8.0 MB/s eta 0:00:01\n",
      "     ----------------- ---------------------- 5.2/11.8 MB 8.0 MB/s eta 0:00:01\n",
      "     ------------------- -------------------- 5.6/11.8 MB 8.0 MB/s eta 0:00:01\n",
      "     -------------------- ------------------- 6.0/11.8 MB 8.0 MB/s eta 0:00:01\n",
      "     --------------------- ------------------ 6.4/11.8 MB 7.9 MB/s eta 0:00:01\n",
      "     ---------------------- ----------------- 6.8/11.8 MB 8.0 MB/s eta 0:00:01\n",
      "     ----------------------- ---------------- 7.1/11.8 MB 8.1 MB/s eta 0:00:01\n",
      "     ------------------------- -------------- 7.4/11.8 MB 7.9 MB/s eta 0:00:01\n",
      "     -------------------------- ------------- 7.8/11.8 MB 8.0 MB/s eta 0:00:01\n",
      "     --------------------------- ------------ 8.2/11.8 MB 7.9 MB/s eta 0:00:01\n",
      "     ----------------------------- ---------- 8.6/11.8 MB 7.9 MB/s eta 0:00:01\n",
      "     ------------------------------ --------- 9.0/11.8 MB 7.9 MB/s eta 0:00:01\n",
      "     ------------------------------- -------- 9.4/11.8 MB 7.9 MB/s eta 0:00:01\n",
      "     --------------------------------- ------ 9.8/11.8 MB 7.9 MB/s eta 0:00:01\n",
      "     ---------------------------------- ----- 10.2/11.8 MB 7.9 MB/s eta 0:00:01\n",
      "     ----------------------------------- ---- 10.5/11.8 MB 7.7 MB/s eta 0:00:01\n",
      "     ------------------------------------ --- 10.9/11.8 MB 7.8 MB/s eta 0:00:01\n",
      "     -------------------------------------- - 11.4/11.8 MB 7.8 MB/s eta 0:00:01\n",
      "     ---------------------------------------  11.7/11.8 MB 7.8 MB/s eta 0:00:01\n",
      "     ---------------------------------------  11.8/11.8 MB 7.8 MB/s eta 0:00:01\n",
      "     ---------------------------------------  11.8/11.8 MB 7.8 MB/s eta 0:00:01\n",
      "     ---------------------------------------  11.8/11.8 MB 7.8 MB/s eta 0:00:01\n",
      "     ---------------------------------------- 11.8/11.8 MB 7.0 MB/s eta 0:00:00\n",
      "  Installing build dependencies: started\n",
      "  Installing build dependencies: finished with status 'done'\n",
      "  Getting requirements to build wheel: started\n",
      "  Getting requirements to build wheel: finished with status 'done'\n",
      "  Installing backend dependencies: started\n",
      "  Installing backend dependencies: finished with status 'done'\n",
      "  Preparing metadata (pyproject.toml): started\n",
      "  Preparing metadata (pyproject.toml): finished with status 'error'\n"
     ]
    },
    {
     "name": "stderr",
     "output_type": "stream",
     "text": [
      "  error: subprocess-exited-with-error\n",
      "  \n",
      "  × Preparing metadata (pyproject.toml) did not run successfully.\n",
      "  │ exit code: 1\n",
      "  ╰─> [4 lines of output]\n",
      "      <string>:12: DeprecationWarning: pkg_resources is deprecated as an API. See https://setuptools.pypa.io/en/latest/pkg_resources.html\n",
      "      error in pandas setup command: 'install_requires' must be a string or list of strings containing valid project/version requirement specifiers; Expected end or semicolon (after version specifier)\n",
      "          pytz >= 2011k\n",
      "               ~~~~~~~^\n",
      "      [end of output]\n",
      "  \n",
      "  note: This error originates from a subprocess, and is likely not a problem with pip.\n",
      "error: metadata-generation-failed\n",
      "\n",
      "× Encountered error while generating package metadata.\n",
      "╰─> See above for output.\n",
      "\n",
      "note: This is an issue with the package mentioned above, not pip.\n",
      "hint: See above for details.\n"
     ]
    }
   ],
   "source": [
    "#Using Google Colab\n",
    "!pip install google-colab\n",
    "from google.colab import userdata \n",
    "open_ai_key = userdata.get('secretName')"
   ]
  },
  {
   "cell_type": "code",
   "execution_count": null,
   "metadata": {},
   "outputs": [],
   "source": [
    "\n",
    "completion = client.chat.completions.create(\n",
    "  model=\"gpt-3.5-turbo\",\n",
    "  messages=[\n",
    "    {\"role\": \"system\", \"content\": \"You are a poetic assistant, skilled in explaining Python concepts.\"},\n",
    "    #{\"role\": \"user\", \"content\": \"Compose a poem that explains the concept of lambda functions in programming.\"}\n",
    "    {\"role\": \"user\", \"content\": \"Compose a poem that explains the list, dics and tuples.\"}\n",
    "  ]\n",
    ")\n",
    "\n",
    "print(completion.choices[0].message.content)"
   ]
  }
 ],
 "metadata": {
  "kernelspec": {
   "display_name": ".venv",
   "language": "python",
   "name": "python3"
  },
  "language_info": {
   "codemirror_mode": {
    "name": "ipython",
    "version": 3
   },
   "file_extension": ".py",
   "mimetype": "text/x-python",
   "name": "python",
   "nbconvert_exporter": "python",
   "pygments_lexer": "ipython3",
   "version": "3.11.2"
  }
 },
 "nbformat": 4,
 "nbformat_minor": 2
}
