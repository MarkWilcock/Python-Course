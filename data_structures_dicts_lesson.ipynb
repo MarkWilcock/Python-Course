{
 "cells": [
  {
   "attachments": {},
   "cell_type": "markdown",
   "metadata": {},
   "source": [
    "## Dictionaries\n",
    "A dict is an ordered collection of key / value pairs.  \n",
    "Create a dict with this syntax {key1: value1, key2: value2}\n"
   ]
  },
  {
   "cell_type": "code",
   "execution_count": null,
   "metadata": {},
   "outputs": [],
   "source": [
    "terms = {\n",
    "    \"python\": \"a large tropical snake that kills animals for food by winding its long body tightly around them\", \n",
    "    \"pandas\": \"a large black and white animal like a bear that lives in China\", \n",
    "    \"requests\": \"the action of asking for something formally and politely\"\n",
    "}\n",
    "terms"
   ]
  },
  {
   "attachments": {},
   "cell_type": "markdown",
   "metadata": {},
   "source": [
    "We can get the value of a pair by providing the key, or using the get method"
   ]
  },
  {
   "cell_type": "code",
   "execution_count": null,
   "metadata": {},
   "outputs": [],
   "source": [
    "# With the key.  Note that this will return an error of the key is not found\n",
    "print('python: value', terms['python'])\n",
    "print('snake: value', terms['snake'])\n"
   ]
  },
  {
   "cell_type": "code",
   "execution_count": null,
   "metadata": {},
   "outputs": [],
   "source": [
    "# With the get method.  Note that this will return the second optional argument if the key is not found\n",
    "print('python: value', terms.get('python'))\n",
    "print('snake: value', terms.get('snake', 'not found'))\n"
   ]
  },
  {
   "cell_type": "markdown",
   "metadata": {},
   "source": [
    "More often, the dict is a list of attributes for a single item and several dicts are items in a list."
   ]
  },
  {
   "cell_type": "code",
   "execution_count": null,
   "metadata": {},
   "outputs": [],
   "source": [
    "patient_list = [\n",
    "    {\"nhs_id\": \"123-456-7890\", \"name\": \"Fred Bloggs\", \"age\": 42}, \n",
    "    {\"nhs_id\": \"234-567-8901\", \"name\": \"Jane Doe\", \"age\": 48}, \n",
    "    {\"nhs_id\": \"345-678-9012\", \"name\": \"John Smith\", \"age\": 31}\n",
    "]\n",
    "patient_list"
   ]
  },
  {
   "cell_type": "code",
   "execution_count": null,
   "metadata": {},
   "outputs": [],
   "source": [
    "# Iterate through the patient list and print the name of each patient\n",
    "for patient in patient_list:\n",
    "    print(patient['name'])\n"
   ]
  },
  {
   "cell_type": "code",
   "execution_count": null,
   "metadata": {},
   "outputs": [],
   "source": [
    "# We can use a list comprehension on a list of dicts to return a list of values for a specific key\n",
    "[patient['nhs_id'] for patient in patient_list]"
   ]
  },
  {
   "attachments": {},
   "cell_type": "markdown",
   "metadata": {},
   "source": [
    "Many APIs return data to Python as a combination of lists and dicts.  The example below is taken from the OpenAI quickstart - see https://platform.openai.com/docs/quickstart?context=python"
   ]
  },
  {
   "cell_type": "code",
   "execution_count": null,
   "metadata": {},
   "outputs": [],
   "source": [
    "messages=[\n",
    "    {\n",
    "        \"role\": \"system\", \n",
    "        \"content\": \"You are a poetic assistant, skilled in explaining complex programming concepts with creative flair.\"\n",
    "    },\n",
    "    {\"role\": \"user\", \n",
    "    \"content\": \"Compose a poem that explains the concept of recursion in programming.\"}\n",
    "  ]\n",
    "messages"
   ]
  }
 ],
 "metadata": {
  "interpreter": {
   "hash": "68c45707def87feca5a47d18982249224aa76d0675ca5b6bc7cad154e506106e"
  },
  "kernelspec": {
   "display_name": "Python 3.9.2  ('.venv': venv)",
   "name": "python3"
  },
  "language_info": {
   "codemirror_mode": {
    "name": "ipython",
    "version": 3
   },
   "file_extension": ".py",
   "mimetype": "text/x-python",
   "name": "python",
   "nbconvert_exporter": "python",
   "pygments_lexer": "ipython3",
   "version": "3.12.3"
  },
  "metadata": {
   "interpreter": {
    "hash": "68c45707def87feca5a47d18982249224aa76d0675ca5b6bc7cad154e506106e"
   }
  },
  "orig_nbformat": 2
 },
 "nbformat": 4,
 "nbformat_minor": 2
}
