{
 "cells": [
  {
   "attachments": {},
   "cell_type": "markdown",
   "metadata": {},
   "source": [
    "# Answer: Basics"
   ]
  },
  {
   "attachments": {},
   "cell_type": "markdown",
   "metadata": {},
   "source": [
    "1. Print \"hello\".\n",
    "2. Add another print statement to print three strings: \"hello\", \"welcome\", \"good morning\".\n",
    "3. Add another print statement to have a comma separating the three strings.\n",
    "4. Add another print statement to have 'STOP' at the end."
   ]
  },
  {
   "cell_type": "code",
   "execution_count": null,
   "metadata": {},
   "outputs": [],
   "source": [
    "print(\"hello\")\n",
    "print(\"hello\", \"good morning\", \"welcome\")\n",
    "print(\"hello\", \"good morning\", \"welcome\", sep=\",\")\n",
    "print(\"hello\", \"good morning\", \"welcome\", end = 'STOP')\n",
    "\n",
    "\n"
   ]
  },
  {
   "attachments": {},
   "cell_type": "markdown",
   "metadata": {},
   "source": [
    "Use Python as a calculator. Try addition, subttraction, multiplication, division, raising a number to a power (**)"
   ]
  },
  {
   "cell_type": "code",
   "execution_count": null,
   "metadata": {},
   "outputs": [],
   "source": [
    "6+ 7 # example"
   ]
  },
  {
   "attachments": {},
   "cell_type": "markdown",
   "metadata": {},
   "source": [
    "What is the difference between the next two code sections?\n"
   ]
  },
  {
   "cell_type": "code",
   "execution_count": null,
   "metadata": {},
   "outputs": [],
   "source": [
    "print(\"Starting first block\")\n",
    "for i in range(4):\n",
    "    print('i is:', i)\n",
    "print('double i is ', i * 2)\n",
    "\n",
    "print(\"Ending first block\")\n",
    "\n",
    "print(\"Starting second block\")\n",
    "for i in range(4):\n",
    "    print('i is:', i)\n",
    "    print('double i is ', i * 2)\n",
    "\n",
    "print(\"Ending second block\")"
   ]
  }
 ],
 "metadata": {
  "interpreter": {
   "hash": "5997c304d9048cc3333dff7a280bf64458ec3f56eb4ae73f2127a57fb16aeeea"
  },
  "kernelspec": {
   "display_name": "Python 3.9.5 64-bit",
   "name": "python3"
  },
  "language_info": {
   "codemirror_mode": {
    "name": "ipython",
    "version": 3
   },
   "file_extension": ".py",
   "mimetype": "text/x-python",
   "name": "python",
   "nbconvert_exporter": "python",
   "pygments_lexer": "ipython3",
   "version": "3.12.1"
  },
  "metadata": {
   "interpreter": {
    "hash": "5997c304d9048cc3333dff7a280bf64458ec3f56eb4ae73f2127a57fb16aeeea"
   }
  },
  "orig_nbformat": 2
 },
 "nbformat": 4,
 "nbformat_minor": 2
}
