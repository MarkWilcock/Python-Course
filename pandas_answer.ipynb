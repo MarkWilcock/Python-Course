{
 "cells": [
  {
   "cell_type": "markdown",
   "metadata": {},
   "source": [
    "# pandas exercise: answers"
   ]
  },
  {
   "cell_type": "code",
   "execution_count": 2,
   "metadata": {},
   "outputs": [],
   "source": [
    "import pandas as pd"
   ]
  },
  {
   "cell_type": "markdown",
   "metadata": {},
   "source": [
    "In this exercise, we will use severals data structures.  These are created in the cell below."
   ]
  },
  {
   "cell_type": "code",
   "execution_count": 3,
   "metadata": {},
   "outputs": [],
   "source": [
    "number_list = [1,2,3,4,5]\n",
    "\n",
    "letter_list = ['a','b','c','d','e'] \n",
    "\n",
    "alpha_list = ['alpha', 'beta', 'gamma', 'delta', 'epsilon']\n",
    "\n",
    "patient_list = [\n",
    "    {'nhs_id': '123-456-7890', 'name': 'Fred Bloggs', 'age': 42},\n",
    "    {'nhs_id': '234-567-8901', 'name': 'Jane Doe', 'age': 55},\n",
    "    {'nhs_id': '345-678-9012', 'name': 'Florence N', 'age': 32},\n",
    "    {'nhs_id': '456-789-0123', 'name': 'John Smith', 'age': 28},\n",
    "    {'nhs_id': '567-890-1234', 'name': 'Emma Brown', 'age': 45},\n",
    "    {'nhs_id': '678-901-2345', 'name': 'Charlie Black', 'age': 50},\n",
    "    {'nhs_id': '789-012-3456', 'name': 'Daisy White', 'age': 29},\n",
    "    {'nhs_id': '890-123-4567', 'name': 'George Green', 'age': 34},\n",
    "    {'nhs_id': '901-234-5678', 'name': 'Hannah Blue', 'age': 41},\n",
    "    {'nhs_id': '012-345-6789', 'name': 'Ivy Yellow', 'age': 38},\n",
    "    {'nhs_id': '123-567-8901', 'name': 'Jack Purple', 'age': 47},\n",
    "    {'nhs_id': '234-678-9012', 'name': 'Laura Orange', 'age': 53},\n",
    "    {'nhs_id': '345-789-0123', 'name': 'Mason Gray', 'age': 27}\n",
    "]\n",
    "\n",
    "patient_dict = {\n",
    "    'nhs_id': [\n",
    "        '123-456-7890', '234-567-8901', '345-678-9012', '456-789-0123', \n",
    "        '567-890-1234', '678-901-2345', '789-012-3456', '890-123-4567', \n",
    "        '901-234-5678', '012-345-6789', '123-567-8901', '234-678-9012', \n",
    "        '345-789-0123'\n",
    "    ],\n",
    "    'name': [\n",
    "        'Fred Bloggs', 'Jane Doe', 'Florence N', 'John Smith', 'Emma Brown', \n",
    "        'Charlie Black', 'Daisy White', 'George Green', 'Hannah Blue', 'Ivy Yellow', \n",
    "        'Jack Purple', 'Laura Orange', 'Mason Gray'\n",
    "    ],\n",
    "    'age': [\n",
    "        42, 55, 32, 28, 45, 50, 29, 34, 41, 38, 47, 53, 27\n",
    "    ]\n",
    "}"
   ]
  },
  {
   "cell_type": "markdown",
   "metadata": {},
   "source": [
    "## Create Series and DataFrames"
   ]
  },
  {
   "cell_type": "markdown",
   "metadata": {},
   "source": [
    "Create a pandas Series from number_list.Name it number_series."
   ]
  },
  {
   "cell_type": "markdown",
   "metadata": {},
   "source": [
    "Add an index of letter list to number_series."
   ]
  },
  {
   "cell_type": "markdown",
   "metadata": {},
   "source": [
    "Create a pandas Series from alpha_list. Name it alpha_series."
   ]
  },
  {
   "cell_type": "markdown",
   "metadata": {},
   "source": [
    "Combine number_series and alpha_series into a DataFrame.  Name it df_first."
   ]
  },
  {
   "cell_type": "markdown",
   "metadata": {},
   "source": [
    "Create a DataFrame from patient_list.  Name it df_patient."
   ]
  },
  {
   "cell_type": "markdown",
   "metadata": {},
   "source": [
    "Create a DataFrame from patient_dict.  Name it df_patient."
   ]
  },
  {
   "cell_type": "markdown",
   "metadata": {},
   "source": [
    "View and analyse df_patient.  \n",
    "Use DataFrame methods: head(), tail(), info(), describe().\n"
   ]
  },
  {
   "cell_type": "markdown",
   "metadata": {},
   "source": [
    "## Select rows and columns"
   ]
  },
  {
   "cell_type": "markdown",
   "metadata": {},
   "source": [
    "Select the Name column from df_patient\n",
    "1. as a DataFrame\n",
    "1. as a Series"
   ]
  },
  {
   "cell_type": "markdown",
   "metadata": {},
   "source": [
    "Select both the Name and Age columns from df_patient (as a DataFrame)"
   ]
  },
  {
   "cell_type": "markdown",
   "metadata": {},
   "source": [
    "Select the 2nd row using iloc[]"
   ]
  },
  {
   "cell_type": "markdown",
   "metadata": {},
   "source": [
    "Select the 2nd to the 5th row inclusive using iloc[]"
   ]
  },
  {
   "cell_type": "markdown",
   "metadata": {},
   "source": [
    "Select the row with the index '234-567-8901' using .loc[]"
   ]
  },
  {
   "cell_type": "markdown",
   "metadata": {},
   "source": [
    "Select the row with the indexes between '234-567-8901' and '567-890-1234' using loc[].  \n",
    "Note that this returns rows inclusive of the first and last row."
   ]
  },
  {
   "cell_type": "markdown",
   "metadata": {},
   "source": [
    "Select a subset of *both* rows and columns from df_patient\n",
    "* the Name and Age columns \n",
    "* the row with the indexes between '234-567-8901' and '567-890-1234'\n",
    "Use loc[]\n"
   ]
  },
  {
   "cell_type": "markdown",
   "metadata": {},
   "source": [
    "## Manipulate data in DataFrames"
   ]
  },
  {
   "cell_type": "markdown",
   "metadata": {},
   "source": [
    "Add a new column, age_next_year"
   ]
  },
  {
   "cell_type": "markdown",
   "metadata": {},
   "source": [
    "Drop the column, age_next_year\n"
   ]
  },
  {
   "cell_type": "markdown",
   "metadata": {},
   "source": [
    "Create a filtered DataFrame that contains only those patiennts who are 40 years old or older."
   ]
  },
  {
   "cell_type": "markdown",
   "metadata": {},
   "source": [
    "Handle missing data"
   ]
  },
  {
   "cell_type": "markdown",
   "metadata": {},
   "source": [
    "Merge  (join) two DataFrames"
   ]
  },
  {
   "cell_type": "markdown",
   "metadata": {},
   "source": [
    "Sort data by index"
   ]
  },
  {
   "cell_type": "markdown",
   "metadata": {},
   "source": [
    "Sort data by values"
   ]
  }
 ],
 "metadata": {
  "kernelspec": {
   "display_name": ".venv",
   "language": "python",
   "name": "python3"
  },
  "language_info": {
   "codemirror_mode": {
    "name": "ipython",
    "version": 3
   },
   "file_extension": ".py",
   "mimetype": "text/x-python",
   "name": "python",
   "nbconvert_exporter": "python",
   "pygments_lexer": "ipython3",
   "version": "3.12.3"
  }
 },
 "nbformat": 4,
 "nbformat_minor": 2
}
