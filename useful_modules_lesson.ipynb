{
 "cells": [
  {
   "attachments": {},
   "cell_type": "markdown",
   "metadata": {},
   "source": [
    "# Useful Modules\n",
    "\n",
    "This lesson showcases typical useful commonly-used modules"
   ]
  },
  {
   "attachments": {},
   "cell_type": "markdown",
   "metadata": {},
   "source": [
    "## The cowsay module\n",
    "The cowsay module allows an animal of your choice to say something.   It is not part of Python's standard library. It is a separate, third-party  module.  As such it needs to be installed using a package manager like pip\n",
    "If the import statement generates an error we need to !pip install cowsay"
   ]
  },
  {
   "cell_type": "code",
   "execution_count": null,
   "metadata": {},
   "outputs": [],
   "source": [
    "import cowsay"
   ]
  },
  {
   "cell_type": "code",
   "execution_count": null,
   "metadata": {},
   "outputs": [],
   "source": [
    "cowsay.cow('Hello, world!')\n",
    "#cowsay.pig('Hello, world!')\n",
    "#cowsay.turkey('Hello, world!')"
   ]
  },
  {
   "attachments": {},
   "cell_type": "markdown",
   "metadata": {},
   "source": [
    "## The math module\n",
    "Provides mathematical functions. Part of Python's standard library."
   ]
  },
  {
   "cell_type": "code",
   "execution_count": null,
   "metadata": {},
   "outputs": [],
   "source": [
    "import math"
   ]
  },
  {
   "attachments": {},
   "cell_type": "markdown",
   "metadata": {},
   "source": [
    "Given the area of a circle, calculate the radius."
   ]
  },
  {
   "cell_type": "code",
   "execution_count": null,
   "metadata": {},
   "outputs": [],
   "source": [
    "circle_area = 100\n",
    "circle_radius = math.sqrt(circle_area / math.pi)\n",
    "circle_radius"
   ]
  },
  {
   "attachments": {},
   "cell_type": "markdown",
   "metadata": {},
   "source": [
    "## The sys module\n",
    "\n",
    "Provide information about the current Python environment."
   ]
  },
  {
   "cell_type": "code",
   "execution_count": null,
   "metadata": {},
   "outputs": [],
   "source": [
    "import sys"
   ]
  },
  {
   "cell_type": "code",
   "execution_count": null,
   "metadata": {},
   "outputs": [],
   "source": [
    "sys.version, sys.executable, sys.path"
   ]
  }
 ],
 "metadata": {
  "interpreter": {
   "hash": "68c45707def87feca5a47d18982249224aa76d0675ca5b6bc7cad154e506106e"
  },
  "kernelspec": {
   "display_name": "Python 3.9.2  ('.venv': venv)",
   "name": "python3"
  },
  "language_info": {
   "codemirror_mode": {
    "name": "ipython",
    "version": 3
   },
   "file_extension": ".py",
   "mimetype": "text/x-python",
   "name": "python",
   "nbconvert_exporter": "python",
   "pygments_lexer": "ipython3",
   "version": "3.11.2"
  },
  "orig_nbformat": 2
 },
 "nbformat": 4,
 "nbformat_minor": 2
}
